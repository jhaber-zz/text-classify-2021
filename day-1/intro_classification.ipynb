{
 "cells": [
  {
   "cell_type": "markdown",
   "metadata": {},
   "source": [
    "# Text Classification with Supervised Machine Learning\n",
    "\n",
    "The goal of text classification is to categorize texts into any number of predefined categories. This method is most similar to traditional content analysis, or text coding, in that it does the same thing as a team of trained coders: place texts into categories. \n",
    "\n",
    "Using supervised machine learning, we give an algorithm a dataset of training examples that say \"here are specific features, and this is the category it belongs to\". The algorithm trains a model to recognize important features and determine the category of an object (for us, a document); this model can then be used to predict the class of a new object given its known features. \n",
    "\n",
    "To train and evaluate our models, we will use [`scikit-learn`](http://scikit-learn.org/stable/supervised_learning.html), which provides a full machine learning pipeline and many convenient functions in Python.\n",
    "\n",
    "We will apply supervised machine learning to a corpus distributed by Ted Underwood and Jordan Sellers in support of their own [literary historical study](https://tedunderwood.com/2015/05/18/how-quickly-do-literary-standards-change/) on nineteenth- and early-twentieth century volumes of poetry. Some poems were reviewed in prestigious magazines, while others weren't--being reviewed is our outcome variable. Even a negative review indicates valuable, critical engagement, so predicting whether a poem is reviewed will tell us something about the vocabulary of literary prestige.\n",
    "\n",
    "## Learning Goals\n",
    "* Get comfortable with the basic vocabulary of text classification\n",
    "* Understand the intuition behind supervised machine learning\n",
    "* Learn how to implement logistic regression and its basic mechanics\n",
    "* Learn how to test for accuracy\n",
    "* Use scikit-learn to identify important features for each category\n",
    "* Gain foundational knowledge for continued learning\n",
    "\n",
    "## Outline\n",
    "\n",
    "* [Introduction](#intro)\n",
    "    * [Text classification in action](#example)\n",
    "    * [Text classification basics](#basics)\n",
    "* [Data preparation](#prepare)\n",
    "    * [Import modules](#import)\n",
    "    * [Read and preprocess data](#preprocess)\n",
    "    * [Divide data into training and test sets](#split)\n",
    "    * [Vectorize texts](#vectorize)\n",
    "* [Classification with supervised machine learning](#supervised)\n",
    "    * [Train logistic classifier model](#model)\n",
    "    * [Prediction on new data](#prediction)\n",
    "    * [Identify features](#features)\n",
    "\n",
    "## Key Terms\n",
    "\n",
    "* *supervised machine learning* :\n",
    "    * Using machine learning to infer documents' classifications from labeled training data\n",
    "* *model training* :\n",
    "    * Using a machine learning algorithm to train a classifier to predict categories on unseen sets\n",
    "* *features*:\n",
    "    * Way of representing the object that will be classified. For images, features are often pixels. For text, features are usually word counts or weighted word counts, but they can also be things like a word's part of speech, proportion of capitals, or specific words that are used.\n",
    "* *text vectorization*:\n",
    "    * Converting natural language documents into numbers that can be fed into a classifier. Usually this means converting a corpus into a document-term matrix.\n",
    "* *document-term matrix (DTM)*:\n",
    "    * A common text vectorization method: essentially a big table where the rows are articles, the columns are words, and each cell indicates the number of a times a given word appears in a given article. The cells can be either raw counts or weighted proportions, like with term frequency inverse document frequency (TF-IDF) weighting--which gives a word greater weight both when it is more frequent in a text AND when it is rare across the corpus. \n",
    "* *train-test split*:\n",
    "    * Dividing labeled data into a training set and a test set. Often done once in supervised machine learning model training, but can be done several times independently as in cross-validation\n",
    "* *training set*:\n",
    "    * A selection of labeled data that is used to train the machine learning algorithm\n",
    "* *test set*:\n",
    "    * A selection of labeled data that is used to test the accuracy of the machine learning algorithm\n",
    "* *unseen set*:\n",
    "    * A selection of *unlabeled* data - the machine learning algorithm predicts the label for these data. Also called the *holdout set*"
   ]
  },
  {
   "cell_type": "markdown",
   "metadata": {},
   "source": [
    "# Introduction<a id='intro'></a>\n",
    "\n",
    "## Text classification in action<a id='example'></a>\n",
    "\n",
    "Imagine that you work at [YouTube](https://www.youtube.com/) (if you haven't heard of it, YouTube is a video-sharing website). Your job is to remove comments on videos that are spam (unsolicited and inappropriate comments). You look through each video and read the comments yourself, deciding which are spam and which are not spam. Perhaps you see comments like those below. Which would you consider to be spam and which not spam?\n",
    "\n",
    "- _Hey @dancer317, love ur videos so much! Thanks for all the tips on dancing!_\n",
    "- _OUR  LASER PRINTER/FAX/COPIER TONER CARTRIDGE PRICES NOW AS LOW AS 39 DOLLARS. SPECIALS WEEKLY ON ALL LASER PRINTER SUPPLIES. WE CARRY MOST ALL LASER PRINTER CARTRIDGES, FAX SUPPLIES AND COPIER TONERS AT WAREHOUSE PRICES_\n",
    "- _I'm not sold on your first point about crossing national boundaries, but I see what you mean about non-economic alternatives._\n",
    "- _Some of the most beautiful women in the world bare it all for you. Denise Richards, Britney  Spears, Jessica Simpson, and many more. CLICK HERE FOR NUDE CELEBS_\n",
    "\n",
    "How did you decide which were spam and which weren't? Maybe one thing you noted was the high number of words in all capitals. The topics can also give you a clue, as the spam-like comments talk about selling things and nudity, which are often found in spam comments.\n",
    "\n",
    "However you decided, we can think about the task you were doing like this:\n",
    "\n",
    "<img src='../assets/human-classification.jpg' />\n",
    "\n",
    "You took a comment written in English, and you classified it into one of two classes: spam or not spam. This is text classification, performed by a human. Wouldn't it be nice to have a computer do this for you? That would look like this: \n",
    "\n",
    "<img src='../assets/computer-classification.jpg' />\n",
    "\n",
    "How are we going to do this? We could count the number of times each YouTube comment mentions nudity or tries to sell something, and we could measure the proportion of capital letters. Using this approach, we would get two numbers for each comment, one for each of these _features_. We could also use your human judgements in a third column telling us whether that comment is spam or not.\n",
    "\n",
    "| Comment                                                 | Selling or nudity | Proportion capital letters | Is it spam? |\n",
    "|---------------------------------------------------------|-------------------|----------------------------|-------------|\n",
    "| Hey @dancer317, love ur videos so much! Thanks for ...  | 0                 | 0.1                        | No          |\n",
    "| OUR LASER PRINTER/FAX/COPIER TONER CARTRIDGE PRICES ... | 4                 | 1.0                        | Yes         |\n",
    "| I'm not sold on your first point ...                    | 1                 | 0.05                       | No          |\n",
    "|  Some of the most beautiful women in the world ...      | 3                 | 0.15                       | Yes         |\n",
    "\n",
    "We can treat these two numbers as geometric coordinates and plot them, with spam comments in red and non-spam comments in green, like so:\n",
    "\n",
    "<img src='../assets/classification-no-line.jpg' />\n",
    "\n",
    "<img src='../assets/classification-with-line.jpg' />"
   ]
  },
  {
   "cell_type": "markdown",
   "metadata": {},
   "source": [
    "## Text classification basics<a id='basics'></a>\n",
    "\n",
    "Text classification requires labeled text, or text that is already categorized into predefined categories. In some cases, this is built into the data; in others, the labels are assigned by hand. Once we have a good number of labeled texts, usually between 200 and 500, we can use supervised machine learning algorithms to train a model to recognize the categories and place the remaining, un-coded texts into a category. This method has two benefits: (1) It allows us to scale our coding up almost indefinitely, and (2) it identifies what *features* (in our case, words) are most defining of each category. This can help us learn more about the content of our categories.\n",
    "\n",
    "Text classification involves two primary tasks:\n",
    "- **Turning natural language into numbers.** (This is called _vectorization_.)\n",
    "- **Training a classifier to use those numbers and distinguish between the classes.**\n",
    "\n",
    "This is distinct from inductive natural language processing methods--such as topic modeling, which discover the categories making up texts rather than defining them from the outset. If you're testing hypotheses about buckets or categories of texts, you'll usually use classification; if you're exploring in the dark, you'll use a more exploratory method. Text categories to classify can also include genre, language, author, or [affective states][1].\n",
    "\n",
    "[1]: https://en.wikipedia.org/wiki/Affect_(psychology)\n",
    "\n",
    "Many applied natural language processing problems can be tackled as text classification:\n",
    "\n",
    "- [Sentiment analysis](https://en.wikipedia.org/wiki/Sentiment_analysis)\n",
    "- Genre classification\n",
    "- Language identification\n",
    "- Authorship attribution\n",
    "- Is this document relevant to this legal case?\n",
    "- Is the patient in need of urgent care?"
   ]
  },
  {
   "cell_type": "markdown",
   "metadata": {},
   "source": [
    "# Data preparation<a id='preparation'></a>\n",
    "\n",
    "## Import modules<a id='import'></a>"
   ]
  },
  {
   "cell_type": "code",
   "execution_count": 1,
   "metadata": {},
   "outputs": [],
   "source": [
    "import pandas\n",
    "import numpy as np\n",
    "import matplotlib.pyplot as plt\n",
    "import seaborn as sns\n",
    "sns.set()\n",
    "\n",
    "#scikit-learn is a huge library. We import what we need.\n",
    "from sklearn.feature_extraction.text import TfidfVectorizer\n",
    "from sklearn.feature_extraction.text import CountVectorizer\n",
    "from sklearn.model_selection import train_test_split #shortcut for dividing into train and test data\n",
    "from sklearn.metrics import confusion_matrix #shows confusion matrix--false/true positives/negatives\n",
    "from sklearn.metrics import accuracy_score #to asses the accuracy of the algorithm\n",
    "from sklearn.model_selection import cross_val_score #to compute cross validation for assessment purposes\n",
    "from sklearn.svm import LinearSVC #Linear Support Vector Classifier\n",
    "from sklearn.linear_model import LogisticRegression, LogisticRegressionCV #Logistic regression classifier w/ and w/o cross-validation\n",
    "from sklearn.naive_bayes import MultinomialNB #Naive Bayes classifier\n",
    "from sklearn.neighbors import KNeighborsClassifier #nearest neighbors classifier\n",
    "from sklearn.ensemble import RandomForestClassifier #Random Forest classifier"
   ]
  },
  {
   "cell_type": "markdown",
   "metadata": {},
   "source": [
    "## Read and preprocess data<a id='preprocess'></a>"
   ]
  },
  {
   "cell_type": "code",
   "execution_count": 2,
   "metadata": {},
   "outputs": [
    {
     "data": {
      "text/plain": [
       "\"the the the the the the the the the the the the the the the the the the the the the the the the the the the the the the the the the the the the the the the the the the the the the the the the the the the the the the the the the the the the the the the the the the the the the the the the the the the the the the the the the the the the the the the the the the the the the the the the the the the the the the the the the the the the the the the the the the the the the the the the the the the the the the the the the the the the the the the the the the the the the the the the the the the the the the the the the the the the the the the the the the the the the the the the the the the the the the the the the the the the the the the the the the the the the the the the the the the the the the the the the the the the the the the the the the the the the the the the the the the the the the the the the the the the the the the the the the the the the the the the the the the the the the the the the the the the the the the the the the the the the the the the the the the the the the the the the the the the the the the the the the the the the the the the the the the the the the the the the the the the the the the the the the the the the the the the the the the the the the the the the the the the the the the the the the the the the the the the the the the the the the the the the the the the the the the the the the the the the the the the the the the the the the the the the the the the the the the the the the the the the the the the the the the the the the the the the the the the the the the the the the the the the the the the the the the the the the the the the the the the the the the the the the the the the the the the the the the the the the the the the the the the the the the the the the the the the the the the the the the the the the the the the the the the the the the the the the the the the the the the the the the the the the the the the the the the the the the the the the the the the the the the the the the the the the the the the the the the the the the the the the the the the the the the the the the the the the the the the the the the the the the the the the the the the the the the the the the the the the the the the the the the the the the the the the the the the the the the the the the the the the the the the the the the the the the the the the the the the the the the the the the the the the the the the the the the the the the the the the the the the the the the the the the the the the the the the the the the the the the the the the the the the the the the the the the the the the the the the the the the the the the the the the the the the the the the the the the the the the the the the the the the the the the the the the the the the the the the the the the the the the the the the the the the the the the the the the the the the the the the the the the the the the the the the the the the the the the the the the the the the the the the the the the the the the the the the the the the the the the the the the the the the the the the the the the the the the the the the the the the the the the the the the the the the the the the the the the the the the the the the the the the the the the the the the the the the the the the the the the the the the the the the the the the the the the the the the the the the the the the the the the the the the the the the the the the the the the the the the the the the the the the the the the the the the the the the the the the the the the the the the the the the the the the the the the the the the the the the the the the the the the the the the the the the the the the the the the the the the the the the the the the the the the the the the the the the the the the the the the the the the the the the the the the the the the the the the the the the the the the the the the the the the the the the the the the the the the the the the the the the the the the the the the the the the the the the the the the the the the the the the the the the the the the the the the the the the the the the the the the the the the the the the the the the the the the the the the the the the the the the the the the the the the the the the the the the the the the the the the the the the the the the the the the the the the the the the the the the the the the the the the the the the the the the the the the the the the the the the the the the the the the the the the the the the the the the the the the the the the the the the the the the the the the the the the the the the the the the the the the the the the the the the the the the the the the the the the the the the the the the the the the the the the the the the the the the the the the the the the the the the the the the the the the the the the the the the the the the the the the the the the the the the the the the the the the the the the the the the the the the the the the the the the the the the the the the the the the the the the the the the the the the the the the the the the the the the the the the the the the the the the the the the the the the the the the the the the the the the the the the the the the the the the the the the the the the the the the the the the the the the the the the the the the the the the the the the the the the the the the the the the the the the the the the the the the the the the the the the the the the the the the the the the the the the the the the the the the the the the the the the the the the the the the the the the the the the the the the the the the the the the the the the the the the the the the the the the the the the the the the the the the the the the the the the the the the the the the the the the the the the the the the the the the the the the the the the the the the the the the the the the the the the the the the the the the the the the the the the the the the the the the the the the the the the the the the the the the the the the the the the the the the the the the the the the the the the the the the the the the the the the the the the the the the the the the the the the the the the the the the the the the the the the the the the the the the the the the the the the the the the the the the the the the the the the the the the the the the the the the the the the the the the the the the the the the the the the the the the the the the the the the the the the the the the the the the the the the the the the the the the the the the the the the the the the the the the the the the the the the the the the the the the the the the the the the the the the the the the the the the the the the the the the the the the the the the the the the the the the the the the the the the the the the the the the the the the the the the the the the the the the the the the the the the the the the the the the the the the the the the the the the the the the the the the the the the the the the the the the the the the the the the the the the the the the the the the the the the the the the the the the the the the the the the the the the the the the the the the the the the the the the the the the the the the the the the the the the the the the the the the the the the the the the the the the the the the the the the the the the the the the the the the the the the the the the the the the the the the the the the the the the the the the the the the the the the the the the the the the the the the the the the the the the the the the the the the the the the the the the the the the the the the the the the the the the the the the the the the the the the the the the the the the the the the the the the the the the the the the the the the the the the the the the the the the the the the the the the the the the the the the the the the the the the the the the the the the the the the the the the the the the the the the the the the the the the the the the the the the the the the the the the the the the the the the the the the the the the the the the the the the the the the the the the the the the the the the the the the the the the the the and and and and and and and and and and and and and and and and and and and and and and and and and and and and and and and and and and and and and and and and and and and and and and and and and and and and and and and and and and and and and and and and and and and and and and and and and and and and and and and and and and and and and and and and and and and and and and and and and and and and and and and and and and and and and and and and and and and and and and and and and and and and and and and and and and and and and and and and and and and and and and and and and and and and and and and and and and and and and and and and and and and and and and and and and and and and and and and and and and and and and and and and and and and and and and and and and and and and and and and and and and and and and and and and and and and and and and and and and and and and and and and and and and and and and and and and and and and and and and and and and and and and and and and and and and and and and and and and and and and and and and and and and and and and and and and and and and and and and and and and and and and and and and and and and and and and and and and and and and and and and and and and and and and and and and and and and and and and and and and and and and and and and and and and and and and and and and and and and and and and and and and and and and and and and and and and and and and and and and and and and and and and and and and and and and and and and and and and and and and and and and and and and and and and and and and and and and and and and and and and and and and and and and and and and and and and and and and and and and and and and and and and and and and and and and and and and and and and and and and and and and and and and and and and and and and and and and and and and and and and and and and and and and and and and and and and and and and and and and and and and and and and and and and and and and and and and and and and and and and and and and and and and and and and and and and and and and and and and and and and and and and and and and and and and and and and and and and and and and and and and and and and and and and and and and and and and and and and and and and and and and and and and and and and and and and and and and and and and and and and and and and and and and and and and and and and and and and and and and and and and and and and and and and and and and and and and and and and and and and and and and and and and and and and and and and and and and and and and and and and and and and and and and and and and and and and and and and and and and and and and and and and and and and and and and and and and and and and and and and and and and and and and and and and and and and and and and and and and and and and and and and and and and and and and and and and and and and and and and and and and and and and and and and and and and and and and and and and and and and and and and and and and and and and and and and and and and and and and and and and and and and and and and and and and and and and and and and and and and and and and and and and and and and and and and and and and and and and and and and and and and and and and and and and and and and and and and and and and and and and and and and and and and and and and and and and and and and and and and and and and and and and and and and and and and and and and and and and and and and and and and and and and and and and and and and and and and and and and and and and and and and and and and and and and and and and and and and and and and and and and and and and and and and and and and and and and and and and and and and and and and and and and and and and and and and and and and and and and and and and and and and and and and and and and and and and and and and and and and and and and and and and and and and and and and and and and and and and and and and and and and and and and and and and and and and and and and and and and and and and and and and and and and and and and and and and and and and and and and and and and and and and and and and and and and and and and and and and and and and and and and and and and and and and and and and and and and and and and and and and and and and and and and and and and and and and and and and and and and and and and and and and and and and and and and and and and and and and and and and and and and and and and and and and and and and and and and and and and and and and and and and and and and and and and and and and and and and and and and and and and and and and and and and and and and and and and and and and and and and and and and and and and and and and and and and and and and and and and and and and and and and and and and and and and and and and and and and and and and and and and and and and and and and and and and and and and and and and and and and and and and and and and and and and and and and and and and and and and and and and and and and and and and and and and and and and and and and and and and and and and and and and and and and and and and and and and and and and and and and and and and and and and and and and and and and and and and and and and and and and and and and and and and and and and and and and and and and and and and and and and and and and and and and and and and and and and and and and of of of of of of of of of of of of of of of of of of of of of of of of of of of of of of of of of of of of of of of of of of of of of of of of of of of of of of of of of of of of of of of of of of of of of of of of of of of of of of of of of of of of of of of of of of of of of of of of of of of of of of of of of of of of of of of of of of of of of of of of of of of of of of of of of of of of of of of of of of of of of of of of of of of of of of of of of of of of of of of of of of of of of of of of of of of of of of of of of of of of of of of of of of of of of of of of of of of of of of of of of of of of of of of of of of of of of of of of of of of of of of of of of of of of of of of of of of of of of of of of of of of of of of of of of of of of of of of of of of of of of of of of of of of of of of of of of of of of of of of of of of of of of of of of of of of of of of of of of of of of of of of of of of of of of of of of of of of of of of of of of of of of of of of of of of of of of of of of of of of of of of of of of of of of of of of of of of of of of of of of of of of of of of of of of of of of of of of of of of of of of of of of of of of of of of of of of of of of of of of of of of of of of of of of of of of of of of of of of of of of of of of of of of of of of of of of of of of of of of of of of of of of of of of of of of of of of of of of of of of of of of of of of of of of of of of of of of of of of of of of of of of of of of of of of of of of of of of of of of of of of of of of of of of of of of of of of of of of of of of of of of of of of of of of of of of of of of of of of of of of of of of of of of of of of of of of of of of of of of of of of of of of of of of of of of of of of of of of of of of of of of of of of of of of of of of of of of of of of of of of of of of of of of of of of of of of of of of of of of of of of of of of of of of of of of of of of of of of of of of of of of of of of of of of of of of of of of of of of of of of of of of of of of of of of of of of of of of of of of of of of of of of of of of of of of of of of of of of of of of of of of of of of of of of of of of of of of of of of of of of of of of of of of of of of of of of of of of of of of of of of of of of of of of of of of of of of of of of of of of of of of of of of of of of of of of of of of of of of of of of of of of of of of of of of of of of of of of of of of of of of of of of of of of of of of of of of of of of of of of of of of of of of of of of of of of of of of of of of of of of of of of of of of of of of of of of of of of of of of of of of of of of of of of of of of of of of of of of of of of of of of of of of of of of of of of of of of of of of of of of of of of of of of of of of of of of of of of of of of of of of of of of of of of of of of of of of of of of of of of of of of of of of of of of of of of of of of of of of of of of of of of of of of of of of of of of of of of of of of of of of of of of of of of of of of of of of of of of of of of of of of of of of of of of of of of of of of of of of of of of of of of of of of of of of of of of of of of of of of of of of of of of of of of of of of of of of of of of of of of of of of of of of of of of of of of of of of of of of of of of of of of of of of of of of of of of of of of of of of of of of of of of of of of of of of of of of of of of of of of of of of of of of of of of of of of of of of of of of of of of of of of of of of of of of of of of of of of of of of of of of of of of of of of of of of of of of of of of of of of of of of of of of of of of of of of of of of of of of of of of of of of of of of of of of of of of of of of of of of of of of of of of of of of of of of of of of of of of of of of of of of of of to to to to to to to to to to to to to to to to to to to to to to to to to to to to to to to to to to to to to to to to to to to to to to to to to to to to to to to to to to to to to to to to to to to to to to to to to to to to to to to to to to to to to to to to to to to to to to to to to to to to to to to to to to to to to to to to to to to to to to to to to to to to to to to to to to to to to to to to to to to to to to to to to to to to to to to to to to to to to to to to to to to to to to to to to to to to to to to to to to to to to to to to to to to to to to to to to to to to to to to to to to to to to to to to to to to to to to to to to to to to to to to to to to to to to to to to to to to to to to to to to to to to to to to to to to to to to to to to to to to to to to to to to to to to to to to to to to to to to to to to to to to to to to to to to to to to to to to to to to to to to to to to to to to to to to to to to to to to to to to to to to to to to to to to to to to to to to to to to to to to to to to to to to to to to to to to to to to to to to to to to to to to to to to to to to to to to to to to to to to to to to to to to to to to to to to to to to to to to to to to to to to to to to to to to to to to to to to to to to to to to to to to to to to to to to to to to to to to to to to to to to to to to to to to to to to to to to to to to to to to to to to to to to to to to to to to to to to to to to to to to to to to to to to to to to to to to to to to to to to to to to to to to to to to to to to to to to to to to to to to to to to to to to to to to to to to to to to to to to to to to to to to to to to to to to to to to to to to to to to to to to to to to to to to to to to to to to to to to to to to to to to to to to to to to to to to to to to to to to to to to to to to to to to to to to to to to to to to to to to to to to to to to to to to to to to to to to to to to to to to to to to to to to to to to to to to to to to to to to to to to to to to to to to to to to to to to to to to to to to a a a a a a a a a a a a a a a a a a a a a a a a a a a a a a a a a a a a a a a a a a a a a a a a a a a a a a a a a a a a a a a a a a a a a a a a a a a a a a a a a a a a a a a a a a a a a a a a a a a a a a a a a a a a a a a a a a a a a a a a a a a a a a a a a a a a a a a a a a a a a a a a a a a a a a a a a a a a a a a a a a a a a a a a a a a a a a a a a a a a a a a a a a a a a a a a a a a a a a a a a a a a a a a a a a a a a a a a a a a a a a a a a a a a a a a a a a a a a a a a a a a a a a a a a a a a a a a a a a a a a a a a a a a a a a a a a a a a a a a a a a a a a a a a a a a a a a a a a a a a a a a a a a a a a a a a a a a a a a a a a a a a a a a a a a a a a a a a a a a a a a a a a a a a a a a a a a a a a a a a a a a a a a a a a a a a a a a a a a a a a a a a a a a a a a a a a a a a a a a a a a a a a a a a a a a a a a a a a a a a a a a a a a a a a a a a a a a a a a a a a a a a a a a a a a a a a a a a a a a a a a a a a a a a a a a a a a a a a a a a a a a a a a a a a a a a a a a a a a a a a a a a a a a a a a a a a a a a a a a a a a a a a a a a a a a a a a a a a a a a a a a a a a a a a a a a a a a a a a a a a a a a a a a a a a a a a a a a a a a a a a a a a a a a a a a a a a a a a a a a a a a a a a a a a a a a a a a a a a a a a a a a a a a a a a a a a a a a a a a a a a a a a a a a a a a a a a a a a a a a a a a a a a a a in in in in in in in in in in in in in in in in in in in in in in in in in in in in in in in in in in in in in in in in in in in in in in in in in in in in in in in in in in in in in in in in in in in in in in in in in in in in in in in in in in in in in in in in in in in in in in in in in in in in in in in in in in in in in in in in in in in in in in in in in in in in in in in in in in in in in in in in in in in in in in in in in in in in in in in in in in in in in in in in in in in in in in in in in in in in in in in in in in in in in in in in in in in in in in in in in in in in in in in in in in in in in in in in in in in in in in in in in in in in in in in in in in in in in in in in in in in in in in in in in in in in in in in in in in in in in in in in in in in in in in in in in in in in in in in in in in in in in in in in in in in in in in in in in in in in in in in in in in in in in in in in in in in in in in in in in in in in in in in in in in in in in in in in in in in in in in in in in in in in in in in in in in in in in in in in in in in in in in in in in in in in in in in in in in in in in in in in in in in in in in in in in in in in in in in in in in in in in in in in in in in in in in in in in in in in in in in in in in in in in in in in in in in in in in in in in in in in in in in in in in in in in in in in in in in in in in in in in in in in in in in in in in in in in in in in in in in in in in in in in in in in in in in in in in in in in in in in in in in in in in in in in in in in in in in in in in in in in in in in in in in in in in in in in in in in in in in in in in in in in in in in in in in in in in in in in in in in in in in in in in in in in in in in in in in in in in in in in in in in in in in in in in in in in in in in in in in in in in in in in in in in in in in in in in in in in in in in in in in in in in in in in in in in in in in in in in in in in in in in in i i i i i i i i i i i i i i i i i i i i i i i i i i i i i i i i i i i i i i i i i i i i i i i i i i i i i i i i i i i i i i i i i i i i i i i i i i i i i i i i i i i i i i i i i i i i i i i i i i i i i i i i i i i i i i i i i i i i i i i i i i i i i i i i i i i i i i i i i i i i i i i i i i i i i i i i i i i i i i i i i i i i i i i i i i i i i i i i i i i i i i i i i i i i i i i i i i i i i i i i i i i i i i i i i i i i i i i i i i i i i i i i i i i i i i i i i i i i i i i i i i i i i i i i i i i i i i i i i i i i i i i i i i i i i i i i i i i i i i i i i i i i i i i i i i i i i i i i i i i i i i i i i i i i i i i i i i i i i i i i i i i i i i i i i i i i i i i i i i i i i i i i i i i i i i i i i i i i i i i i i i i i i i i i i i i i i i i i i i i i i i i i i i i i i i i i i i i i i i i i i i i i i i i i i i i i i i i i i i i i i i i i i i i i i i i i i i i i i i i i i i i i i i i i i i i i i i i i i i i i i i i i i i i i i i i i i i i i i i i i i i i i i i i i i i i i i i i i i i i i i i i i i i i i i i i i i i i i i i i i i i i i i i i i i i i i i i i i i i i i i i i i i i i i i i i i i i i i i i i i i i i i i i i i i i i i i i i i i i i i i i i i i i i i i i i i i i i i i i i i i i i i that that that that that that that that that that that that that that that that that that that that that that that that that that that that that that that that that that that that that that that that that that that that that that that that that that that that that that that that that that that that that that that that that that that that that that that that that that that that that that that that that that that that that that that that that that that that that that that that that that that that that that that that that that that that that that that that that that that that that that that that that that that that that that that that that that that that that that that that that that that that that that that that that that that that that that that that that that that that that that that that that that that that that that that that that that that that that that that that that that that that that that that that that that that that that that that that that that that that that that that that that that that that that that that that that that that that that that that that that that that that that that that that that that that that that that that that that that that that that that that that that that that that that that that that that that that that that that that that that that that that that that that that that that that that that that that that that that that that that that that that that that that that that that that that that that that that that that that that that that that that that that that that that that that that that that that that that that that that that that that that that that that that that that that that that that that that that that that that that that that that that that that that that that that that that that that that that that that that that that that that that that that that that that that that that that that that that that that that that that that that that that that that that that that that that that that that that that that that that that that that that that that that that that that that that that that that that that that that that that that that that that that that that that that that that that that that that that that that that that that that that that that that that that that that that that that that that that that that that that that that that that that that that that that that that that that that that that that that that that that that that that that that that that that that that that that that that that that that that that that that that that that that that that that that that that that that that that that that that that that that that that that that that that that that that that that that that that that that that that that that that that that that that that that that that that that that that that that that that that that that that that that that that that that that that that that that that that that that that that that that that that that that that that that that her her her her her her her her her her her her her her her her her her her her her her her her her her her her her her her her her her her her her her her her her her her her her her her her her her her her her her her her her her her her her her her her her her her her her her her her her her her her her her her her her her her her her her her her her her her her her her her her her her her her her her her her her her her her her her her her her her her her her her her her her her her her her her her her her her her her her her her her her her her her her her her her her her her her her her her her her her her her her her her her her her her her her her her her her her her her her her her her her her her her her her her her her her her her her her her her her her her her her her her her her her her her her her her her her her her her her her her her her her her her her her her her her her her her her her her her her her her her her her her her her her her her her her her her her her her her her her her her her her her her her her her her her her her her her her her her her her her her her her her her her her her her her her her her her her her her her her her her her her her her her her her her her her her her her her her her her her her her her her her her her her her her her her her her her her her her her her her her her her her her her her her her her her her her her her her her her her her her her her her her her her her her her her her her her her her her her her her her her her her her her her her her her her her her her her her her her her her her her her her her her her her her her her her her her her her her her her her her her her her her her her her her her her her her her her her her her her her her her her her her her her her her her her her her her her her her her her her her her her her her her her her her her her her her her her her her her her her her her her her her her her her her her her her her her her her her her with with with with with with with with with with with with with with with with with with with with with with with with with with with with with with with with with with with with with with with with with with with with with with with with with with with with with with with with with with with with with with with with with with with with with with with with with with with with with with with with with with with with with with with with with with with with with with with with with with with with with with with with with with with with with with with with with with with with with with with with with with with with with with with with with with with with with with with with with with with with with with with with with with with with with with with with with with with with with with with with with with with with with with with with with with with with with with with with with with with with with with with with with with with with with with with with with with with with with with with with with with with with with with with with with with with with with with with with with with with with with with with with with with with with with with with with with with with with with with with with with with with with with with with with with with with with with with with with with with with with with with with with with with with with with with with with with with with with with with with with with with with with with with with with with with with with with with with with with with with with with with with with with with with with with with with with with with with with with with with with with with with with with with with with with with with with with with with with with with with with with with with with with with with with with with with with with with with with with with with with with with with with with with with with with with with with with with with with with with with with with with with with with with with with with with with with with with with with with with with with with with with with with with with with with with with with with with with with with with with with with with with with with with with with with with with with with with with with with with with with with with with with with with with with with with with with with with with with with with with with with with with with with with with for for for for for for for for for for for for for for for for for for for for for for for for for for for for for for for for for for for for for for for for for for for for for for for for for for for for for for for for for for for for for for for for for for for for for for for for for for for for for for for for for for for for for for for for for for for for for for for for for for for for for for for for for for for for for for for for for for for for for for for for for for for for for for for for for for for for for for for for for for for for for for for for for for for for for for for for for for for for for for for for for for for for for for for for for for for for for for for for for for for for for for for for for for for for for for for for for for for for for for for for for for for for for for for for for for for for for for for for for for for for for for for for for for for for for for for for for for for for for for for for for for for for for for for for for for for for for for for for for for for for for for for for for for for for for for for for for for for for for for for for for for for for for for for for for for for for for for for for for for for for for for for for for for for for for for for for for for for for for for for for for for for for for for for for for for for for for for for for for for for for for for for for for for for for for for for for for for for for for for for for for for for for for for for for for for for for for for for for for for for for for for for for for for for for for for for for for for for for for for for for for for for for for for for for for for for for for for for for for for for for for for for for for for for for for for for for for for for for for for for for for for for for for for for for for for for for for for for for as as as as as as as as as as as as as as as as as as as as as as as as as as as as as as as as as as as as as as as as as as as as as as as as as as as as as as as as as as as as as as as as as as as as as as as as as as as as as as as as as as as as as as as as as as as as as as as as as as as as as as as as as as as as as as as as as as as as as as as as as as as as as as as as as as as as as as as as as as as as as as as as as as as as as as as as as as as as as as as as as as as as as as as as as as as as as as as as as as as as as as as as as as as as as as as as as as as as as as as as as as as as as as as as as as as as as as as as as as as as as as as as as as as as as as as as as as as as as as as as as as as as as as as as as as as as as as as as as as as as as as as as as as as as as as as as as as as as as as as as as as as as as as as as as as as as as as as as as as as as as as as as as as as as as as as as as as as as as as as as as as as as as as as as as as as as as as as as as as as as as as as as as as as as love love love love love love love love love love love love love love love love love love love love love love love love love love love love love love love love love love love love love love love love love love love love love love love love love love love love love love love love love love love love love love love love love love love love love love love love love love love love love love love love love love love love love love love love love love love love love love love love love love love love love love love love love love love love love love love love love love love love love love love love love love love love love love love love love love love love love love love love love love love love love love love love love love love love love love love love love love love love love love love love love love love love love love love love love love love love love love love love love love love love love love love love love love love love love love love love love love love love love love love love love love love love love love love love love love love love love love love love love love love love love love love love love love love love love love love love love love love love love love love love love love love love love love love love love love love love love love love love love love love love love love love love love love love love love love love love love love love love love love love love love love love love love love love love love love love love love love love love love love love love love love love love love love love love love love love love love love love love my my my my my my my my my my my my my my my my my my my my my my my my my my my my my my my my my my my my my my my my my my my my my my my my my my my my my my my my my my my my my my my my my my my my my my my my my my my my my my my my my my my my my my my my my my my my my my my my my my my my my my my my my my my my my my my my my my my my my my my my my my my my my my my my my my my my my my my my my my my my my my my my my my my my my my my my my my my my my my my my my my my my my my my my my my my my my my my my my my my my my my my my my my my my my my my my my my my my my my my my my my my my my my my my my my my my my my my my my my my my my my my my my my my my my my my my my my my my my my my my my my my my my my my my my my my my my my my my my my my my my my my my my my my my my my my my my my my my my my my my my my my my my my my my my my my my my my my my my my my my my my my my my my my is is is is is is is is is is is is is is is is is is is is is is is is is is is is is is is is is is is is is is is is is is is is is is is is is is is is is is is is is is is is is is is is is is is is is is is is is is is is is is is is is is is is is is is is is is is is is is is is is is is is is is is is is is is is is is is is is is is is is is is is is is is is is is is is is is is is is is is is is is is is is is is is is is is is is is is is is is is is is is is is is is is is is is is is is is is is is is is is is is is is is is is is is is is is is is is is is is is is is is is is is is is is is is is is is is is is is is is is is is is is is is is is is is is is is is is is is is is is is is is is is is is is is is is is is is is is is is is is is is is is is is is is is is is is is is is is is is is is is is is is is is is is is is is is is is is is is is is all all all all all all all all all all all all all all all all all all all all all all all all all all all all all all all all all all all all all all all all all all all all all all all all all all all all all all all all all all all all all all all all all all all all all all all all all all all all all all all all all all all all all all all all all all all all all all all all all all all all all all all all all all all all all all all all all all all all all all all all all all all all all all all all all all all all all all all all all all all all all all all all all all all all all all all all all all all all all all all all all all all all all all all all all all all all all all all all all all all all all all all all all all all all all all all all all all all all all all all all all all all all all all all all all all all all all all all all all all all all all all all all all all all all all all all all all all all all all all all all all all all all all all all all all all all all all all all all all all all all all all all all all all all all all all all all all all all all all all all all all all all all all all all all all all all all all all you you you you you you you you you you you you you you you you you you you you you you you you you you you you you you you you you you you you you you you you you you you you you you you you you you you you you you you you you you you you you you you you you you you you you you you you you you you you you you you you you you you you you you you you you you you you you you you you you you you you you you you you you you you you you you you you you you you you you you you you you you you you you you you you you you you you you you you you you you you you you you you you you you you you you you you you you you you you you you you you you you you you you you you you you you you you you you you you you you you you you you you you you you you you you you you you you you you you you you you you you you you you you you you you you you you you you you you you you you you you you you you you you you you you you you you you you you you you you you you you you you you you you you you you you you you you you you you you you you you you you you you you you you you you you you you you you me me me me me me me me me me me me me me me me me me me me me me me me me me me me me me me me me me me me me me me me me me me me me me me me me me me me me me me me me me me me me me me me me me me me me me me me me me me me me me me me me me me me me me me me me me me me me me me me me me me me me me me me me me me me me me me me me me me me me me me me me me me me me me me me me me me me me me me me me me me me me me me me me me me me me me me me me me me me me me me me me me me me me me me me me me me me me me me me me me me me me me me me me me me me me me me me me me me me me me me me me me me me me me me me me me me me me me me me me me me me me me me me me me me me me me me me me me me me me me me me me me me me me me me me me me me me me from from from from from from from from from from from from from from from from from from from from from from from from from from from from from from from from from from from from from from from from from from from from from from from from from from from from from from from from from from from from from from from from from from from from from from from from from from from from from from from from from from from from from from from from from from from from from from from from from from from from from from from from from from from from from from from from from from from from from from from from from from from from from from from from from from from from from from from from from from from from from from from from from from from from from from from from from from from from from from from from from from from from from from from from from from from from from from from from from from from from from from from from from from from from from from from from from from from from from from from from from from from from from from from from from from from from from from from from from from from from from from from from from from from from from from from from from from from from from from from from but but but but but but but but but but but but but but but but but but but but but but but but but but but but but but but but but but but but but but but but but but but but but but but but but but but but but but but but but but but but but but but but but but but but but but but but but but but but but but but but but but but but but but but but but but but but but but but but but but but but but but but but but but but but but but but but but but but but but but but but but but but but but but but but but but but but but but but but but but but but but but but but but but but but but but but but but but but but but but but but but but but but but but but but but but but but but but but but but but but but but but but but but but but but but but but but but but but but but but but but but but but but but but but but but but but but but but but but but but but but but but but but but but but but but but but but but but not not not not not not not not not not not not not not not not not not not not not not not not not not not not not not not not not not not not not not not not not not not not not not not not not not not not not not not not not not not not not not not not not not not not not not not not not not not not not not not not not not not not not not not not not not not not not not not not not not not not not not not not not not not not not not not not not not not not not not not not not not not not not not not not not not not not not not not not not not not not not not not not not not not not not not not not not not not not not not not not not not not not not not not not not not not not not not not not not not not not not not not not not not not not not not not not not not not not not not not not not not not not not not not not not not not not not not not not not not not not not not not not not his his his his his his his his his his his his his his his his his his his his his his his his his his his his his his his his his his his his his his his his his his his his his his his his his his his his his his his his his his his his his his his his his his his his his his his his his his his his his his his his his his his his his his his his his his his his his his his his his his his his his his his his his his his his his his his his his his his his his his his his his his his his his his his his his his his his his his his his his his his his his his his his his his his his his his his his his his his his his his his his his his his his his his his his his his his his his his his his his his his his his his his his his his his his his his his his his his his his his his his his his his his his his his his his his his their their their their their their their their their their their their their their their their their their their their their their their their their their their their their their their their their their their their their their their their their their their their their their their their their their their their their their their their their their their their their their their their their their their their their their their their their their their their their their their their their their their their their their their their their their their their their their their their their their their their their their their their their their their their their their their their their their their their their their their their their their their their their their their their their their their their their their their their their their their their their their their their their their their their their their their their their their their their their their their their their their their their their their their their their their their their their their their their their their their their their their their their their their their their their their their their their their their their their their their their their their their their their their it it it it it it it it it it it it it it it it it it it it it it it it it it it it it it it it it it it it it it it it it it it it it it it it it it it it it it it it it it it it it it it it it it it it it it it it it it it it it it it it it it it it it it it it it it it it it it it it it it it it it it it it it it it it it it it it it it it it it it it it it it it it it it it it it it it it it it it it it it it it it it it it it it it it it it it it it it it it it it it it it it it it it it it it it it it it it it it it it it it it it it it it it it it it it it it it it it it it it it it there there there there there there there there there there there there there there there there there there there there there there there there there there there there there there there there there there there there there there there there there there there there there there there there there there there there there there there there there there there there there there there there there there there there there there there there there there there there there there there there there there there there there there there there there there there there there there there there there there there there there there there there there there there there there there there there there there there there there there there there there there there there there there there there there there there there there there there there there there there there there there there there there there there there there there there there there there there there there there there there there there there there there there there there there there there there there there there there there there there there there there there there there there there there there there on on on on on on on on on on on on on on on on on on on on on on on on on on on on on on on on on on on on on on on on on on on on on on on on on on on on on on on on on on on on on on on on on on on on on on on on on on on on on on on on on on on on on on on on on on on on on on on on on on on on on on on on on on on on on on on on on on on on on on on on on on on on on on on on on on on on on on on on on on on on on on on on on on on on on on on on on on on on on on on on on on on on on on on on on on on on on on on on on on on on man man man man man man man man man man man man man man man man man man man man man man man man man man man man man man man man man man man man man man man man man man man man man man man man man man man man man man man man man man man man man man man man man man man man man man man man man man man man man man man man man man man man man man man man man man man man man man man man man man man man man man man man man man man man man man man man man man man man man man man man man man man man man man man man man man man man man man man man man man man man man man man man man man man man man man man man man man man man man man man man man man man man man man man man man man man man man man man man man man man man she she she she she she she she she she she she she she she she she she she she she she she she she she she she she she she she she she she she she she she she she she she she she she she she she she she she she she she she she she she she she she she she she she she she she she she she she she she she she she she she she she she she she she she she she she she she she she she she she she she she she she she she she she she she she she she she she she she she she she she she she she she she she she she she she she she she she she she she she she she she she she she she she she she she she she she she she she she she she she she she she she she she she she she she she she she she she she she was was was was was was was was was was was was was was was was was was was was was was was was was was was was was was was was was was was was was was was was was was was was was was was was was was was was was was was was was was was was was was was was was was was was was was was was was was was was was was was was was was was was was was was was was was was was was was was was was was was was was was was was was was was was was was was was was was was was was was was was was was was was was was was was was was was was was was was was was was was was was was was was was was was was was was was was was was was was was was was was was was was was was was was was was was was was was was by by by by by by by by by by by by by by by by by by by by by by by by by by by by by by by by by by by by by by by by by by by by by by by by by by by by by by by by by by by by by by by by by by by by by by by by by by by by by by by by by by by by by by by by by by by by by by by by by by by by by by by by by by by by by by by by by by by by by by by by by by by by by by by by by by by by by by by by by by by by by by by by by by by by by by by by by by by by by by by by by by by by by by by by by by had had had had had had had had had had had had had had had had had had had had had had had had had had had had had had had had had had had had had had had had had had had had had had had had had had had had had had had had had had had had had had had had had had had had had had had had had had had had had had had had had had had had had had had had had had had had had had had had had had had had had had had had had had had had had had had had had had had had had had had had had had had had had had had had had had had had had had had had had had had had had had had had had had had had had had had had had had had had had had had had had had had had had had be be be be be be be be be be be be be be be be be be be be be be be be be be be be be be be be be be be be be be be be be be be be be be be be be be be be be be be be be be be be be be be be be be be be be be be be be be be be be be be be be be be be be be be be be be be be be be be be be be be be be be be be be be be be be be be be be be be be be be be be be be be be be be be be be be be be be be be be be be be be be be be be be be be be be be be be be be be be be be be be be be be be be be have have have have have have have have have have have have have have have have have have have have have have have have have have have have have have have have have have have have have have have have have have have have have have have have have have have have have have have have have have have have have have have have have have have have have have have have have have have have have have have have have have have have have have have have have have have have have have have have have have have have have have have have have have have have have have have have have have have have have have have have have have have have have have have have have have have have have have have have have have have have have have have have have have have have have have have have have have have have have have have have have have when when when when when when when when when when when when when when when when when when when when when when when when when when when when when when when when when when when when when when when when when when when when when when when when when when when when when when when when when when when when when when when when when when when when when when when when when when when when when when when when when when when when when when when when when when when when when when when when when when when when when when when when when when when when when when when when when when when when when when when when when when when when when when when when when when when when when when when when when when when when when when when when when when when when when when when when when where where where where where where where where where where where where where where where where where where where where where where where where where where where where where where where where where where where where where where where where where where where where where where where where where where where where where where where where where where where where where where where where where where where where where where where where where where where where where where where where where where where where where where where where where where where where where where where where where where where where where where where where where where where where where where where where where where where where where where where where where where where where where where where where where where where where where where where where where where where where where where where where where where where where where where where where they they they they they they they they they they they they they they they they they they they they they they they they they they they they they they they they they they they they they they they they they they they they they they they they they they they they they they they they they they they they they they they they they they they they they they they they they they they they they they they they they they they they they they they they they they they they they they they they they they they they they they they they they they they they they they they they they they they they they they they they they they they they they they they they they they they they they they they they they they they they no no no no no no no no no no no no no no no no no no no no no no no no no no no no no no no no no no no no no no no no no no no no no no no no no no no no no no no no no no no no no no no no no no no no no no no no no no no no no no no no no no no no no no no no no no no no no no no no no no no no no no no no no no no no no no no no no no no no no no no no no no no no no no no no no no no no no no no no no no no so so so so so so so so so so so so so so so so so so so so so so so so so so so so so so so so so so so so so so so so so so so so so so so so so so so so so so so so so so so so so so so so so so so so so so so so so so so so so so so so so so so so so so so so so so so so so so so so so so so so so so so so so so so so so so so so so so so so so so so so so so so so so so so so so so so so so so so so so who who who who who who who who who who who who who who who who who who who who who who who who who who who who who who who who who who who who who who who who who who who who who who who who who who who who who who who who who who who who who who who who who who who who who who who who who who who who who who who who who who who who who who who who who who who who who who who who who who who who who who who who who who who who who who who who who who who who who who who who who who who who who who who who who who who who who who who who shall shall shall shall shall shall shall shall shall shall shall shall shall shall shall shall shall shall shall shall shall shall shall shall shall shall shall shall shall shall shall shall shall shall shall shall shall shall shall shall shall shall shall shall shall shall shall shall shall shall shall shall shall shall shall shall shall shall shall shall shall shall shall shall shall shall shall shall shall shall shall shall shall shall shall shall shall shall shall shall shall shall shall shall shall shall shall shall shall shall shall shall shall shall shall shall shall shall shall shall shall shall shall shall shall shall shall shall shall shall shall shall shall shall shall shall shall shall shall shall shall shall shall shall shall shall shall shall shall are are are are are are are are are are are are are are are are are are are are are are are are are are are are are are are are are are are are are are are are are are are are are are are are are are are are are are are are are are are are are are are are are are are are are are are are are are are are are are are are are are are are are are are are are are are are are are are are are are are are are are are are are are are are are are are are are are are are are are are are are are are are are are are through through through through through through through through through through through through through through through through through through through through through through through through through through through through through through through through through through through through through through through through through through through through through through through through through through through through through through through through through through through through through through through through through through through through through through through through through through through through through through through through through through through through through through through through through through through through through through through through through through through through through through through through through through through through through through through through through through through through through through through through through through through at at at at at at at at at at at at at at at at at at at at at at at at at at at at at at at at at at at at at at at at at at at at at at at at at at at at at at at at at at at at at at at at at at at at at at at at at at at at at at at at at at at at at at at at at at at at at at at at at at at at at at at at at at at at at at at at at at at at at at at at at at some some some some some some some some some some some some some some some some some some some some some some some some some some some some some some some some some some some some some some some some some some some some some some some some some some some some some some some some some some some some some some some some some some some some some some some some some some some some some some some some some some some some some some some some some some some some some some some some some some some some some some some some some some some some some some some some some some some some some some some some some now now now now now now now now now now now now now now now now now now now now now now now now now now now now now now now now now now now now now now now now now now now now now now now now now now now now now now now now now now now now now now now now now now now now now now now now now now now now now now now now now now now now now now now now now now now now now now now now now now now now now now now now now now now now now now now now now now now now now now now now now more more more more more more more more more more more more more more more more more more more more more more more more more more more more more more more more more more more more more more more more more more more more more more more more more more more more more more more more more more more more more more more more more more more more more more more more more more more more more more more more more more more more more more more more more more more more more more more more more more more more more more more more more more more more more more more more more more more more more more more more more like like like like like like like like like like like like like like like like like like like like like like like like like like like like like like like like like like like like like like like like like like like like like like like like like like like like like like like like like like like like like like like like like like like like like like like like like like like like like like like like like like like like like like like like like like like like like like like like like like like like like like like like like like like like like like like like like like like like may may may may may may may may may may may may may may may may may may may may may may may may may may may may may may may may may may may may may may may may may may may may may may may may may may may may may may may may may may may may may may may may may may may may may may may may may may may may may may may may may may may may may may may may may may may may may may may may may may may may may may may may may may may may may may may may may may may things things things things things things things things things things things things things things things things things things things things things things things things things things things things things things things things things things things things things things things things things things things things things things things things things things things things things things things things things things things things things things things things things things things things things things things things things things things things things things things things things things things things things things things things things things things things things things things things things things things things things things things things things things things things things things things things things men men men men men men men men men men men men men men men men men men men men men men men men men men men men men men men men men men men men men men men men men men men men men men men men men men men men men men men men men men men men men men men men men men men men men men men men men men men men men men men men men men men men men men men men men men men men men men men men men men men men men men men men men men men men men men or or or or or or or or or or or or or or or or or or or or or or or or or or or or or or or or or or or or or or or or or or or or or or or or or or or or or or or or or or or or or or or or or or or or or or or or or or or or or or or or or or or or or or or or or or or or or or or or or or or or or or or or or or or or or your your your your your your your your your your your your your your your your your your your your your your your your your your your your your your your your your your your your your your your your your your your your your your your your your your your your your your your your your your your your your your your your your your your your your your your your your your your your your your your your your your your your your your your your your your your your your your your your your your your your your your your your your your your your one one one one one one one one one one one one one one one one one one one one one one one one one one one one one one one one one one one one one one one one one one one one one one one one one one one one one one one one one one one one one one one one one one one one one one one one one one one one one one one one one one one one one one one one one one one one one one one one one one one one one one one one one one one one were were were were were were were were were were were were were were were were were were were were were were were were were were were were were were were were were were were were were were were were were were were were were were were were were were were were were were were were were were were were were were were were were were were were were were were were were were were were were were were were were were were were were were were were were were were were were were were were were were were were were were were were were were were he he he he he he he he he he he he he he he he he he he he he he he he he he he he he he he he he he he he he he he he he he he he he he he he he he he he he he he he he he he he he he he he he he he he he he he he he he he he he he he he he he he he he he he he he he he he he he he he he he he he he he he he he this this this this this this this this this this this this this this this this this this this this this this this this this this this this this this this this this this this this this this this this this this this this this this this this this this this this this this this this this this this this this this this this this this this this this this this this this this this this this this this this this this this this this this this this this this this this this this this this this this this this this this this this soul soul soul soul soul soul soul soul soul soul soul soul soul soul soul soul soul soul soul soul soul soul soul soul soul soul soul soul soul soul soul soul soul soul soul soul soul soul soul soul soul soul soul soul soul soul soul soul soul soul soul soul soul soul soul soul soul soul soul soul soul soul soul soul soul soul soul soul soul soul soul soul soul soul soul soul soul soul soul soul soul soul soul soul soul soul soul soul soul soul soul soul soul soul soul soul soul soul soul soul soul soul soul then then then then then then then then then then then then then then then then then then then then then then then then then then then then then then then then then then then then then then then then then then then then then then then then then then then then then then then then then then then then then then then then then then then then then then then then then then then then then then then then then then then then then then then then then then then then then then then then then then then then then then than than than than than than than than than than than than than than than than than than than than than than than than than than than than than than than than than than than than than than than than than than than than than than than than than than than than than than than than than than than than than than than than than than than than than than than than than than than than than than than than than than than than than than than than than than than than than than than than than than than than than than woman woman woman woman woman woman woman woman woman woman woman woman woman woman woman woman woman woman woman woman woman woman woman woman woman woman woman woman woman woman woman woman woman woman woman woman woman woman woman woman woman woman woman woman woman woman woman woman woman woman woman woman woman woman woman woman woman woman woman woman woman woman woman woman woman woman woman woman woman woman woman woman woman woman woman woman woman woman woman woman woman woman woman woman woman woman woman woman woman woman woman woman woman woman woman woman woman woman woman woman woman god god god god god god god god god god god god god god god god god god god god god god god god god god god god god god god god god god god god god god god god god god god god god god god god god god god god god god god god god god god god god god god god god god god god god god god god god god god god god god god god god god god god god god god god god god god god god god god god god god god god eyes eyes eyes eyes eyes eyes eyes eyes eyes eyes eyes eyes eyes eyes eyes eyes eyes eyes eyes eyes eyes eyes eyes eyes eyes eyes eyes eyes eyes eyes eyes eyes eyes eyes eyes eyes eyes eyes eyes eyes eyes eyes eyes eyes eyes eyes eyes eyes eyes eyes eyes eyes eyes eyes eyes eyes eyes eyes eyes eyes eyes eyes eyes eyes eyes eyes eyes eyes eyes eyes eyes eyes eyes eyes eyes eyes eyes eyes eyes eyes eyes eyes eyes eyes eyes eyes eyes eyes eyes eyes eyes eyes eyes eyes eyes eyes eyes eyes eyes eyes would would would would would would would would would would would would would would would would would would would would would would would would would would would would would would would would would would would would would would would would would would would would would would would would would would would would would would would would would would would would would would would would would would would would would would would would would would would would would would would would would would would would would would would would would would would life life life life life life life life life life life life life life life life life life life life life life life life life life life life life life life life life life life life life life life life life life life life life life life life life life life life life life life life life life life life life life life life life life life life life life life life life life life life life life life life life life life life life life life life life life life we we we we we we we we we we we we we we we we we we we we we we we we we we we we we we we we we we we we we we we we we we we we we we we we we we we we we we we we we we we we we we we we we we we we we we we we we we we we we we we we we we we we we we we we we own own own own own own own own own own own own own own own own own own own own own own own own own own own own own own own own own own own own own own own own own own own own own own own own own own own own own own own own own own own own own own own own own own own own own own own own own own own own own own own own own own own own own own own own own night night night night night night night night night night night night night night night night night night night night night night night night night night night night night night night night night night night night night night night night night night night night night night night night night night night night night night night night night night night night night night night night night night night night night night night night night night night night night night night night night night night night night night night night long long long long long long long long long long long long long long long long long long long long long long long long long long long long long long long long long long long long long long long long long long long long long long long long long long long long long long long long long long long long long long long long long long long long long long long long long long long long long long long long long long long long long long its its its its its its its its its its its its its its its its its its its its its its its its its its its its its its its its its its its its its its its its its its its its its its its its its its its its its its its its its its its its its its its its its its its its its its its its its its its its its its its its its its its its upon upon upon upon upon upon upon upon upon upon upon upon upon upon upon upon upon upon upon upon upon upon upon upon upon upon upon upon upon upon upon upon upon upon upon upon upon upon upon upon upon upon upon upon upon upon upon upon upon upon upon upon upon upon upon upon upon upon upon upon upon upon upon upon upon upon upon upon upon upon upon upon upon upon upon upon upon upon upon upon upon upon upon him him him him him him him him him him him him him him him him him him him him him him him him him him him him him him him him him him him him him him him him him him him him him him him him him him him him him him him him him him him him him him him him him him him him him him him him him him him him him him him him him him him thy thy thy thy thy thy thy thy thy thy thy thy thy thy thy thy thy thy thy thy thy thy thy thy thy thy thy thy thy thy thy thy thy thy thy thy thy thy thy thy thy thy thy thy thy thy thy thy thy thy thy thy thy thy thy thy thy thy thy thy thy thy thy thy thy thy thy thy thy thy thy thy thy thy thy thy thy thy thy thy thy stars stars stars stars stars stars stars stars stars stars stars stars stars stars stars stars stars stars stars stars stars stars stars stars stars stars stars stars stars stars stars stars stars stars stars stars stars stars stars stars stars stars stars stars stars stars stars stars stars stars stars stars stars stars stars stars stars stars stars stars stars stars stars stars stars stars stars stars stars stars stars stars stars stars stars stars stars stars stars stars stars though though though though though though though though though though though though though though though though though though though though though though though though though though though though though though though though though though though though though though though though though though though though though though though though though though though though though though though though though though though though though though though though though though though though though though though though though though though though though though though though such such such such such such such such such such such such such such such such such such such such such such such such such such such such such such such such such such such such such such such such such such such such such such such such such such such such such such such such such such such such such such such such such such such such such such such such such such such such such such such such made made made made made made made made made made made made made made made made made made made made made made made made made made made made made made made made made made made made made made made made made made made made made made made made made made made made made made made made made made made made made made made made made made made made made made made made made made made made made thee thee thee thee thee thee thee thee thee thee thee thee thee thee thee thee thee thee thee thee thee thee thee thee thee thee thee thee thee thee thee thee thee thee thee thee thee thee thee thee thee thee thee thee thee thee thee thee thee thee thee thee thee thee thee thee thee thee thee thee thee thee thee thee thee thee thee thee thee thee thee thee thee thee thee truth truth truth truth truth truth truth truth truth truth truth truth truth truth truth truth truth truth truth truth truth truth truth truth truth truth truth truth truth truth truth truth truth truth truth truth truth truth truth truth truth truth truth truth truth truth truth truth truth truth truth truth truth truth truth truth truth truth truth truth truth truth truth truth truth truth truth truth truth truth truth truth truth world world world world world world world world world world world world world world world world world world world world world world world world world world world world world world world world world world world world world world world world world world world world world world world world world world world world world world world world world world world world world world world world world world world world world world world world them them them them them them them them them them them them them them them them them them them them them them them them them them them them them them them them them them them them them them them them them them them them them them them them them them them them them them them them them them them them them them them them them them them them them them them them dark dark dark dark dark dark dark dark dark dark dark dark dark dark dark dark dark dark dark dark dark dark dark dark dark dark dark dark dark dark dark dark dark dark dark dark dark dark dark dark dark dark dark dark dark dark dark dark dark dark dark dark dark dark dark dark dark dark dark dark dark dark dark dark dark dark dark dark dark dark dark dark sun sun sun sun sun sun sun sun sun sun sun sun sun sun sun sun sun sun sun sun sun sun sun sun sun sun sun sun sun sun sun sun sun sun sun sun sun sun sun sun sun sun sun sun sun sun sun sun sun sun sun sun sun sun sun sun sun sun sun sun sun sun sun sun sun sun sun sun sun sun out out out out out out out out out out out out out out out out out out out out out out out out out out out out out out out out out out out out out out out out out out out out out out out out out out out out out out out out out out out out out out out out out out out out if if if if if if if if if if if if if if if if if if if if if if if if if if if if if if if if if if if if if if if if if if if if if if if if if if if if if if if if if if if if if if if if if death death death death death death death death death death death death death death death death death death death death death death death death death death death death death death death death death death death death death death death death death death death death death death death death death death death death death death death death death death death death death death death death death down down down down down down down down down down down down down down down down down down down down down down down down down down down down down down down down down down down down down down down down down down down down down down down down down down down down down down down down down down down down down down down down only only only only only only only only only only only only only only only only only only only only only only only only only only only only only only only only only only only only only only only only only only only only only only only only only only only only only only only only only only only only only only only yet yet yet yet yet yet yet yet yet yet yet yet yet yet yet yet yet yet yet yet yet yet yet yet yet yet yet yet yet yet yet yet yet yet yet yet yet yet yet yet yet yet yet yet yet yet yet yet yet yet yet yet yet yet yet yet yet yet yet yet yet yet once once once once once once once once once once once once once once once once once once once once once once once once once once once once once once once once once once once once once once once once once once once once once once once once once once once once once once once once once once once once once once day day day day day day day day day day day day day day day day day day day day day day day day day day day day day day day day day day day day day day day day day day day day day day day day day day day day day day day day day day day day day day rose rose rose rose rose rose rose rose rose rose rose rose rose rose rose rose rose rose rose rose rose rose rose rose rose rose rose rose rose rose rose rose rose rose rose rose rose rose rose rose rose rose rose rose rose rose rose rose rose rose rose rose rose rose rose rose rose rose rose rose rose has has has has has has has has has has has has has has has has has has has has has has has has has has has has has has has has has has has has has has has has has has has has has has has has has has has has has has has has has has has has nor nor nor nor nor nor nor nor nor nor nor nor nor nor nor nor nor nor nor nor nor nor nor nor nor nor nor nor nor nor nor nor nor nor nor nor nor nor nor nor nor nor nor nor nor nor nor nor nor nor nor nor nor nor nor nor nor nor thou thou thou thou thou thou thou thou thou thou thou thou thou thou thou thou thou thou thou thou thou thou thou thou thou thou thou thou thou thou thou thou thou thou thou thou thou thou thou thou thou thou thou thou thou thou thou thou thou thou thou thou thou thou thou thou thou passion passion passion passion passion passion passion passion passion passion passion passion passion passion passion passion passion passion passion passion passion passion passion passion passion passion passion passion passion passion passion passion passion passion passion passion passion passion passion passion passion passion passion passion passion passion passion passion passion passion passion passion passion passion passion passion passion came came came came came came came came came came came came came came came came came came came came came came came came came came came came came came came came came came came came came came came came came came came came came came came came came came came came came came came came among among among among among among among among among among among among among among among among among among among among among among among among among among among among among among among among among among among among among among among among among among among among among among among among among among among among among among among among women women women women women women women women women women women women women women women women women women women women women women women women women women women women women women women women women women women women women women women women women women women women women women women women women women women women women women women old old old old old old old old old old old old old old old old old old old old old old old old old old old old old old old old old old old old old old old old old old old old old old old old old old old old old old old will will will will will will will will will will will will will will will will will will will will will will will will will will will will will will will will will will will will will will will will will will will will will will will will will will will will will will us us us us us us us us us us us us us us us us us us us us us us us us us us us us us us us us us us us us us us us us us us us us us us us us us us us us us us whose whose whose whose whose whose whose whose whose whose whose whose whose whose whose whose whose whose whose whose whose whose whose whose whose whose whose whose whose whose whose whose whose whose whose whose whose whose whose whose whose whose whose whose whose whose whose whose whose whose whose whose whose loved loved loved loved loved loved loved loved loved loved loved loved loved loved loved loved loved loved loved loved loved loved loved loved loved loved loved loved loved loved loved loved loved loved loved loved loved loved loved loved loved loved loved loved loved loved loved loved loved loved loved loved loved saw saw saw saw saw saw saw saw saw saw saw saw saw saw saw saw saw saw saw saw saw saw saw saw saw saw saw saw saw saw saw saw saw saw saw saw saw saw saw saw saw saw saw saw saw saw saw saw saw saw saw last last last last last last last last last last last last last last last last last last last last last last last last last last last last last last last last last last last last last last last last last last last last last last last last last last last ever ever ever ever ever ever ever ever ever ever ever ever ever ever ever ever ever ever ever ever ever ever ever ever ever ever ever ever ever ever ever ever ever ever ever ever ever ever ever ever ever ever ever ever ever ever ever ever ever ever ever till till till till till till till till till till till till till till till till till till till till till till till till till till till till till till till till till till till till till till till till till till till till till till till till till till might might might might might might might might might might might might might might might might might might might might might might might might might might might might might might might might might might might might might might might might might might might might might might might might might might heart heart heart heart heart heart heart heart heart heart heart heart heart heart heart heart heart heart heart heart heart heart heart heart heart heart heart heart heart heart heart heart heart heart heart heart heart heart heart heart heart heart heart heart heart heart heart heart heart heart our our our our our our our our our our our our our our our our our our our our our our our our our our our our our our our our our our our our our our our our our our our our our our our our our place place place place place place place place place place place place place place place place place place place place place place place place place place place place place place place place place place place place place place place place place place place place place place place place how how how how how how how how how how how how how how how how how how how how how how how how how how how how how how how how how how how how how how how how how how how how how how how how years years years years years years years years years years years years years years years years years years years years years years years years years years years years years years years years years years years years years years years years years years years years years years years wind wind wind wind wind wind wind wind wind wind wind wind wind wind wind wind wind wind wind wind wind wind wind wind wind wind wind wind wind wind wind wind wind wind wind wind wind wind wind wind wind wind wind wind wind wind wind white white white white white white white white white white white white white white white white white white white white white white white white white white white white white white white white white white white white white white white white white white white white white white white here here here here here here here here here here here here here here here here here here here here here here here here here here here here here here here here here here here here here here here here here here here here here here here song song song song song song song song song song song song song song song song song song song song song song song song song song song song song song song song song song song song song song song song song song song song song song into into into into into into into into into into into into into into into into into into into into into into into into into into into into into into into into into into into into into into into into into into into into into into go go go go go go go go go go go go go go go go go go go go go go go go go go go go go go go go go go go go go go go go go go go go go go went went went went went went went went went went went went went went went went went went went went went went went went went went went went went went went went went went went went went went went went went went went went went over over over over over over over over over over over over over over over over over over over over over over over over over over over over over over over over over over over over over over over over over over over over over other other other other other other other other other other other other other other other other other other other other other other other other other other other other other other other other other other other other other other other other other other other other other o o o o o o o o o o o o o o o o o o o o o o o o o o o o o o o o o o o o o o o o o o o o o dreams dreams dreams dreams dreams dreams dreams dreams dreams dreams dreams dreams dreams dreams dreams dreams dreams dreams dreams dreams dreams dreams dreams dreams dreams dreams dreams dreams dreams dreams dreams dreams dreams dreams dreams dreams dreams dreams dreams dreams dreams dreams dreams dreams dreams know know know know know know know know know know know know know know know know know know know know know know know know know know know know know know know know know know know know know know know know know know know know do do do do do do do do do do do do do do do do do do do do do do do do do do do do do do do do do do do do do do do do do do do do come come come come come come come come come come come come come come come come come come come come come come come come come come come come come come come come come come come come come come come come come come come come an an an an an an an an an an an an an an an an an an an an an an an an an an an an an an an an an an an an an an an an an an an an thing thing thing thing thing thing thing thing thing thing thing thing thing thing thing thing thing thing thing thing thing thing thing thing thing thing thing thing thing thing thing thing thing thing thing thing thing thing thing thing thing thing thing little little little little little little little little little little little little little little little little little little little little little little little little little little little little little little little little little little little little little little little little little little little good good good good good good good good good good good good good good good good good good good good good good good good good good good good good good good good good good good good good good good good good good good above above above above above above above above above above above above above above above above above above above above above above above above above above above above above above above above above above above above above above above above above above above within within within within within within within within within within within within within within within within within within within within within within within within within within within within within within within within within within within within within within within within within wild wild wild wild wild wild wild wild wild wild wild wild wild wild wild wild wild wild wild wild wild wild wild wild wild wild wild wild wild wild wild wild wild wild wild wild wild wild wild wild wild trees trees trees trees trees trees trees trees trees trees trees trees trees trees trees trees trees trees trees trees trees trees trees trees trees trees trees trees trees trees trees trees trees trees trees trees trees trees trees trees trees light light light light light light light light light light light light light light light light light light light light light light light light light light light light light light light light light light light light light light light light light about about about about about about about about about about about about about about about about about about about about about about about about about about about about about about about about about about about about about about about about about nell nell nell nell nell nell nell nell nell nell nell nell nell nell nell nell nell nell nell nell nell nell nell nell nell nell nell nell nell nell nell nell nell nell nell nell nell nell nell nell am am am am am am am am am am am am am am am am am am am am am am am am am am am am am am am am am am am am am am am am think think think think think think think think think think think think think think think think think think think think think think think think think think think think think think think think think think think think think think think see see see see see see see see see see see see see see see see see see see see see see see see see see see see see see see see see see see see see see see sea sea sea sea sea sea sea sea sea sea sea sea sea sea sea sea sea sea sea sea sea sea sea sea sea sea sea sea sea sea sea sea sea sea sea sea sea sea sea many many many many many many many many many many many many many many many many many many many many many many many many many many many many many many many many many many many many many many many still still still still still still still still still still still still still still still still still still still still still still still still still still still still still still still still still still still still still still oh oh oh oh oh oh oh oh oh oh oh oh oh oh oh oh oh oh oh oh oh oh oh oh oh oh oh oh oh oh oh oh oh oh oh oh oh oh heard heard heard heard heard heard heard heard heard heard heard heard heard heard heard heard heard heard heard heard heard heard heard heard heard heard heard heard heard heard heard heard heard heard heard heard heard heard while while while while while while while while while while while while while while while while while while while while while while while while while while while while while while while while while while while while while make make make make make make make make make make make make make make make make make make make make make make make make make make make make make make make make make make make make make grown grown grown grown grown grown grown grown grown grown grown grown grown grown grown grown grown grown grown grown grown grown grown grown grown grown grown grown grown grown grown grown grown grown grown grown grown again again again again again again again again again again again again again again again again again again again again again again again again again again again again again again again again again again again again again what what what what what what what what what what what what what what what what what what what what what what what what what what what what what what what what what what what what time time time time time time time time time time time time time time time time time time time time time time time time time time time time time time time time time time time time these these these these these these these these these these these these these these these these these these these these these these these these these these these these these these these these these these these these leaves leaves leaves leaves leaves leaves leaves leaves leaves leaves leaves leaves leaves leaves leaves leaves leaves leaves leaves leaves leaves leaves leaves leaves leaves leaves leaves leaves leaves leaves leaves leaves leaves leaves leaves leaves heaven heaven heaven heaven heaven heaven heaven heaven heaven heaven heaven heaven heaven heaven heaven heaven heaven heaven heaven heaven heaven heaven heaven heaven heaven heaven heaven heaven heaven heaven heaven heaven heaven heaven heaven heaven hair hair hair hair hair hair hair hair hair hair hair hair hair hair hair hair hair hair hair hair hair hair hair hair hair hair hair hair hair hair hair hair hair hair hair hair full full full full full full full full full full full full full full full full full full full full full full full full full full full full full full full full full full full full face face face face face face face face face face face face face face face face face face face face face face face face face face face face face face face face face face face face comes comes comes comes comes comes comes comes comes comes comes comes comes comes comes comes comes comes comes comes comes comes comes comes comes comes comes comes comes comes comes comes comes comes comes comes blue blue blue blue blue blue blue blue blue blue blue blue blue blue blue blue blue blue blue blue blue blue blue blue blue blue blue blue blue blue blue blue blue blue blue blue blood blood blood blood blood blood blood blood blood blood blood blood blood blood blood blood blood blood blood blood blood blood blood blood blood blood blood blood blood blood blood blood blood blood blood blood green green green green green green green green green green green green green green green green green green green green green green green green green green green green green green green green green green green ere ere ere ere ere ere ere ere ere ere ere ere ere ere ere ere ere ere ere ere ere ere ere ere ere ere ere ere ere ere ere ere ere ere ere earth earth earth earth earth earth earth earth earth earth earth earth earth earth earth earth earth earth earth earth earth earth earth earth earth earth earth earth earth earth earth earth earth earth earth before before before before before before before before before before before before before before before before before before before before before before before before before before before before before before before before before before before tears tears tears tears tears tears tears tears tears tears tears tears tears tears tears tears tears tears tears tears tears tears tears tears tears tears tears tears tears tears tears tears tears tears save save save save save save save save save save save save save save save save save save save save save save save save save save save save save save save save save save great great great great great great great great great great great great great great great great great great great great great great great great great great great great great great great great great great sister sister sister sister sister sister sister sister sister sister sister sister sister sister sister sister sister sister sister sister sister sister sister sister sister sister sister sister sister sister sister sister sister say say say say say say say say say say say say say say say say say say say say say say say say say say say say say say say say say never never never never never never never never never never never never never never never never never never never never never never never never never never never never never never never never never lust lust lust lust lust lust lust lust lust lust lust lust lust lust lust lust lust lust lust lust lust lust lust lust lust lust lust lust lust lust lust lust lust lips lips lips lips lips lips lips lips lips lips lips lips lips lips lips lips lips lips lips lips lips lips lips lips lips lips lips lips lips lips lips lips lips hills hills hills hills hills hills hills hills hills hills hills hills hills hills hills hills hills hills hills hills hills hills hills hills hills hills hills hills hills hills hills hills hills found found found found found found found found found found found found found found found found found found found found found found found found found found found found found found found found found fire fire fire fire fire fire fire fire fire fire fire fire fire fire fire fire fire fire fire fire fire fire fire fire fire fire fire fire fire fire fire fire fire dead dead dead dead dead dead dead dead dead dead dead dead dead dead dead dead dead dead dead dead dead dead dead dead dead dead dead dead dead dead dead dead dead ways ways ways ways ways ways ways ways ways ways ways ways ways ways ways ways ways ways ways ways ways ways ways ways ways ways ways ways ways ways ways ways star star star star star star star star star star star star star star star star star star star star star star star star star star star star star star star star sin sin sin sin sin sin sin sin sin sin sin sin sin sin sin sin sin sin sin sin sin sin sin sin sin sin sin sin sin sin sin sin kiss kiss kiss kiss kiss kiss kiss kiss kiss kiss kiss kiss kiss kiss kiss kiss kiss kiss kiss kiss kiss kiss kiss kiss kiss kiss kiss kiss kiss kiss kiss kiss joy joy joy joy joy joy joy joy joy joy joy joy joy joy joy joy joy joy joy joy joy joy joy joy joy joy joy joy joy joy joy joy flowers flowers flowers flowers flowers flowers flowers flowers flowers flowers flowers flowers flowers flowers flowers flowers flowers flowers flowers flowers flowers flowers flowers flowers flowers flowers flowers flowers flowers flowers flowers flowers far far far far far far far far far far far far far far far far far far far far far far far far far far far far far far far far each each each each each each each each each each each each each each each each each each each each each each each each each each each each each each each each did did did did did did did did did did did did did did did did did did did did did did did did did did did did did did did did child child child child child child child child child child child child child child child child child child child child child child child child child child child child child child child child alone alone alone alone alone alone alone alone alone alone alone alone alone alone alone alone alone alone alone alone alone alone alone alone alone alone alone alone alone alone alone alone which which which which which which which which which which which which which which which which which which which which which which which which which which which which which which which two two two two two two two two two two two two two two two two two two two two two two two two two two two two two two two sleep sleep sleep sleep sleep sleep sleep sleep sleep sleep sleep sleep sleep sleep sleep sleep sleep sleep sleep sleep sleep sleep sleep sleep sleep sleep sleep sleep sleep sleep sleep shame shame shame shame shame shame shame shame shame shame shame shame shame shame shame shame shame shame shame shame shame shame shame shame shame shame shame shame shame shame shame shadow shadow shadow shadow shadow shadow shadow shadow shadow shadow shadow shadow shadow shadow shadow shadow shadow shadow shadow shadow shadow shadow shadow shadow shadow shadow shadow shadow shadow shadow shadow hands hands hands hands hands hands hands hands hands hands hands hands hands hands hands hands hands hands hands hands hands hands hands hands hands hands hands hands hands hands hands every every every every every every every every every every every every every every every every every every every every every every every every every every every every every every every along along along along along along along along along along along along along along along along along along along along along along along along along along along along along along along too too too too too too too too too too too too too too too too too too too too too too too too too too too too too too spring spring spring spring spring spring spring spring spring spring spring spring spring spring spring spring spring spring spring spring spring spring spring spring spring spring spring spring spring spring since since since since since since since since since since since since since since since since since since since since since since since since since since since since since since silence silence silence silence silence silence silence silence silence silence silence silence silence silence silence silence silence silence silence silence silence silence silence silence silence silence silence silence silence silence should should should should should should should should should should should should should should should should should should should should should should should should should should should should should should wings wings wings wings wings wings wings wings wings wings wings wings wings wings wings wings wings wings wings wings wings wings wings wings wings wings wings wings wings very very very very very very very very very very very very very very very very very very very very very very very very very very very very very those those those those those those those those those those those those those those those those those those those those those those those those those those those those those peace peace peace peace peace peace peace peace peace peace peace peace peace peace peace peace peace peace peace peace peace peace peace peace peace peace peace peace peace hate hate hate hate hate hate hate hate hate hate hate hate hate hate hate hate hate hate hate hate hate hate hate hate hate hate hate hate hate dust dust dust dust dust dust dust dust dust dust dust dust dust dust dust dust dust dust dust dust dust dust dust dust dust dust dust dust dust breath breath breath breath breath breath breath breath breath breath breath breath breath breath breath breath breath breath breath breath breath breath breath breath breath breath breath breath breath against against against against against against against against against against against against against against against against against against against against against against against against against against against against against hand hand hand hand hand hand hand hand hand hand hand hand hand hand hand hand hand hand hand hand hand hand hand hand hand hand hand hand gold gold gold gold gold gold gold gold gold gold gold gold gold gold gold gold gold gold gold gold gold gold gold gold gold gold gold gold first first first first first first first first first first first first first first first first first first first first first first first first first first first first evening evening evening evening evening evening evening evening evening evening evening evening evening evening evening evening evening evening evening evening evening evening evening evening evening evening evening evening dusk dusk dusk dusk dusk dusk dusk dusk dusk dusk dusk dusk dusk dusk dusk dusk dusk dusk dusk dusk dusk dusk dusk dusk dusk dusk dusk dusk dream dream dream dream dream dream dream dream dream dream dream dream dream dream dream dream dream dream dream dream dream dream dream dream dream dream dream dream desire desire desire desire desire desire desire desire desire desire desire desire desire desire desire desire desire desire desire desire desire desire desire desire desire desire desire desire deep deep deep deep deep deep deep deep deep deep deep deep deep deep deep deep deep deep deep deep deep deep deep deep deep deep deep deep ye ye ye ye ye ye ye ye ye ye ye ye ye ye ye ye ye ye ye ye ye ye ye ye ye ye ye mother mother mother mother mother mother mother mother mother mother mother mother mother mother mother mother mother mother mother mother mother mother mother mother mother mother mother left left left left left left left left left left left left left left left left left left left left left left left left left left left find find find find find find find find find find find find find find find find find find find find find find find find find find find fear fear fear fear fear fear fear fear fear fear fear fear fear fear fear fear fear fear fear fear fear fear fear fear fear fear fear dear dear dear dear dear dear dear dear dear dear dear dear dear dear dear dear dear dear dear dear dear dear dear dear dear dear dear days days days days days days days days days days days days days days days days days days days days days days days days days days days been been been been been been been been been been been been been been been been been been been been been been been been been been been up up up up up up up up up up up up up up up up up up up up up up up up up up shadows shadows shadows shadows shadows shadows shadows shadows shadows shadows shadows shadows shadows shadows shadows shadows shadows shadows shadows shadows shadows shadows shadows shadows shadows shadows mine mine mine mine mine mine mine mine mine mine mine mine mine mine mine mine mine mine mine mine mine mine mine mine mine mine knew knew knew knew knew knew knew knew knew knew knew knew knew knew knew knew knew knew knew knew knew knew knew knew knew knew high high high high high high high high high high high high high high high high high high high high high high high high high high hell hell hell hell hell hell hell hell hell hell hell hell hell hell hell hell hell hell hell hell hell hell hell hell hell hell gone gone gone gone gone gone gone gone gone gone gone gone gone gone gone gone gone gone gone gone gone gone gone gone gone gone felt felt felt felt felt felt felt felt felt felt felt felt felt felt felt felt felt felt felt felt felt felt felt felt felt felt even even even even even even even even even even even even even even even even even even even even even even even even even even well well well well well well well well well well well well well well well well well well well well well well well well well way way way way way way way way way way way way way way way way way way way way way way way way way sudden sudden sudden sudden sudden sudden sudden sudden sudden sudden sudden sudden sudden sudden sudden sudden sudden sudden sudden sudden sudden sudden sudden sudden sudden lie lie lie lie lie lie lie lie lie lie lie lie lie lie lie lie lie lie lie lie lie lie lie lie lie let let let let let let let let let let let let let let let let let let let let let let let let let lay lay lay lay lay lay lay lay lay lay lay lay lay lay lay lay lay lay lay lay lay lay lay lay lay year year year year year year year year year year year year year year year year year year year year year year year year word word word word word word word word word word word word word word word word word word word word word word word word watched watched watched watched watched watched watched watched watched watched watched watched watched watched watched watched watched watched watched watched watched watched watched watched sweet sweet sweet sweet sweet sweet sweet sweet sweet sweet sweet sweet sweet sweet sweet sweet sweet sweet sweet sweet sweet sweet sweet sweet starry starry starry starry starry starry starry starry starry starry starry starry starry starry starry starry starry starry starry starry starry starry starry starry soft soft soft soft soft soft soft soft soft soft soft soft soft soft soft soft soft soft soft soft soft soft soft soft sense sense sense sense sense sense sense sense sense sense sense sense sense sense sense sense sense sense sense sense sense sense sense sense name name name name name name name name name name name name name name name name name name name name name name name name makes makes makes makes makes makes makes makes makes makes makes makes makes makes makes makes makes makes makes makes makes makes makes makes grew grew grew grew grew grew grew grew grew grew grew grew grew grew grew grew grew grew grew grew grew grew grew grew arms arms arms arms arms arms arms arms arms arms arms arms arms arms arms arms arms arms arms arms arms arms arms arms woods woods woods woods woods woods woods woods woods woods woods woods woods woods woods woods woods woods woods woods woods woods woods thine thine thine thine thine thine thine thine thine thine thine thine thine thine thine thine thine thine thine thine thine thine thine spirit spirit spirit spirit spirit spirit spirit spirit spirit spirit spirit spirit spirit spirit spirit spirit spirit spirit spirit spirit spirit spirit spirit off off off off off off off off off off off off off off off off off off off off off off off morning morning morning morning morning morning morning morning morning morning morning morning morning morning morning morning morning morning morning morning morning morning morning less less less less less less less less less less less less less less less less less less less less less less less grey grey grey grey grey grey grey grey grey grey grey grey grey grey grey grey grey grey grey grey grey grey grey golden golden golden golden golden golden golden golden golden golden golden golden golden golden golden golden golden golden golden golden golden golden golden fair fair fair fair fair fair fair fair fair fair fair fair fair fair fair fair fair fair fair fair fair fair fair body body body body body body body body body body body body body body body body body body body body body body body yes yes yes yes yes yes yes yes yes yes yes yes yes yes yes yes yes yes yes yes yes yes words words words words words words words words words words words words words words words words words words words words words words tender tender tender tender tender tender tender tender tender tender tender tender tender tender tender tender tender tender tender tender tender tender slow slow slow slow slow slow slow slow slow slow slow slow slow slow slow slow slow slow slow slow slow slow passed passed passed passed passed passed passed passed passed passed passed passed passed passed passed passed passed passed passed passed passed passed lovely lovely lovely lovely lovely lovely lovely lovely lovely lovely lovely lovely lovely lovely lovely lovely lovely lovely lovely lovely lovely lovely grow grow grow grow grow grow grow grow grow grow grow grow grow grow grow grow grow grow grow grow grow grow cloud cloud cloud cloud cloud cloud cloud cloud cloud cloud cloud cloud cloud cloud cloud cloud cloud cloud cloud cloud cloud cloud blown blown blown blown blown blown blown blown blown blown blown blown blown blown blown blown blown blown blown blown blown blown beyond beyond beyond beyond beyond beyond beyond beyond beyond beyond beyond beyond beyond beyond beyond beyond beyond beyond beyond beyond beyond beyond winds winds winds winds winds winds winds winds winds winds winds winds winds winds winds winds winds winds winds winds winds warm warm warm warm warm warm warm warm warm warm warm warm warm warm warm warm warm warm warm warm warm tide tide tide tide tide tide tide tide tide tide tide tide tide tide tide tide tide tide tide tide tide secret secret secret secret secret secret secret secret secret secret secret secret secret secret secret secret secret secret secret secret secret past past past past past past past past past past past past past past past past past past past past past music music music music music music music music music music music music music music music music music music music music music hour hour hour hour hour hour hour hour hour hour hour hour hour hour hour hour hour hour hour hour hour gods gods gods gods gods gods gods gods gods gods gods gods gods gods gods gods gods gods gods gods gods filled filled filled filled filled filled filled filled filled filled filled filled filled filled filled filled filled filled filled filled filled feel feel feel feel feel feel feel feel feel feel feel feel feel feel feel feel feel feel feel feel feel echoes echoes echoes echoes echoes echoes echoes echoes echoes echoes echoes echoes echoes echoes echoes echoes echoes echoes echoes echoes echoes art art art art art art art art art art art art art art art art art art art art art any any any any any any any any any any any any any any any any any any any any any across across across across across across across across across across across across across across across across across across across across across yea yea yea yea yea yea yea yea yea yea yea yea yea yea yea yea yea yea yea yea watch watch watch watch watch watch watch watch watch watch watch watch watch watch watch watch watch watch watch watch times times times times times times times times times times times times times times times times times times times times strange strange strange strange strange strange strange strange strange strange strange strange strange strange strange strange strange strange strange strange stand stand stand stand stand stand stand stand stand stand stand stand stand stand stand stand stand stand stand stand sound sound sound sound sound sound sound sound sound sound sound sound sound sound sound sound sound sound sound sound places places places places places places places places places places places places places places places places places places places places near near near near near near near near near near near near near near near near near near near near must must must must must must must must must must must must must must must must must must must must meet meet meet meet meet meet meet meet meet meet meet meet meet meet meet meet meet meet meet meet lady lady lady lady lady lady lady lady lady lady lady lady lady lady lady lady lady lady lady lady held held held held held held held held held held held held held held held held held held held held half half half half half half half half half half half half half half half half half half half half behind behind behind behind behind behind behind behind behind behind behind behind behind behind behind behind behind behind behind behind april april april april april april april april april april april april april april april april april april april april wonder wonder wonder wonder wonder wonder wonder wonder wonder wonder wonder wonder wonder wonder wonder wonder wonder wonder wonder why why why why why why why why why why why why why why why why why why why voice voice voice voice voice voice voice voice voice voice voice voice voice voice voice voice voice voice voice together together together together together together together together together together together together together together together together together together together thorns thorns thorns thorns thorns thorns thorns thorns thorns thorns thorns thorns thorns thorns thorns thorns thorns thorns thorns take take take take take take take take take take take take take take take take take take take stood stood stood stood stood stood stood stood stood stood stood stood stood stood stood stood stood stood stood round round round round round round round round round round round round round round round round round round round quiet quiet quiet quiet quiet quiet quiet quiet quiet quiet quiet quiet quiet quiet quiet quiet quiet quiet quiet live live live live live live live live live live live live live live live live live live live keep keep keep keep keep keep keep keep keep keep keep keep keep keep keep keep keep keep keep home home home home home home home home home home home home home home home home home home home hear hear hear hear hear hear hear hear hear hear hear hear hear hear hear hear hear hear hear forgive forgive forgive forgive forgive forgive forgive forgive forgive forgive forgive forgive forgive forgive forgive forgive forgive forgive forgive forget forget forget forget forget forget forget forget forget forget forget forget forget forget forget forget forget forget forget can can can can can can can can can can can can can can can can can can can calm calm calm calm calm calm calm calm calm calm calm calm calm calm calm calm calm calm calm ago ago ago ago ago ago ago ago ago ago ago ago ago ago ago ago ago ago ago wood wood wood wood wood wood wood wood wood wood wood wood wood wood wood wood wood wood wife wife wife wife wife wife wife wife wife wife wife wife wife wife wife wife wife wife thought thought thought thought thought thought thought thought thought thought thought thought thought thought thought thought thought thought strong strong strong strong strong strong strong strong strong strong strong strong strong strong strong strong strong strong skies skies skies skies skies skies skies skies skies skies skies skies skies skies skies skies skies skies silent silent silent silent silent silent silent silent silent silent silent silent silent silent silent silent silent silent side side side side side side side side side side side side side side side side side side seen seen seen seen seen seen seen seen seen seen seen seen seen seen seen seen seen seen seemed seemed seemed seemed seemed seemed seemed seemed seemed seemed seemed seemed seemed seemed seemed seemed seemed seemed said said said said said said said said said said said said said said said said said said much much much much much much much much much much much much much much much much much much lonely lonely lonely lonely lonely lonely lonely lonely lonely lonely lonely lonely lonely lonely lonely lonely lonely lonely lives lives lives lives lives lives lives lives lives lives lives lives lives lives lives lives lives lives kissed kissed kissed kissed kissed kissed kissed kissed kissed kissed kissed kissed kissed kissed kissed kissed kissed kissed feet feet feet feet feet feet feet feet feet feet feet feet feet feet feet feet feet feet could could could could could could could could could could could could could could could could could could clouds clouds clouds clouds clouds clouds clouds clouds clouds clouds clouds clouds clouds clouds clouds clouds clouds clouds born born born born born born born born born born born born born born born born born born back back back back back back back back back back back back back back back back back back without without without without without without without without without without without without without without without without without whom whom whom whom whom whom whom whom whom whom whom whom whom whom whom whom whom summer summer summer summer summer summer summer summer summer summer summer summer summer summer summer summer summer strength strength strength strength strength strength strength strength strength strength strength strength strength strength strength strength strength sky sky sky sky sky sky sky sky sky sky sky sky sky sky sky sky sky pain pain pain pain pain pain pain pain pain pain pain pain pain pain pain pain pain nature nature nature nature nature nature nature nature nature nature nature nature nature nature nature nature nature mute mute mute mute mute mute mute mute mute mute mute mute mute mute mute mute mute lost lost lost lost lost lost lost lost lost lost lost lost lost lost lost lost lost limbs limbs limbs limbs limbs limbs limbs limbs limbs limbs limbs limbs limbs limbs limbs limbs limbs lands lands lands lands lands lands lands lands lands lands lands lands lands lands lands lands lands dim dim dim dim dim dim dim dim dim dim dim dim dim dim dim dim dim died died died died died died died died died died died died died died died died died darkling darkling darkling darkling darkling darkling darkling darkling darkling darkling darkling darkling darkling darkling darkling darkling darkling breast breast breast breast breast breast breast breast breast breast breast breast breast breast breast breast breast bosom bosom bosom bosom bosom bosom bosom bosom bosom bosom bosom bosom bosom bosom bosom bosom bosom between between between between between between between between between between between between between between between between between beside beside beside beside beside beside beside beside beside beside beside beside beside beside beside beside beside beat beat beat beat beat beat beat beat beat beat beat beat beat beat beat beat beat away away away away away away away away away away away away away away away away away answer answer answer answer answer answer answer answer answer answer answer answer answer answer answer answer answer wise wise wise wise wise wise wise wise wise wise wise wise wise wise wise wise souls souls souls souls souls souls souls souls souls souls souls souls souls souls souls souls singing singing singing singing singing singing singing singing singing singing singing singing singing singing singing singing shade shade shade shade shade shade shade shade shade shade shade shade shade shade shade shade pass pass pass pass pass pass pass pass pass pass pass pass pass pass pass pass none none none none none none none none none none none none none none none none lord lord lord lord lord lord lord lord lord lord lord lord lord lord lord lord land land land land land land land land land land land land land land land land flower flower flower flower flower flower flower flower flower flower flower flower flower flower flower flower done done done done done done done done done done done done done done done done delight delight delight delight delight delight delight delight delight delight delight delight delight delight delight delight deeper deeper deeper deeper deeper deeper deeper deeper deeper deeper deeper deeper deeper deeper deeper deeper call call call call call call call call call call call call call call call call blame blame blame blame blame blame blame blame blame blame blame blame blame blame blame blame wherein wherein wherein wherein wherein wherein wherein wherein wherein wherein wherein wherein wherein wherein wherein waters waters waters waters waters waters waters waters waters waters waters waters waters waters waters water water water water water water water water water water water water water water water twilight twilight twilight twilight twilight twilight twilight twilight twilight twilight twilight twilight twilight twilight twilight tree tree tree tree tree tree tree tree tree tree tree tree tree tree tree road road road road road road road road road road road road road road road rise rise rise rise rise rise rise rise rise rise rise rise rise rise rise nights nights nights nights nights nights nights nights nights nights nights nights nights nights nights myriad myriad myriad myriad myriad myriad myriad myriad myriad myriad myriad myriad myriad myriad myriad moon moon moon moon moon moon moon moon moon moon moon moon moon moon moon meaning meaning meaning meaning meaning meaning meaning meaning meaning meaning meaning meaning meaning meaning meaning lover lover lover lover lover lover lover lover lover lover lover lover lover lover lover lose lose lose lose lose lose lose lose lose lose lose lose lose lose lose known known known known known known known known known known known known known known known kind kind kind kind kind kind kind kind kind kind kind kind kind kind kind hide hide hide hide hide hide hide hide hide hide hide hide hide hide hide forth forth forth forth forth forth forth forth forth forth forth forth forth forth forth flame flame flame flame flame flame flame flame flame flame flame flame flame flame flame faith faith faith faith faith faith faith faith faith faith faith faith faith faith faith echo echo echo echo echo echo echo echo echo echo echo echo echo echo echo ears ears ears ears ears ears ears ears ears ears ears ears ears ears ears bright bright bright bright bright bright bright bright bright bright bright bright bright bright bright bride bride bride bride bride bride bride bride bride bride bride bride bride bride bride birth birth birth birth birth birth birth birth birth birth birth birth birth birth birth beneath beneath beneath beneath beneath beneath beneath beneath beneath beneath beneath beneath beneath beneath beneath being being being being being being being being being being being being being being being beauty beauty beauty beauty beauty beauty beauty beauty beauty beauty beauty beauty beauty beauty beauty west west west west west west west west west west west west west west valley valley valley valley valley valley valley valley valley valley valley valley valley valley vain vain vain vain vain vain vain vain vain vain vain vain vain vain under under under under under under under under under under under under under under tis tis tis tis tis tis tis tis tis tis tis tis tis tis tell tell tell tell tell tell tell tell tell tell tell tell tell tell surely surely surely surely surely surely surely surely surely surely surely surely surely surely spoke spoke spoke spoke spoke spoke spoke spoke spoke spoke spoke spoke spoke spoke sometimes sometimes sometimes sometimes sometimes sometimes sometimes sometimes sometimes sometimes sometimes sometimes sometimes sometimes softly softly softly softly softly softly softly softly softly softly softly softly softly softly seem seem seem seem seem seem seem seem seem seem seem seem seem seem nay nay nay nay nay nay nay nay nay nay nay nay nay nay move move move move move move move move move move move move move move mortal mortal mortal mortal mortal mortal mortal mortal mortal mortal mortal mortal mortal mortal mind mind mind mind mind mind mind mind mind mind mind mind mind mind mammon mammon mammon mammon mammon mammon mammon mammon mammon mammon mammon mammon mammon mammon lies lies lies lies lies lies lies lies lies lies lies lies lies lies knows knows knows knows knows knows knows knows knows knows knows knows knows knows hold hold hold hold hold hold hold hold hold hold hold hold hold hold hardly hardly hardly hardly hardly hardly hardly hardly hardly hardly hardly hardly hardly hardly grace grace grace grace grace grace grace grace grace grace grace grace grace grace glad glad glad glad glad glad glad glad glad glad glad glad glad glad fill fill fill fill fill fill fill fill fill fill fill fill fill fill fell fell fell fell fell fell fell fell fell fell fell fell fell fell darkness darkness darkness darkness darkness darkness darkness darkness darkness darkness darkness darkness darkness darkness around around around around around around around around around around around around around around amid amid amid amid amid amid amid amid amid amid amid amid amid amid woodbine woodbine woodbine woodbine woodbine woodbine woodbine woodbine woodbine woodbine woodbine woodbine woodbine wide wide wide wide wide wide wide wide wide wide wide wide wide sunset sunset sunset sunset sunset sunset sunset sunset sunset sunset sunset sunset sunset stricken stricken stricken stricken stricken stricken stricken stricken stricken stricken stricken stricken stricken streams streams streams streams streams streams streams streams streams streams streams streams streams spake spake spake spake spake spake spake spake spake spake spake spake spake sorrow sorrow sorrow sorrow sorrow sorrow sorrow sorrow sorrow sorrow sorrow sorrow sorrow sinned sinned sinned sinned sinned sinned sinned sinned sinned sinned sinned sinned sinned seems seems seems seems seems seems seems seems seems seems seems seems seems pale pale pale pale pale pale pale pale pale pale pale pale pale low low low low low low low low low low low low low loving loving loving loving loving loving loving loving loving loving loving loving loving loves loves loves loves loves loves loves loves loves loves loves loves loves lovers lovers lovers lovers lovers lovers lovers lovers lovers lovers lovers lovers lovers living living living living living living living living living living living living living laid laid laid laid laid laid laid laid laid laid laid laid laid hours hours hours hours hours hours hours hours hours hours hours hours hours head head head head head head head head head head head head head grave grave grave grave grave grave grave grave grave grave grave grave grave grass grass grass grass grass grass grass grass grass grass grass grass grass goes goes goes goes goes goes goes goes goes goes goes goes goes forgotten forgotten forgotten forgotten forgotten forgotten forgotten forgotten forgotten forgotten forgotten forgotten forgotten foam foam foam foam foam foam foam foam foam foam foam foam foam falling falling falling falling falling falling falling falling falling falling falling falling falling doubt doubt doubt doubt doubt doubt doubt doubt doubt doubt doubt doubt doubt dawn dawn dawn dawn dawn dawn dawn dawn dawn dawn dawn dawn dawn close close close close close close close close close close close close close children children children children children children children children children children children children children both both both both both both both both both both both both both below below below below below below below below below below below below below until until until until until until until until until until until until told told told told told told told told told told told told taught taught taught taught taught taught taught taught taught taught taught taught suns suns suns suns suns suns suns suns suns suns suns suns sought sought sought sought sought sought sought sought sought sought sought sought solemn solemn solemn solemn solemn solemn solemn solemn solemn solemn solemn solemn silver silver silver silver silver silver silver silver silver silver silver silver shine shine shine shine shine shine shine shine shine shine shine shine pilgrim pilgrim pilgrim pilgrim pilgrim pilgrim pilgrim pilgrim pilgrim pilgrim pilgrim pilgrim need need need need need need need need need need need need midnight midnight midnight midnight midnight midnight midnight midnight midnight midnight midnight midnight met met met met met met met met met met met met memory memory memory memory memory memory memory memory memory memory memory memory memories memories memories memories memories memories memories memories memories memories memories memories liberty liberty liberty liberty liberty liberty liberty liberty liberty liberty liberty liberty lest lest lest lest lest lest lest lest lest lest lest lest glory glory glory glory glory glory glory glory glory glory glory glory give give give give give give give give give give give give future future future future future future future future future future future future die die die die die die die die die die die die clung clung clung clung clung clung clung clung clung clung clung clung called called called called called called called called called called called called another another another another another another another another another another another another amorous amorous amorous amorous amorous amorous amorous amorous amorous amorous amorous amorous veins veins veins veins veins veins veins veins veins veins veins turn turn turn turn turn turn turn turn turn turn turn strive strive strive strive strive strive strive strive strive strive strive small small small small small small small small small small small sex sex sex sex sex sex sex sex sex sex sex sang sang sang sang sang sang sang sang sang sang sang red red red red red red red red red red red priests priests priests priests priests priests priests priests priests priests priests praise praise praise praise praise praise praise praise praise praise praise power power power power power power power power power power power poet poet poet poet poet poet poet poet poet poet poet passing passing passing passing passing passing passing passing passing passing passing longing longing longing longing longing longing longing longing longing longing longing large large large large large large large large large large large ineffectual ineffectual ineffectual ineffectual ineffectual ineffectual ineffectual ineffectual ineffectual ineffectual ineffectual hush hush hush hush hush hush hush hush hush hush hush human human human human human human human human human human human himself himself himself himself himself himself himself himself himself himself himself given given given given given given given given given given given fires fires fires fires fires fires fires fires fires fires fires fain fain fain fain fain fain fain fain fain fain fain ernest ernest ernest ernest ernest ernest ernest ernest ernest ernest ernest cried cried cried cried cried cried cried cried cried cried cried coming coming coming coming coming coming coming coming coming coming coming bridal bridal bridal bridal bridal bridal bridal bridal bridal bridal bridal blind blind blind blind blind blind blind blind blind blind blind bees bees bees bees bees bees bees bees bees bees bees because because because because because because because because because because because aphrodite aphrodite aphrodite aphrodite aphrodite aphrodite aphrodite aphrodite aphrodite aphrodite aphrodite after after after after after after after after after after after wrong wrong wrong wrong wrong wrong wrong wrong wrong wrong wisdom wisdom wisdom wisdom wisdom wisdom wisdom wisdom wisdom wisdom winter winter winter winter winter winter winter winter winter winter turned turned turned turned turned turned turned turned turned turned trust trust trust trust trust trust trust trust trust trust towards towards towards towards towards towards towards towards towards towards today today today today today today today today today today thus thus thus thus thus thus thus thus thus thus tenderness tenderness tenderness tenderness tenderness tenderness tenderness tenderness tenderness tenderness sunlight sunlight sunlight sunlight sunlight sunlight sunlight sunlight sunlight sunlight speak speak speak speak speak speak speak speak speak speak shining shining shining shining shining shining shining shining shining shining shape shape shape shape shape shape shape shape shape shape scorn scorn scorn scorn scorn scorn scorn scorn scorn scorn rest rest rest rest rest rest rest rest rest rest rain rain rain rain rain rain rain rain rain rain put put put put put put put put put put pure pure pure pure pure pure pure pure pure pure pride pride pride pride pride pride pride pride pride pride poor poor poor poor poor poor poor poor poor poor poets poets poets poets poets poets poets poets poets poets oft oft oft oft oft oft oft oft oft oft noon noon noon noon noon noon noon noon noon noon myself myself myself myself myself myself myself myself myself myself murder murder murder murder murder murder murder murder murder murder mouth mouth mouth mouth mouth mouth mouth mouth mouth mouth most most most most most most most most most most mix mix mix mix mix mix mix mix mix mix manhood manhood manhood manhood manhood manhood manhood manhood manhood manhood mad mad mad mad mad mad mad mad mad mad kisses kisses kisses kisses kisses kisses kisses kisses kisses kisses hard hard hard hard hard hard hard hard hard hard grows grows grows grows grows grows grows grows grows grows fragrance fragrance fragrance fragrance fragrance fragrance fragrance fragrance fragrance fragrance dumb dumb dumb dumb dumb dumb dumb dumb dumb dumb christ christ christ christ christ christ christ christ christ christ burn burn burn burn burn burn burn burn burn burn broken broken broken broken broken broken broken broken broken broken brake brake brake brake brake brake brake brake brake brake brain brain brain brain brain brain brain brain brain brain better better better better better better better better better better autumn autumn autumn autumn autumn autumn autumn autumn autumn autumn afterwards afterwards afterwards afterwards afterwards afterwards afterwards afterwards afterwards afterwards afar afar afar afar afar afar afar afar afar afar wrought wrought wrought wrought wrought wrought wrought wrought wrought whisper whisper whisper whisper whisper whisper whisper whisper whisper touched touched touched touched touched touched touched touched touched thick thick thick thick thick thick thick thick thick talk talk talk talk talk talk talk talk talk stream stream stream stream stream stream stream stream stream stands stands stands stands stands stands stands stands stands slain slain slain slain slain slain slain slain slain sing sing sing sing sing sing sing sing sing shook shook shook shook shook shook shook shook shook set set set set set set set set set same same same same same same same same same purple purple purple purple purple purple purple purple purple pulse pulse pulse pulse pulse pulse pulse pulse pulse poison poison poison poison poison poison poison poison poison mood mood mood mood mood mood mood mood mood mighty mighty mighty mighty mighty mighty mighty mighty mighty magic magic magic magic magic magic magic magic magic loud loud loud loud loud loud loud loud loud lark lark lark lark lark lark lark lark lark kept kept kept kept kept kept kept kept kept hundred hundred hundred hundred hundred hundred hundred hundred hundred holy holy holy holy holy holy holy holy holy helen helen helen helen helen helen helen helen helen hearts hearts hearts hearts hearts hearts hearts hearts hearts greatly greatly greatly greatly greatly greatly greatly greatly greatly girl girl girl girl girl girl girl girl girl fruit fruit fruit fruit fruit fruit fruit fruit fruit flesh flesh flesh flesh flesh flesh flesh flesh flesh farewell farewell farewell farewell farewell farewell farewell farewell farewell fall fall fall fall fall fall fall fall fall eternal eternal eternal eternal eternal eternal eternal eternal eternal enough enough enough enough enough enough enough enough enough east east east east east east east east east earthly earthly earthly earthly earthly earthly earthly earthly earthly cottage cottage cottage cottage cottage cottage cottage cottage cottage change change change change change change change change change brown brown brown brown brown brown brown brown brown bloom bloom bloom bloom bloom bloom bloom bloom bloom bird bird bird bird bird bird bird bird bird aught aught aught aught aught aught aught aught aught always always always always always always always always always alas alas alas alas alas alas alas alas alas ages ages ages ages ages ages ages ages ages young young young young young young young young whilst whilst whilst whilst whilst whilst whilst whilst wave wave wave wave wave wave wave wave true true true true true true true true took took took took took took took took themselves themselves themselves themselves themselves themselves themselves themselves thanks thanks thanks thanks thanks thanks thanks thanks teach teach teach teach teach teach teach teach sundown sundown sundown sundown sundown sundown sundown sundown spoken spoken spoken spoken spoken spoken spoken spoken space space space space space space space space south south south south south south south south something something something something something something something something sings sings sings sings sings sings sings sings shone shone shone shone shone shone shone shone shameful shameful shameful shameful shameful shameful shameful shameful senses senses senses senses senses senses senses senses seas seas seas seas seas seas seas seas sake sake sake sake sake sake sake sake right right right right right right right right rather rather rather rather rather rather rather rather quick quick quick quick quick quick quick quick prove prove prove prove prove prove prove prove primal primal primal primal primal primal primal primal pine pine pine pine pine pine pine pine part part part part part part part part mystery mystery mystery mystery mystery mystery mystery mystery murmur murmur murmur murmur murmur murmur murmur murmur mist mist mist mist mist mist mist mist mid mid mid mid mid mid mid mid master master master master master master master master looked looked looked looked looked looked looked looked liar liar liar liar liar liar liar liar island island island island island island island island house house house house house house house house hill hill hill hill hill hill hill hill higher higher higher higher higher higher higher higher hides hides hides hides hides hides hides hides having having having having having having having having hatred hatred hatred hatred hatred hatred hatred hatred haste haste haste haste haste haste haste haste hast hast hast hast hast hast hast hast greater greater greater greater greater greater greater greater gave gave gave gave gave gave gave gave garden garden garden garden garden garden garden garden freedom freedom freedom freedom freedom freedom freedom freedom fragrant fragrant fragrant fragrant fragrant fragrant fragrant fragrant fool fool fool fool fool fool fool fool fields fields fields fields fields fields fields fields fancy fancy fancy fancy fancy fancy fancy fancy dusks dusks dusks dusks dusks dusks dusks dusks draw draw draw draw draw draw draw draw cry cry cry cry cry cry cry cry crave crave crave crave crave crave crave crave brought brought brought brought brought brought brought brought broad broad broad broad broad broad broad broad bound bound bound bound bound bound bound bound blossom blossom blossom blossom blossom blossom blossom blossom become become become become become become become become ashes ashes ashes ashes ashes ashes ashes ashes yours yours yours yours yours yours yours witness witness witness witness witness witness witness whereof whereof whereof whereof whereof whereof whereof whereby whereby whereby whereby whereby whereby whereby wed wed wed wed wed wed wed waste waste waste waste waste waste waste walked walked walked walked walked walked walked waking waking waking waking waking waking waking waited waited waited waited waited waited waited wait wait wait wait wait wait wait voices voices voices voices voices voices voices vanity vanity vanity vanity vanity vanity vanity unto unto unto unto unto unto unto unless unless unless unless unless unless unless twixt twixt twixt twixt twixt twixt twixt tune tune tune tune tune tune tune tribute tribute tribute tribute tribute tribute tribute trance trance trance trance trance trance trance tonight tonight tonight tonight tonight tonight tonight swift swift swift swift swift swift swift strife strife strife strife strife strife strife stay stay stay stay stay stay stay soon soon soon soon soon soon soon singer singer singer singer singer singer singer september september september september september september september self self self self self self self seek seek seek seek seek seek seek seed seed seed seed seed seed seed returned returned returned returned returned returned returned punishment punishment punishment punishment punishment punishment punishment pulses pulses pulses pulses pulses pulses pulses poplar poplar poplar poplar poplar poplar poplar poetry poetry poetry poetry poetry poetry poetry patient patient patient patient patient patient patient ocean ocean ocean ocean ocean ocean ocean nowise nowise nowise nowise nowise nowise nowise nothing nothing nothing nothing nothing nothing nothing new new new new new new new moment moment moment moment moment moment moment maid maid maid maid maid maid maid madness madness madness madness madness madness madness learned learned learned learned learned learned learned late late late late late late late larks larks larks larks larks larks larks larger larger larger larger larger larger larger lapse lapse lapse lapse lapse lapse lapse joys joys joys joys joys joys joys intolerable intolerable intolerable intolerable intolerable intolerable intolerable henceforth henceforth henceforth henceforth henceforth henceforth henceforth hedge hedge hedge hedge hedge hedge hedge hearken hearken hearken hearken hearken hearken hearken haunt haunt haunt haunt haunt haunt haunt hath hath hath hath hath hath hath haply haply haply haply haply haply haply growth growth growth growth growth growth growth greed greed greed greed greed greed greed goddess goddess goddess goddess goddess goddess goddess gathered gathered gathered gathered gathered gathered gathered gate gate gate gate gate gate gate forgiveness forgiveness forgiveness forgiveness forgiveness forgiveness forgiveness footsteps footsteps footsteps footsteps footsteps footsteps footsteps fools fools fools fools fools fools fools flung flung flung flung flung flung flung fern fern fern fern fern fern fern feed feed feed feed feed feed feed evil evil evil evil evil evil evil else else else else else else else drink drink drink drink drink drink drink drew drew drew drew drew drew drew drawn drawn drawn drawn drawn drawn drawn desires desires desires desires desires desires desires dearth dearth dearth dearth dearth dearth dearth darks darks darks darks darks darks darks cross cross cross cross cross cross cross corn corn corn corn corn corn corn comfort comfort comfort comfort comfort comfort comfort cold cold cold cold cold cold cold climb climb climb climb climb climb climb clear clear clear clear clear clear clear claim claim claim claim claim claim claim cast cast cast cast cast cast cast burden burden burden burden burden burden burden breathing breathing breathing breathing breathing breathing breathing breathed breathed breathed breathed breathed breathed breathed black black black black black black black birds birds birds birds birds birds birds awhile awhile awhile awhile awhile awhile awhile august august august august august august august air air air air air air air ah ah ah ah ah ah ah worth worth worth worth worth worth womb womb womb womb womb womb wheat wheat wheat wheat wheat wheat weep weep weep weep weep weep weary weary weary weary weary weary waves waves waves waves waves waves waits waits waits waits waits waits unknown unknown unknown unknown unknown unknown ungracious ungracious ungracious ungracious ungracious ungracious tomb tomb tomb tomb tomb tomb thrush thrush thrush thrush thrush thrush throat throat throat throat throat throat three three three three three three thoughts thoughts thoughts thoughts thoughts thoughts teaching teaching teaching teaching teaching teaching swoon swoon swoon swoon swoon swoon supreme supreme supreme supreme supreme supreme standing standing standing standing standing standing sprang sprang sprang sprang sprang sprang splendour splendour splendour splendour splendour splendour smiled smiled smiled smiled smiled smiled sight sight sight sight sight sight shrine shrine shrine shrine shrine shrine shore shore shore shore shore shore sharp sharp sharp sharp sharp sharp remember remember remember remember remember remember ranks ranks ranks ranks ranks ranks ran ran ran ran ran ran quietly quietly quietly quietly quietly quietly priest priest priest priest priest priest preacher preacher preacher preacher preacher preacher prayed prayed prayed prayed prayed prayed potent potent potent potent potent potent pool pool pool pool pool pool pinions pinions pinions pinions pinions pinions pines pines pines pines pines pines perhaps perhaps perhaps perhaps perhaps perhaps people people people people people people next next next next next next needs needs needs needs needs needs neath neath neath neath neath neath murmuring murmuring murmuring murmuring murmuring murmuring moved moved moved moved moved moved mock mock mock mock mock mock moan moan moan moan moan moan middle middle middle middle middle middle mate mate mate mate mate mate lived lived lived lived lived lived listen listen listen listen listen listen line line line line line line leave leave leave leave leave leave learn learn learn learn learn learn laws laws laws laws laws laws kingdom kingdom kingdom kingdom kingdom kingdom infinite infinite infinite infinite infinite infinite hypocrisy hypocrisy hypocrisy hypocrisy hypocrisy hypocrisy hope hope hope hope hope hope hollow hollow hollow hollow hollow hollow herself herself herself herself herself herself harvest harvest harvest harvest harvest harvest h h h h h h gracious gracious gracious gracious gracious gracious glorious glorious glorious glorious glorious glorious gleams gleams gleams gleams gleams gleams gladness gladness gladness gladness gladness gladness ghosts ghosts ghosts ghosts ghosts ghosts followed followed followed followed followed followed fills fills fills fills fills fills few few few few few few fed fed fed fed fed fed feared feared feared feared feared feared fashion fashion fashion fashion fashion fashion fade fade fade fade fade fade end end end end end end dusky dusky dusky dusky dusky dusky drowsy drowsy drowsy drowsy drowsy drowsy dreamed dreamed dreamed dreamed dreamed dreamed downs downs downs downs downs downs dost dost dost dost dost dost divine divine divine divine divine divine didst didst didst didst didst didst crown crown crown crown crown crown cannot cannot cannot cannot cannot cannot calling calling calling calling calling calling brute brute brute brute brute brute breathe breathe breathe breathe breathe breathe break break break break break break brakes brakes brakes brakes brakes brakes boughs boughs boughs boughs boughs boughs bloody bloody bloody bloody bloody bloody best best best best best best behold behold behold behold behold behold bear bear bear bear bear bear asleep asleep asleep asleep asleep asleep ask ask ask ask ask ask apple apple apple apple apple apple alive alive alive alive alive alive afternoon afternoon afternoon afternoon afternoon afternoon acclaimed acclaimed acclaimed acclaimed acclaimed acclaimed youth youth youth youth youth yellow yellow yellow yellow yellow worship worship worship worship worship woodlands woodlands woodlands woodlands woodlands woodland woodland woodland woodland woodland wonderful wonderful wonderful wonderful wonderful whoso whoso whoso whoso whoso whispers whispers whispers whispers whispers whereon whereon whereon whereon whereon wherefore wherefore wherefore wherefore wherefore watching watching watching watching watching wan wan wan wan wan waken waken waken waken waken waked waked waked waked waked votive votive votive votive votive veiled veiled veiled veiled veiled vast vast vast vast vast vale vale vale vale vale twin twin twin twin twin trouble trouble trouble trouble trouble train train train train train tone tone tone tone tone temples temples temples temples temples takes takes takes takes takes sweets sweets sweets sweets sweets sure sure sure sure sure suddenly suddenly suddenly suddenly suddenly stronger stronger stronger stronger stronger stopped stopped stopped stopped stopped starlike starlike starlike starlike starlike splendours splendours splendours splendours splendours spite spite spite spite spite spheres spheres spheres spheres spheres speech speech speech speech speech songs songs songs songs songs solitude solitude solitude solitude solitude smiling smiling smiling smiling smiling slowly slowly slowly slowly slowly slept slept slept slept slept sleeping sleeping sleeping sleeping sleeping sit sit sit sit sit sisters sisters sisters sisters sisters sins sins sins sins sins silently silently silently silently silently sign sign sign sign sign sibylla sibylla sibylla sibylla sibylla shut shut shut shut shut shuddered shuddered shuddered shuddered shuddered shameless shameless shameless shameless shameless shaken shaken shaken shaken shaken shades shades shades shades shades seeking seeking seeking seeking seeking seeing seeing seeing seeing seeing search search search search search scarce scarce scarce scarce scarce sand sand sand sand sand rises rises rises rises rises respect respect respect respect respect rebuke rebuke rebuke rebuke rebuke read read read read read quest quest quest quest quest outer outer outer outer outer orient orient orient orient orient often often often often often oak oak oak oak oak nobler nobler nobler nobler nobler nightshade nightshade nightshade nightshade nightshade moves moves moves moves moves midsummer midsummer midsummer midsummer midsummer message message message message message maybe maybe maybe maybe maybe mark mark mark mark mark march march march march march making making making making making maidenhood maidenhood maidenhood maidenhood maidenhood lusts lusts lusts lusts lusts loose loose loose loose loose look look look look look longings longings longings longings longings loneliness loneliness loneliness loneliness loneliness london london london london london lied lied lied lied lied lead lead lead lead lead laughed laughed laughed laughed laughed language language language language language kneel kneel kneel kneel kneel justice justice justice justice justice itself itself itself itself itself iron iron iron iron iron immortal immortal immortal immortal immortal imagination imagination imagination imagination imagination idle idle idle idle idle husband husband husband husband husband hungry hungry hungry hungry hungry humbly humbly humbly humbly humbly horizons horizons horizons horizons horizons honeysuckle honeysuckle honeysuckle honeysuckle honeysuckle holier holier holier holier holier holds holds holds holds holds hiding hiding hiding hiding hiding heed heed heed heed heed heavy heavy heavy heavy heavy heath heath heath heath heath hazel hazel hazel hazel hazel harlot harlot harlot harlot harlot hark hark hark hark hark guessed guessed guessed guessed guessed ground ground ground ground ground grassy grassy grassy grassy grassy gloom gloom gloom gloom gloom gather gather gather gather gather further further further further further fulfil fulfil fulfil fulfil fulfil frost frost frost frost frost fresh fresh fresh fresh fresh free free free free free fountain fountain fountain fountain fountain flood flood flood flood flood floating floating floating floating floating flight flight flight flight flight field field field field field falsehood falsehood falsehood falsehood falsehood fairy fairy fairy fairy fairy faint faint faint faint faint failed failed failed failed failed england england england england england eloquence eloquence eloquence eloquence eloquence easy easy easy easy easy ease ease ease ease ease doth doth doth doth doth destiny destiny destiny destiny destiny deemed deemed deemed deemed deemed darkened darkened darkened darkened darkened damp damp damp damp damp daisies daisies daisies daisies daisies curled curled curled curled curled crept crept crept crept crept creep creep creep creep creep cool cool cool cool cool commune commune commune commune commune clothes clothes clothes clothes clothes clothed clothed clothed clothed clothed closed closed closed closed closed clasp clasp clasp clasp clasp caught caught caught caught caught carried carried carried carried carried built built built built built brow brow brow brow brow bring bring bring bring bring breed breed breed breed breed bramble bramble bramble bramble bramble brains brains brains brains brains boon boon boon boon boon blowth blowth blowth blowth blowth bliss bliss bliss bliss bliss blasphemy blasphemy blasphemy blasphemy blasphemy bitter bitter bitter bitter bitter birch birch birch birch birch bind bind bind bind bind belike belike belike belike belike begun begun begun begun begun began began began began began bed bed bed bed bed beautiful beautiful beautiful beautiful beautiful beats beats beats beats beats beast beast beast beast beast beams beams beams beams beams barren barren barren barren barren bade bade bade bade bade avatars avatars avatars avatars avatars arm arm arm arm arm apart apart apart apart apart anguish anguish anguish anguish anguish also also also also also albeit albeit albeit albeit albeit afterward afterward afterward afterward afterward yon yon yon yon wot wot wot wot worms worms worms worms work work work work wondering wondering wondering wondering womanhood womanhood womanhood womanhood wolds wolds wolds wolds wistful wistful wistful wistful willows willows willows willows willow willow willow willow whole whole whole whole whispering whispering whispering whispering whispered whispered whispered whispered wherethrough wherethrough wherethrough wherethrough whereat whereat whereat whereat whence whence whence whence wet wet wet wet western western western western wept wept wept wept welcome welcome welcome welcome wedded wedded wedded wedded weariness weariness weariness weariness wanly wanly wanly wanly wandered wandered wandered wandered wander wander wander wander wake wake wake wake waiting waiting waiting waiting virtue virtue virtue virtue veil veil veil veil vague vague vague vague unseen unseen unseen unseen unheard unheard unheard unheard unborn unborn unborn unborn unawares unawares unawares unawares twofold twofold twofold twofold tryst tryst tryst tryst truths truths truths truths trod trod trod trod tremulous tremulous tremulous tremulous toward toward toward toward touch touch touch touch tongue tongue tongue tongue tiger tiger tiger tiger thrushes thrushes thrushes thrushes throne throne throne throne thorn thorn thorn thorn thief thief thief thief therein therein therein therein therefore therefore therefore therefore taking taking taking taking sympathy sympathy sympathy sympathy swing swing swing swing sung sung sung sung struck struck struck struck strikes strikes strikes strikes strike strike strike strike storm storm storm storm stone stone stone stone stirred stirred stirred stirred stared stared stared stared stained stained stained stained stain stain stain stain springs springs springs springs spread spread spread spread spirits spirits spirits spirits sorrel sorrel sorrel sorrel somewhere somewhere somewhere somewhere solace solace solace solace smooth smooth smooth smooth slaves slaves slaves slaves sighs sighs sighs sighs sigh sigh sigh sigh shouting shouting shouting shouting shalt shalt shalt shalt shaking shaking shaking shaking sexless sexless sexless sexless seven seven seven seven separate separate separate separate sees sees sees sees sat sat sat sat sank sank sank sank salvation salvation salvation salvation saith saith saith saith sadness sadness sadness sadness ruth ruth ruth ruth running running running running roses roses roses roses rome rome rome rome roman roman roman roman rolled rolled rolled rolled rod rod rod rod ridge ridge ridge ridge reverence reverence reverence reverence reverberant reverberant reverberant reverberant revealed revealed revealed revealed return return return return remains remains remains remains regret regret regret regret reach reach reach reach rapture rapture rapture rapture quite quite quite quite quenched quenched quenched quenched queen queen queen queen purpose purpose purpose purpose proved proved proved proved progress progress progress progress press press press press poplars poplars poplars poplars pleasure pleasure pleasure pleasure planets planets planets planets planet planet planet planet pitied pitied pitied pitied perchance perchance perchance perchance passioned passioned passioned passioned passionate passionate passionate passionate parent parent parent parent p p p p others others others others open open open open ones ones ones ones nought nought nought nought nightingales nightingales nightingales nightingales nigh nigh nigh nigh neither neither neither neither nearer nearer nearer nearer mountain mountain mountain mountain morn morn morn morn moral moral moral moral moods moods moods moods mocks mocks mocks mocks mirror mirror mirror mirror miracles miracles miracles miracles mercy mercy mercy mercy mean mean mean mean meadow meadow meadow meadow marriage marriage marriage marriage maiden maiden maiden maiden lure lure lure lure lower lower lower lower loveliness loveliness loveliness loveliness loom loom loom loom lo lo lo lo listened listened listened listened lights lights lights lights liars liars liars liars led led led led law law law law laughing laughing laughing laughing laugh laugh laugh laugh latent latent latent latent labour labour labour labour knowing knowing knowing knowing july july july july jealousy jealousy jealousy jealousy hurst hurst hurst hurst hung hung hung hung hot hot hot hot honeyed honeyed honeyed honeyed hid hid hid hid hers hers hers hers help help help help heavens heavens heavens heavens hazels hazels hazels hazels hating hating hating hating hateful hateful hateful hateful hated hated hated hated harp harp harp harp harlots harlots harlots harlots hanging hanging hanging hanging guilt guilt guilt guilt guess guess guess guess guerdon guerdon guerdon guerdon grief grief grief grief greet greet greet greet greatest greatest greatest greatest graves graves graves graves gorse gorse gorse gorse going going going going godhead godhead godhead godhead glooms glooms glooms glooms glooming glooming glooming glooming gladly gladly gladly gladly girt girt girt girt ghost ghost ghost ghost germany germany germany germany forest forest forest forest foot foot foot foot fling fling fling fling fleets fleets fleets fleets flames flames flames flames finds finds finds finds ferny ferny ferny ferny feels feels feels feels feeling feeling feeling feeling falls falls falls falls fallen fallen fallen fallen fairlight fairlight fairlight fairlight faded faded faded faded eyelids eyelids eyelids eyelids eyed eyed eyed eyed express express express express equal equal equal equal endless endless endless endless empty empty empty empty either either either either early early early early e e e e dwells dwells dwells dwells dwelled dwelled dwelled dwelled durst durst durst durst dull dull dull dull drown drown drown drown drops drops drops drops dropped dropped dropped dropped drift drift drift drift draws draws draws draws drawing drawing drawing drawing door door door door does does does does dignity dignity dignity dignity dew dew dew dew despise despise despise despise despair despair despair despair deeps deeps deeps deeps deem deem deem deem dared dared dared dared crowned crowned crowned crowned creed creed creed creed content content content content communion communion communion communion cloudy cloudy cloudy cloudy clasped clasped clasped clasped choke choke choke choke choir choir choir choir changed changed changed changed chalk chalk chalk chalk ceased ceased ceased ceased calls calls calls calls burst burst burst burst bridge bridge bridge bridge breeze breeze breeze breeze breathless breathless breathless breathless breasts breasts breasts breasts boy boy boy boy bow bow bow bow bore bore bore bore bodies bodies bodies bodies blushes blushes blushes blushes blinded blinded blinded blinded blight blight blight blight blamed blamed blamed blamed bitterness bitterness bitterness bitterness bent bent bent bent beating beating beating beating baser baser baser baser bars bars bars bars balm balm balm balm baffled baffled baffled baffled azure azure azure azure awake awake awake awake ardent ardent ardent ardent arch arch arch arch add add add add ache ache ache ache zone zone zone yonder yonder yonder yields yields yields yield yield yield yeast yeast yeast yearning yearning yearning yearn yearn yearn wronged wronged wronged write write write wrapped wrapped wrapped woven woven woven wound wound wound worthy worthy worthy worshipped worshipped worshipped worse worse worse works works works wondrous wondrous wondrous wonders wonders wonders won won won woke woke woke winged winged winged wherefrom wherefrom wherefrom whenever whenever whenever westward westward westward weigh weigh weigh weaves weaves weaves weak weak weak we'll we'll we'll waxed waxed waxed wast wast wast war war war walls walls walls vulgar vulgar vulgar visit visit visit vision vision vision vein vein vein use use use upwards upwards upwards universe universe universe understood understood understood understand understand understand twas twas twas twain twain twain trembling trembling trembling town town town torture torture torture tombs tombs tombs thunder thunder thunder throated throated throated thrice thrice thrice threads threads threads thousand thousand thousand thinking thinking thinking theirs theirs theirs thank thank thank teems teems teems tall tall tall tale tale tale taken taken taken swinburne swinburne swinburne sweetness sweetness sweetness sweep sweep sweep sways sways sways swallows swallows swallows surprise surprise surprise sunsets sunsets sunsets sunfire sunfire sunfire struggle struggle struggle striving striving striving strings strings strings storms storms storms stones stones stones stifled stifled stifled steal steal steal starve starve starve stark stark stark spotted spotted spotted spells spells spells spell spell spell speaking speaking speaking southern southern southern sounds sounds sounds soundless soundless soundless sombre sombre sombre sold sold sold snows snows snows smiles smiles smiles smile smile smile slumber slumber slumber slopes slopes slopes slave slave slave sits sits sits simple simple simple silentness silentness silentness sighing sighing sighing sick sick sick shy shy shy shrouds shrouds shrouds showed showed showed shouldst shouldst shouldst shines shines shines shelley shelley shelley sheep sheep sheep shed shed shed shared shared shared share share share shadowed shadowed shadowed several several several sent sent sent seldom seldom seldom secrets secrets secrets seasons seasons seasons searched searched searched scorned scorned scorned score score score scent scent scent scars scars scars scabious scabious scabious saying saying saying sawest sawest sawest sallows sallows sallows sad sad sad sabbath sabbath sabbath s s s rules rules rules ruin ruin ruin roots roots roots roll roll roll rocks rocks rocks ridges ridges ridges ride ride ride reward reward reward religion religion religion real real real reached reached reached rains rains rains quickly quickly quickly quickened quickened quickened purity purity purity purer purer purer psychic psychic psychic proud proud proud promise promise promise priestly priestly priestly priestcraft priestcraft priestcraft present present present prayer prayer prayer pleasures pleasures pleasures planned planned planned plains plains plains plain plain plain pilgrimage pilgrimage pilgrimage picture picture picture phantom phantom phantom period period period perfect perfect perfect penitence penitence penitence pay pay pay path path path pardon pardon pardon owl owl owl overlord overlord overlord otherwise otherwise otherwise otherwhere otherwhere otherwhere orchard orchard orchard opened opened opened ofttimes ofttimes ofttimes northward northward northward noonday noonday noonday nod nod nod nightingale nightingale nightingale nightfall nightfall nightfall narrow narrow narrow mysteries mysteries mysteries murmurs murmurs murmurs murmured murmured murmured moving moving moving mouths mouths mouths mouthing mouthing mouthing mould mould mould motherhood motherhood motherhood moontide moontide moontide moons moons moons moonlight moonlight moonlight moonbeams moonbeams moonbeams monstrous monstrous monstrous modesty modesty modesty mockery mockery mockery mocked mocked mocked miss miss miss misery misery misery mingling mingling mingling mingled mingled mingled million million million midst midst midst mickleham mickleham mickleham methods methods methods meseemed meseemed meseemed mere mere mere melted melted melted melt melt melt meanings meanings meanings maw maw maw marketplace marketplace marketplace margins margins margins manner manner manner mankind mankind mankind manifold manifold manifold mammoth mammoth mammoth maids maids maids madly madly madly lying lying lying lovelier lovelier lovelier loss loss loss loomed loomed loomed longer longer longer lone lone lone lizards lizards lizards lets lets lets leaving leaving leaving learning learning learning leap leap leap leagued leagued leagued leaf leaf leaf laughter laughter laughter latter latter latter knees knees knees kinder kinder kinder kentish kentish kentish just just just joyous joyous joyous io io io inundant inundant inundant intellect intellect intellect instinct instinct instinct injustice injustice injustice incense incense incense impulse impulse impulse impious impious impious immense immense immense ill ill ill hymn hymn hymn hurt hurt hurt humility humility humility humble humble humble host host host horror horror horror honest honest honest holiness holiness holiness hillsides hillsides hillsides hillside hillside hillside hereafter hereafter hereafter heights heights heights hawthorn hawthorn hawthorn harmony harmony harmony harmonies harmonies harmonies harm harm harm happiness happiness happiness hangs hangs hangs guise guise guise growing growing growing grateful grateful grateful goal goal goal glowed glowed glowed gloomed gloomed gloomed glimmered glimmered glimmered ghastly ghastly ghastly get get get gathers gathers gathers frightened frightened frightened friends friends friends friend friend friend fraught fraught fraught four four four forgot forgot forgot forgets forgets forgets folly folly folly flows flows flows floats floats floats floated floated floated fleet fleet fleet fit fit fit fish fish fish fiercer fiercer fiercer feather feather feather fears fears fears fearless fearless fearless fearful fearful fearful father father father fate fate fate fast fast fast fashioned fashioned fashioned fades fades fades faces faces faces excuse excuse excuse everything everything everything evermore evermore evermore everlasting everlasting everlasting evenings evenings evenings eternity eternity eternity entrance entrance entrance employ employ employ emerald emerald emerald eloquent eloquent eloquent elm elm elm elijah elijah elijah elder elder elder eclipse eclipse eclipse echoed echoed echoed eastward eastward eastward eager eager eager dying dying dying dye dye dye dwell dwell dwell drowning drowning drowning drives drives drives dreadful dreadful dreadful doom doom doom dog dog dog diverse diverse diverse distress distress distress disguise disguise disguise different different different dies dies dies dewy dewy dewy dense dense dense delights delights delights daybreak daybreak daybreak daughter daughter daughter darling darling darling darkly darkly darkly darker darker darker darken darken darken dank dank dank dance dance dance crucified crucified crucified crimson crimson crimson cries cries cries crescent crescent crescent creeds creeds creeds craving craving craving craved craved craved craft craft craft course course course countenance countenance countenance corner corner corner climbed climbed climbed clarion clarion clarion city city city chords chords chords choice choice choice chance chance chance cease cease cease caverns caverns caverns catch catch catch butterfly butterfly butterfly bush bush bush burning burning burning burgeoning burgeoning burgeoning bruised bruised bruised brooding brooding brooding brood brood brood broke broke broke brings brings brings breathes breathes breathes breaks breaks breaks brave brave brave bower bower bower blow blow blow bid bid bid begets begets begets beeches beeches beeches beds beds beds becomes becomes becomes baseness baseness baseness baby baby baby awful awful awful awakes awakes awakes athirst athirst athirst asked asked asked ash ash ash artifice artifice artifice ardours ardours ardours arches arches arches anywhere anywhere anywhere anything anything anything antidote antidote antidote answered answered answered altar altar altar already already already age age age afraid afraid afraid yourself yourself younger younger you're you're yore yore wrung wrung wrote wrote writhed writhed wrath wrath wounds wounds wouldst wouldst workings workings wooed wooed woo woo wonderment wonderment womanwise womanwise withered withered withdrew withdrew wit wit wistfully wistfully wish wish wisdoms wisdoms wing wing winchester winchester wildwood wildwood wildly wildly wilderness wilderness wholly wholly whiles whiles weight weight ween ween weaving weaving wear wear wealth wealth wax wax wastes wastes warn warn wanton wanton wanderings wanderings wandering wandering walks walks walk walk wain wain vows vows vital vital virtues virtues virgin virgin violet violet vigil vigil viewless viewless view view verdant verdant vengeance vengeance vaunt vaunt variant variant utter utter utmost utmost untruth untruth unseals unseals unrevealed unrevealed unrest unrest unnamed unnamed unmoved unmoved unload unload unkind unkind unfold unfold undaunted undaunted unbroken unbroken unafraid unafraid tyranny tyranny twins twins twice twice turns turns turning turning tuneful tuneful troubled troubled tresses tresses trembled trembled treachery treachery traveller traveller training training tracks tracks tracked tracked trace trace touches touches tou tou tortured tortured tops tops tongues tongues toll toll toil toil timid timid tides tides thyme thyme throughout throughout throes throes throats throats thirst thirst thickets thickets thereof thereof thereat thereat theories theories thence thence tense tense tenfold tenfold tempted tempted temple temple tempest tempest teem teem tavern tavern swung swung swords swords sword sword swirled swirled swept swept sweat sweat sway sway swarthy swarthy swart swart swarm swarm sunk sunk sunday sunday sunbeams sunbeams sum sum sufficed sufficed subtle subtle sublime sublime stumbled stumbled stuff stuff stubble stubble strongly strongly strongest strongest striven striven stretch stretch street street stranger stranger strangeness strangeness strangely strangely straining straining stormy stormy store store stiff stiff stellar stellar steep steep stealthy stealthy starless starless stare stare stage stage spray spray spoil spoil splendid splendid splashed splashed spire spire spent spent speaks speaks sparse sparse spark spark spare spare span span spain spain sown sown southward southward southdown southdown sounding sounding sounded sounded sorrowful sorrowful soothed soothed sons sons son son somewhat somewhat sole sole socialist socialist social social sobs sobs snow snow sneer sneer snake snake smoked smoked smoke smoke smaller smaller slipped slipped slew slew slay slay slanderous slanderous sir sir single single sinful sinful silenced silenced signs signs sighed sighed shrunk shrunk shrilled shrilled shrieks shrieks show show shouted shouted short short shivered shivered sheer sheer shares shares shakes shakes shake shake shafts shafts sh sh serried serried sere sere sepulchre sepulchre separation separation sentinel sentinel sentient sentient sends sends semblance semblance selves selves selfishness selfishness second second seaward seaward season season searching searching screamed screamed scourge scourge scorns scorns sceptre sceptre scented scented scattered scattered scatter scatter scarcely scarcely scandal scandal says says sapphire sapphire sap sap saner saner sands sands safe safe sacrifice sacrifice rush rush run run rumours rumours ruddy ruddy rove rove robed robed robbed robbed roar roar roams roams roam roam roads roads rings rings rife rife rhetoric rhetoric revenge revenge restraint restraint restore restore respite respite repentance repentance repent repent remorse remorse remembered remembered reign reign regain regain reft reft reek reek reconciled reconciled reason reason realms realms ravished ravished rave rave rapturous rapturous raptured raptured rank rank range range rang rang raiment raiment quietude quietude quicken quicken question question property property proof proof privet privet print print primrose primrose pretence pretence prepare prepare precepts precepts preached preached preach preach pray pray powerful powerful poured poured possessed possessed poppies poppies ponder ponder points points pluck pluck plough plough plenitude plenitude pleached pleached play play plant plant plangent plangent plainly plainly piteous piteous pilgrims pilgrims pictured pictured philosophy philosophy perish perish perfection perfection pent pent penance penance pause pause pattern pattern patience patience passions passions parting parting parsley parsley paradise paradise papers papers pallid pallid painter painter paint paint painful painful paces paces owe owe overgrown overgrown overcast overcast organ organ orchards orchards older older offspring offspring obscene obscene obedient obedient obedience obedience nymph nymph november november nightwards nightwards nigher nigher nerve nerve needed needed neck neck nazarene nazarene natures natures names names named named naked naked mysterious mysterious mutely mutely muted muted musk musk mournful mournful mounts mounts mountains mountains moths moths motherland motherland mostly mostly moses moses morality morality moonlit moonlit month month mocking mocking moaning moaning mixed mixed mirth mirth mirrored mirrored mire mire miracle miracle mill mill miles miles mile mile mild mild michaelmas michaelmas methinks methinks mental mental mellow mellow meeting meeting measure measure meant meant means means meadows meadows maze maze mayest mayest matters matters matrix matrix mates mates match match marvel marvel mars mars marred marred marigolds marigolds marble marble manifest manifest maddened maddened lusteth lusteth lurks lurks lures lures loveless loveless lore lore loosestrife loosestrife loosed loosed longed longed loathing loathing lithe lithe lit lit listeth listeth likeness likeness lightnings lightnings lightly lightly lichened lichened lessons lessons lesser lesser lengthening lengthening lend lend least least leapt leapt leads leads lays lays later later lately lately lass lass landscapes landscapes lain lain lacking lacking lack lack knowledge knowledge knell knell knapweeds knapweeds kings kings kindlier kindlier kindles kindles kindled kindled keeps keeps journeys journeys jest jest j j it's it's issued issued isle isle instincts instincts insatiate insatiate innocence innocence inner inner ink ink indeed indeed increase increase impurity impurity impolite impolite immemorial immemorial image image illness illness ignorance ignorance ideals ideals hushed hushed husbands husbands hunger hunger hundreds hundreds hums hums humankind humankind huge huge hue hue horses horses horse horse hopes hopes hopeless hopeless honour honour honey honey hollies hollies holed holed hoary hoary hoar hoar highest highest hidden hidden hemisphere hemisphere helped helped height height heeded heeded heartened heartened hearted hearted hears hears hearkened hearkened hearers hearers healthy healthy haunted haunted hates hates harshly harshly harmless harmless hardened hardened happening happening guilty guilty guide guide grocers grocers grieved grieved greenwood greenwood greedy greedy grasses grasses grant grant graciousness graciousness godward godward glows glows glowing glowing glow glow glides glides gleam gleam glass glass glance glance glamour glamour gifts gifts ghostly ghostly gentleness gentleness gentle gentle gaze gaze gathering gathering gates gates gales gales gainst gainst fused fused furrowed furrowed fundamental fundamental fuller fuller fruitless fruitless front front frightful frightful fret fret frenzy frenzy frantic frantic foxgloves foxgloves founts founts fought fought forward forward forlorn forlorn forge forge forgave forgave forfeit forfeit forests forests foolish foolish folk folk fly fly fluttered fluttered flushed flushed flown flown flies flies fledged fledged flash flash flaming flaming fixed fixed finished finished fine fine finding finding fierce fierce feeble feeble feasts feasts fault fault farmer farmer fared fared fare fare fane fane fame fame fail fail f f eye eye extreme extreme expectancy expectancy examples examples example example evidence evidence ethics ethics ethereal ethereal errand errand engines engines enchantment enchantment embraces embraces embrace embrace egotism egotism eden eden ecstasy ecstasy ecstasies ecstasies echoing echoing eastern eastern earthlight earthlight dyed dyed duty duty dry dry drunkards drunkards drunkard drunkard drugged drugged drouth drouth drive drive drip drip dregs dregs dreariness dreariness dreaming dreaming draughts draughts drank drank dower dower don't don't divide divide distrust distrust distance distance display display discern discern dirty dirty dirt dirt diapason diapason dewfall dewfall destroyed destroyed destroy destroy depths depths depose depose delirious delirious defeated defeated debts debts deathward deathward deal deal deadly deadly daylight daylight daydawn daydawn date date darwin darwin dares dares dare dare danced danced dame dame daily daily cursed cursed cull cull crowns crowns crowd crowd crossed crossed criticism criticism criticise criticise creeps creeps creeping creeping creatures creatures creature creature craves craves coy coy coverts coverts courses courses country country convention convention control control contentment contentment contempt contempt confirms confirms confidence confidence conceal conceal compromise compromise compliments compliments common common command command comb comb colder colder coil coil codes codes clutched clutched closure closure cloak cloak cling cling climbs climbs clematis clematis cleansed cleansed cleanse cleanse clean clean claw claw clave clave clanging clanging clamour clamour clamant clamant circumstance circumstance church church chord chord choked choked chimaera chimaera chill chill chief chief chestnuts chestnuts cheeks cheeks cheek cheek charm charm changing changing chanced chanced chalky chalky certain certain centuries centuries bygone bygone busy busy business business burns burns buried buried burgeon burgeon bugles bugles brotherhood brotherhood brother brother brimful brimful brighter brighter briers briers breezes breezes breathlessness breathlessness breathings breathings branches branches brambles brambles bracken bracken bowers bowers bought bought bosoms bosoms borrowed borrowed book book bondslave bondslave bonds bonds blushed blushed bluebells bluebells blossoms blossoms blooming blooming blindly blindly blessing blessing blessed blessed blent blent birches birches big big bids bids bide bide bereft bereft bend bend beloved beloved bell bell begotten begotten beginning beginning befall befall became became bears bears beam beam beacon beacon battle battle barter barter bare bare banks banks bait bait badly badly babylon babylon aye aye awoke awoke awe awe await await avatar avatar avarice avarice autumnal autumnal authority authority aside aside ashamed ashamed arise arise argent argent arctic arctic apt apt appeal appeal anxious anxious anthropoid anthropoid anthems anthems annoying annoying anger anger anew anew ancient ancient ambitus ambitus although although alike alike aid aid agreed agreed agone agone aftermath aftermath aflame aflame affecting affecting adieu adieu aching aching abele abele zvould^st zodiacal zeal yuletide yule youthful yourselves youngest yews yew yesterday yell yawns yawned yawn yards y xh^y writhing writ wring wretched wretch wrested wreck wreath wreak wraith worst worshipper working worked wordy wordlessly woos woof woody wooden wooded wont won't woe wives wither witchery witchcraft wisley wishes wished wiser wisely wis wire windy windrows window windflower winderne win wimbledon wilt williams wilfully wilful wilding wildflower wider whosoever wholesome whoever whiter whiteness whiten whistle whisperer whine whims whimper whim wherewithal wherewith whereunder whereto whereout wheels wending wendedst welds welcoming weighed weft weeps weeping week weeds weed wedding webs weave wears weald weakness weakly we're wayward wayless wayfarings wayfaring wayfarers waveless waved wattled waterways waterfalls watercourses watchword watches watchers watcher washed warships wars warp warmth warmer ward wants wantons wanting wanted want waned wane wanderer wand wallow wall wakens wakened wailing wail vou vote voluble volga void vogue vixenhood visions virginal village vile vies vied vie vide victory victories victims vice vibrant vex vestures vesture vestry vestal vertebrae verily verge verdurous venial veinous veils vcs vaster various vapours vapour vans vanned vanishes vanished vanish vanes vane valleys vainly vainglorious vagrant usurps usher used urn urged upward unworthiness unutterable untrodden untold unsubdued unrestraint unreal unquenched unprompted unprofitable unmown unmeant unloaded unlike unity unison unholy unheeded unhealed unhappy ungraciousness unforgetful unflinching unf undisguised underwoods undertone understands undergrowth underground unctuous unction unchanged unceasingly unbuilt unbound unblown unbeholden unashamed unappeased unapparent umbrages ultimate ul ui ugly ugliness tytsjeel tyrant twould twined twill twilights twere twenty-one twelvemonth tumultuous tumults tumbles trunk trumpet troy troughs tropic trivial triumphant triple trifles trifle tries tried trickster tricks trick tress tremors tremble trefoil treatment treason travel traps transplendency translucid translate transitory transfuse transcends tranquil traitor trails trail tragedy traders trader trade tracts tract track towers touchstone touching total torn tormentil tore topmost tooth tones toned tomorrow tolerate toils toiling titanic titan tireless tired tiny tills tightly tighter tightened tighten ties tideless thyself thymy thuswise thundered thumbs thrown throng throbbing thrives thrive thrilled threw threshed thistledown thirteenth thirsty thinning thinner thinned thin thickly they're thereto thef thawed thanksgiving thankless thanking textbooks test terror tenure tend tenacious tempt temper telescopes teemed team teaches tawny tasselled task tapestries tangible talked t system synchronise swooned swirl swings swine swifts swiftly swell sweetly sweetlier sweetheart sweetbriar sweated swaying swayed swarms sward swans swallow swaddling suzerainty survived surrey surrender surprised surmise surges surety surer suppose sunward sunshine sunsetting sunrise sunny sunlights sunless sunken sunfires summons summertime sullen suit suicide suggestion sufficient suffice suffered suffer sucks sucked success subtler substance subject stupor stunted stung stubborn strove strips string strews strewn strewed stretched stress strengthen streets streaming streamed stray straws strangers strand strains straightway stored stooping stooped stoop stools stony stoat stitchworts stir stings stimulate stilly stifle stews sterilised steps stepping stems steeped steam stealth statute statue stately stateliness starving starved started start starlight staring stares starbeams stane stamped stammering stammered stalk stagnant staff squire squealed square squandered spun sprung sprite springtime springtide spreads spreading sprays spot spoilers spites spiteful spit spires spilled spendthrift spend speil speedwells speed speechless spectral speckled spaces sow sovereign southwest sounder soundedst souled sorry sorrowing sorrowfully sorrowfullest sorely sore sordid sophistries sooth sonnets songful sometime solitudes solar solanum sol soiled soil socialism sobbed sob soars soal so-called snob snares snakevvise snakes smote smashed smart smallest sluggard slough slips slip slime sleepy sleeps sleepiness sleeper sleek slaying slavery slaughtered skyward skin skims sitting siren sinner sinks sinister singers simply simpler silvered sightless sighest sides sickly sickened sicken shuts shunned shuddering shrunken shrinking shrank shown showers shower shout shouldered shoulder should'st shot shorn shores shoots shod shoal shivering ships shimmering shes sheltered shelter sheeted sheathed sheaf shardbourne shapes shan shamrock shames shamed shambles shallows shallow shaggy shadowy sewing sew seventh settles settled setting sets servitude serve servant serpents serpent serious serene sepulchretis sepulchral sensual sensitive sensations senility sending send semiramis sell selfish self-interest seized seer seemlier seeds sedges sedge sedative sec searhew seamed seal seabirds scythe scroll screen screech screaming scream scratch scrape scott scornful scoff science scholars scheme scarlet scan scales scale saving saved savage satiety satan sappho sangest sanction sanctify sanctified salt sailor sadly saddest sacrilege sacrificial sable rustling rust russet rushes runs rumour rummaged ruled rule ruins ruined ruddier rows roused rounds rotting rot rosebuds rosebud root room roofs romanhurst rolling roguish rogue rods rock robs robes robe roaring roadway river rites risking rising ripple ripened ripen ripe rioted riot rills ril rights rightly righteously riddle rich rib rhythmic rhyme rhone rhine revolted revolt revere retorts retire retard resurgent restrain restores resting-place rested responsive responses response respond resplendency resolution resistless res requites requite reprove repose reply repletion repenting reparation repair renown remove remote remnant remembers remained remain reluctant relief relentless released release reiterate reins rehearse regulate regard refute refutations refresh refrains refrain reflections reflected reeds redoubled redeems redeem recompense recollections receive receipts recall reared reappear reaping reap reality ready readily readiest reaching rays ray ravishment ravin rattle rare rapt raised rained rainbows rages radiant radiance racking rack racing race quietness quieter quicker quickens quickening questioned quarried pyre putting puts putrescent push pursues pursued pursue purities purifyings purifying purify purge purest puppet punish pundits pun pugilist pterodactyl psalm prows provided protoplasm protest protection prostitute prophetic prophet prophecies prone promptings promontory promises promised profits professing prodigal private prison-house prison prints principles principle primtsrs primroses primordial prids pretty presumptuous pressing presence prehistoric pregnant prefer preceding preceded praying praises praised powers poverty possible portion portals porch popes pontifical pond pollen pollard pole polar point poignant poems poem plumy plumage plucked ploughing plots plinth plenilune pleased please pleaded plays playing plaudits platitudes plashy plashed planted planetary planes plainer placidly pixie pity pitiless pitiful pit pimp pictures pick philosophic phcenix phased phantoms phantasms phantasm petulance petty petal pest pervert perversion perspective permeates permeate periods perforce perceives percei peoples penthouse pens penny penned penitential penalty pen pebbled pawn paw paused patterns patiently pathless pastures passionflower pasque party parts parthenon parted paris parents panting panted pant panic pangs pang panders pander palsied palls pallas palimpsest pales paler paid page paeans paean pacing owls overthrow oversea overpast overlooked overheard overbold outside outraged outrage outlived outlast outburst ourselves ought orgetf organisation ordered ordained ordain orchestra oracles oppression opens opening ooth onward oldest oil ohy offer obsequies obscuring obscured oblivions oaths oaks oakenshaws o'v nurtured nurture nursed null nourished nourish noumenon nots notes note northern north noontide noons nonsense noised nodded noblest noble ninety-two nineteenth newton newly nets nether nest nerving nerves neolithic nel neji needest necessary nazareth nays navvies nakedness nakedly nailed naiads nadir n mythology mystical mv mutters muter musings musical murderess murderer murdered mundi mundane multitude multiplied mrs movement mouthfuls mouthed mourning mounted mountebanks mountebank mount motor motions motionless motioned motion mothering mossed moss morrow mornings moralities moorhens moonrise moonless monument months monstrosities monger money moments momentous mole moistening moans moaned mixes mite misty mistrustful misting missing missed miserable mirrors mirage miraculous minute mint ministrations ministers minister mills milky mightest mighteous midnights midmost midges meteors meteor meshes merry mercurial mercifully mend menace memoriam melting melody melancholy meetings meeter meek medias medal meat meaningless meaner meals meads meadowsweet mc mays maydawn maudlin maturing matter matron maternity mated masters massed masquerading marvelled martyrdoms marshy marry married maroon market marjoram margin margarets mantled manor manifested mangled male makings majesty majestic maim mailed maidens mads madonnas madmen maddest machine m lyrics lyre luxury luther lustrous lusted lush lurked lurid lunatic luminous lull lubrication ltd loyal lowlands loveliest lovedst loudly louder loth losing los lords loosens looks lookea loo lonicera loitered loi locks livid listening liquid lions linking lingers lingered lineaments limenitls lime limbed limb lilt likewise liked lighting lightest lighten lighted lifted lift lifehood liefer lief lids lichen liberated liberal levies levels level letting lent leith legions legend lee ledges lecher leaven leatherhead leashed learns leaping leaned lean leagues leaguered league leafy leafage lawns lattice latitudes latitude latch larkspurs largest larch laps lapdog lanterns languor languishes languages landward lamp laments lairs laden lad lackey labours laboured labels knocked knives knit knife knelt kneeling knee kittens kites kissing kingcraft king kine kindred kindly kindling kindle kin killed keynote kepler kaisers justify justifies juniper jungle june judgments judgement judge jpassion joyance jove jones jonah joan jo jesus jessamine jeers jealous jays january jain j^ounger itys isz ist irradiate irony irons ireathing inwardly inviting inviolable invests investment investiture invent invasion intolerably intimate interwoven interval interprets intent insult instead insoluble insistent insignificance insidious inseparate insensate inscrutable insatiable insanity inoffensive innumerable inland initiation inherit ingle inflating infinity infinitum infinitudes infected infect infant infamy inequality ineffectually ineffable indubious indomitable individual indifferent indifference india incubus incestuous incest incarnation incarnate incarnadine incantations inarticulate inane imputed impudence improvements imprints impostures imperfect impassioned impalpable immortality immolation immodest immitigable immaterial imbue illusory illume ilion ignominy ifeel idly idiot iconoclasms ice i'm i'll hypocrites hypocrite hyndman hymen hyacinths husks husk hurting hurry hunting hunt hungers hundredfold humilities humbled hum hues houses hounds hotly hotlier hosts horrid horn hoots hook hood honeysuckles honeycomb honesty homeward homage hollows holding hogweed hoard history hireling hire hints hint hinder himalaya hilv^ hilt hijls highei hideous hests hero heritage heretofore herded hercules herb hemispheres helps helpmate helping heir heedlessly heedless hedgerows heavier heats heather heat hearing health healer healed heal heads hea haze hazard hawthorns haws hawked havoc haunting hasty hasting hastily harvesting harps harness hardlier hardihood harder harbourage happier hap hang handle handful handclasp hammer halves halls hairs hadst guu.dporo gusts gull gulfs gulf guised guineas guesses guardian grudge growths grovv^ grottoes grots gross gripe grip grim grievous grieve greeting greener grecian grazing graven grandeurs graft gradually graciously gorging goods goodness goodbye golf goings goest godzvard godlike godheads gnaw glut glowworms glorify gloomy glimpse glimmering gliding gleaning glean gleaming gleamed glancing glances glanced glamours glade gladder gives girls girfs girdled gilt gilded gild gift gibes gibeon giant gets gesture germander german george gentlemen generous gears gean gay gauze gaunt gasped gasp garths garland garish garb gape gallant gale galaxy galaxies gainsaid gains gain g*er futility fusion fury furrows furrow furlong funeral fumes fume fumbled fulfils fuel fruits fruited frozen froze frowned frosts frontiers frond fro fringe frighten friendship fretting fretful freshly frenetic freely fraud franker frame fragrances fractured foxglove fourteen fountains founded foundation foster fortune forsooth forsook forsaken former form forgo forgiven forgetfulness forgathered foreign foreheads forebodement forebears forceful force footways footfall foods food fondlier follow fold foan flying flutter flute flushes flush flurry flume flowerful flowered flowed flow flout floors floor floods floodgates flood-tide float flings flinch flickered flicker fled flawless flaw flatulent flashed flakes flagging five fist firstling firstfruits firstborn fireplace firelight fired finish finger finest findmg final filling file figure fight fiddlesticks fiction fever fetched festivals ferns fen feeds feeding february features feast feace favourite favoured fatherless fatherland fasting farm fantasies fangs fanes fan famished familiar falter faithful faintly fainter faiiy fading facts factory factions fabled fable exultant extenuation exorcisms exit excitements excitement excess excepting exalts exalted exacted evu evolve everywhere eventful ethic eterne esteem estate essential essence escape erstwhile equivocal equivalent equipoise equality epitaph epigram envy enthusiastic enthrone enthralled enters entered enter enjoyed enjoy english engaged enforce energy endure ends endows ending encompass enclosed encircling enchantments empyreal emprise employed empery empearled emissaries embodied emblem embark embalm emasculate em elysium elms elephant elementary elementals element eh effort effect edge eddy eddies echoings ebbing ebb easier eased earthward earnest earlier ear eagerly dynasty dyes dwindled dwellers dusked dunes dunces dumbly duller dulcamara duality dryads dryad drunken drunk drug drowsiest drowsed drowns drove dross dropping driven dripping drinking drifting drifted dried dreamlike dreamings dreads dreadfulness dreadfully dreaded dread drapet draining drained drain dragged drab dozen downland doubted doorway dominate dogwoods divinity diviner dividends divided divested disturb distraught distills distant distances dissilient dissent disquiet disproportionate disobey disloyal dishonoured dishonesty disguised discrown discovered discover discourse disarrayed dire dims dimmed dimly dight dig didactics dewberries devoted devise devils development deux detested destinies destined desolation deserted desert descried descend deputy depth deny denser delphiniums dells dell delirium delightful delayed deity degraded definition defiled defiances defence defeat deepest deeds dedicate deck decide december deceived decaying debauch debars deaths deathless deathdays dearer deadlier dayspring dawns daughters dashed darkening danube dane damps dam daffodils daedal d cytherean cynicism cynical cynic cutting cut custom curses curse current curious cupido cultivate cuckoos crying crummock cruelty cruellest cruel crucify crucible crowed crowds crowding crouched crosses crime crest creeper credence creation crawl cravings cravens crannies craniums cradle coyly cowardice coward covert courted court courage countryside counted counsel couchant corruption correct coronet corollary cordage cord copses copse copes cope converts conventions controls contrived contrast continent contagion consummation constrained constellations constellated constancy conspiracy consecrations consecrate conscience conquered conjuring conjures conjure congealed confusion conflagration confirmed confidants confessed condemns concupiscence concourse concessions conceives conceived conceits concealed complete complaint complainings compelled compares companion compact communing communes comments comment comings comfrey comforted cometh combines combes coffers cocks coated coastwise coasts coast coaches co clump cloy clowns clowds clover clouding closures closing closes closer clods clod clipped clings climbing cliffs clench cleft cleaves clears clearly clearer claws clarioned claims claiming claimed clad circled christmas christian chorus choral choose choirs chime chilly childhood chiefest chevroned chestnut cherubim cherry chequered check cheats cheaper cheap chattered chastity chasmed charms charles charlatans charing chaos channel changeless chains chain certainty century celts celestial celandine cedar ceasing cavernous cave caused cause catching catastrophe catacomb casts caste cask carts cart carpeted caress cares cared care cards car captive captain capital cant canker cancelled campions calumny calumnies calmly cain cage caesars caesar cadences buzzing buy buttermere butterflies burnt burned burdens burdened builds budded brutes brushed brush bruno bruise brows browed brothel broom brooking brook bronze broaden broadcast brine brimstone brims brightly brier bridle bridged bridegroom brickwork bribe bred breaking breakers breadth brand braids braggart brackens boyhood bowed bounteous boundaries bosomed bosks boskets bosket bosk boscage borrows boom bones bondage bond bolted boldly bold boast blushing blush bluest bluebell blossomed bloomy bloomed blindness bless blemishes bleeding bleach blast blasphemous blasphemies blaspheme blades blackbird bittersweet birthright bindweeds bided bidden bible beware betray bestially bestial berried bents benison benefit belt belly bells believes believed belief beings bei^g beheld beguiled begot begins begin begat befoundered befits beer bee bedstraw bedight bedfellow beauties beaten beasts beamless beak beaches bcnison bay baulked battlefields bats bastard bashful base barm bargain bared banners bank bands balls ballad ball bale bakers bah bad ay axles awhiles awakenings awaits averted avenge autumntide author auras audience attuned attune atom astrive astarte assemblies aspen aspect asks ascot arty arts artist articulate arrows arraigned arraign arow aroused arose armour armies armada arisen arid arguments archways arcady arc arboured apprentices apportioned applied appears appear apotheosised apostates apology apes ao5 ao anticipation anti antarctic answers anon anodyne angered anent anemone ancestors ancestor anarchy ana amply amplitude amours amorites ambush altered alteration altars aloud almost allusions allows allotted allegiance allay algernon alder alarms al ajways ajalon aisles airs aim ail9*io'a5 agitation afterglow afresh aflower afloat afire afhrodite^ advent adream adjustment adjectives adjective ad act acquire acquaintances acorns acknowledged achievement aches ached accustomed accuse accumulated accord acclaim accelerates abysses abstraction abstract absorb absolutio aborting abnegation abhorred a^tomb \\n\""
      ]
     },
     "execution_count": 2,
     "metadata": {},
     "output_type": "execute_result"
    }
   ],
   "source": [
    "#read our texts and turn them into lists\n",
    "import os\n",
    "review_path = 'poems/reviewed/'\n",
    "random_path = 'poems/random/'\n",
    "review_files = os.listdir(review_path)\n",
    "random_files = os.listdir(random_path)\n",
    "\n",
    "review_texts = [open(review_path+file_name, encoding='utf-8').read() for file_name in review_files]\n",
    "random_texts = [open(random_path+file_name, encoding='utf-8').read() for file_name in random_files]\n",
    "\n",
    "review_texts[0] #notice the strange output here. These poems are saved in a bag of words format"
   ]
  },
  {
   "cell_type": "code",
   "execution_count": 3,
   "metadata": {
    "scrolled": true
   },
   "outputs": [
    {
     "data": {
      "text/html": [
       "<div>\n",
       "<style scoped>\n",
       "    .dataframe tbody tr th:only-of-type {\n",
       "        vertical-align: middle;\n",
       "    }\n",
       "\n",
       "    .dataframe tbody tr th {\n",
       "        vertical-align: top;\n",
       "    }\n",
       "\n",
       "    .dataframe thead th {\n",
       "        text-align: right;\n",
       "    }\n",
       "</style>\n",
       "<table border=\"1\" class=\"dataframe\">\n",
       "  <thead>\n",
       "    <tr style=\"text-align: right;\">\n",
       "      <th></th>\n",
       "      <th>body</th>\n",
       "      <th>label</th>\n",
       "    </tr>\n",
       "  </thead>\n",
       "  <tbody>\n",
       "    <tr>\n",
       "      <th>0</th>\n",
       "      <td>the the the the the the the the the the the th...</td>\n",
       "      <td>review</td>\n",
       "    </tr>\n",
       "    <tr>\n",
       "      <th>1</th>\n",
       "      <td>the the the the the the the the the the the th...</td>\n",
       "      <td>review</td>\n",
       "    </tr>\n",
       "    <tr>\n",
       "      <th>2</th>\n",
       "      <td>the the the the the the the the the the the th...</td>\n",
       "      <td>review</td>\n",
       "    </tr>\n",
       "    <tr>\n",
       "      <th>3</th>\n",
       "      <td>the the the the the the the the the the the th...</td>\n",
       "      <td>review</td>\n",
       "    </tr>\n",
       "    <tr>\n",
       "      <th>4</th>\n",
       "      <td>the the the the the the the the the the the th...</td>\n",
       "      <td>review</td>\n",
       "    </tr>\n",
       "    <tr>\n",
       "      <th>...</th>\n",
       "      <td>...</td>\n",
       "      <td>...</td>\n",
       "    </tr>\n",
       "    <tr>\n",
       "      <th>355</th>\n",
       "      <td>the the the the the the the the the the the th...</td>\n",
       "      <td>random</td>\n",
       "    </tr>\n",
       "    <tr>\n",
       "      <th>356</th>\n",
       "      <td>the the the the the the the the the the the th...</td>\n",
       "      <td>random</td>\n",
       "    </tr>\n",
       "    <tr>\n",
       "      <th>357</th>\n",
       "      <td>the the the the the the the the the the the th...</td>\n",
       "      <td>random</td>\n",
       "    </tr>\n",
       "    <tr>\n",
       "      <th>358</th>\n",
       "      <td>the the the the the the the the the the the th...</td>\n",
       "      <td>random</td>\n",
       "    </tr>\n",
       "    <tr>\n",
       "      <th>359</th>\n",
       "      <td>the the the the the the the the the the the th...</td>\n",
       "      <td>random</td>\n",
       "    </tr>\n",
       "  </tbody>\n",
       "</table>\n",
       "<p>720 rows × 2 columns</p>\n",
       "</div>"
      ],
      "text/plain": [
       "                                                  body   label\n",
       "0    the the the the the the the the the the the th...  review\n",
       "1    the the the the the the the the the the the th...  review\n",
       "2    the the the the the the the the the the the th...  review\n",
       "3    the the the the the the the the the the the th...  review\n",
       "4    the the the the the the the the the the the th...  review\n",
       "..                                                 ...     ...\n",
       "355  the the the the the the the the the the the th...  random\n",
       "356  the the the the the the the the the the the th...  random\n",
       "357  the the the the the the the the the the the th...  random\n",
       "358  the the the the the the the the the the the th...  random\n",
       "359  the the the the the the the the the the the th...  random\n",
       "\n",
       "[720 rows x 2 columns]"
      ]
     },
     "execution_count": 3,
     "metadata": {},
     "output_type": "execute_result"
    }
   ],
   "source": [
    "#transform and concat these lists into a Pandas dataframe\n",
    "df1 = pandas.DataFrame(review_texts, columns = ['body'])\n",
    "df1['label'] = \"review\"\n",
    "df2 = pandas.DataFrame(random_texts, columns = ['body'])\n",
    "df2['label'] = \"random\"\n",
    "df = pandas.concat([df1,df2])\n",
    "df"
   ]
  },
  {
   "cell_type": "markdown",
   "metadata": {},
   "source": [
    "### Challenge\n",
    "\n",
    "Output some summary statistics for this dataframe. \n",
    "- How many poems have the review label, and how many bear the random label? \n",
    "- What is the total number of words in each category? \n",
    "- What is the average number of words per poem in each category?"
   ]
  },
  {
   "cell_type": "code",
   "execution_count": 4,
   "metadata": {},
   "outputs": [],
   "source": [
    "# your code here"
   ]
  },
  {
   "cell_type": "code",
   "execution_count": 5,
   "metadata": {},
   "outputs": [
    {
     "name": "stdout",
     "output_type": "stream",
     "text": [
      "Total number of poems in each category:\n",
      " review    360\n",
      "random    360\n",
      "Name: label, dtype: int64 \n",
      "\n",
      "Token totals in each category: label\n",
      "random    7069809\n",
      "review    8260352\n",
      "Name: tokens, dtype: int64 \n",
      "\n",
      "Token averages in each category: label\n",
      "random    19638.358333\n",
      "review    22945.422222\n",
      "Name: tokens, dtype: float64\n"
     ]
    }
   ],
   "source": [
    "print('Total number of poems in each category:\\n', df['label'].value_counts(), '\\n')\n",
    "df['tokens'] = df['body'].str.split()\n",
    "df['tokens'] = df['tokens'].str.len()\n",
    "\n",
    "grouped = df.groupby('label')\n",
    "print('Token totals in each category:', grouped['tokens'].sum(), '\\n')\n",
    "print('Token averages in each category:', grouped['tokens'].mean())"
   ]
  },
  {
   "cell_type": "code",
   "execution_count": 6,
   "metadata": {},
   "outputs": [
    {
     "data": {
      "image/png": "[encoded data removed]",
      "text/plain": [
       "<Figure size 432x288 with 1 Axes>"
      ]
     },
     "metadata": {},
     "output_type": "display_data"
    }
   ],
   "source": [
    "sns.countplot(df['label'], order=df['label'].value_counts().index);"
   ]
  },
  {
   "cell_type": "markdown",
   "metadata": {},
   "source": [
    "## Divide data into training and test sets<a id='split'></a>\n",
    "\n",
    "To avoid overfitting, let's train our classifier on a different dataset from what we test it on. To accomplish this, we'll split it into training and test sets: we'll train on the first 500 poems, and test the accuracy on the rest."
   ]
  },
  {
   "cell_type": "code",
   "execution_count": 7,
   "metadata": {},
   "outputs": [
    {
     "data": {
      "text/html": [
       "<div>\n",
       "<style scoped>\n",
       "    .dataframe tbody tr th:only-of-type {\n",
       "        vertical-align: middle;\n",
       "    }\n",
       "\n",
       "    .dataframe tbody tr th {\n",
       "        vertical-align: top;\n",
       "    }\n",
       "\n",
       "    .dataframe thead th {\n",
       "        text-align: right;\n",
       "    }\n",
       "</style>\n",
       "<table border=\"1\" class=\"dataframe\">\n",
       "  <thead>\n",
       "    <tr style=\"text-align: right;\">\n",
       "      <th></th>\n",
       "      <th>body</th>\n",
       "      <th>label</th>\n",
       "      <th>tokens</th>\n",
       "    </tr>\n",
       "  </thead>\n",
       "  <tbody>\n",
       "    <tr>\n",
       "      <th>143</th>\n",
       "      <td>the the the the the the the the the the the th...</td>\n",
       "      <td>random</td>\n",
       "      <td>23127</td>\n",
       "    </tr>\n",
       "    <tr>\n",
       "      <th>285</th>\n",
       "      <td>the the the the the the the the the the the th...</td>\n",
       "      <td>random</td>\n",
       "      <td>27121</td>\n",
       "    </tr>\n",
       "    <tr>\n",
       "      <th>245</th>\n",
       "      <td>the the the the the the the the the the the th...</td>\n",
       "      <td>review</td>\n",
       "      <td>11636</td>\n",
       "    </tr>\n",
       "    <tr>\n",
       "      <th>142</th>\n",
       "      <td>the the the the the the the the the the the th...</td>\n",
       "      <td>review</td>\n",
       "      <td>17512</td>\n",
       "    </tr>\n",
       "    <tr>\n",
       "      <th>133</th>\n",
       "      <td>the the the the the the the the the the the th...</td>\n",
       "      <td>random</td>\n",
       "      <td>18179</td>\n",
       "    </tr>\n",
       "    <tr>\n",
       "      <th>...</th>\n",
       "      <td>...</td>\n",
       "      <td>...</td>\n",
       "      <td>...</td>\n",
       "    </tr>\n",
       "    <tr>\n",
       "      <th>347</th>\n",
       "      <td>the the the the the the the the the the the th...</td>\n",
       "      <td>random</td>\n",
       "      <td>43518</td>\n",
       "    </tr>\n",
       "    <tr>\n",
       "      <th>192</th>\n",
       "      <td>the the the the the the the the the the the th...</td>\n",
       "      <td>review</td>\n",
       "      <td>36906</td>\n",
       "    </tr>\n",
       "    <tr>\n",
       "      <th>269</th>\n",
       "      <td>the the the the the the the the the the the th...</td>\n",
       "      <td>random</td>\n",
       "      <td>4603</td>\n",
       "    </tr>\n",
       "    <tr>\n",
       "      <th>199</th>\n",
       "      <td>the the the the the the the the the the the th...</td>\n",
       "      <td>random</td>\n",
       "      <td>32059</td>\n",
       "    </tr>\n",
       "    <tr>\n",
       "      <th>324</th>\n",
       "      <td>the the the the the the the the the the the th...</td>\n",
       "      <td>random</td>\n",
       "      <td>26744</td>\n",
       "    </tr>\n",
       "  </tbody>\n",
       "</table>\n",
       "<p>720 rows × 3 columns</p>\n",
       "</div>"
      ],
      "text/plain": [
       "                                                  body   label  tokens\n",
       "143  the the the the the the the the the the the th...  random   23127\n",
       "285  the the the the the the the the the the the th...  random   27121\n",
       "245  the the the the the the the the the the the th...  review   11636\n",
       "142  the the the the the the the the the the the th...  review   17512\n",
       "133  the the the the the the the the the the the th...  random   18179\n",
       "..                                                 ...     ...     ...\n",
       "347  the the the the the the the the the the the th...  random   43518\n",
       "192  the the the the the the the the the the the th...  review   36906\n",
       "269  the the the the the the the the the the the th...  random    4603\n",
       "199  the the the the the the the the the the the th...  random   32059\n",
       "324  the the the the the the the the the the the th...  random   26744\n",
       "\n",
       "[720 rows x 3 columns]"
      ]
     },
     "execution_count": 7,
     "metadata": {},
     "output_type": "execute_result"
    }
   ],
   "source": [
    "#randomize our rows\n",
    "df = df.sample(720, random_state=0)\n",
    "df"
   ]
  },
  {
   "cell_type": "code",
   "execution_count": 8,
   "metadata": {},
   "outputs": [
    {
     "data": {
      "text/plain": [
       "random    254\n",
       "review    246\n",
       "Name: label, dtype: int64"
      ]
     },
     "execution_count": 8,
     "metadata": {},
     "output_type": "execute_result"
    }
   ],
   "source": [
    "#create two new dataframes\n",
    "df_train = df[:500]\n",
    "df_test = df[500:]\n",
    "df_train['label'].value_counts()"
   ]
  },
  {
   "cell_type": "markdown",
   "metadata": {},
   "source": [
    "## Vectorize texts<a id='vectorize'></a>\n",
    "\n",
    "Next, we turn the text into numbers for our classifier. We will use a \"bag of words\" approach to create our features: frequency counts of all the words that appear in a text. The \"bag\" name is because we ignore the order of the words; we just care about what words are in the text, as if we threw all the words into a bag and shook them up. To do this, we use `scikit-learn`'s `CountVectorizer` to build a document-term matrix (DTM). You can think of a DTM as a big table where the rows are articles, the columns are words, and each cell indicates the number of a times a given word appears in a given article. "
   ]
  },
  {
   "cell_type": "code",
   "execution_count": 9,
   "metadata": {},
   "outputs": [
    {
     "data": {
      "text/plain": [
       "review    114\n",
       "random    106\n",
       "Name: label, dtype: int64"
      ]
     },
     "execution_count": 9,
     "metadata": {},
     "output_type": "execute_result"
    }
   ],
   "source": [
    "#transform the 'body' column into a document term matrix\n",
    "countvec = CountVectorizer(stop_words = 'english', min_df = 1, binary=True)\n",
    "\n",
    "training_dtm_tf = countvec.fit_transform(df_train.body)\n",
    "test_dtm_tf = countvec.transform(df_test.body)\n",
    "\n",
    "#create an array for labels\n",
    "training_labels = df_train.label\n",
    "test_labels = df_test.label\n",
    "test_labels.value_counts()"
   ]
  },
  {
   "cell_type": "markdown",
   "metadata": {},
   "source": [
    "# Classification with supervised machine learning<a id='supervised'></a>"
   ]
  },
  {
   "cell_type": "markdown",
   "metadata": {},
   "source": [
    "## Train logistic classifier model<a id='model'></a>"
   ]
  },
  {
   "cell_type": "markdown",
   "metadata": {},
   "source": [
    "Now that we've turned our data into numbers, we're ready to feed it into a classifier--starting with a logistic classifier. It's good to know what our code is doing, so let's go over how this works at a high level.\n",
    "\n",
    "Logistic models fit where the probability of being positive ($y=1$) is described by a sigmoid function of the form:\n",
    "$f(X)=P(y=1|X)=\\frac{exp(-X'\\theta)}{1+exp(-X'\\theta)}$. Once $\\theta$ - a vector of word _weights_ or _loadings_ - is estimated we can predict outcomes $\\hat{f}$ conditional on observed word count $X$. If $\\hat{f}>0.5$ then the observation is classified as positive. This is a _linear classifier_ as the decision boundary is defined by $\\frac{exp(-X'\\theta)}{1+exp(-X'\\theta)}=0.5$, which after rearranging and taking logs appears equivalent to $-X'\\theta=0$ - a linear function of the features $X$. The model is estimated through penalized Maximum Likelihood."
   ]
  },
  {
   "cell_type": "code",
   "execution_count": 10,
   "metadata": {},
   "outputs": [
    {
     "data": {
      "text/plain": [
       "array(['random', 'random', 'review', 'review', 'review', 'random',\n",
       "       'review', 'random', 'random', 'random', 'random', 'random',\n",
       "       'review', 'review', 'review', 'random', 'random', 'review',\n",
       "       'random', 'random', 'review', 'review', 'review', 'review',\n",
       "       'review', 'review', 'review', 'review', 'random', 'review',\n",
       "       'review', 'random', 'review', 'review', 'random', 'review',\n",
       "       'review', 'random', 'review', 'random', 'random', 'review',\n",
       "       'review', 'random', 'random', 'random', 'review', 'review',\n",
       "       'review', 'random', 'review', 'review', 'review', 'review',\n",
       "       'review', 'random', 'random', 'random', 'review', 'review',\n",
       "       'review', 'review', 'review', 'random', 'review', 'review',\n",
       "       'random', 'review', 'random', 'random', 'random', 'review',\n",
       "       'random', 'review', 'review', 'random', 'random', 'review',\n",
       "       'review', 'random', 'review', 'review', 'random', 'random',\n",
       "       'random', 'review', 'review', 'review', 'review', 'review',\n",
       "       'random', 'random', 'random', 'review', 'random', 'random',\n",
       "       'review', 'random', 'random', 'random', 'review', 'review',\n",
       "       'review', 'review', 'review', 'review', 'random', 'random',\n",
       "       'review', 'review', 'review', 'review', 'review', 'random',\n",
       "       'review', 'random', 'review', 'review', 'random', 'review',\n",
       "       'random', 'review', 'review', 'random', 'random', 'random',\n",
       "       'random', 'random', 'review', 'review', 'random', 'random',\n",
       "       'random', 'review', 'random', 'review', 'review', 'review',\n",
       "       'random', 'review', 'random', 'review', 'random', 'random',\n",
       "       'random', 'review', 'review', 'review', 'review', 'review',\n",
       "       'random', 'review', 'review', 'random', 'random', 'review',\n",
       "       'review', 'review', 'random', 'review', 'review', 'random',\n",
       "       'review', 'random', 'review', 'review', 'random', 'review',\n",
       "       'random', 'review', 'review', 'review', 'random', 'review',\n",
       "       'review', 'random', 'review', 'review', 'review', 'random',\n",
       "       'random', 'random', 'review', 'review', 'random', 'random',\n",
       "       'random', 'review', 'review', 'random', 'review', 'random',\n",
       "       'review', 'random', 'random', 'random', 'random', 'review',\n",
       "       'random', 'random', 'random', 'review', 'random', 'random',\n",
       "       'random', 'random', 'review', 'random', 'review', 'review',\n",
       "       'random', 'random', 'review', 'review', 'review', 'random',\n",
       "       'review', 'random', 'random', 'random'], dtype=object)"
      ]
     },
     "execution_count": 10,
     "metadata": {},
     "output_type": "execute_result"
    }
   ],
   "source": [
    "#define a container for our chosen algorithm, in this case logistic regression\n",
    "logit = LogisticRegression()\n",
    "#nb = MultinomialNB()\n",
    "\n",
    "#fit a model on our training set\n",
    "#one object contains all the functions for fitting data, making predictions, and storing parameters\n",
    "logit.fit(training_dtm_tf, training_labels)\n",
    "\n",
    "#predict the labels on the test set using the trained model\n",
    "predictions_logit = logit.predict(test_dtm_tf) \n",
    "predictions_logit"
   ]
  },
  {
   "cell_type": "markdown",
   "metadata": {},
   "source": [
    "We can use the built-in `accuracy_score` function to calculate the accuracy of our classifier. Basically, this number represents the proportion of texts an algorithm correctly classifies (we will go over this more tomorrow). "
   ]
  },
  {
   "cell_type": "code",
   "execution_count": 11,
   "metadata": {},
   "outputs": [
    {
     "data": {
      "text/plain": [
       "0.7772727272727272"
      ]
     },
     "execution_count": 11,
     "metadata": {},
     "output_type": "execute_result"
    }
   ],
   "source": [
    "accuracy_score(predictions_logit, test_labels)"
   ]
  },
  {
   "cell_type": "code",
   "execution_count": 12,
   "metadata": {},
   "outputs": [
    {
     "data": {
      "text/plain": [
       "0.740909090909091"
      ]
     },
     "execution_count": 12,
     "metadata": {},
     "output_type": "execute_result"
    }
   ],
   "source": [
    "#let's see if tf-idf weighting improves the accuracy\n",
    "tfidfvec = TfidfVectorizer(stop_words = 'english', min_df = 1, binary=True)\n",
    "training_dtm_tfidf = tfidfvec.fit_transform(df_train.body)\n",
    "test_dtm_tfidf = tfidfvec.transform(df_test.body)\n",
    "\n",
    "logit.fit(training_dtm_tfidf, training_labels)\n",
    "predictions_tfidf = logit.predict(test_dtm_tfidf) \n",
    "accuracy_score(predictions_tfidf, test_labels)"
   ]
  },
  {
   "cell_type": "markdown",
   "metadata": {},
   "source": [
    "In the `fit_model` function defined below, we're going to use the logistic regression classifier described above to take in the numerical representation of the texts and spit out whether it's positive or negative. Then we'll use `test_model` to test the model's performance against our test data and print out some results."
   ]
  },
  {
   "cell_type": "code",
   "execution_count": 13,
   "metadata": {},
   "outputs": [
    {
     "name": "stdout",
     "output_type": "stream",
     "text": [
      "Accuracy:  0.7272727272727273\n"
     ]
    },
    {
     "data": {
      "image/png": "[encoded data removed]",
      "text/plain": [
       "<Figure size 432x288 with 1 Axes>"
      ]
     },
     "metadata": {},
     "output_type": "display_data"
    }
   ],
   "source": [
    "def fit_logistic_regression(X, y, cv=False):\n",
    "    if cv:\n",
    "        model = LogisticRegressionCV(Cs=5, penalty='l1', cv=3, solver='liblinear', refit=True)\n",
    "    else:\n",
    "        model = LogisticRegression(penalty='l1', solver='liblinear')\n",
    "    model.fit(X, y)\n",
    "    return model\n",
    "\n",
    "def conmat(model, X, y):\n",
    "    \"\"\"Wrapper for sklearn's confusion matrix.\"\"\"\n",
    "    labels = model.classes_\n",
    "    y_pred = model.predict(X)\n",
    "    c = confusion_matrix(y, y_pred)\n",
    "    sns.heatmap(c, annot=True, fmt='d', \n",
    "                xticklabels=labels, \n",
    "                yticklabels=labels, \n",
    "                cmap=\"YlGnBu\", cbar=False)\n",
    "    plt.ylabel('Ground truth')\n",
    "    plt.xlabel('Prediction')\n",
    "    \n",
    "def test_model(model, X_test, y_test):\n",
    "    conmat(model, X_test, y_test)\n",
    "    print('Accuracy: ', model.score(X_test, y_test))\n",
    "    \n",
    "\n",
    "lr = fit_logistic_regression(training_dtm_tf, training_labels)\n",
    "\n",
    "test_model(lr, test_dtm_tf, test_labels)"
   ]
  },
  {
   "cell_type": "markdown",
   "metadata": {},
   "source": [
    "### Challenge\n",
    "\n",
    "Try to improve the accuracy by changing some of the options. You can change options for either the vectorizer function, or one of the algorithms.\n",
    "\n",
    "How does it change the accuracy of the classifier?"
   ]
  },
  {
   "cell_type": "code",
   "execution_count": 14,
   "metadata": {},
   "outputs": [],
   "source": [
    "# your code here"
   ]
  },
  {
   "cell_type": "code",
   "execution_count": 15,
   "metadata": {},
   "outputs": [
    {
     "data": {
      "text/plain": [
       "0.740909090909091"
      ]
     },
     "execution_count": 15,
     "metadata": {},
     "output_type": "execute_result"
    }
   ],
   "source": [
    "nb = MultinomialNB(alpha = 0.1, fit_prior = True)\n",
    "nb.fit(training_dtm_tf, training_labels)\n",
    "predictions_nb = nb.predict(test_dtm_tf) \n",
    "accuracy_score(predictions_nb, test_labels)"
   ]
  },
  {
   "cell_type": "code",
   "execution_count": 16,
   "metadata": {},
   "outputs": [
    {
     "name": "stderr",
     "output_type": "stream",
     "text": [
      "/opt/conda/lib/python3.8/site-packages/sklearn/svm/_base.py:976: ConvergenceWarning: Liblinear failed to converge, increase the number of iterations.\n",
      "  warnings.warn(\"Liblinear failed to converge, increase \"\n"
     ]
    },
    {
     "data": {
      "text/plain": [
       "0.7636363636363637"
      ]
     },
     "execution_count": 16,
     "metadata": {},
     "output_type": "execute_result"
    }
   ],
   "source": [
    "svc = LinearSVC(max_iter=20) #dual = False, loss='hinge'\n",
    "svc.fit(training_dtm_tf, training_labels)\n",
    "predictions_svc = svc.predict(test_dtm_tf) \n",
    "accuracy_score(predictions_svc, test_labels)"
   ]
  },
  {
   "cell_type": "markdown",
   "metadata": {},
   "source": [
    "## Prediction on new data<a id='prediction'></a>\n",
    "\n",
    "Often what we want to do next is predict the label for unlabeled texts. Let's predict the label for two poems where we do not know the classification."
   ]
  },
  {
   "cell_type": "code",
   "execution_count": 19,
   "metadata": {},
   "outputs": [],
   "source": [
    "dickinson_canonic = \"\"\"Because I could not stop for Death – \n",
    "He kindly stopped for me –  \n",
    "The Carriage held but just Ourselves –  \n",
    "And Immortality.\n",
    "\n",
    "We slowly drove – He knew no haste\n",
    "And I had put away\n",
    "My labor and my leisure too,\n",
    "For His Civility – \n",
    "\n",
    "We passed the School, where Children strove\n",
    "At Recess – in the Ring –  \n",
    "We passed the Fields of Gazing Grain –  \n",
    "We passed the Setting Sun – \n",
    "\n",
    "Or rather – He passed us – \n",
    "The Dews drew quivering and chill – \n",
    "For only Gossamer, my Gown – \n",
    "My Tippet – only Tulle – \n",
    "\n",
    "We paused before a House that seemed\n",
    "A Swelling of the Ground – \n",
    "The Roof was scarcely visible – \n",
    "The Cornice – in the Ground – \n",
    "\n",
    "Since then – ‘tis Centuries – and yet\n",
    "Feels shorter than the Day\n",
    "I first surmised the Horses’ Heads \n",
    "Were toward Eternity – \"\"\"\n",
    "\n",
    "\n",
    "anthem_patriotic = \"\"\"O! say can you see, by the dawn's early light,\n",
    "What so proudly we hailed at the twilight's last gleaming,\n",
    "Whose broad stripes and bright stars through the perilous fight,\n",
    "O'er the ramparts we watched, were so gallantly streaming?\n",
    "And the rockets' red glare, the bombs bursting in air,\n",
    "Gave proof through the night that our flag was still there;\n",
    "O! say does that star-spangled banner yet wave\n",
    "O'er the land of the free and the home of the brave?\"\"\""
   ]
  },
  {
   "cell_type": "code",
   "execution_count": 20,
   "metadata": {},
   "outputs": [],
   "source": [
    "# Transform these into DTMs with the same feature-columns as previously\n",
    "unknown_dtm = countvec.transform([dickinson_canonic,anthem_patriotic]).toarray()"
   ]
  },
  {
   "cell_type": "code",
   "execution_count": 21,
   "metadata": {},
   "outputs": [
    {
     "data": {
      "text/plain": [
       "array(['review', 'random'], dtype='<U6')"
      ]
     },
     "execution_count": 21,
     "metadata": {},
     "output_type": "execute_result"
    }
   ],
   "source": [
    "# Return binary classification\n",
    "nb.predict(unknown_dtm)"
   ]
  },
  {
   "cell_type": "code",
   "execution_count": 22,
   "metadata": {},
   "outputs": [
    {
     "data": {
      "text/plain": [
       "array([[3.29533415e-04, 9.99670467e-01],\n",
       "       [8.88143280e-01, 1.11856720e-01]])"
      ]
     },
     "execution_count": 22,
     "metadata": {},
     "output_type": "execute_result"
    }
   ],
   "source": [
    "# Return probability of classification. \n",
    "# Bayes theorem assigns a probability of membership in either category.\n",
    "# Just how confident is our classifier of its predictions?\n",
    "\n",
    "nb.predict_proba(unknown_dtm)"
   ]
  },
  {
   "cell_type": "code",
   "execution_count": 23,
   "metadata": {},
   "outputs": [
    {
     "data": {
      "text/plain": [
       "[('dickinson', 'review', array([3.29533415e-04, 9.99670467e-01])),\n",
       " ('anthem', 'random', array([0.88814328, 0.11185672]))]"
      ]
     },
     "execution_count": 23,
     "metadata": {},
     "output_type": "execute_result"
    }
   ],
   "source": [
    "#Let's zip this together with the name of the poems to make sense of the output\n",
    "list(zip(['dickinson', 'anthem'], nb.predict(unknown_dtm), nb.predict_proba(unknown_dtm)))"
   ]
  },
  {
   "cell_type": "markdown",
   "metadata": {},
   "source": [
    "### Challenge\n",
    "\n",
    "Import and process the 'canonic' (albeit unreviewed) volumes of poetry. Use the poetry classifier to predict whether they might have been reviewed.\n",
    "\n",
    "What do you think of the output? Does it make sense?"
   ]
  },
  {
   "cell_type": "code",
   "execution_count": 24,
   "metadata": {},
   "outputs": [],
   "source": [
    "# your code here"
   ]
  },
  {
   "cell_type": "code",
   "execution_count": 25,
   "metadata": {},
   "outputs": [
    {
     "name": "stdout",
     "output_type": "stream",
     "text": [
      "['256 Hopkins, Gerard Manley Poems of Gerard Manley Hopkins 1889.txt', '486 Dickinson, Emily Poems 1866.txt', '12 Lawrence, D. H. Look! We Have Come Through 1918.txt', '177 Hardy, Thomas Wessex Poems 1898.txt', '0 Lawrence, D. H. Tortoises 1921.txt', '169 Dunbar, Paul Laurence Lyrics of the Hearthside 1899.txt', '593 Brontë, Emily Poems of Acton, Currer, and Ellis Bell 1848.txt', '427 Harper, Frances Ellen Watkins Poems 1871.txt']\n"
     ]
    }
   ],
   "source": [
    "canonic_path = 'poems/canonic/'\n",
    "canonic_files = os.listdir(canonic_path)\n",
    "print(canonic_files)\n",
    "\n",
    "canonic_texts = [open(canonic_path+file_name, encoding='utf-8').read() for file_name in canonic_files]"
   ]
  },
  {
   "cell_type": "code",
   "execution_count": 26,
   "metadata": {},
   "outputs": [
    {
     "data": {
      "text/plain": [
       "array(['review', 'review', 'review', 'review', 'review', 'random',\n",
       "       'review', 'random'], dtype='<U6')"
      ]
     },
     "execution_count": 26,
     "metadata": {},
     "output_type": "execute_result"
    }
   ],
   "source": [
    "canonic_dtm = countvec.transform(canonic_texts).toarray()\n",
    "nb.predict(canonic_dtm)"
   ]
  },
  {
   "cell_type": "code",
   "execution_count": 27,
   "metadata": {},
   "outputs": [
    {
     "data": {
      "text/plain": [
       "array([[3.92017184e-140, 1.00000000e+000],\n",
       "       [4.49904061e-088, 1.00000000e+000],\n",
       "       [5.07060513e-119, 1.00000000e+000],\n",
       "       [2.82093581e-100, 1.00000000e+000],\n",
       "       [1.23137556e-044, 1.00000000e+000],\n",
       "       [1.00000000e+000, 5.99121033e-121],\n",
       "       [5.38176285e-006, 9.99994618e-001],\n",
       "       [1.00000000e+000, 5.14741899e-046]])"
      ]
     },
     "execution_count": 27,
     "metadata": {},
     "output_type": "execute_result"
    }
   ],
   "source": [
    "nb.predict_proba(canonic_dtm)"
   ]
  },
  {
   "cell_type": "code",
   "execution_count": 28,
   "metadata": {},
   "outputs": [
    {
     "data": {
      "text/plain": [
       "[('256 Hopkins, Gerard Manley Poems of Gerard Manley Hopkins 1889.txt',\n",
       "  'review',\n",
       "  array([3.92017184e-140, 1.00000000e+000])),\n",
       " ('486 Dickinson, Emily Poems 1866.txt',\n",
       "  'review',\n",
       "  array([4.49904061e-88, 1.00000000e+00])),\n",
       " ('12 Lawrence, D. H. Look! We Have Come Through 1918.txt',\n",
       "  'review',\n",
       "  array([5.07060513e-119, 1.00000000e+000])),\n",
       " ('177 Hardy, Thomas Wessex Poems 1898.txt',\n",
       "  'review',\n",
       "  array([2.82093581e-100, 1.00000000e+000])),\n",
       " ('0 Lawrence, D. H. Tortoises 1921.txt',\n",
       "  'review',\n",
       "  array([1.23137556e-44, 1.00000000e+00])),\n",
       " ('169 Dunbar, Paul Laurence Lyrics of the Hearthside 1899.txt',\n",
       "  'random',\n",
       "  array([1.00000000e+000, 5.99121033e-121])),\n",
       " ('593 Brontë, Emily Poems of Acton, Currer, and Ellis Bell 1848.txt',\n",
       "  'review',\n",
       "  array([5.38176285e-06, 9.99994618e-01])),\n",
       " ('427 Harper, Frances Ellen Watkins Poems 1871.txt',\n",
       "  'random',\n",
       "  array([1.00000000e+00, 5.14741899e-46]))]"
      ]
     },
     "execution_count": 28,
     "metadata": {},
     "output_type": "execute_result"
    }
   ],
   "source": [
    "list(zip(canonic_files, nb.predict(canonic_dtm), nb.predict_proba(canonic_dtm)))"
   ]
  },
  {
   "cell_type": "markdown",
   "metadata": {},
   "source": [
    "## Identify features<a id='features'></a>\n",
    "\n",
    "We can use supervised machine learning to classify unseen documents using the above code. But we can also use it to learn more about the content of each category, by extracting the most defining features of this category. So even if we do not have unseen text, we can use this method to better understand given categories (for example, canonized and non-canonized text). "
   ]
  },
  {
   "cell_type": "code",
   "execution_count": 29,
   "metadata": {},
   "outputs": [],
   "source": [
    "# Hand-waving the underlying statistics here...\n",
    "\n",
    "def most_informative_features(text_class, vectorizer = countvec, classifier = nb, top_n = 20):\n",
    "\n",
    "    feature_names = vectorizer.get_feature_names()\n",
    "    class_index = np.where(classifier.classes_==(text_class))[0][0]\n",
    "    \n",
    "    class_prob_distro = np.exp(classifier.feature_log_prob_[class_index])\n",
    "    alt_class_prob_distro = np.exp(classifier.feature_log_prob_[1 - class_index])\n",
    "    \n",
    "    odds_ratios = class_prob_distro / alt_class_prob_distro\n",
    "    odds_with_fns = sorted(zip(odds_ratios, feature_names), reverse = True)\n",
    "    \n",
    "    return odds_with_fns[:top_n]"
   ]
  },
  {
   "cell_type": "code",
   "execution_count": 30,
   "metadata": {},
   "outputs": [
    {
     "data": {
      "text/plain": [
       "[(138.91433527740185, 'yews'),\n",
       " (129.7147104245939, 'unlighted'),\n",
       " (120.51508557178579, 'persephone'),\n",
       " (111.31546071897758, 'blurring'),\n",
       " (102.11583586616956, 'unbreathed'),\n",
       " (102.11583586616956, 'shambles'),\n",
       " (102.11583586616956, 'palimpsest'),\n",
       " (102.11583586616956, 'easeful'),\n",
       " (92.91621101336153, 'whetting'),\n",
       " (92.91621101336153, 'unrolling'),\n",
       " (92.91621101336153, 'piazza'),\n",
       " (92.91621101336153, 'overwrought'),\n",
       " (92.91621101336153, 'mouthpiece'),\n",
       " (92.91621101336153, 'exhalation'),\n",
       " (92.91621101336153, 'bigelow'),\n",
       " (83.71658616055348, 'unshamed'),\n",
       " (83.71658616055348, 'unrestful'),\n",
       " (83.71658616055348, 'uncut'),\n",
       " (83.71658616055348, 'unbearable'),\n",
       " (83.71658616055348, 'shrewish')]"
      ]
     },
     "execution_count": 30,
     "metadata": {},
     "output_type": "execute_result"
    }
   ],
   "source": [
    "# Returns feature name and odds ratio for a given class\n",
    "most_informative_features('review')"
   ]
  },
  {
   "cell_type": "code",
   "execution_count": 31,
   "metadata": {},
   "outputs": [
    {
     "data": {
      "text/plain": [
       "[(131.52710239381815, 'minnie'),\n",
       " (120.65709393151899, 'instructions'),\n",
       " (120.65709393151899, 'acrostic'),\n",
       " (109.78708546922002, 'undertook'),\n",
       " (109.78708546922002, 'ke'),\n",
       " (109.78708546922002, 'indulging'),\n",
       " (109.78708546922002, 'frien'),\n",
       " (109.78708546922002, 'debase'),\n",
       " (109.78708546922002, 'alcohol'),\n",
       " (98.91707700692105, 'wrang'),\n",
       " (98.91707700692105, 'mell'),\n",
       " (98.91707700692105, 'investigation'),\n",
       " (98.91707700692105, 'fou'),\n",
       " (98.91707700692105, 'arranging'),\n",
       " (98.91707700692105, 'alane'),\n",
       " (88.047068544622, 'weans'),\n",
       " (88.047068544622, 'virus'),\n",
       " (88.047068544622, 'velvety'),\n",
       " (88.047068544622, 'val'),\n",
       " (88.047068544622, 'propelled')]"
      ]
     },
     "execution_count": 31,
     "metadata": {},
     "output_type": "execute_result"
    }
   ],
   "source": [
    "most_informative_features('random')"
   ]
  },
  {
   "cell_type": "markdown",
   "metadata": {},
   "source": [
    "### Challenge\n",
    "\n",
    "Look at the top fifty informative words for each category. \n",
    "\n",
    "What kinds of patterns do you notice?"
   ]
  },
  {
   "cell_type": "code",
   "execution_count": 32,
   "metadata": {},
   "outputs": [],
   "source": [
    "# your code here"
   ]
  },
  {
   "cell_type": "code",
   "execution_count": 33,
   "metadata": {},
   "outputs": [
    {
     "data": {
      "text/plain": [
       "[(138.91433527740185, 'yews'),\n",
       " (129.7147104245939, 'unlighted'),\n",
       " (120.51508557178579, 'persephone'),\n",
       " (111.31546071897758, 'blurring'),\n",
       " (102.11583586616956, 'unbreathed'),\n",
       " (102.11583586616956, 'shambles'),\n",
       " (102.11583586616956, 'palimpsest'),\n",
       " (102.11583586616956, 'easeful'),\n",
       " (92.91621101336153, 'whetting'),\n",
       " (92.91621101336153, 'unrolling'),\n",
       " (92.91621101336153, 'piazza'),\n",
       " (92.91621101336153, 'overwrought'),\n",
       " (92.91621101336153, 'mouthpiece'),\n",
       " (92.91621101336153, 'exhalation'),\n",
       " (92.91621101336153, 'bigelow'),\n",
       " (83.71658616055348, 'unshamed'),\n",
       " (83.71658616055348, 'unrestful'),\n",
       " (83.71658616055348, 'uncut'),\n",
       " (83.71658616055348, 'unbearable'),\n",
       " (83.71658616055348, 'shrewish'),\n",
       " (83.71658616055348, 'sacristan'),\n",
       " (83.71658616055348, 'nighest'),\n",
       " (83.71658616055348, 'maenads'),\n",
       " (83.71658616055348, 'foliaged'),\n",
       " (83.71658616055348, 'belfries'),\n",
       " (83.71658616055348, 'austerely'),\n",
       " (74.51696130774539, 'woodwork'),\n",
       " (74.51696130774539, 'whitewashed'),\n",
       " (74.51696130774539, 'waterside'),\n",
       " (74.51696130774539, 'unleashed'),\n",
       " (74.51696130774539, 'threshed'),\n",
       " (74.51696130774539, 'sundawn'),\n",
       " (74.51696130774539, 'succouring'),\n",
       " (74.51696130774539, 'somnolence'),\n",
       " (74.51696130774539, 'shard'),\n",
       " (74.51696130774539, 'sewn'),\n",
       " (74.51696130774539, 'saintlier'),\n",
       " (74.51696130774539, 'ruff'),\n",
       " (74.51696130774539, 'procreant'),\n",
       " (74.51696130774539, 'pawed'),\n",
       " (74.51696130774539, 'pasteboard'),\n",
       " (74.51696130774539, 'obloquy'),\n",
       " (74.51696130774539, 'inextinguishable'),\n",
       " (74.51696130774539, 'immitigable'),\n",
       " (74.51696130774539, 'herbless'),\n",
       " (74.51696130774539, 'disinherited'),\n",
       " (74.51696130774539, 'danae'),\n",
       " (74.51696130774539, 'crueller'),\n",
       " (74.51696130774539, 'candlestick'),\n",
       " (74.51696130774539, 'billed')]"
      ]
     },
     "execution_count": 33,
     "metadata": {},
     "output_type": "execute_result"
    }
   ],
   "source": [
    "most_informative_features('review', top_n=50)"
   ]
  },
  {
   "cell_type": "code",
   "execution_count": 34,
   "metadata": {},
   "outputs": [
    {
     "data": {
      "text/plain": [
       "[(131.52710239381815, 'minnie'),\n",
       " (120.65709393151899, 'instructions'),\n",
       " (120.65709393151899, 'acrostic'),\n",
       " (109.78708546922002, 'undertook'),\n",
       " (109.78708546922002, 'ke'),\n",
       " (109.78708546922002, 'indulging'),\n",
       " (109.78708546922002, 'frien'),\n",
       " (109.78708546922002, 'debase'),\n",
       " (109.78708546922002, 'alcohol'),\n",
       " (98.91707700692105, 'wrang'),\n",
       " (98.91707700692105, 'mell'),\n",
       " (98.91707700692105, 'investigation'),\n",
       " (98.91707700692105, 'fou'),\n",
       " (98.91707700692105, 'arranging'),\n",
       " (98.91707700692105, 'alane'),\n",
       " (88.047068544622, 'weans'),\n",
       " (88.047068544622, 'virus'),\n",
       " (88.047068544622, 'velvety'),\n",
       " (88.047068544622, 'val'),\n",
       " (88.047068544622, 'propelled'),\n",
       " (88.047068544622, 'legislative'),\n",
       " (88.047068544622, 'ib'),\n",
       " (88.047068544622, 'fulton'),\n",
       " (88.047068544622, 'augmented'),\n",
       " (77.17706008232297, 'waur'),\n",
       " (77.17706008232297, 'vicksburg'),\n",
       " (77.17706008232297, 'vic'),\n",
       " (77.17706008232297, 'thocht'),\n",
       " (77.17706008232297, 'thae'),\n",
       " (77.17706008232297, 'sune'),\n",
       " (77.17706008232297, 'scientist'),\n",
       " (77.17706008232297, 'routs'),\n",
       " (77.17706008232297, 'puns'),\n",
       " (77.17706008232297, 'protectors'),\n",
       " (77.17706008232297, 'prosecute'),\n",
       " (77.17706008232297, 'probes'),\n",
       " (77.17706008232297, 'popularity'),\n",
       " (77.17706008232297, 'oot'),\n",
       " (77.17706008232297, 'mush'),\n",
       " (77.17706008232297, 'marys'),\n",
       " (77.17706008232297, 'lugs'),\n",
       " (77.17706008232297, 'irom'),\n",
       " (77.17706008232297, 'ior'),\n",
       " (77.17706008232297, 'influenced'),\n",
       " (77.17706008232297, 'estimated'),\n",
       " (77.17706008232297, 'erat'),\n",
       " (77.17706008232297, 'duncan'),\n",
       " (77.17706008232297, 'disunion'),\n",
       " (77.17706008232297, 'diff'),\n",
       " (77.17706008232297, 'corns')]"
      ]
     },
     "execution_count": 34,
     "metadata": {},
     "output_type": "execute_result"
    }
   ],
   "source": [
    "most_informative_features('random', top_n=50)"
   ]
  }
 ],
 "metadata": {
  "kernelspec": {
   "display_name": "Python 3",
   "language": "python",
   "name": "python3"
  },
  "language_info": {
   "codemirror_mode": {
    "name": "ipython",
    "version": 3
   },
   "file_extension": ".py",
   "mimetype": "text/x-python",
   "name": "python",
   "nbconvert_exporter": "python",
   "pygments_lexer": "ipython3",
   "version": "3.8.5"
  }
 },
 "nbformat": 4,
 "nbformat_minor": 2
}
