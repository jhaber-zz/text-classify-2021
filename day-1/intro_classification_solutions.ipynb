{
 "cells": [
  {
   "cell_type": "markdown",
   "metadata": {},
   "source": [
    "# Text Classification with Supervised Machine Learning\n",
    "\n",
    "\n",
    "## Outline\n",
    "\n",
    "* [Introduction](#intro)\n",
    "    * [Text classification in action](#example)\n",
    "    * [Text classification basics](#basics)\n",
    "* [Data preparation](#prepare)\n",
    "    * [Import modules](#import)\n",
    "    * [Read and preprocess data](#preprocess)\n",
    "    * [Divide data into training and test sets](#split)\n",
    "    * [Vectorize texts](#vectorize)\n",
    "* [Classification with supervised machine learning](#supervised)\n",
    "    * [Train logistic classifier model](#model)\n",
    "    * [Prediction on new data](#prediction)\n",
    "    * [Identify features](#features)"
   ]
  },
  {
   "cell_type": "markdown",
   "metadata": {},
   "source": [
    "# Data preparation<a id='preparation'></a>\n",
    "\n",
    "## Import modules<a id='import'></a>"
   ]
  },
  {
   "cell_type": "code",
   "execution_count": 1,
   "metadata": {},
   "outputs": [],
   "source": [
    "import pandas as pd\n",
    "import os\n",
    "import numpy as np\n",
    "import matplotlib.pyplot as plt\n",
    "import seaborn as sns\n",
    "sns.set()\n",
    "\n",
    "#scikit-learn is a huge library. We import what we need.\n",
    "from sklearn.feature_extraction.text import TfidfVectorizer\n",
    "from sklearn.feature_extraction.text import CountVectorizer\n",
    "from sklearn.model_selection import train_test_split #shortcut for dividing into train and test data\n",
    "from sklearn.metrics import confusion_matrix #shows confusion matrix--false/true positives/negatives\n",
    "from sklearn.metrics import accuracy_score #to asses the accuracy of the algorithm\n",
    "from sklearn.model_selection import cross_val_score #to compute cross validation for assessment purposes\n",
    "from sklearn.svm import LinearSVC #Linear Support Vector Classifier\n",
    "from sklearn.linear_model import LogisticRegression #Logistic regression classifier\n",
    "from sklearn.naive_bayes import MultinomialNB #Naive Bayes classifier"
   ]
  },
  {
   "cell_type": "markdown",
   "metadata": {},
   "source": [
    "## Read and preprocess data<a id='preprocess'></a>"
   ]
  },
  {
   "cell_type": "code",
   "execution_count": 2,
   "metadata": {},
   "outputs": [],
   "source": [
    "#read our texts and turn them into lists\n",
    "review_path = 'poems/reviewed/'\n",
    "random_path = 'poems/random/'\n",
    "review_files = os.listdir(review_path)\n",
    "random_files = os.listdir(random_path)\n",
    "\n",
    "review_texts = [open(review_path+file_name, encoding='utf-8').read() for file_name in review_files]\n",
    "random_texts = [open(random_path+file_name, encoding='utf-8').read() for file_name in random_files]"
   ]
  },
  {
   "cell_type": "code",
   "execution_count": 3,
   "metadata": {
    "scrolled": true
   },
   "outputs": [
    {
     "data": {
      "text/html": [
       "<div>\n",
       "<style scoped>\n",
       "    .dataframe tbody tr th:only-of-type {\n",
       "        vertical-align: middle;\n",
       "    }\n",
       "\n",
       "    .dataframe tbody tr th {\n",
       "        vertical-align: top;\n",
       "    }\n",
       "\n",
       "    .dataframe thead th {\n",
       "        text-align: right;\n",
       "    }\n",
       "</style>\n",
       "<table border=\"1\" class=\"dataframe\">\n",
       "  <thead>\n",
       "    <tr style=\"text-align: right;\">\n",
       "      <th></th>\n",
       "      <th>body</th>\n",
       "      <th>label</th>\n",
       "    </tr>\n",
       "  </thead>\n",
       "  <tbody>\n",
       "    <tr>\n",
       "      <th>0</th>\n",
       "      <td>the the the the the the the the the the the th...</td>\n",
       "      <td>review</td>\n",
       "    </tr>\n",
       "    <tr>\n",
       "      <th>1</th>\n",
       "      <td>the the the the the the the the the the the th...</td>\n",
       "      <td>review</td>\n",
       "    </tr>\n",
       "    <tr>\n",
       "      <th>2</th>\n",
       "      <td>the the the the the the the the the the the th...</td>\n",
       "      <td>review</td>\n",
       "    </tr>\n",
       "  </tbody>\n",
       "</table>\n",
       "</div>"
      ],
      "text/plain": [
       "                                                body   label\n",
       "0  the the the the the the the the the the the th...  review\n",
       "1  the the the the the the the the the the the th...  review\n",
       "2  the the the the the the the the the the the th...  review"
      ]
     },
     "execution_count": 3,
     "metadata": {},
     "output_type": "execute_result"
    }
   ],
   "source": [
    "#transform and concat these lists into a Pandas dataframe\n",
    "df1 = pd.DataFrame(review_texts, columns = ['body'])\n",
    "df1['label'] = \"review\"\n",
    "df2 = pd.DataFrame(random_texts, columns = ['body'])\n",
    "df2['label'] = \"random\"\n",
    "df = pd.concat([df1,df2])\n",
    "df.head(3)"
   ]
  },
  {
   "cell_type": "markdown",
   "metadata": {},
   "source": [
    "### Challenge\n",
    "\n",
    "Output some summary statistics for this dataframe. \n",
    "- How many poems have the review label, and how many bear the random label? \n",
    "- What is the total number of words in each category? \n",
    "- What is the average number of words per poem in each category?"
   ]
  },
  {
   "cell_type": "code",
   "execution_count": 4,
   "metadata": {},
   "outputs": [
    {
     "name": "stdout",
     "output_type": "stream",
     "text": [
      "Total number of poems in each category:\n",
      " review    360\n",
      "random    360\n",
      "Name: label, dtype: int64 \n",
      "\n",
      "Token totals in each category: label\n",
      "random    7069809\n",
      "review    8260352\n",
      "Name: tokens, dtype: int64 \n",
      "\n",
      "Token averages in each category: label\n",
      "random    19638.358333\n",
      "review    22945.422222\n",
      "Name: tokens, dtype: float64\n"
     ]
    }
   ],
   "source": [
    "# solutions\n",
    "print('Total number of poems in each category:\\n', df['label'].value_counts(), '\\n')\n",
    "df['tokens'] = df['body'].str.split()\n",
    "df['tokens'] = df['tokens'].str.len()\n",
    "\n",
    "grouped = df.groupby('label')\n",
    "print('Token totals in each category:', grouped['tokens'].sum(), '\\n')\n",
    "print('Token averages in each category:', grouped['tokens'].mean())"
   ]
  },
  {
   "cell_type": "code",
   "execution_count": 5,
   "metadata": {},
   "outputs": [
    {
     "data": {
      "image/png": "[encoded data removed]",
      "text/plain": [
       "<Figure size 432x288 with 1 Axes>"
      ]
     },
     "metadata": {},
     "output_type": "display_data"
    }
   ],
   "source": [
    "sns.countplot(df['label'], order=df['label'].value_counts().index);"
   ]
  },
  {
   "cell_type": "markdown",
   "metadata": {},
   "source": [
    "## Divide data into training and test sets<a id='split'></a>"
   ]
  },
  {
   "cell_type": "code",
   "execution_count": 6,
   "metadata": {},
   "outputs": [],
   "source": [
    "#randomize our rows\n",
    "df = df.sample(720, random_state=0)"
   ]
  },
  {
   "cell_type": "code",
   "execution_count": 7,
   "metadata": {},
   "outputs": [
    {
     "data": {
      "text/plain": [
       "random    254\n",
       "review    246\n",
       "Name: label, dtype: int64"
      ]
     },
     "execution_count": 7,
     "metadata": {},
     "output_type": "execute_result"
    }
   ],
   "source": [
    "#create two new dataframes\n",
    "df_train = df[:500]\n",
    "df_test = df[500:]\n",
    "df_train['label'].value_counts()"
   ]
  },
  {
   "cell_type": "markdown",
   "metadata": {},
   "source": [
    "## Vectorize texts<a id='vectorize'></a>"
   ]
  },
  {
   "cell_type": "code",
   "execution_count": 8,
   "metadata": {},
   "outputs": [
    {
     "data": {
      "text/plain": [
       "review    114\n",
       "random    106\n",
       "Name: label, dtype: int64"
      ]
     },
     "execution_count": 8,
     "metadata": {},
     "output_type": "execute_result"
    }
   ],
   "source": [
    "#transform the 'body' column into a document term matrix\n",
    "countvec = CountVectorizer(stop_words = 'english', min_df = 1, binary=True)\n",
    "\n",
    "training_dtm_tf = countvec.fit_transform(df_train.body)\n",
    "test_dtm_tf = countvec.transform(df_test.body)\n",
    "\n",
    "#create an array for labels\n",
    "training_labels = df_train.label\n",
    "test_labels = df_test.label\n",
    "test_labels.value_counts()"
   ]
  },
  {
   "cell_type": "markdown",
   "metadata": {},
   "source": [
    "# Classification with supervised machine learning<a id='supervised'></a>"
   ]
  },
  {
   "cell_type": "markdown",
   "metadata": {},
   "source": [
    "## Train logistic classifier model<a id='model'></a>"
   ]
  },
  {
   "cell_type": "code",
   "execution_count": 9,
   "metadata": {},
   "outputs": [],
   "source": [
    "#define a container for our chosen algorithm, in this case logistic regression\n",
    "#one object contains all the functions for fitting data, making predictions, and storing parameters\n",
    "logit = LogisticRegression(solver='liblinear')\n",
    "\n",
    "#fit a model on our training set\n",
    "logit.fit(training_dtm_tf, training_labels)\n",
    "\n",
    "#predict the labels on the test set using the trained model\n",
    "predictions_logit = logit.predict(test_dtm_tf) "
   ]
  },
  {
   "cell_type": "code",
   "execution_count": 10,
   "metadata": {},
   "outputs": [
    {
     "data": {
      "text/plain": [
       "0.7681818181818182"
      ]
     },
     "execution_count": 10,
     "metadata": {},
     "output_type": "execute_result"
    }
   ],
   "source": [
    "accuracy_score(predictions_logit, test_labels)"
   ]
  },
  {
   "cell_type": "markdown",
   "metadata": {},
   "source": [
    "### Challenge\n",
    "\n",
    "Text vectorization methods affect downstream classification accuracy. Above, we used simple term counts to turn texts into numbers. This time, instead of using term frequencies, use `sklearn`'s `TfidfVectorizer()` function to weight features with term frequency inverse document frequency (TF-IDF): this gives a word greater weight both when it is more frequent in a text AND when it is rare across the corpus. Does this vectorization approach improve classification accuracy?"
   ]
  },
  {
   "cell_type": "code",
   "execution_count": 11,
   "metadata": {},
   "outputs": [
    {
     "data": {
      "text/plain": [
       "0.75"
      ]
     },
     "execution_count": 11,
     "metadata": {},
     "output_type": "execute_result"
    }
   ],
   "source": [
    "# solution\n",
    "tfidfvec = TfidfVectorizer(stop_words = 'english', min_df = 1, binary=True)\n",
    "training_dtm_tfidf = tfidfvec.fit_transform(df_train.body)\n",
    "test_dtm_tfidf = tfidfvec.transform(df_test.body)\n",
    "\n",
    "logit = LogisticRegression(solver='liblinear')\n",
    "logit.fit(training_dtm_tfidf, training_labels)\n",
    "predictions_tfidf = logit.predict(test_dtm_tfidf) \n",
    "accuracy_score(predictions_tfidf, test_labels)"
   ]
  },
  {
   "cell_type": "markdown",
   "metadata": {},
   "source": [
    "Unfortunately, TF-IDF seems to make our logistic regression classifier less accurate. So let's stick with term frequencies as our text vectorization method."
   ]
  },
  {
   "cell_type": "markdown",
   "metadata": {},
   "source": [
    "### Challenge\n",
    "\n",
    "A common practice in machine learning is to quickly try a bunch of algorithms, see which one works the best, and optimize it. In this spirit...\n",
    "\n",
    "**Part 1**\n",
    "\n",
    "Apply these two additional algorithms without bothering to learn how they work: \n",
    "- Linear Support Vector Classification (`LinearSVC()`) and \n",
    "- Multinomial Naive Bayes (`MultinomialNB()`)\n",
    "    \n",
    "To avoid a long delay, with `LinearSVC()` set `max_iter` to 30. \n",
    "\n",
    "Train each of these on the training set and evaluate accuracy on the test set."
   ]
  },
  {
   "cell_type": "code",
   "execution_count": 12,
   "metadata": {},
   "outputs": [
    {
     "name": "stderr",
     "output_type": "stream",
     "text": [
      "/opt/conda/lib/python3.8/site-packages/sklearn/svm/_base.py:976: ConvergenceWarning: Liblinear failed to converge, increase the number of iterations.\n",
      "  warnings.warn(\"Liblinear failed to converge, increase \"\n"
     ]
    },
    {
     "data": {
      "text/plain": [
       "0.7636363636363637"
      ]
     },
     "execution_count": 12,
     "metadata": {},
     "output_type": "execute_result"
    }
   ],
   "source": [
    "# solution\n",
    "svc = LinearSVC(max_iter=30) #dual = False, loss='hinge'\n",
    "svc.fit(training_dtm_tf, training_labels)\n",
    "predictions_svc = svc.predict(test_dtm_tf) \n",
    "accuracy_score(predictions_svc, test_labels)"
   ]
  },
  {
   "cell_type": "code",
   "execution_count": 13,
   "metadata": {},
   "outputs": [
    {
     "data": {
      "text/plain": [
       "0.7272727272727273"
      ]
     },
     "execution_count": 13,
     "metadata": {},
     "output_type": "execute_result"
    }
   ],
   "source": [
    "nb = MultinomialNB()\n",
    "nb.fit(training_dtm_tf, training_labels)\n",
    "predictions_nb = nb.predict(test_dtm_tf) \n",
    "accuracy_score(predictions_nb, test_labels)"
   ]
  },
  {
   "cell_type": "markdown",
   "metadata": {},
   "source": [
    "**Part 2**\n",
    "\n",
    "Try to improve the accuracy of either of these models by changing a few model parameters or the vectorizer function. (Decreases in accuracy are also informative.) This is basically a brute-force method of model optimization, which we'll learn more about tomorrow."
   ]
  },
  {
   "cell_type": "code",
   "execution_count": 14,
   "metadata": {},
   "outputs": [
    {
     "name": "stderr",
     "output_type": "stream",
     "text": [
      "/opt/conda/lib/python3.8/site-packages/sklearn/svm/_base.py:976: ConvergenceWarning: Liblinear failed to converge, increase the number of iterations.\n",
      "  warnings.warn(\"Liblinear failed to converge, increase \"\n"
     ]
    },
    {
     "data": {
      "text/plain": [
       "0.7681818181818182"
      ]
     },
     "execution_count": 14,
     "metadata": {},
     "output_type": "execute_result"
    }
   ],
   "source": [
    "# solution\n",
    "svc = LinearSVC(max_iter=100, dual = False) #loss='hinge'\n",
    "svc.fit(training_dtm_tf, training_labels)\n",
    "predictions_svc = svc.predict(test_dtm_tf) \n",
    "accuracy_score(predictions_svc, test_labels)"
   ]
  },
  {
   "cell_type": "markdown",
   "metadata": {},
   "source": [
    "## Prediction on new data<a id='prediction'></a>"
   ]
  },
  {
   "cell_type": "code",
   "execution_count": 15,
   "metadata": {},
   "outputs": [],
   "source": [
    "dickinson_canonic = \"\"\"Because I could not stop for Death – \n",
    "He kindly stopped for me –  \n",
    "The Carriage held but just Ourselves –  \n",
    "And Immortality.\n",
    "\n",
    "We slowly drove – He knew no haste\n",
    "And I had put away\n",
    "My labor and my leisure too,\n",
    "For His Civility – \n",
    "\n",
    "We passed the School, where Children strove\n",
    "At Recess – in the Ring –  \n",
    "We passed the Fields of Gazing Grain –  \n",
    "We passed the Setting Sun – \n",
    "\n",
    "Or rather – He passed us – \n",
    "The Dews drew quivering and chill – \n",
    "For only Gossamer, my Gown – \n",
    "My Tippet – only Tulle – \n",
    "\n",
    "We paused before a House that seemed\n",
    "A Swelling of the Ground – \n",
    "The Roof was scarcely visible – \n",
    "The Cornice – in the Ground – \n",
    "\n",
    "Since then – ‘tis Centuries – and yet\n",
    "Feels shorter than the Day\n",
    "I first surmised the Horses’ Heads \n",
    "Were toward Eternity – \"\"\"\n",
    "\n",
    "\n",
    "anthem_patriotic = \"\"\"O! say can you see, by the dawn's early light,\n",
    "What so proudly we hailed at the twilight's last gleaming,\n",
    "Whose broad stripes and bright stars through the perilous fight,\n",
    "O'er the ramparts we watched, were so gallantly streaming?\n",
    "And the rockets' red glare, the bombs bursting in air,\n",
    "Gave proof through the night that our flag was still there;\n",
    "O! say does that star-spangled banner yet wave\n",
    "O'er the land of the free and the home of the brave?\"\"\""
   ]
  },
  {
   "cell_type": "code",
   "execution_count": 16,
   "metadata": {},
   "outputs": [],
   "source": [
    "# Transform these into DTMs with the same feature-columns as previously\n",
    "unknown_dtm = countvec.transform([dickinson_canonic,anthem_patriotic]).toarray()"
   ]
  },
  {
   "cell_type": "code",
   "execution_count": 17,
   "metadata": {},
   "outputs": [
    {
     "data": {
      "text/plain": [
       "array(['review', 'random'], dtype=object)"
      ]
     },
     "execution_count": 17,
     "metadata": {},
     "output_type": "execute_result"
    }
   ],
   "source": [
    "# Return binary classification\n",
    "logit.predict(unknown_dtm)"
   ]
  },
  {
   "cell_type": "code",
   "execution_count": 18,
   "metadata": {},
   "outputs": [
    {
     "data": {
      "text/plain": [
       "array([[0.36267018, 0.63732982],\n",
       "       [0.68004536, 0.31995464]])"
      ]
     },
     "execution_count": 18,
     "metadata": {},
     "output_type": "execute_result"
    }
   ],
   "source": [
    "# Return probability of classification. \n",
    "# Bayes theorem assigns a probability of membership in either category.\n",
    "# Just how confident is our classifier of its predictions?\n",
    "\n",
    "logit.predict_proba(unknown_dtm)"
   ]
  },
  {
   "cell_type": "code",
   "execution_count": 19,
   "metadata": {},
   "outputs": [
    {
     "data": {
      "text/plain": [
       "[('dickinson', 'review', array([0.36267018, 0.63732982])),\n",
       " ('anthem', 'random', array([0.68004536, 0.31995464]))]"
      ]
     },
     "execution_count": 19,
     "metadata": {},
     "output_type": "execute_result"
    }
   ],
   "source": [
    "#Let's zip this together with the name of the poems to make sense of the output\n",
    "list(zip(['dickinson', 'anthem'], logit.predict(unknown_dtm), logit.predict_proba(unknown_dtm)))"
   ]
  },
  {
   "cell_type": "markdown",
   "metadata": {},
   "source": [
    "### Challenge\n",
    "\n",
    "Import and process the 'canonic' (albeit unreviewed) volumes of poetry. Use the poetry classifier to predict whether they might have been reviewed.\n",
    "\n",
    "What do you think of the output? Does it make sense?"
   ]
  },
  {
   "cell_type": "code",
   "execution_count": 20,
   "metadata": {},
   "outputs": [
    {
     "name": "stdout",
     "output_type": "stream",
     "text": [
      "['256 Hopkins, Gerard Manley Poems of Gerard Manley Hopkins 1889.txt', '486 Dickinson, Emily Poems 1866.txt', '12 Lawrence, D. H. Look! We Have Come Through 1918.txt', '177 Hardy, Thomas Wessex Poems 1898.txt', '0 Lawrence, D. H. Tortoises 1921.txt', '169 Dunbar, Paul Laurence Lyrics of the Hearthside 1899.txt', '593 Brontë, Emily Poems of Acton, Currer, and Ellis Bell 1848.txt', '427 Harper, Frances Ellen Watkins Poems 1871.txt']\n"
     ]
    }
   ],
   "source": [
    "# solutions\n",
    "canonic_path = 'poems/canonic/'\n",
    "canonic_files = os.listdir(canonic_path)\n",
    "print(canonic_files)\n",
    "\n",
    "canonic_texts = [open(canonic_path+file_name, encoding='utf-8').read() for file_name in canonic_files]"
   ]
  },
  {
   "cell_type": "code",
   "execution_count": 21,
   "metadata": {},
   "outputs": [
    {
     "data": {
      "text/plain": [
       "array(['review', 'review', 'review', 'review', 'review', 'review',\n",
       "       'review', 'random'], dtype=object)"
      ]
     },
     "execution_count": 21,
     "metadata": {},
     "output_type": "execute_result"
    }
   ],
   "source": [
    "canonic_dtm = countvec.transform(canonic_texts).toarray()\n",
    "logit.predict(canonic_dtm)"
   ]
  },
  {
   "cell_type": "code",
   "execution_count": 22,
   "metadata": {},
   "outputs": [
    {
     "data": {
      "text/plain": [
       "array([[0.00000000e+00, 1.00000000e+00],\n",
       "       [0.00000000e+00, 1.00000000e+00],\n",
       "       [0.00000000e+00, 1.00000000e+00],\n",
       "       [0.00000000e+00, 1.00000000e+00],\n",
       "       [1.58073567e-07, 9.99999842e-01],\n",
       "       [6.60301436e-09, 9.99999993e-01],\n",
       "       [8.50025617e-09, 9.99999991e-01],\n",
       "       [8.36566983e-01, 1.63433017e-01]])"
      ]
     },
     "execution_count": 22,
     "metadata": {},
     "output_type": "execute_result"
    }
   ],
   "source": [
    "logit.predict_proba(canonic_dtm)"
   ]
  },
  {
   "cell_type": "code",
   "execution_count": 23,
   "metadata": {},
   "outputs": [
    {
     "data": {
      "text/plain": [
       "[('256 Hopkins, Gerard Manley Poems of Gerard Manley Hopkins 1889.txt',\n",
       "  'review',\n",
       "  array([0., 1.])),\n",
       " ('486 Dickinson, Emily Poems 1866.txt', 'review', array([0., 1.])),\n",
       " ('12 Lawrence, D. H. Look! We Have Come Through 1918.txt',\n",
       "  'review',\n",
       "  array([0., 1.])),\n",
       " ('177 Hardy, Thomas Wessex Poems 1898.txt', 'review', array([0., 1.])),\n",
       " ('0 Lawrence, D. H. Tortoises 1921.txt',\n",
       "  'review',\n",
       "  array([1.58073567e-07, 9.99999842e-01])),\n",
       " ('169 Dunbar, Paul Laurence Lyrics of the Hearthside 1899.txt',\n",
       "  'review',\n",
       "  array([6.60301436e-09, 9.99999993e-01])),\n",
       " ('593 Brontë, Emily Poems of Acton, Currer, and Ellis Bell 1848.txt',\n",
       "  'review',\n",
       "  array([8.50025617e-09, 9.99999991e-01])),\n",
       " ('427 Harper, Frances Ellen Watkins Poems 1871.txt',\n",
       "  'random',\n",
       "  array([0.83656698, 0.16343302]))]"
      ]
     },
     "execution_count": 23,
     "metadata": {},
     "output_type": "execute_result"
    }
   ],
   "source": [
    "list(zip(canonic_files, logit.predict(canonic_dtm), logit.predict_proba(canonic_dtm)))"
   ]
  },
  {
   "cell_type": "markdown",
   "metadata": {},
   "source": [
    "## Identify features<a id='features'></a>"
   ]
  },
  {
   "cell_type": "code",
   "execution_count": 24,
   "metadata": {},
   "outputs": [],
   "source": [
    "nb = MultinomialNB() # naive bayes works best for this math\n",
    "nb.fit(training_dtm_tf, training_labels) # fit model\n",
    "\n",
    "def most_informative_features(text_class, vectorizer = countvec, classifier = nb, top_n = 20):\n",
    "    \"\"\"Returns feature name and odds ratio for a given class\"\"\"\n",
    "\n",
    "    feature_names = vectorizer.get_feature_names()\n",
    "    class_index = np.where(classifier.classes_==(text_class))[0][0]\n",
    "    \n",
    "    class_prob_distro = np.exp(classifier.feature_log_prob_[class_index])\n",
    "    alt_class_prob_distro = np.exp(classifier.feature_log_prob_[1 - class_index])\n",
    "    \n",
    "    odds_ratios = class_prob_distro / alt_class_prob_distro\n",
    "    odds_with_fns = sorted(zip(odds_ratios, feature_names), reverse = True)\n",
    "    \n",
    "    return odds_with_fns[:top_n]"
   ]
  },
  {
   "cell_type": "markdown",
   "metadata": {},
   "source": [
    "### Challenge\n",
    "\n",
    "Look at the top thirty informative words for our reviewed and random poems. \n",
    "\n",
    "What kinds of patterns do you notice?"
   ]
  },
  {
   "cell_type": "code",
   "execution_count": 25,
   "metadata": {
    "scrolled": true
   },
   "outputs": [
    {
     "data": {
      "text/plain": [
       "[(14.861096357476907, 'yews'),\n",
       " (14.39668709630576, 'braids'),\n",
       " (13.932277835134602, 'unlighted'),\n",
       " (13.003459312792291, 'persephone'),\n",
       " (12.074640790449976, 'blurring'),\n",
       " (11.145822268107672, 'unbreathed'),\n",
       " (11.145822268107672, 'shambles'),\n",
       " (11.145822268107672, 'palimpsest'),\n",
       " (11.145822268107672, 'easeful'),\n",
       " (10.217003745765371, 'whetting'),\n",
       " (10.217003745765371, 'unrolling'),\n",
       " (10.217003745765371, 'piazza'),\n",
       " (10.217003745765371, 'overwrought'),\n",
       " (10.217003745765371, 'mouthpiece'),\n",
       " (10.217003745765371, 'exhalation'),\n",
       " (10.217003745765371, 'bigelow'),\n",
       " (9.288185223423072, 'wherefrom'),\n",
       " (9.288185223423058, 'unshamed'),\n",
       " (9.288185223423058, 'unrestful'),\n",
       " (9.288185223423058, 'uncut'),\n",
       " (9.288185223423058, 'unbearable'),\n",
       " (9.288185223423058, 'shrewish'),\n",
       " (9.288185223423058, 'sacristan'),\n",
       " (9.288185223423058, 'nighest'),\n",
       " (9.288185223423058, 'maenads'),\n",
       " (9.288185223423058, 'foliaged'),\n",
       " (9.288185223423058, 'belfries'),\n",
       " (9.288185223423058, 'austerely'),\n",
       " (8.823775962251908, 'wilding'),\n",
       " (8.823775962251908, 'tugged')]"
      ]
     },
     "execution_count": 25,
     "metadata": {},
     "output_type": "execute_result"
    }
   ],
   "source": [
    "# solutions\n",
    "most_informative_features('review', top_n=30)"
   ]
  },
  {
   "cell_type": "code",
   "execution_count": 26,
   "metadata": {},
   "outputs": [
    {
     "data": {
      "text/plain": [
       "[(13.996275577296228, 'minnie'),\n",
       " (12.919638994427288, 'instructions'),\n",
       " (12.919638994427288, 'acrostic'),\n",
       " (11.843002411558354, 'undertook'),\n",
       " (11.843002411558354, 'ke'),\n",
       " (11.843002411558354, 'indulging'),\n",
       " (11.843002411558354, 'frien'),\n",
       " (11.843002411558354, 'debase'),\n",
       " (11.843002411558354, 'alcohol'),\n",
       " (10.766365828689404, 'wrang'),\n",
       " (10.766365828689404, 'mell'),\n",
       " (10.766365828689404, 'investigation'),\n",
       " (10.766365828689404, 'fou'),\n",
       " (10.766365828689404, 'arranging'),\n",
       " (10.766365828689404, 'alane'),\n",
       " (9.689729245820475, 'weans'),\n",
       " (9.689729245820475, 'virus'),\n",
       " (9.689729245820475, 'velvety'),\n",
       " (9.689729245820475, 'val'),\n",
       " (9.689729245820475, 'propelled'),\n",
       " (9.689729245820475, 'legislative'),\n",
       " (9.689729245820475, 'ib'),\n",
       " (9.689729245820475, 'fulton'),\n",
       " (9.689729245820475, 'augmented'),\n",
       " (9.68972924582046, 'digression'),\n",
       " (9.151410954386009, 'insure'),\n",
       " (9.151410954386009, 'ag'),\n",
       " (8.613092662951532, 'extolled'),\n",
       " (8.613092662951532, 'bj'),\n",
       " (8.61309266295153, 'waur')]"
      ]
     },
     "execution_count": 26,
     "metadata": {},
     "output_type": "execute_result"
    }
   ],
   "source": [
    "most_informative_features('random', top_n=30)"
   ]
  }
 ],
 "metadata": {
  "kernelspec": {
   "display_name": "Python 3",
   "language": "python",
   "name": "python3"
  },
  "language_info": {
   "codemirror_mode": {
    "name": "ipython",
    "version": 3
   },
   "file_extension": ".py",
   "mimetype": "text/x-python",
   "name": "python",
   "nbconvert_exporter": "python",
   "pygments_lexer": "ipython3",
   "version": "3.8.5"
  }
 },
 "nbformat": 4,
 "nbformat_minor": 2
}
