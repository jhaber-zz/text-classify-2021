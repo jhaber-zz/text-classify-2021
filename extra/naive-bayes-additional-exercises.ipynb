{
 "cells": [
  {
   "cell_type": "markdown",
   "metadata": {},
   "source": [
    "## Additional Exercises for 03.19: Regular Expressions\n",
    "\n",
    "Useful [Cheat Sheet](http://www.rexegg.com/regex-quickstart.html#ref) for regular expressions."
   ]
  },
  {
   "cell_type": "markdown",
   "metadata": {},
   "source": [
    "## Question 1\n",
    "1. Load in `Machiavelli_ThePrince.txt` from `data_dump/raw_texts/`.\n",
    "2. Use regular expressions to find all the quoted sentences.\n",
    "3. Compute the number of quoted sentences.\n"
   ]
  },
  {
   "cell_type": "code",
   "execution_count": 9,
   "metadata": {
    "collapsed": false
   },
   "outputs": [],
   "source": [
    "## Your code here."
   ]
  },
  {
   "cell_type": "markdown",
   "metadata": {},
   "source": [
    "## Question 2\n",
    "1. Load in `positive_words.txt` from `data/`.\n",
    "2. Find a list of words that contains only 1 vowel, 2 vowels, ..., 4 vowels.\n",
    "    - What is the average number of vowels in the list of positive words?\n",
    "3. Find a list of positive adverbs ending with `ly`. How many are there?\n",
    "4. Find a list of positive words beginning with `re`. How many are there?\n",
    "5. Find a list of positive verbs ending in `ing`. How many are there?\n"
   ]
  },
  {
   "cell_type": "code",
   "execution_count": 1,
   "metadata": {
    "collapsed": false
   },
   "outputs": [],
   "source": [
    "## Your code here."
   ]
  }
 ],
 "metadata": {
  "anaconda-cloud": {},
  "kernelspec": {
   "display_name": "Python 3",
   "language": "python",
   "name": "python3"
  },
  "language_info": {
   "codemirror_mode": {
    "name": "ipython",
    "version": 3
   },
   "file_extension": ".py",
   "mimetype": "text/x-python",
   "name": "python",
   "nbconvert_exporter": "python",
   "pygments_lexer": "ipython3",
   "version": "3.5.2"
  }
 },
 "nbformat": 4,
 "nbformat_minor": 2
}
