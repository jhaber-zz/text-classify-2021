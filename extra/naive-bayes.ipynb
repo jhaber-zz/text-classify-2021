{
 "cells": [
  {
   "cell_type": "markdown",
   "metadata": {},
   "source": [
    "# Naive Bayes: An Introduction\n",
    "\n",
    "The problem: I want to know if a sentence is about food, or animals. This is a standard classification problem. I want to classify unknown sentences into one of two categories: \"Food\" or \"Animal\"\n",
    "\n",
    "We could write a bunch of rules to do so, or we can train a machine learning classifier on pre-labeled data.\n",
    "\n",
    "The question: given four labeled sentences - \n",
    "\n",
    "I like to eat broccoli and bananas. : Food  \n",
    "I ate a banana and spinach smoothie for breakfast. : Food  \n",
    "Chinchillas and kittens are cute. : Animal  \n",
    "My sister adopted a kitten yesterday.  : Animal\n",
    "\n",
    "Into which category should we classify the following sentence:\n",
    "\n",
    "My cute kittens like to eat bananas. : ??\n",
    "\n",
    "We can use a naive bayes calculation to do this. Python has a number of nice packages to do so, which we will learn on Wednesday, but we can do this by hand as well.\n",
    "\n",
    "**Note: Don't worry if you don't follow every line of code below. The goal is to gain an intuition about machine learning. On Wednesday we'll learn how to implement a variety of algorithms using Python's scikit-learn.**\n",
    "\n",
    "\n",
    "We can think about this problem first in the form of a (variation on a) likelihood table."
   ]
  },
  {
   "cell_type": "code",
   "execution_count": 1,
   "metadata": {},
   "outputs": [
    {
     "name": "stdout",
     "output_type": "stream",
     "text": [
      "| word   |   food |   animal | likelihood   |   likelihood |\n",
      "|--------+--------+----------+--------------+--------------|\n",
      "| and    |      2 |        1 | =3/4         |         0.75 |\n",
      "| banana |      1 |        0 | =1/4         |         0.25 |\n",
      "| kitten |      0 |        1 | =1/4         |         0.25 |\n"
     ]
    }
   ],
   "source": [
    "#import a module that lets us print out nice tables\n",
    "from tabulate import tabulate\n",
    "table = tabulate([['and', 2, 1, '=3/4', .75], ['banana', 1, 0, '=1/4', .25], ['kitten', 0, 1, '=1/4', .25]], headers=['word', 'food', 'animal', 'likelihood', 'likelihood'], tablefmt='orgtbl')\n",
    "print(table)"
   ]
  },
  {
   "cell_type": "markdown",
   "metadata": {},
   "source": [
    "The naive bayes formula:\n",
    "\n",
    "P(cat1 | word1 ) = P( word1 | cat1 ) * P(cat1) / P(word1)\n",
    "\n",
    "We can calculate this for each of the three words above:\n",
    "\n",
    "P(Food | banana) = P( banana | Food) * P(Food) / P(banana)"
   ]
  },
  {
   "cell_type": "code",
   "execution_count": 2,
   "metadata": {},
   "outputs": [
    {
     "name": "stdout",
     "output_type": "stream",
     "text": [
      "1.0\n"
     ]
    }
   ],
   "source": [
    "p_food_banana =  (1/2) * (2/4) / (1/4)\n",
    "print(p_food_banana)"
   ]
  },
  {
   "cell_type": "markdown",
   "metadata": {},
   "source": [
    "P(Food | and) = P( and | Food) * P(Food) / P (and)"
   ]
  },
  {
   "cell_type": "code",
   "execution_count": 3,
   "metadata": {},
   "outputs": [
    {
     "name": "stdout",
     "output_type": "stream",
     "text": [
      "0.6666666666666666\n"
     ]
    }
   ],
   "source": [
    "p_food_and =  (2/2) * (2/4) / (3/4)\n",
    "print(p_food_and)"
   ]
  },
  {
   "cell_type": "markdown",
   "metadata": {},
   "source": [
    "P(Food | kitten) = P( kitten | Food) * P(Food) / P (kitten)"
   ]
  },
  {
   "cell_type": "code",
   "execution_count": 4,
   "metadata": {},
   "outputs": [
    {
     "name": "stdout",
     "output_type": "stream",
     "text": [
      "0.0\n"
     ]
    }
   ],
   "source": [
    "p_food_kitten =  (0/2) * (2/4) / (1/4)\n",
    "print(p_food_kitten)"
   ]
  },
  {
   "cell_type": "markdown",
   "metadata": {},
   "source": [
    "To calculate the likelihood that a toy sentence, 'banana and kitten', is about Food we add up the probabilities for each word and divide by the number of words.\n",
    "P('banana and kitten') = Food"
   ]
  },
  {
   "cell_type": "code",
   "execution_count": 5,
   "metadata": {},
   "outputs": [
    {
     "name": "stdout",
     "output_type": "stream",
     "text": [
      "0.5555555555555555\n"
     ]
    }
   ],
   "source": [
    "print((p_food_banana+p_food_and+p_food_kitten)/3)"
   ]
  },
  {
   "cell_type": "markdown",
   "metadata": {},
   "source": [
    "We would need to provide a cutoff that determine which category the sentence falls into. We could put the cutoff at .50, which would put this sentence in the \"Food\" category.\n",
    "\n",
    "We can do this by transforming our text into a boolean DTM, and determine the category for any example sentence.\n",
    "Question: What does a boolean DTM mean?"
   ]
  },
  {
   "cell_type": "code",
   "execution_count": 6,
   "metadata": {},
   "outputs": [
    {
     "data": {
      "text/html": [
       "<div>\n",
       "<table border=\"1\" class=\"dataframe\">\n",
       "  <thead>\n",
       "    <tr style=\"text-align: right;\">\n",
       "      <th></th>\n",
       "      <th>adopted</th>\n",
       "      <th>and</th>\n",
       "      <th>are</th>\n",
       "      <th>ate</th>\n",
       "      <th>banana</th>\n",
       "      <th>bananas</th>\n",
       "      <th>breakfast</th>\n",
       "      <th>broccoli</th>\n",
       "      <th>chinchillas</th>\n",
       "      <th>cute</th>\n",
       "      <th>...</th>\n",
       "      <th>for</th>\n",
       "      <th>kitten</th>\n",
       "      <th>kittens</th>\n",
       "      <th>like</th>\n",
       "      <th>my</th>\n",
       "      <th>sister</th>\n",
       "      <th>smoothie</th>\n",
       "      <th>spinach</th>\n",
       "      <th>to</th>\n",
       "      <th>yesterday</th>\n",
       "    </tr>\n",
       "  </thead>\n",
       "  <tbody>\n",
       "    <tr>\n",
       "      <th>0</th>\n",
       "      <td>0</td>\n",
       "      <td>1</td>\n",
       "      <td>0</td>\n",
       "      <td>0</td>\n",
       "      <td>0</td>\n",
       "      <td>1</td>\n",
       "      <td>0</td>\n",
       "      <td>1</td>\n",
       "      <td>0</td>\n",
       "      <td>0</td>\n",
       "      <td>...</td>\n",
       "      <td>0</td>\n",
       "      <td>0</td>\n",
       "      <td>0</td>\n",
       "      <td>1</td>\n",
       "      <td>0</td>\n",
       "      <td>0</td>\n",
       "      <td>0</td>\n",
       "      <td>0</td>\n",
       "      <td>1</td>\n",
       "      <td>0</td>\n",
       "    </tr>\n",
       "    <tr>\n",
       "      <th>1</th>\n",
       "      <td>0</td>\n",
       "      <td>1</td>\n",
       "      <td>0</td>\n",
       "      <td>1</td>\n",
       "      <td>1</td>\n",
       "      <td>0</td>\n",
       "      <td>1</td>\n",
       "      <td>0</td>\n",
       "      <td>0</td>\n",
       "      <td>0</td>\n",
       "      <td>...</td>\n",
       "      <td>1</td>\n",
       "      <td>0</td>\n",
       "      <td>0</td>\n",
       "      <td>0</td>\n",
       "      <td>0</td>\n",
       "      <td>0</td>\n",
       "      <td>1</td>\n",
       "      <td>1</td>\n",
       "      <td>0</td>\n",
       "      <td>0</td>\n",
       "    </tr>\n",
       "    <tr>\n",
       "      <th>2</th>\n",
       "      <td>0</td>\n",
       "      <td>1</td>\n",
       "      <td>1</td>\n",
       "      <td>0</td>\n",
       "      <td>0</td>\n",
       "      <td>0</td>\n",
       "      <td>0</td>\n",
       "      <td>0</td>\n",
       "      <td>1</td>\n",
       "      <td>1</td>\n",
       "      <td>...</td>\n",
       "      <td>0</td>\n",
       "      <td>0</td>\n",
       "      <td>1</td>\n",
       "      <td>0</td>\n",
       "      <td>0</td>\n",
       "      <td>0</td>\n",
       "      <td>0</td>\n",
       "      <td>0</td>\n",
       "      <td>0</td>\n",
       "      <td>0</td>\n",
       "    </tr>\n",
       "    <tr>\n",
       "      <th>3</th>\n",
       "      <td>1</td>\n",
       "      <td>0</td>\n",
       "      <td>0</td>\n",
       "      <td>0</td>\n",
       "      <td>0</td>\n",
       "      <td>0</td>\n",
       "      <td>0</td>\n",
       "      <td>0</td>\n",
       "      <td>0</td>\n",
       "      <td>0</td>\n",
       "      <td>...</td>\n",
       "      <td>0</td>\n",
       "      <td>1</td>\n",
       "      <td>0</td>\n",
       "      <td>0</td>\n",
       "      <td>1</td>\n",
       "      <td>1</td>\n",
       "      <td>0</td>\n",
       "      <td>0</td>\n",
       "      <td>0</td>\n",
       "      <td>1</td>\n",
       "    </tr>\n",
       "  </tbody>\n",
       "</table>\n",
       "<p>4 rows × 21 columns</p>\n",
       "</div>"
      ],
      "text/plain": [
       "   adopted  and  are  ate  banana  bananas  breakfast  broccoli  chinchillas  \\\n",
       "0        0    1    0    0       0        1          0         1            0   \n",
       "1        0    1    0    1       1        0          1         0            0   \n",
       "2        0    1    1    0       0        0          0         0            1   \n",
       "3        1    0    0    0       0        0          0         0            0   \n",
       "\n",
       "   cute    ...      for  kitten  kittens  like  my  sister  smoothie  spinach  \\\n",
       "0     0    ...        0       0        0     1   0       0         0        0   \n",
       "1     0    ...        1       0        0     0   0       0         1        1   \n",
       "2     1    ...        0       0        1     0   0       0         0        0   \n",
       "3     0    ...        0       1        0     0   1       1         0        0   \n",
       "\n",
       "   to  yesterday  \n",
       "0   1          0  \n",
       "1   0          0  \n",
       "2   0          0  \n",
       "3   0          1  \n",
       "\n",
       "[4 rows x 21 columns]"
      ]
     },
     "execution_count": 6,
     "metadata": {},
     "output_type": "execute_result"
    }
   ],
   "source": [
    "import pandas\n",
    "from sklearn.feature_extraction.text import CountVectorizer\n",
    "countvec = CountVectorizer()\n",
    "\n",
    "text_list = ['I like to eat broccoli and bananas', 'I ate a banana and spinach smoothie for breakfast.', 'Chinchillas and kittens are cute.', 'My sister adopted a kitten yesterday.']\n",
    "\n",
    "dtm_df = pandas.DataFrame(countvec.fit_transform(text_list).toarray(), columns=countvec.get_feature_names())\n",
    "dtm_df.astype(bool)\n",
    "dtm_df"
   ]
  },
  {
   "cell_type": "code",
   "execution_count": 7,
   "metadata": {},
   "outputs": [
    {
     "data": {
      "text/html": [
       "<div>\n",
       "<table border=\"1\" class=\"dataframe\">\n",
       "  <thead>\n",
       "    <tr style=\"text-align: right;\">\n",
       "      <th></th>\n",
       "      <th>adopted</th>\n",
       "      <th>and</th>\n",
       "      <th>are</th>\n",
       "      <th>ate</th>\n",
       "      <th>banana</th>\n",
       "      <th>bananas</th>\n",
       "      <th>breakfast</th>\n",
       "      <th>broccoli</th>\n",
       "      <th>chinchillas</th>\n",
       "      <th>cute</th>\n",
       "      <th>...</th>\n",
       "      <th>kitten</th>\n",
       "      <th>kittens</th>\n",
       "      <th>like</th>\n",
       "      <th>my</th>\n",
       "      <th>sister</th>\n",
       "      <th>smoothie</th>\n",
       "      <th>spinach</th>\n",
       "      <th>to</th>\n",
       "      <th>yesterday</th>\n",
       "      <th>cat_vector</th>\n",
       "    </tr>\n",
       "  </thead>\n",
       "  <tbody>\n",
       "    <tr>\n",
       "      <th>0</th>\n",
       "      <td>0</td>\n",
       "      <td>1</td>\n",
       "      <td>0</td>\n",
       "      <td>0</td>\n",
       "      <td>0</td>\n",
       "      <td>1</td>\n",
       "      <td>0</td>\n",
       "      <td>1</td>\n",
       "      <td>0</td>\n",
       "      <td>0</td>\n",
       "      <td>...</td>\n",
       "      <td>0</td>\n",
       "      <td>0</td>\n",
       "      <td>1</td>\n",
       "      <td>0</td>\n",
       "      <td>0</td>\n",
       "      <td>0</td>\n",
       "      <td>0</td>\n",
       "      <td>1</td>\n",
       "      <td>0</td>\n",
       "      <td>f</td>\n",
       "    </tr>\n",
       "    <tr>\n",
       "      <th>1</th>\n",
       "      <td>0</td>\n",
       "      <td>1</td>\n",
       "      <td>0</td>\n",
       "      <td>1</td>\n",
       "      <td>1</td>\n",
       "      <td>0</td>\n",
       "      <td>1</td>\n",
       "      <td>0</td>\n",
       "      <td>0</td>\n",
       "      <td>0</td>\n",
       "      <td>...</td>\n",
       "      <td>0</td>\n",
       "      <td>0</td>\n",
       "      <td>0</td>\n",
       "      <td>0</td>\n",
       "      <td>0</td>\n",
       "      <td>1</td>\n",
       "      <td>1</td>\n",
       "      <td>0</td>\n",
       "      <td>0</td>\n",
       "      <td>f</td>\n",
       "    </tr>\n",
       "    <tr>\n",
       "      <th>2</th>\n",
       "      <td>0</td>\n",
       "      <td>1</td>\n",
       "      <td>1</td>\n",
       "      <td>0</td>\n",
       "      <td>0</td>\n",
       "      <td>0</td>\n",
       "      <td>0</td>\n",
       "      <td>0</td>\n",
       "      <td>1</td>\n",
       "      <td>1</td>\n",
       "      <td>...</td>\n",
       "      <td>0</td>\n",
       "      <td>1</td>\n",
       "      <td>0</td>\n",
       "      <td>0</td>\n",
       "      <td>0</td>\n",
       "      <td>0</td>\n",
       "      <td>0</td>\n",
       "      <td>0</td>\n",
       "      <td>0</td>\n",
       "      <td>a</td>\n",
       "    </tr>\n",
       "    <tr>\n",
       "      <th>3</th>\n",
       "      <td>1</td>\n",
       "      <td>0</td>\n",
       "      <td>0</td>\n",
       "      <td>0</td>\n",
       "      <td>0</td>\n",
       "      <td>0</td>\n",
       "      <td>0</td>\n",
       "      <td>0</td>\n",
       "      <td>0</td>\n",
       "      <td>0</td>\n",
       "      <td>...</td>\n",
       "      <td>1</td>\n",
       "      <td>0</td>\n",
       "      <td>0</td>\n",
       "      <td>1</td>\n",
       "      <td>1</td>\n",
       "      <td>0</td>\n",
       "      <td>0</td>\n",
       "      <td>0</td>\n",
       "      <td>1</td>\n",
       "      <td>a</td>\n",
       "    </tr>\n",
       "  </tbody>\n",
       "</table>\n",
       "<p>4 rows × 22 columns</p>\n",
       "</div>"
      ],
      "text/plain": [
       "   adopted  and  are  ate  banana  bananas  breakfast  broccoli  chinchillas  \\\n",
       "0        0    1    0    0       0        1          0         1            0   \n",
       "1        0    1    0    1       1        0          1         0            0   \n",
       "2        0    1    1    0       0        0          0         0            1   \n",
       "3        1    0    0    0       0        0          0         0            0   \n",
       "\n",
       "   cute     ...      kitten  kittens  like  my  sister  smoothie  spinach  to  \\\n",
       "0     0     ...           0        0     1   0       0         0        0   1   \n",
       "1     0     ...           0        0     0   0       0         1        1   0   \n",
       "2     1     ...           0        1     0   0       0         0        0   0   \n",
       "3     0     ...           1        0     0   1       1         0        0   0   \n",
       "\n",
       "   yesterday  cat_vector  \n",
       "0          0           f  \n",
       "1          0           f  \n",
       "2          0           a  \n",
       "3          1           a  \n",
       "\n",
       "[4 rows x 22 columns]"
      ]
     },
     "execution_count": 7,
     "metadata": {},
     "output_type": "execute_result"
    }
   ],
   "source": [
    "#create a category vector, containing the labels for our labeled sentences\n",
    "#add this to our dtm\n",
    "dtm_df['cat_vector'] = ['f', 'f', 'a', 'a']\n",
    "dtm_df"
   ]
  },
  {
   "cell_type": "code",
   "execution_count": 8,
   "metadata": {},
   "outputs": [
    {
     "data": {
      "text/html": [
       "<div>\n",
       "<table border=\"1\" class=\"dataframe\">\n",
       "  <thead>\n",
       "    <tr style=\"text-align: right;\">\n",
       "      <th></th>\n",
       "      <th>adopted</th>\n",
       "      <th>and</th>\n",
       "      <th>are</th>\n",
       "      <th>ate</th>\n",
       "      <th>banana</th>\n",
       "      <th>bananas</th>\n",
       "      <th>breakfast</th>\n",
       "      <th>broccoli</th>\n",
       "      <th>chinchillas</th>\n",
       "      <th>cute</th>\n",
       "      <th>...</th>\n",
       "      <th>for</th>\n",
       "      <th>kitten</th>\n",
       "      <th>kittens</th>\n",
       "      <th>like</th>\n",
       "      <th>my</th>\n",
       "      <th>sister</th>\n",
       "      <th>smoothie</th>\n",
       "      <th>spinach</th>\n",
       "      <th>to</th>\n",
       "      <th>yesterday</th>\n",
       "    </tr>\n",
       "    <tr>\n",
       "      <th>cat_vector</th>\n",
       "      <th></th>\n",
       "      <th></th>\n",
       "      <th></th>\n",
       "      <th></th>\n",
       "      <th></th>\n",
       "      <th></th>\n",
       "      <th></th>\n",
       "      <th></th>\n",
       "      <th></th>\n",
       "      <th></th>\n",
       "      <th></th>\n",
       "      <th></th>\n",
       "      <th></th>\n",
       "      <th></th>\n",
       "      <th></th>\n",
       "      <th></th>\n",
       "      <th></th>\n",
       "      <th></th>\n",
       "      <th></th>\n",
       "      <th></th>\n",
       "      <th></th>\n",
       "    </tr>\n",
       "  </thead>\n",
       "  <tbody>\n",
       "    <tr>\n",
       "      <th>a</th>\n",
       "      <td>0.5</td>\n",
       "      <td>0.5</td>\n",
       "      <td>0.5</td>\n",
       "      <td>0.0</td>\n",
       "      <td>0.0</td>\n",
       "      <td>0.0</td>\n",
       "      <td>0.0</td>\n",
       "      <td>0.0</td>\n",
       "      <td>0.5</td>\n",
       "      <td>0.5</td>\n",
       "      <td>...</td>\n",
       "      <td>0.0</td>\n",
       "      <td>0.5</td>\n",
       "      <td>0.5</td>\n",
       "      <td>0.0</td>\n",
       "      <td>0.5</td>\n",
       "      <td>0.5</td>\n",
       "      <td>0.0</td>\n",
       "      <td>0.0</td>\n",
       "      <td>0.0</td>\n",
       "      <td>0.5</td>\n",
       "    </tr>\n",
       "    <tr>\n",
       "      <th>f</th>\n",
       "      <td>0.0</td>\n",
       "      <td>1.0</td>\n",
       "      <td>0.0</td>\n",
       "      <td>0.5</td>\n",
       "      <td>0.5</td>\n",
       "      <td>0.5</td>\n",
       "      <td>0.5</td>\n",
       "      <td>0.5</td>\n",
       "      <td>0.0</td>\n",
       "      <td>0.0</td>\n",
       "      <td>...</td>\n",
       "      <td>0.5</td>\n",
       "      <td>0.0</td>\n",
       "      <td>0.0</td>\n",
       "      <td>0.5</td>\n",
       "      <td>0.0</td>\n",
       "      <td>0.0</td>\n",
       "      <td>0.5</td>\n",
       "      <td>0.5</td>\n",
       "      <td>0.5</td>\n",
       "      <td>0.0</td>\n",
       "    </tr>\n",
       "  </tbody>\n",
       "</table>\n",
       "<p>2 rows × 21 columns</p>\n",
       "</div>"
      ],
      "text/plain": [
       "            adopted  and  are  ate  banana  bananas  breakfast  broccoli  \\\n",
       "cat_vector                                                                 \n",
       "a               0.5  0.5  0.5  0.0     0.0      0.0        0.0       0.0   \n",
       "f               0.0  1.0  0.0  0.5     0.5      0.5        0.5       0.5   \n",
       "\n",
       "            chinchillas  cute    ...      for  kitten  kittens  like   my  \\\n",
       "cat_vector                       ...                                        \n",
       "a                   0.5   0.5    ...      0.0     0.5      0.5   0.0  0.5   \n",
       "f                   0.0   0.0    ...      0.5     0.0      0.0   0.5  0.0   \n",
       "\n",
       "            sister  smoothie  spinach   to  yesterday  \n",
       "cat_vector                                             \n",
       "a              0.5       0.0      0.0  0.0        0.5  \n",
       "f              0.0       0.5      0.5  0.5        0.0  \n",
       "\n",
       "[2 rows x 21 columns]"
      ]
     },
     "execution_count": 8,
     "metadata": {},
     "output_type": "execute_result"
    }
   ],
   "source": [
    "#calculate the likelihood that each word occurs in each category\n",
    "grouped = dtm_df.groupby('cat_vector').sum()/2\n",
    "grouped"
   ]
  },
  {
   "cell_type": "code",
   "execution_count": 9,
   "metadata": {},
   "outputs": [
    {
     "data": {
      "text/html": [
       "<div>\n",
       "<table border=\"1\" class=\"dataframe\">\n",
       "  <thead>\n",
       "    <tr style=\"text-align: right;\">\n",
       "      <th></th>\n",
       "      <th>my</th>\n",
       "      <th>cute</th>\n",
       "      <th>kittens</th>\n",
       "      <th>like</th>\n",
       "      <th>to</th>\n",
       "      <th>eat</th>\n",
       "      <th>bananas</th>\n",
       "    </tr>\n",
       "    <tr>\n",
       "      <th>cat_vector</th>\n",
       "      <th></th>\n",
       "      <th></th>\n",
       "      <th></th>\n",
       "      <th></th>\n",
       "      <th></th>\n",
       "      <th></th>\n",
       "      <th></th>\n",
       "    </tr>\n",
       "  </thead>\n",
       "  <tbody>\n",
       "    <tr>\n",
       "      <th>a</th>\n",
       "      <td>0.5</td>\n",
       "      <td>0.5</td>\n",
       "      <td>0.5</td>\n",
       "      <td>0.0</td>\n",
       "      <td>0.0</td>\n",
       "      <td>0.0</td>\n",
       "      <td>0.0</td>\n",
       "    </tr>\n",
       "    <tr>\n",
       "      <th>f</th>\n",
       "      <td>0.0</td>\n",
       "      <td>0.0</td>\n",
       "      <td>0.0</td>\n",
       "      <td>0.5</td>\n",
       "      <td>0.5</td>\n",
       "      <td>0.5</td>\n",
       "      <td>0.5</td>\n",
       "    </tr>\n",
       "  </tbody>\n",
       "</table>\n",
       "</div>"
      ],
      "text/plain": [
       "             my  cute  kittens  like   to  eat  bananas\n",
       "cat_vector                                             \n",
       "a           0.5   0.5      0.5   0.0  0.0  0.0      0.0\n",
       "f           0.0   0.0      0.0   0.5  0.5  0.5      0.5"
      ]
     },
     "execution_count": 9,
     "metadata": {},
     "output_type": "execute_result"
    }
   ],
   "source": [
    "#Do the above calculation for each word in our test sentence\n",
    "#we'll do the pre-processing in the variable assignment stage\n",
    "\n",
    "test_sentence = 'my cute kittens like to eat bananas'\n",
    "columns = test_sentence.split()\n",
    "grouped_test = grouped[columns]\n",
    "grouped_test"
   ]
  },
  {
   "cell_type": "code",
   "execution_count": 10,
   "metadata": {},
   "outputs": [
    {
     "data": {
      "text/plain": [
       "0.25"
      ]
     },
     "execution_count": 10,
     "metadata": {},
     "output_type": "execute_result"
    }
   ],
   "source": [
    "#calculate the likelihood that a word occurs in a sentence at all\n",
    "dtm_df['kitten'].sum()/4"
   ]
  },
  {
   "cell_type": "code",
   "execution_count": 11,
   "metadata": {},
   "outputs": [
    {
     "name": "stderr",
     "output_type": "stream",
     "text": [
      "/usr/local/lib/python3.5/dist-packages/pandas/core/indexing.py:140: SettingWithCopyWarning: \n",
      "A value is trying to be set on a copy of a slice from a DataFrame\n",
      "\n",
      "See the caveats in the documentation: http://pandas.pydata.org/pandas-docs/stable/indexing.html#indexing-view-versus-copy\n",
      "  self._setitem_with_indexer(indexer, value)\n",
      "/usr/local/lib/python3.5/dist-packages/ipykernel/__main__.py:5: SettingWithCopyWarning: \n",
      "A value is trying to be set on a copy of a slice from a DataFrame\n",
      "\n",
      "See the caveats in the documentation: http://pandas.pydata.org/pandas-docs/stable/indexing.html#indexing-view-versus-copy\n"
     ]
    },
    {
     "data": {
      "text/plain": [
       "my         0.0\n",
       "cute       0.0\n",
       "kittens    0.0\n",
       "like       1.0\n",
       "to         1.0\n",
       "eat        1.0\n",
       "bananas    1.0\n",
       "Name: f, dtype: float64"
      ]
     },
     "execution_count": 11,
     "metadata": {},
     "output_type": "execute_result"
    }
   ],
   "source": [
    "#apply naive bayes formula\n",
    "#first create a new dataframe\n",
    "new_grouped = grouped_test\n",
    "for e in columns:\n",
    "    new_grouped.loc['f', e] = grouped_test.loc['f',e] * ((2/4) / (dtm_df[e].sum()/4)) \n",
    "new_grouped.loc['f']"
   ]
  },
  {
   "cell_type": "code",
   "execution_count": 12,
   "metadata": {},
   "outputs": [
    {
     "data": {
      "text/plain": [
       "0.5714285714285714"
      ]
     },
     "execution_count": 12,
     "metadata": {},
     "output_type": "execute_result"
    }
   ],
   "source": [
    "#sum likelihoods and divide by the number of words in the sentence\n",
    "new_grouped.loc['f'].sum()/len(new_grouped.columns)"
   ]
  },
  {
   "cell_type": "markdown",
   "metadata": {},
   "source": [
    "If our cutoff is .50, this sentence would be classified into the \"Food\" category."
   ]
  }
 ],
 "metadata": {
  "kernelspec": {
   "display_name": "Python 3",
   "language": "python",
   "name": "python3"
  },
  "language_info": {
   "codemirror_mode": {
    "name": "ipython",
    "version": 3
   },
   "file_extension": ".py",
   "mimetype": "text/x-python",
   "name": "python",
   "nbconvert_exporter": "python",
   "pygments_lexer": "ipython3",
   "version": "3.8.5"
  }
 },
 "nbformat": 4,
 "nbformat_minor": 2
}
