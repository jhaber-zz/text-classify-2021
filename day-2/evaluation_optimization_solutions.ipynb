{
 "cells": [
  {
   "cell_type": "markdown",
   "metadata": {},
   "source": [
    "# Model evaluation and optimization for text classification\n",
    "\n",
    "\n",
    "## Outline\n",
    "\n",
    "* [Metrics for model evaluation](#metrics)\n",
    "* [Load and inspect dataset](#dataset)\n",
    "    * [Import modules](#import)\n",
    "    * [Read and inspect data](#dataset)\n",
    "    * [Preprocess data](#preprocess)\n",
    "    * [Vectorization](#vectorize)\n",
    "    * [Divide data into training and test sets](#split)\n",
    "* [More classification with supervised machine learning](#supervised)\n",
    "    * [Train decision tree model](#model)\n",
    "    * [More model evaluation](#evaluate)\n",
    "    * [Cross-validation](#cv)\n",
    "    * [Optimize parameters with grid search](#gridsearch)\n",
    "    * [Train and optimize Random Forest model](#RF)"
   ]
  },
  {
   "cell_type": "markdown",
   "metadata": {},
   "source": [
    "# Data preparation<a id='preparation'></a>\n",
    "\n",
    "## Import modules<a id='import'></a>"
   ]
  },
  {
   "cell_type": "code",
   "execution_count": 1,
   "metadata": {},
   "outputs": [],
   "source": [
    "import os\n",
    "import re\n",
    "import numpy as np\n",
    "import pandas as pd\n",
    "import warnings\n",
    "import graphviz\n",
    "from sklearn.tree import export_graphviz\n",
    "import seaborn as sns\n",
    "from mpl_toolkits.mplot3d import Axes3D\n",
    "from matplotlib import cm\n",
    "import matplotlib.pyplot as plt\n",
    "\n",
    "#set options\n",
    "warnings.simplefilter(action='ignore', category=FutureWarning)\n",
    "sns.set()\n",
    "%matplotlib inline\n",
    "\n",
    "#scikit-learn is a huge library. We import what we need.\n",
    "from sklearn.model_selection import train_test_split, GridSearchCV, cross_val_score, train_test_split #sklearn utilities\n",
    "from sklearn.metrics import accuracy_score, confusion_matrix, classification_report #For model evaluation\n",
    "from sklearn.feature_extraction.text import CountVectorizer, TfidfVectorizer #Vectorizers\n",
    "from sklearn.linear_model import LogisticRegressionCV #Logit with cross-validation\n",
    "from sklearn.ensemble import RandomForestClassifier, AdaBoostClassifier #Random Forest and AdaBoost classifiers\n",
    "from sklearn.tree import DecisionTreeClassifier #Decision Tree classifier\n",
    "from sklearn.svm import LinearSVC #Linear Support Vector classifier"
   ]
  },
  {
   "cell_type": "markdown",
   "metadata": {},
   "source": [
    "## Read and inspect dataset<a id='dataset'></a>"
   ]
  },
  {
   "cell_type": "code",
   "execution_count": 2,
   "metadata": {},
   "outputs": [
    {
     "data": {
      "text/html": [
       "<div>\n",
       "<style scoped>\n",
       "    .dataframe tbody tr th:only-of-type {\n",
       "        vertical-align: middle;\n",
       "    }\n",
       "\n",
       "    .dataframe tbody tr th {\n",
       "        vertical-align: top;\n",
       "    }\n",
       "\n",
       "    .dataframe thead th {\n",
       "        text-align: right;\n",
       "    }\n",
       "</style>\n",
       "<table border=\"1\" class=\"dataframe\">\n",
       "  <thead>\n",
       "    <tr style=\"text-align: right;\">\n",
       "      <th></th>\n",
       "      <th>tweet_id</th>\n",
       "      <th>airline_sentiment</th>\n",
       "      <th>airline_sentiment_confidence</th>\n",
       "      <th>negativereason</th>\n",
       "      <th>negativereason_confidence</th>\n",
       "      <th>airline</th>\n",
       "      <th>airline_sentiment_gold</th>\n",
       "      <th>name</th>\n",
       "      <th>negativereason_gold</th>\n",
       "      <th>retweet_count</th>\n",
       "      <th>text</th>\n",
       "      <th>tweet_coord</th>\n",
       "      <th>tweet_created</th>\n",
       "      <th>tweet_location</th>\n",
       "      <th>user_timezone</th>\n",
       "    </tr>\n",
       "  </thead>\n",
       "  <tbody>\n",
       "    <tr>\n",
       "      <th>0</th>\n",
       "      <td>570306133677760513</td>\n",
       "      <td>neutral</td>\n",
       "      <td>1.0000</td>\n",
       "      <td>NaN</td>\n",
       "      <td>NaN</td>\n",
       "      <td>Virgin America</td>\n",
       "      <td>NaN</td>\n",
       "      <td>cairdin</td>\n",
       "      <td>NaN</td>\n",
       "      <td>0</td>\n",
       "      <td>@VirginAmerica What @dhepburn said.</td>\n",
       "      <td>NaN</td>\n",
       "      <td>2015-02-24 11:35:52 -0800</td>\n",
       "      <td>NaN</td>\n",
       "      <td>Eastern Time (US &amp; Canada)</td>\n",
       "    </tr>\n",
       "    <tr>\n",
       "      <th>1</th>\n",
       "      <td>570301130888122368</td>\n",
       "      <td>positive</td>\n",
       "      <td>0.3486</td>\n",
       "      <td>NaN</td>\n",
       "      <td>0.0</td>\n",
       "      <td>Virgin America</td>\n",
       "      <td>NaN</td>\n",
       "      <td>jnardino</td>\n",
       "      <td>NaN</td>\n",
       "      <td>0</td>\n",
       "      <td>@VirginAmerica plus you've added commercials t...</td>\n",
       "      <td>NaN</td>\n",
       "      <td>2015-02-24 11:15:59 -0800</td>\n",
       "      <td>NaN</td>\n",
       "      <td>Pacific Time (US &amp; Canada)</td>\n",
       "    </tr>\n",
       "    <tr>\n",
       "      <th>2</th>\n",
       "      <td>570301083672813571</td>\n",
       "      <td>neutral</td>\n",
       "      <td>0.6837</td>\n",
       "      <td>NaN</td>\n",
       "      <td>NaN</td>\n",
       "      <td>Virgin America</td>\n",
       "      <td>NaN</td>\n",
       "      <td>yvonnalynn</td>\n",
       "      <td>NaN</td>\n",
       "      <td>0</td>\n",
       "      <td>@VirginAmerica I didn't today... Must mean I n...</td>\n",
       "      <td>NaN</td>\n",
       "      <td>2015-02-24 11:15:48 -0800</td>\n",
       "      <td>Lets Play</td>\n",
       "      <td>Central Time (US &amp; Canada)</td>\n",
       "    </tr>\n",
       "  </tbody>\n",
       "</table>\n",
       "</div>"
      ],
      "text/plain": [
       "             tweet_id airline_sentiment  airline_sentiment_confidence  \\\n",
       "0  570306133677760513           neutral                        1.0000   \n",
       "1  570301130888122368          positive                        0.3486   \n",
       "2  570301083672813571           neutral                        0.6837   \n",
       "\n",
       "  negativereason  negativereason_confidence         airline  \\\n",
       "0            NaN                        NaN  Virgin America   \n",
       "1            NaN                        0.0  Virgin America   \n",
       "2            NaN                        NaN  Virgin America   \n",
       "\n",
       "  airline_sentiment_gold        name negativereason_gold  retweet_count  \\\n",
       "0                    NaN     cairdin                 NaN              0   \n",
       "1                    NaN    jnardino                 NaN              0   \n",
       "2                    NaN  yvonnalynn                 NaN              0   \n",
       "\n",
       "                                                text tweet_coord  \\\n",
       "0                @VirginAmerica What @dhepburn said.         NaN   \n",
       "1  @VirginAmerica plus you've added commercials t...         NaN   \n",
       "2  @VirginAmerica I didn't today... Must mean I n...         NaN   \n",
       "\n",
       "               tweet_created tweet_location               user_timezone  \n",
       "0  2015-02-24 11:35:52 -0800            NaN  Eastern Time (US & Canada)  \n",
       "1  2015-02-24 11:15:59 -0800            NaN  Pacific Time (US & Canada)  \n",
       "2  2015-02-24 11:15:48 -0800      Lets Play  Central Time (US & Canada)  "
      ]
     },
     "execution_count": 2,
     "metadata": {},
     "output_type": "execute_result"
    }
   ],
   "source": [
    "df = pd.read_csv('tweets.csv')\n",
    "df.head(3)"
   ]
  },
  {
   "cell_type": "markdown",
   "metadata": {},
   "source": [
    "### Challenge\n",
    "\n",
    "- How many tweets are in the dataset?\n",
    "- How many tweets are positive, neutral and negative?\n",
    "- What **proportion** of tweets are positive, neutral and negative?\n",
    "- Visualize these last two questions. \n",
    "- What are the three main reasons why people are tweeting negatively? \n",
    "\n",
    "_Hint:_ To visualize counts, you can use the `sns.countplot()` function. To visualize proportions, use the `.plot(kind='bar')` method."
   ]
  },
  {
   "cell_type": "code",
   "execution_count": 3,
   "metadata": {},
   "outputs": [
    {
     "name": "stdout",
     "output_type": "stream",
     "text": [
      "Length is 14640\n"
     ]
    },
    {
     "data": {
      "text/plain": [
       "negative    9178\n",
       "neutral     3099\n",
       "positive    2363\n",
       "Name: airline_sentiment, dtype: int64"
      ]
     },
     "execution_count": 3,
     "metadata": {},
     "output_type": "execute_result"
    }
   ],
   "source": [
    "# solutions\n",
    "print(\"Length is\", len(df))\n",
    "\n",
    "df['airline_sentiment'].value_counts()"
   ]
  },
  {
   "cell_type": "code",
   "execution_count": 4,
   "metadata": {},
   "outputs": [
    {
     "data": {
      "text/plain": [
       "negative    0.626913\n",
       "neutral     0.211680\n",
       "positive    0.161407\n",
       "Name: airline_sentiment, dtype: float64"
      ]
     },
     "execution_count": 4,
     "metadata": {},
     "output_type": "execute_result"
    }
   ],
   "source": [
    "df['airline_sentiment'].value_counts(normalize=True)"
   ]
  },
  {
   "cell_type": "code",
   "execution_count": 5,
   "metadata": {},
   "outputs": [
    {
     "data": {
      "text/plain": [
       "<matplotlib.axes._subplots.AxesSubplot at 0x7f5417d73a00>"
      ]
     },
     "execution_count": 5,
     "metadata": {},
     "output_type": "execute_result"
    },
    {
     "data": {
      "image/png": "[encoded data removed]",
      "text/plain": [
       "<Figure size 432x288 with 1 Axes>"
      ]
     },
     "metadata": {
      "needs_background": "light"
     },
     "output_type": "display_data"
    }
   ],
   "source": [
    "sns.countplot(df['airline_sentiment'], order=['positive', 'neutral', 'negative'])"
   ]
  },
  {
   "cell_type": "code",
   "execution_count": 6,
   "metadata": {},
   "outputs": [
    {
     "data": {
      "text/plain": [
       "<matplotlib.axes._subplots.AxesSubplot at 0x7f5416c20910>"
      ]
     },
     "execution_count": 6,
     "metadata": {},
     "output_type": "execute_result"
    },
    {
     "data": {
      "image/png": "[encoded data removed]",
      "text/plain": [
       "<Figure size 432x288 with 1 Axes>"
      ]
     },
     "metadata": {
      "needs_background": "light"
     },
     "output_type": "display_data"
    }
   ],
   "source": [
    "df['airline_sentiment'].value_counts(normalize=True, ascending=True).plot(kind='bar', rot=0)"
   ]
  },
  {
   "cell_type": "code",
   "execution_count": 7,
   "metadata": {},
   "outputs": [
    {
     "data": {
      "image/png": "[encoded data removed]",
      "text/plain": [
       "<Figure size 432x288 with 1 Axes>"
      ]
     },
     "metadata": {
      "needs_background": "light"
     },
     "output_type": "display_data"
    }
   ],
   "source": [
    "sns.countplot(df['negativereason'], order=df['negativereason'].value_counts().index)\n",
    "plt.xticks(rotation=90);"
   ]
  },
  {
   "cell_type": "markdown",
   "metadata": {},
   "source": [
    "## Preprocess data<a id='preprocess'></a>"
   ]
  },
  {
   "cell_type": "code",
   "execution_count": 8,
   "metadata": {},
   "outputs": [],
   "source": [
    "twitter_handle_pattern = r'@(\\w+)'\n",
    "hashtag_pattern = r'(?:^|\\s)[＃#]{1}(\\w+)'\n",
    "url_pattern = r'https?:\\/\\/.*.com'"
   ]
  },
  {
   "cell_type": "markdown",
   "metadata": {},
   "source": [
    "### Challenge\n",
    "\n",
    "1. Create a function called `clean_tweet()` that takes in a tweet text; replaces hashtags, users, and URLs; and returns the result. \n",
    "2. Test it out on the `my_tweets` list object just defined: the output should be the same as that of the string methods we just used!\n",
    "3. Apply the `clean_tweet()` function to the tweets dataframe above to create a new `clean_text` column.\n",
    "\n",
    "_Hint:_ Use the handy `re.sub()` method for pattern replacement and `df[col].apply()` for applying a function to a specific DataFrame column."
   ]
  },
  {
   "cell_type": "code",
   "execution_count": 9,
   "metadata": {},
   "outputs": [
    {
     "data": {
      "text/html": [
       "<div>\n",
       "<style scoped>\n",
       "    .dataframe tbody tr th:only-of-type {\n",
       "        vertical-align: middle;\n",
       "    }\n",
       "\n",
       "    .dataframe tbody tr th {\n",
       "        vertical-align: top;\n",
       "    }\n",
       "\n",
       "    .dataframe thead th {\n",
       "        text-align: right;\n",
       "    }\n",
       "</style>\n",
       "<table border=\"1\" class=\"dataframe\">\n",
       "  <thead>\n",
       "    <tr style=\"text-align: right;\">\n",
       "      <th></th>\n",
       "      <th>tweet_id</th>\n",
       "      <th>airline_sentiment</th>\n",
       "      <th>airline_sentiment_confidence</th>\n",
       "      <th>negativereason</th>\n",
       "      <th>negativereason_confidence</th>\n",
       "      <th>airline</th>\n",
       "      <th>airline_sentiment_gold</th>\n",
       "      <th>name</th>\n",
       "      <th>negativereason_gold</th>\n",
       "      <th>retweet_count</th>\n",
       "      <th>text</th>\n",
       "      <th>tweet_coord</th>\n",
       "      <th>tweet_created</th>\n",
       "      <th>tweet_location</th>\n",
       "      <th>user_timezone</th>\n",
       "      <th>clean_text</th>\n",
       "    </tr>\n",
       "  </thead>\n",
       "  <tbody>\n",
       "    <tr>\n",
       "      <th>0</th>\n",
       "      <td>570306133677760513</td>\n",
       "      <td>neutral</td>\n",
       "      <td>1.0000</td>\n",
       "      <td>NaN</td>\n",
       "      <td>NaN</td>\n",
       "      <td>Virgin America</td>\n",
       "      <td>NaN</td>\n",
       "      <td>cairdin</td>\n",
       "      <td>NaN</td>\n",
       "      <td>0</td>\n",
       "      <td>@VirginAmerica What @dhepburn said.</td>\n",
       "      <td>NaN</td>\n",
       "      <td>2015-02-24 11:35:52 -0800</td>\n",
       "      <td>NaN</td>\n",
       "      <td>Eastern Time (US &amp; Canada)</td>\n",
       "      <td>USER What USER said.</td>\n",
       "    </tr>\n",
       "    <tr>\n",
       "      <th>1</th>\n",
       "      <td>570301130888122368</td>\n",
       "      <td>positive</td>\n",
       "      <td>0.3486</td>\n",
       "      <td>NaN</td>\n",
       "      <td>0.0</td>\n",
       "      <td>Virgin America</td>\n",
       "      <td>NaN</td>\n",
       "      <td>jnardino</td>\n",
       "      <td>NaN</td>\n",
       "      <td>0</td>\n",
       "      <td>@VirginAmerica plus you've added commercials t...</td>\n",
       "      <td>NaN</td>\n",
       "      <td>2015-02-24 11:15:59 -0800</td>\n",
       "      <td>NaN</td>\n",
       "      <td>Pacific Time (US &amp; Canada)</td>\n",
       "      <td>USER plus you've added commercials to the expe...</td>\n",
       "    </tr>\n",
       "    <tr>\n",
       "      <th>2</th>\n",
       "      <td>570301083672813571</td>\n",
       "      <td>neutral</td>\n",
       "      <td>0.6837</td>\n",
       "      <td>NaN</td>\n",
       "      <td>NaN</td>\n",
       "      <td>Virgin America</td>\n",
       "      <td>NaN</td>\n",
       "      <td>yvonnalynn</td>\n",
       "      <td>NaN</td>\n",
       "      <td>0</td>\n",
       "      <td>@VirginAmerica I didn't today... Must mean I n...</td>\n",
       "      <td>NaN</td>\n",
       "      <td>2015-02-24 11:15:48 -0800</td>\n",
       "      <td>Lets Play</td>\n",
       "      <td>Central Time (US &amp; Canada)</td>\n",
       "      <td>USER I didn't today... Must mean I need to tak...</td>\n",
       "    </tr>\n",
       "  </tbody>\n",
       "</table>\n",
       "</div>"
      ],
      "text/plain": [
       "             tweet_id airline_sentiment  airline_sentiment_confidence  \\\n",
       "0  570306133677760513           neutral                        1.0000   \n",
       "1  570301130888122368          positive                        0.3486   \n",
       "2  570301083672813571           neutral                        0.6837   \n",
       "\n",
       "  negativereason  negativereason_confidence         airline  \\\n",
       "0            NaN                        NaN  Virgin America   \n",
       "1            NaN                        0.0  Virgin America   \n",
       "2            NaN                        NaN  Virgin America   \n",
       "\n",
       "  airline_sentiment_gold        name negativereason_gold  retweet_count  \\\n",
       "0                    NaN     cairdin                 NaN              0   \n",
       "1                    NaN    jnardino                 NaN              0   \n",
       "2                    NaN  yvonnalynn                 NaN              0   \n",
       "\n",
       "                                                text tweet_coord  \\\n",
       "0                @VirginAmerica What @dhepburn said.         NaN   \n",
       "1  @VirginAmerica plus you've added commercials t...         NaN   \n",
       "2  @VirginAmerica I didn't today... Must mean I n...         NaN   \n",
       "\n",
       "               tweet_created tweet_location               user_timezone  \\\n",
       "0  2015-02-24 11:35:52 -0800            NaN  Eastern Time (US & Canada)   \n",
       "1  2015-02-24 11:15:59 -0800            NaN  Pacific Time (US & Canada)   \n",
       "2  2015-02-24 11:15:48 -0800      Lets Play  Central Time (US & Canada)   \n",
       "\n",
       "                                          clean_text  \n",
       "0                               USER What USER said.  \n",
       "1  USER plus you've added commercials to the expe...  \n",
       "2  USER I didn't today... Must mean I need to tak...  "
      ]
     },
     "execution_count": 9,
     "metadata": {},
     "output_type": "execute_result"
    }
   ],
   "source": [
    "# solution\n",
    "def clean_tweet(tweet):\n",
    "    tweet = re.sub(hashtag_pattern, ' HASHTAG', tweet) \n",
    "    tweet = re.sub(twitter_handle_pattern, 'USER', tweet)\n",
    "    return re.sub(url_pattern, 'URL', tweet)\n",
    "\n",
    "# apply function to DF \n",
    "df['clean_text'] = (df['text'].apply(clean_tweet))\n",
    "df.head(3)"
   ]
  },
  {
   "cell_type": "markdown",
   "metadata": {},
   "source": [
    "## Vectorization<a id='vectorization'></a>"
   ]
  },
  {
   "cell_type": "code",
   "execution_count": 10,
   "metadata": {},
   "outputs": [],
   "source": [
    "countvectorizer = CountVectorizer(max_features=5000, binary=True)\n",
    "X = countvectorizer.fit_transform(df['clean_text'])\n",
    "features = X.toarray() # convert matrix to sparse format for easy modeling\n",
    "response = df['airline_sentiment'].values # corresponds to entries in `features` \n",
    "feature_names = countvectorizer.get_feature_names() # get feature names for later\n",
    "label_names = list(set(response)) # get label names for later"
   ]
  },
  {
   "cell_type": "markdown",
   "metadata": {},
   "source": [
    "## Divide data into training and test sets<a id='split'></a>"
   ]
  },
  {
   "cell_type": "code",
   "execution_count": 11,
   "metadata": {},
   "outputs": [
    {
     "data": {
      "text/plain": [
       "((11712, 5000), (2928, 5000))"
      ]
     },
     "execution_count": 11,
     "metadata": {},
     "output_type": "execute_result"
    }
   ],
   "source": [
    "X_train, X_test, y_train, y_test = train_test_split(features, response, test_size=0.2)\n",
    "\n",
    "X_train.shape, X_test.shape #look at number of rows and columns in training and test data"
   ]
  },
  {
   "cell_type": "markdown",
   "metadata": {},
   "source": [
    "# More classification with supervised machine learning<a id='supervised'></a>"
   ]
  },
  {
   "cell_type": "markdown",
   "metadata": {},
   "source": [
    "## Train decision tree model<a id='model'></a>"
   ]
  },
  {
   "cell_type": "code",
   "execution_count": 12,
   "metadata": {},
   "outputs": [
    {
     "data": {
      "text/plain": [
       "DecisionTreeClassifier(max_depth=10, min_impurity_decrease=1e-07,\n",
       "                       min_samples_leaf=10, min_samples_split=5,\n",
       "                       random_state=10)"
      ]
     },
     "execution_count": 12,
     "metadata": {},
     "output_type": "execute_result"
    }
   ],
   "source": [
    "dt_classifier = DecisionTreeClassifier(criterion='gini',  # or 'entropy' for information gain\n",
    "                                       splitter='best',  # or 'random' for random best split\n",
    "                                       max_depth=10,  # how deep tree nodes can go\n",
    "                                       min_samples_split=5,  # samples needed to split node\n",
    "                                       min_samples_leaf=10,  # samples needed for a leaf\n",
    "                                       min_weight_fraction_leaf=0.0,  # weight of samples needed for a node\n",
    "                                       max_features=None,  # number of features to look for when splitting\n",
    "                                       max_leaf_nodes=None,  # max nodes\n",
    "                                       min_impurity_decrease=1e-07, #early stopping\n",
    "                                       random_state = 10) #random seed\n",
    "\n",
    "dt_classifier.fit(X_train, y_train) # fit model on training set"
   ]
  },
  {
   "cell_type": "code",
   "execution_count": 13,
   "metadata": {},
   "outputs": [
    {
     "data": {
      "image/svg+xml": [
       "<?xml version=\"1.0\" encoding=\"UTF-8\" standalone=\"no\"?>\n",
       "<!DOCTYPE svg PUBLIC \"-//W3C//DTD SVG 1.1//EN\"\n",
       " \"http://www.w3.org/Graphics/SVG/1.1/DTD/svg11.dtd\">\n",
       "<!-- Generated by graphviz version 2.42.3 (20191010.1750)\n",
       " -->\n",
       "<!-- Title: Tree Pages: 1 -->\n",
       "<svg width=\"2074pt\" height=\"639pt\"\n",
       " viewBox=\"0.00 0.00 2074.00 639.00\" xmlns=\"http://www.w3.org/2000/svg\" xmlns:xlink=\"http://www.w3.org/1999/xlink\">\n",
       "<g id=\"graph0\" class=\"graph\" transform=\"scale(1 1) rotate(0) translate(4 635)\">\n",
       "<title>Tree</title>\n",
       "<polygon fill=\"white\" stroke=\"transparent\" points=\"-4,4 -4,-635 2070,-635 2070,4 -4,4\"/>\n",
       "<!-- 0 -->\n",
       "<g id=\"node1\" class=\"node\">\n",
       "<title>0</title>\n",
       "<path fill=\"#f1bc96\" stroke=\"black\" d=\"M1476.5,-631C1476.5,-631 1287.5,-631 1287.5,-631 1281.5,-631 1275.5,-625 1275.5,-619 1275.5,-619 1275.5,-560 1275.5,-560 1275.5,-554 1281.5,-548 1287.5,-548 1287.5,-548 1476.5,-548 1476.5,-548 1482.5,-548 1488.5,-554 1488.5,-560 1488.5,-560 1488.5,-619 1488.5,-619 1488.5,-625 1482.5,-631 1476.5,-631\"/>\n",
       "<text text-anchor=\"start\" x=\"1339.5\" y=\"-615.8\" font-family=\"Helvetica,sans-Serif\" font-size=\"14.00\">thank ≤ 0.5</text>\n",
       "<text text-anchor=\"start\" x=\"1338\" y=\"-600.8\" font-family=\"Helvetica,sans-Serif\" font-size=\"14.00\">gini = 0.535</text>\n",
       "<text text-anchor=\"start\" x=\"1318.5\" y=\"-585.8\" font-family=\"Helvetica,sans-Serif\" font-size=\"14.00\">samples = 11712</text>\n",
       "<text text-anchor=\"start\" x=\"1283.5\" y=\"-570.8\" font-family=\"Helvetica,sans-Serif\" font-size=\"14.00\">value = [7354, 2479, 1879]</text>\n",
       "<text text-anchor=\"start\" x=\"1326\" y=\"-555.8\" font-family=\"Helvetica,sans-Serif\" font-size=\"14.00\">class = positive</text>\n",
       "</g>\n",
       "<!-- 1 -->\n",
       "<g id=\"node2\" class=\"node\">\n",
       "<title>1</title>\n",
       "<path fill=\"#f1b992\" stroke=\"black\" d=\"M1220.5,-512C1220.5,-512 1031.5,-512 1031.5,-512 1025.5,-512 1019.5,-506 1019.5,-500 1019.5,-500 1019.5,-441 1019.5,-441 1019.5,-435 1025.5,-429 1031.5,-429 1031.5,-429 1220.5,-429 1220.5,-429 1226.5,-429 1232.5,-435 1232.5,-441 1232.5,-441 1232.5,-500 1232.5,-500 1232.5,-506 1226.5,-512 1220.5,-512\"/>\n",
       "<text text-anchor=\"start\" x=\"1080\" y=\"-496.8\" font-family=\"Helvetica,sans-Serif\" font-size=\"14.00\">thanks ≤ 0.5</text>\n",
       "<text text-anchor=\"start\" x=\"1082\" y=\"-481.8\" font-family=\"Helvetica,sans-Serif\" font-size=\"14.00\">gini = 0.514</text>\n",
       "<text text-anchor=\"start\" x=\"1062.5\" y=\"-466.8\" font-family=\"Helvetica,sans-Serif\" font-size=\"14.00\">samples = 11230</text>\n",
       "<text text-anchor=\"start\" x=\"1027.5\" y=\"-451.8\" font-family=\"Helvetica,sans-Serif\" font-size=\"14.00\">value = [7288, 2424, 1518]</text>\n",
       "<text text-anchor=\"start\" x=\"1070\" y=\"-436.8\" font-family=\"Helvetica,sans-Serif\" font-size=\"14.00\">class = positive</text>\n",
       "</g>\n",
       "<!-- 0&#45;&gt;1 -->\n",
       "<g id=\"edge1\" class=\"edge\">\n",
       "<title>0&#45;&gt;1</title>\n",
       "<path fill=\"none\" stroke=\"black\" d=\"M1293.18,-547.91C1270.84,-537.7 1246.74,-526.68 1223.98,-516.28\"/>\n",
       "<polygon fill=\"black\" stroke=\"black\" points=\"1225.21,-512.99 1214.66,-512.02 1222.3,-519.36 1225.21,-512.99\"/>\n",
       "<text text-anchor=\"middle\" x=\"1223.39\" y=\"-531.75\" font-family=\"Helvetica,sans-Serif\" font-size=\"14.00\">True</text>\n",
       "</g>\n",
       "<!-- 166 -->\n",
       "<g id=\"node27\" class=\"node\">\n",
       "<title>166</title>\n",
       "<path fill=\"#a673ed\" stroke=\"black\" d=\"M1676,-512C1676,-512 1532,-512 1532,-512 1526,-512 1520,-506 1520,-500 1520,-500 1520,-441 1520,-441 1520,-435 1526,-429 1532,-429 1532,-429 1676,-429 1676,-429 1682,-429 1688,-435 1688,-441 1688,-441 1688,-500 1688,-500 1688,-506 1682,-512 1676,-512\"/>\n",
       "<text text-anchor=\"start\" x=\"1570.5\" y=\"-496.8\" font-family=\"Helvetica,sans-Serif\" font-size=\"14.00\">but ≤ 0.5</text>\n",
       "<text text-anchor=\"start\" x=\"1560\" y=\"-481.8\" font-family=\"Helvetica,sans-Serif\" font-size=\"14.00\">gini = 0.407</text>\n",
       "<text text-anchor=\"start\" x=\"1549.5\" y=\"-466.8\" font-family=\"Helvetica,sans-Serif\" font-size=\"14.00\">samples = 482</text>\n",
       "<text text-anchor=\"start\" x=\"1528\" y=\"-451.8\" font-family=\"Helvetica,sans-Serif\" font-size=\"14.00\">value = [66, 55, 361]</text>\n",
       "<text text-anchor=\"start\" x=\"1544.5\" y=\"-436.8\" font-family=\"Helvetica,sans-Serif\" font-size=\"14.00\">class = negative</text>\n",
       "</g>\n",
       "<!-- 0&#45;&gt;166 -->\n",
       "<g id=\"edge26\" class=\"edge\">\n",
       "<title>0&#45;&gt;166</title>\n",
       "<path fill=\"none\" stroke=\"black\" d=\"M1459.02,-547.91C1478.14,-537.83 1498.74,-526.98 1518.24,-516.7\"/>\n",
       "<polygon fill=\"black\" stroke=\"black\" points=\"1519.9,-519.78 1527.11,-512.02 1516.64,-513.59 1519.9,-519.78\"/>\n",
       "<text text-anchor=\"middle\" x=\"1519.72\" y=\"-532.2\" font-family=\"Helvetica,sans-Serif\" font-size=\"14.00\">False</text>\n",
       "</g>\n",
       "<!-- 2 -->\n",
       "<g id=\"node3\" class=\"node\">\n",
       "<title>2</title>\n",
       "<path fill=\"#f0b58b\" stroke=\"black\" d=\"M695.5,-393C695.5,-393 506.5,-393 506.5,-393 500.5,-393 494.5,-387 494.5,-381 494.5,-381 494.5,-322 494.5,-322 494.5,-316 500.5,-310 506.5,-310 506.5,-310 695.5,-310 695.5,-310 701.5,-310 707.5,-316 707.5,-322 707.5,-322 707.5,-381 707.5,-381 707.5,-387 701.5,-393 695.5,-393\"/>\n",
       "<text text-anchor=\"start\" x=\"570.5\" y=\"-377.8\" font-family=\"Helvetica,sans-Serif\" font-size=\"14.00\">co ≤ 0.5</text>\n",
       "<text text-anchor=\"start\" x=\"557\" y=\"-362.8\" font-family=\"Helvetica,sans-Serif\" font-size=\"14.00\">gini = 0.481</text>\n",
       "<text text-anchor=\"start\" x=\"537.5\" y=\"-347.8\" font-family=\"Helvetica,sans-Serif\" font-size=\"14.00\">samples = 10371</text>\n",
       "<text text-anchor=\"start\" x=\"502.5\" y=\"-332.8\" font-family=\"Helvetica,sans-Serif\" font-size=\"14.00\">value = [7035, 2294, 1042]</text>\n",
       "<text text-anchor=\"start\" x=\"545\" y=\"-317.8\" font-family=\"Helvetica,sans-Serif\" font-size=\"14.00\">class = positive</text>\n",
       "</g>\n",
       "<!-- 1&#45;&gt;2 -->\n",
       "<g id=\"edge2\" class=\"edge\">\n",
       "<title>1&#45;&gt;2</title>\n",
       "<path fill=\"none\" stroke=\"black\" d=\"M1019.44,-445.75C931.91,-426.25 808.09,-398.65 717.86,-378.54\"/>\n",
       "<polygon fill=\"black\" stroke=\"black\" points=\"718.38,-375.07 707.85,-376.31 716.85,-381.9 718.38,-375.07\"/>\n",
       "</g>\n",
       "<!-- 121 -->\n",
       "<g id=\"node16\" class=\"node\">\n",
       "<title>121</title>\n",
       "<path fill=\"#d1b6f5\" stroke=\"black\" d=\"M1207,-393C1207,-393 1045,-393 1045,-393 1039,-393 1033,-387 1033,-381 1033,-381 1033,-322 1033,-322 1033,-316 1039,-310 1045,-310 1045,-310 1207,-310 1207,-310 1213,-310 1219,-316 1219,-322 1219,-322 1219,-381 1219,-381 1219,-387 1213,-393 1207,-393\"/>\n",
       "<text text-anchor=\"start\" x=\"1092.5\" y=\"-377.8\" font-family=\"Helvetica,sans-Serif\" font-size=\"14.00\">not ≤ 0.5</text>\n",
       "<text text-anchor=\"start\" x=\"1082\" y=\"-362.8\" font-family=\"Helvetica,sans-Serif\" font-size=\"14.00\">gini = 0.583</text>\n",
       "<text text-anchor=\"start\" x=\"1071.5\" y=\"-347.8\" font-family=\"Helvetica,sans-Serif\" font-size=\"14.00\">samples = 859</text>\n",
       "<text text-anchor=\"start\" x=\"1041\" y=\"-332.8\" font-family=\"Helvetica,sans-Serif\" font-size=\"14.00\">value = [253, 130, 476]</text>\n",
       "<text text-anchor=\"start\" x=\"1066.5\" y=\"-317.8\" font-family=\"Helvetica,sans-Serif\" font-size=\"14.00\">class = negative</text>\n",
       "</g>\n",
       "<!-- 1&#45;&gt;121 -->\n",
       "<g id=\"edge15\" class=\"edge\">\n",
       "<title>1&#45;&gt;121</title>\n",
       "<path fill=\"none\" stroke=\"black\" d=\"M1126,-428.91C1126,-420.65 1126,-411.86 1126,-403.3\"/>\n",
       "<polygon fill=\"black\" stroke=\"black\" points=\"1129.5,-403.02 1126,-393.02 1122.5,-403.02 1129.5,-403.02\"/>\n",
       "</g>\n",
       "<!-- 3 -->\n",
       "<g id=\"node4\" class=\"node\">\n",
       "<title>3</title>\n",
       "<path fill=\"#efaf82\" stroke=\"black\" d=\"M396,-274C396,-274 216,-274 216,-274 210,-274 204,-268 204,-262 204,-262 204,-203 204,-203 204,-197 210,-191 216,-191 216,-191 396,-191 396,-191 402,-191 408,-197 408,-203 408,-203 408,-262 408,-262 408,-268 402,-274 396,-274\"/>\n",
       "<text text-anchor=\"start\" x=\"275\" y=\"-258.8\" font-family=\"Helvetica,sans-Serif\" font-size=\"14.00\">no ≤ 0.5</text>\n",
       "<text text-anchor=\"start\" x=\"262\" y=\"-243.8\" font-family=\"Helvetica,sans-Serif\" font-size=\"14.00\">gini = 0.453</text>\n",
       "<text text-anchor=\"start\" x=\"247\" y=\"-228.8\" font-family=\"Helvetica,sans-Serif\" font-size=\"14.00\">samples = 9472</text>\n",
       "<text text-anchor=\"start\" x=\"212\" y=\"-213.8\" font-family=\"Helvetica,sans-Serif\" font-size=\"14.00\">value = [6685, 1886, 901]</text>\n",
       "<text text-anchor=\"start\" x=\"250\" y=\"-198.8\" font-family=\"Helvetica,sans-Serif\" font-size=\"14.00\">class = positive</text>\n",
       "</g>\n",
       "<!-- 2&#45;&gt;3 -->\n",
       "<g id=\"edge3\" class=\"edge\">\n",
       "<title>2&#45;&gt;3</title>\n",
       "<path fill=\"none\" stroke=\"black\" d=\"M498.65,-309.91C472.45,-299.52 444.15,-288.29 417.51,-277.73\"/>\n",
       "<polygon fill=\"black\" stroke=\"black\" points=\"418.75,-274.45 408.17,-274.02 416.17,-280.96 418.75,-274.45\"/>\n",
       "</g>\n",
       "<!-- 82 -->\n",
       "<g id=\"node11\" class=\"node\">\n",
       "<title>82</title>\n",
       "<path fill=\"#eafcf2\" stroke=\"black\" d=\"M682,-274C682,-274 520,-274 520,-274 514,-274 508,-268 508,-262 508,-262 508,-203 508,-203 508,-197 514,-191 520,-191 520,-191 682,-191 682,-191 688,-191 694,-197 694,-203 694,-203 694,-262 694,-262 694,-268 688,-274 682,-274\"/>\n",
       "<text text-anchor=\"start\" x=\"560\" y=\"-258.8\" font-family=\"Helvetica,sans-Serif\" font-size=\"14.00\">great ≤ 0.5</text>\n",
       "<text text-anchor=\"start\" x=\"557\" y=\"-243.8\" font-family=\"Helvetica,sans-Serif\" font-size=\"14.00\">gini = 0.618</text>\n",
       "<text text-anchor=\"start\" x=\"546.5\" y=\"-228.8\" font-family=\"Helvetica,sans-Serif\" font-size=\"14.00\">samples = 899</text>\n",
       "<text text-anchor=\"start\" x=\"516\" y=\"-213.8\" font-family=\"Helvetica,sans-Serif\" font-size=\"14.00\">value = [350, 408, 141]</text>\n",
       "<text text-anchor=\"start\" x=\"547\" y=\"-198.8\" font-family=\"Helvetica,sans-Serif\" font-size=\"14.00\">class = neutral</text>\n",
       "</g>\n",
       "<!-- 2&#45;&gt;82 -->\n",
       "<g id=\"edge10\" class=\"edge\">\n",
       "<title>2&#45;&gt;82</title>\n",
       "<path fill=\"none\" stroke=\"black\" d=\"M601,-309.91C601,-301.65 601,-292.86 601,-284.3\"/>\n",
       "<polygon fill=\"black\" stroke=\"black\" points=\"604.5,-284.02 601,-274.02 597.5,-284.02 604.5,-284.02\"/>\n",
       "</g>\n",
       "<!-- 4 -->\n",
       "<g id=\"node5\" class=\"node\">\n",
       "<title>4</title>\n",
       "<path fill=\"#efb488\" stroke=\"black\" d=\"M192,-155C192,-155 12,-155 12,-155 6,-155 0,-149 0,-143 0,-143 0,-84 0,-84 0,-78 6,-72 12,-72 12,-72 192,-72 192,-72 198,-72 204,-78 204,-84 204,-84 204,-143 204,-143 204,-149 198,-155 192,-155\"/>\n",
       "<text text-anchor=\"start\" x=\"68.5\" y=\"-139.8\" font-family=\"Helvetica,sans-Serif\" font-size=\"14.00\">not ≤ 0.5</text>\n",
       "<text text-anchor=\"start\" x=\"58\" y=\"-124.8\" font-family=\"Helvetica,sans-Serif\" font-size=\"14.00\">gini = 0.476</text>\n",
       "<text text-anchor=\"start\" x=\"43\" y=\"-109.8\" font-family=\"Helvetica,sans-Serif\" font-size=\"14.00\">samples = 8495</text>\n",
       "<text text-anchor=\"start\" x=\"8\" y=\"-94.8\" font-family=\"Helvetica,sans-Serif\" font-size=\"14.00\">value = [5814, 1813, 868]</text>\n",
       "<text text-anchor=\"start\" x=\"46\" y=\"-79.8\" font-family=\"Helvetica,sans-Serif\" font-size=\"14.00\">class = positive</text>\n",
       "</g>\n",
       "<!-- 3&#45;&gt;4 -->\n",
       "<g id=\"edge4\" class=\"edge\">\n",
       "<title>3&#45;&gt;4</title>\n",
       "<path fill=\"none\" stroke=\"black\" d=\"M235.22,-190.91C217.98,-181.02 199.41,-170.37 181.78,-160.25\"/>\n",
       "<polygon fill=\"black\" stroke=\"black\" points=\"183.07,-156.96 172.65,-155.02 179.58,-163.03 183.07,-156.96\"/>\n",
       "</g>\n",
       "<!-- 53 -->\n",
       "<g id=\"node8\" class=\"node\">\n",
       "<title>53</title>\n",
       "<path fill=\"#e89050\" stroke=\"black\" d=\"M378,-155C378,-155 234,-155 234,-155 228,-155 222,-149 222,-143 222,-143 222,-84 222,-84 222,-78 228,-72 234,-72 234,-72 378,-72 378,-72 384,-72 390,-78 390,-84 390,-84 390,-143 390,-143 390,-149 384,-155 378,-155\"/>\n",
       "<text text-anchor=\"start\" x=\"257.5\" y=\"-139.8\" font-family=\"Helvetica,sans-Serif\" font-size=\"14.00\">worries ≤ 0.5</text>\n",
       "<text text-anchor=\"start\" x=\"262\" y=\"-124.8\" font-family=\"Helvetica,sans-Serif\" font-size=\"14.00\">gini = 0.198</text>\n",
       "<text text-anchor=\"start\" x=\"251.5\" y=\"-109.8\" font-family=\"Helvetica,sans-Serif\" font-size=\"14.00\">samples = 977</text>\n",
       "<text text-anchor=\"start\" x=\"230\" y=\"-94.8\" font-family=\"Helvetica,sans-Serif\" font-size=\"14.00\">value = [871, 73, 33]</text>\n",
       "<text text-anchor=\"start\" x=\"250\" y=\"-79.8\" font-family=\"Helvetica,sans-Serif\" font-size=\"14.00\">class = positive</text>\n",
       "</g>\n",
       "<!-- 3&#45;&gt;53 -->\n",
       "<g id=\"edge7\" class=\"edge\">\n",
       "<title>3&#45;&gt;53</title>\n",
       "<path fill=\"none\" stroke=\"black\" d=\"M306,-190.91C306,-182.65 306,-173.86 306,-165.3\"/>\n",
       "<polygon fill=\"black\" stroke=\"black\" points=\"309.5,-165.02 306,-155.02 302.5,-165.02 309.5,-165.02\"/>\n",
       "</g>\n",
       "<!-- 5 -->\n",
       "<g id=\"node6\" class=\"node\">\n",
       "<title>5</title>\n",
       "<path fill=\"#c0c0c0\" stroke=\"black\" d=\"M81,-36C81,-36 51,-36 51,-36 45,-36 39,-30 39,-24 39,-24 39,-12 39,-12 39,-6 45,0 51,0 51,0 81,0 81,0 87,0 93,-6 93,-12 93,-12 93,-24 93,-24 93,-30 87,-36 81,-36\"/>\n",
       "<text text-anchor=\"middle\" x=\"66\" y=\"-14.3\" font-family=\"Helvetica,sans-Serif\" font-size=\"14.00\">(...)</text>\n",
       "</g>\n",
       "<!-- 4&#45;&gt;5 -->\n",
       "<g id=\"edge5\" class=\"edge\">\n",
       "<title>4&#45;&gt;5</title>\n",
       "<path fill=\"none\" stroke=\"black\" d=\"M86.31,-71.76C82.96,-63.04 79.49,-54.04 76.39,-45.99\"/>\n",
       "<polygon fill=\"black\" stroke=\"black\" points=\"79.56,-44.48 72.7,-36.41 73.03,-46.99 79.56,-44.48\"/>\n",
       "</g>\n",
       "<!-- 40 -->\n",
       "<g id=\"node7\" class=\"node\">\n",
       "<title>40</title>\n",
       "<path fill=\"#c0c0c0\" stroke=\"black\" d=\"M153,-36C153,-36 123,-36 123,-36 117,-36 111,-30 111,-24 111,-24 111,-12 111,-12 111,-6 117,0 123,0 123,0 153,0 153,0 159,0 165,-6 165,-12 165,-12 165,-24 165,-24 165,-30 159,-36 153,-36\"/>\n",
       "<text text-anchor=\"middle\" x=\"138\" y=\"-14.3\" font-family=\"Helvetica,sans-Serif\" font-size=\"14.00\">(...)</text>\n",
       "</g>\n",
       "<!-- 4&#45;&gt;40 -->\n",
       "<g id=\"edge6\" class=\"edge\">\n",
       "<title>4&#45;&gt;40</title>\n",
       "<path fill=\"none\" stroke=\"black\" d=\"M117.69,-71.76C121.04,-63.04 124.51,-54.04 127.61,-45.99\"/>\n",
       "<polygon fill=\"black\" stroke=\"black\" points=\"130.97,-46.99 131.3,-36.41 124.44,-44.48 130.97,-46.99\"/>\n",
       "</g>\n",
       "<!-- 54 -->\n",
       "<g id=\"node9\" class=\"node\">\n",
       "<title>54</title>\n",
       "<path fill=\"#c0c0c0\" stroke=\"black\" d=\"M298,-36C298,-36 268,-36 268,-36 262,-36 256,-30 256,-24 256,-24 256,-12 256,-12 256,-6 262,0 268,0 268,0 298,0 298,0 304,0 310,-6 310,-12 310,-12 310,-24 310,-24 310,-30 304,-36 298,-36\"/>\n",
       "<text text-anchor=\"middle\" x=\"283\" y=\"-14.3\" font-family=\"Helvetica,sans-Serif\" font-size=\"14.00\">(...)</text>\n",
       "</g>\n",
       "<!-- 53&#45;&gt;54 -->\n",
       "<g id=\"edge8\" class=\"edge\">\n",
       "<title>53&#45;&gt;54</title>\n",
       "<path fill=\"none\" stroke=\"black\" d=\"M295.98,-71.76C293.86,-63.14 291.67,-54.24 289.71,-46.26\"/>\n",
       "<polygon fill=\"black\" stroke=\"black\" points=\"293.07,-45.28 287.28,-36.41 286.27,-46.95 293.07,-45.28\"/>\n",
       "</g>\n",
       "<!-- 79 -->\n",
       "<g id=\"node10\" class=\"node\">\n",
       "<title>79</title>\n",
       "<path fill=\"#c0c0c0\" stroke=\"black\" d=\"M370,-36C370,-36 340,-36 340,-36 334,-36 328,-30 328,-24 328,-24 328,-12 328,-12 328,-6 334,0 340,0 340,0 370,0 370,0 376,0 382,-6 382,-12 382,-12 382,-24 382,-24 382,-30 376,-36 370,-36\"/>\n",
       "<text text-anchor=\"middle\" x=\"355\" y=\"-14.3\" font-family=\"Helvetica,sans-Serif\" font-size=\"14.00\">(...)</text>\n",
       "</g>\n",
       "<!-- 53&#45;&gt;79 -->\n",
       "<g id=\"edge9\" class=\"edge\">\n",
       "<title>53&#45;&gt;79</title>\n",
       "<path fill=\"none\" stroke=\"black\" d=\"M327.35,-71.76C332.02,-62.85 336.85,-53.64 341.13,-45.46\"/>\n",
       "<polygon fill=\"black\" stroke=\"black\" points=\"344.34,-46.89 345.88,-36.41 338.14,-43.64 344.34,-46.89\"/>\n",
       "</g>\n",
       "<!-- 83 -->\n",
       "<g id=\"node12\" class=\"node\">\n",
       "<title>83</title>\n",
       "<path fill=\"#e9fcf1\" stroke=\"black\" d=\"M582,-155C582,-155 420,-155 420,-155 414,-155 408,-149 408,-143 408,-143 408,-84 408,-84 408,-78 414,-72 420,-72 420,-72 582,-72 582,-72 588,-72 594,-78 594,-84 594,-84 594,-143 594,-143 594,-149 588,-155 582,-155\"/>\n",
       "<text text-anchor=\"start\" x=\"463.5\" y=\"-139.8\" font-family=\"Helvetica,sans-Serif\" font-size=\"14.00\">hold ≤ 0.5</text>\n",
       "<text text-anchor=\"start\" x=\"457\" y=\"-124.8\" font-family=\"Helvetica,sans-Serif\" font-size=\"14.00\">gini = 0.608</text>\n",
       "<text text-anchor=\"start\" x=\"446.5\" y=\"-109.8\" font-family=\"Helvetica,sans-Serif\" font-size=\"14.00\">samples = 877</text>\n",
       "<text text-anchor=\"start\" x=\"416\" y=\"-94.8\" font-family=\"Helvetica,sans-Serif\" font-size=\"14.00\">value = [348, 407, 122]</text>\n",
       "<text text-anchor=\"start\" x=\"447\" y=\"-79.8\" font-family=\"Helvetica,sans-Serif\" font-size=\"14.00\">class = neutral</text>\n",
       "</g>\n",
       "<!-- 82&#45;&gt;83 -->\n",
       "<g id=\"edge11\" class=\"edge\">\n",
       "<title>82&#45;&gt;83</title>\n",
       "<path fill=\"none\" stroke=\"black\" d=\"M566.31,-190.91C558.55,-181.83 550.25,-172.12 542.26,-162.77\"/>\n",
       "<polygon fill=\"black\" stroke=\"black\" points=\"544.79,-160.35 535.63,-155.02 539.47,-164.9 544.79,-160.35\"/>\n",
       "</g>\n",
       "<!-- 120 -->\n",
       "<g id=\"node15\" class=\"node\">\n",
       "<title>120</title>\n",
       "<path fill=\"#9457e9\" stroke=\"black\" d=\"M741.5,-147.5C741.5,-147.5 624.5,-147.5 624.5,-147.5 618.5,-147.5 612.5,-141.5 612.5,-135.5 612.5,-135.5 612.5,-91.5 612.5,-91.5 612.5,-85.5 618.5,-79.5 624.5,-79.5 624.5,-79.5 741.5,-79.5 741.5,-79.5 747.5,-79.5 753.5,-85.5 753.5,-91.5 753.5,-91.5 753.5,-135.5 753.5,-135.5 753.5,-141.5 747.5,-147.5 741.5,-147.5\"/>\n",
       "<text text-anchor=\"start\" x=\"639\" y=\"-132.3\" font-family=\"Helvetica,sans-Serif\" font-size=\"14.00\">gini = 0.244</text>\n",
       "<text text-anchor=\"start\" x=\"633\" y=\"-117.3\" font-family=\"Helvetica,sans-Serif\" font-size=\"14.00\">samples = 22</text>\n",
       "<text text-anchor=\"start\" x=\"620.5\" y=\"-102.3\" font-family=\"Helvetica,sans-Serif\" font-size=\"14.00\">value = [2, 1, 19]</text>\n",
       "<text text-anchor=\"start\" x=\"623.5\" y=\"-87.3\" font-family=\"Helvetica,sans-Serif\" font-size=\"14.00\">class = negative</text>\n",
       "</g>\n",
       "<!-- 82&#45;&gt;120 -->\n",
       "<g id=\"edge14\" class=\"edge\">\n",
       "<title>82&#45;&gt;120</title>\n",
       "<path fill=\"none\" stroke=\"black\" d=\"M629.45,-190.91C637.34,-179.65 645.91,-167.42 653.84,-156.11\"/>\n",
       "<polygon fill=\"black\" stroke=\"black\" points=\"656.88,-157.86 659.75,-147.67 651.15,-153.85 656.88,-157.86\"/>\n",
       "</g>\n",
       "<!-- 84 -->\n",
       "<g id=\"node13\" class=\"node\">\n",
       "<title>84</title>\n",
       "<path fill=\"#c0c0c0\" stroke=\"black\" d=\"M467,-36C467,-36 437,-36 437,-36 431,-36 425,-30 425,-24 425,-24 425,-12 425,-12 425,-6 431,0 437,0 437,0 467,0 467,0 473,0 479,-6 479,-12 479,-12 479,-24 479,-24 479,-30 473,-36 467,-36\"/>\n",
       "<text text-anchor=\"middle\" x=\"452\" y=\"-14.3\" font-family=\"Helvetica,sans-Serif\" font-size=\"14.00\">(...)</text>\n",
       "</g>\n",
       "<!-- 83&#45;&gt;84 -->\n",
       "<g id=\"edge12\" class=\"edge\">\n",
       "<title>83&#45;&gt;84</title>\n",
       "<path fill=\"none\" stroke=\"black\" d=\"M479.65,-71.76C474.98,-62.85 470.15,-53.64 465.87,-45.46\"/>\n",
       "<polygon fill=\"black\" stroke=\"black\" points=\"468.86,-43.64 461.12,-36.41 462.66,-46.89 468.86,-43.64\"/>\n",
       "</g>\n",
       "<!-- 117 -->\n",
       "<g id=\"node14\" class=\"node\">\n",
       "<title>117</title>\n",
       "<path fill=\"#c0c0c0\" stroke=\"black\" d=\"M539,-36C539,-36 509,-36 509,-36 503,-36 497,-30 497,-24 497,-24 497,-12 497,-12 497,-6 503,0 509,0 509,0 539,0 539,0 545,0 551,-6 551,-12 551,-12 551,-24 551,-24 551,-30 545,-36 539,-36\"/>\n",
       "<text text-anchor=\"middle\" x=\"524\" y=\"-14.3\" font-family=\"Helvetica,sans-Serif\" font-size=\"14.00\">(...)</text>\n",
       "</g>\n",
       "<!-- 83&#45;&gt;117 -->\n",
       "<g id=\"edge13\" class=\"edge\">\n",
       "<title>83&#45;&gt;117</title>\n",
       "<path fill=\"none\" stroke=\"black\" d=\"M511.02,-71.76C513.14,-63.14 515.33,-54.24 517.29,-46.26\"/>\n",
       "<polygon fill=\"black\" stroke=\"black\" points=\"520.73,-46.95 519.72,-36.41 513.93,-45.28 520.73,-46.95\"/>\n",
       "</g>\n",
       "<!-- 122 -->\n",
       "<g id=\"node17\" class=\"node\">\n",
       "<title>122</title>\n",
       "<path fill=\"#c9abf4\" stroke=\"black\" d=\"M1114,-274C1114,-274 952,-274 952,-274 946,-274 940,-268 940,-262 940,-262 940,-203 940,-203 940,-197 946,-191 952,-191 952,-191 1114,-191 1114,-191 1120,-191 1126,-197 1126,-203 1126,-203 1126,-262 1126,-262 1126,-268 1120,-274 1114,-274\"/>\n",
       "<text text-anchor=\"start\" x=\"1004.5\" y=\"-258.8\" font-family=\"Helvetica,sans-Serif\" font-size=\"14.00\">hi ≤ 0.5</text>\n",
       "<text text-anchor=\"start\" x=\"989\" y=\"-243.8\" font-family=\"Helvetica,sans-Serif\" font-size=\"14.00\">gini = 0.569</text>\n",
       "<text text-anchor=\"start\" x=\"978.5\" y=\"-228.8\" font-family=\"Helvetica,sans-Serif\" font-size=\"14.00\">samples = 800</text>\n",
       "<text text-anchor=\"start\" x=\"948\" y=\"-213.8\" font-family=\"Helvetica,sans-Serif\" font-size=\"14.00\">value = [214, 122, 464]</text>\n",
       "<text text-anchor=\"start\" x=\"973.5\" y=\"-198.8\" font-family=\"Helvetica,sans-Serif\" font-size=\"14.00\">class = negative</text>\n",
       "</g>\n",
       "<!-- 121&#45;&gt;122 -->\n",
       "<g id=\"edge16\" class=\"edge\">\n",
       "<title>121&#45;&gt;122</title>\n",
       "<path fill=\"none\" stroke=\"black\" d=\"M1093.73,-309.91C1086.59,-300.92 1078.96,-291.32 1071.59,-282.05\"/>\n",
       "<polygon fill=\"black\" stroke=\"black\" points=\"1074.17,-279.67 1065.21,-274.02 1068.69,-284.03 1074.17,-279.67\"/>\n",
       "</g>\n",
       "<!-- 159 -->\n",
       "<g id=\"node22\" class=\"node\">\n",
       "<title>159</title>\n",
       "<path fill=\"#f0b78d\" stroke=\"black\" d=\"M1282,-274C1282,-274 1156,-274 1156,-274 1150,-274 1144,-268 1144,-262 1144,-262 1144,-203 1144,-203 1144,-197 1150,-191 1156,-191 1156,-191 1282,-191 1282,-191 1288,-191 1294,-197 1294,-203 1294,-203 1294,-262 1294,-262 1294,-268 1288,-274 1282,-274\"/>\n",
       "<text text-anchor=\"start\" x=\"1182.5\" y=\"-258.8\" font-family=\"Helvetica,sans-Serif\" font-size=\"14.00\">was ≤ 0.5</text>\n",
       "<text text-anchor=\"start\" x=\"1175\" y=\"-243.8\" font-family=\"Helvetica,sans-Serif\" font-size=\"14.00\">gini = 0.503</text>\n",
       "<text text-anchor=\"start\" x=\"1169\" y=\"-228.8\" font-family=\"Helvetica,sans-Serif\" font-size=\"14.00\">samples = 59</text>\n",
       "<text text-anchor=\"start\" x=\"1152\" y=\"-213.8\" font-family=\"Helvetica,sans-Serif\" font-size=\"14.00\">value = [39, 8, 12]</text>\n",
       "<text text-anchor=\"start\" x=\"1163\" y=\"-198.8\" font-family=\"Helvetica,sans-Serif\" font-size=\"14.00\">class = positive</text>\n",
       "</g>\n",
       "<!-- 121&#45;&gt;159 -->\n",
       "<g id=\"edge21\" class=\"edge\">\n",
       "<title>121&#45;&gt;159</title>\n",
       "<path fill=\"none\" stroke=\"black\" d=\"M1158.27,-309.91C1165.41,-300.92 1173.04,-291.32 1180.41,-282.05\"/>\n",
       "<polygon fill=\"black\" stroke=\"black\" points=\"1183.31,-284.03 1186.79,-274.02 1177.83,-279.67 1183.31,-284.03\"/>\n",
       "</g>\n",
       "<!-- 123 -->\n",
       "<g id=\"node18\" class=\"node\">\n",
       "<title>123</title>\n",
       "<path fill=\"#c8a9f4\" stroke=\"black\" d=\"M946,-155C946,-155 784,-155 784,-155 778,-155 772,-149 772,-143 772,-143 772,-84 772,-84 772,-78 778,-72 784,-72 784,-72 946,-72 946,-72 952,-72 958,-78 958,-84 958,-84 958,-143 958,-143 958,-149 952,-155 946,-155\"/>\n",
       "<text text-anchor=\"start\" x=\"831.5\" y=\"-139.8\" font-family=\"Helvetica,sans-Serif\" font-size=\"14.00\">my ≤ 0.5</text>\n",
       "<text text-anchor=\"start\" x=\"821\" y=\"-124.8\" font-family=\"Helvetica,sans-Serif\" font-size=\"14.00\">gini = 0.558</text>\n",
       "<text text-anchor=\"start\" x=\"810.5\" y=\"-109.8\" font-family=\"Helvetica,sans-Serif\" font-size=\"14.00\">samples = 784</text>\n",
       "<text text-anchor=\"start\" x=\"780\" y=\"-94.8\" font-family=\"Helvetica,sans-Serif\" font-size=\"14.00\">value = [214, 107, 463]</text>\n",
       "<text text-anchor=\"start\" x=\"805.5\" y=\"-79.8\" font-family=\"Helvetica,sans-Serif\" font-size=\"14.00\">class = negative</text>\n",
       "</g>\n",
       "<!-- 122&#45;&gt;123 -->\n",
       "<g id=\"edge17\" class=\"edge\">\n",
       "<title>122&#45;&gt;123</title>\n",
       "<path fill=\"none\" stroke=\"black\" d=\"M974.71,-190.91C960.77,-181.2 945.78,-170.76 931.5,-160.81\"/>\n",
       "<polygon fill=\"black\" stroke=\"black\" points=\"933.39,-157.86 923.18,-155.02 929.39,-163.61 933.39,-157.86\"/>\n",
       "</g>\n",
       "<!-- 158 -->\n",
       "<g id=\"node21\" class=\"node\">\n",
       "<title>158</title>\n",
       "<path fill=\"#46e789\" stroke=\"black\" d=\"M1105.5,-147.5C1105.5,-147.5 988.5,-147.5 988.5,-147.5 982.5,-147.5 976.5,-141.5 976.5,-135.5 976.5,-135.5 976.5,-91.5 976.5,-91.5 976.5,-85.5 982.5,-79.5 988.5,-79.5 988.5,-79.5 1105.5,-79.5 1105.5,-79.5 1111.5,-79.5 1117.5,-85.5 1117.5,-91.5 1117.5,-91.5 1117.5,-135.5 1117.5,-135.5 1117.5,-141.5 1111.5,-147.5 1105.5,-147.5\"/>\n",
       "<text text-anchor=\"start\" x=\"1003\" y=\"-132.3\" font-family=\"Helvetica,sans-Serif\" font-size=\"14.00\">gini = 0.117</text>\n",
       "<text text-anchor=\"start\" x=\"997\" y=\"-117.3\" font-family=\"Helvetica,sans-Serif\" font-size=\"14.00\">samples = 16</text>\n",
       "<text text-anchor=\"start\" x=\"984.5\" y=\"-102.3\" font-family=\"Helvetica,sans-Serif\" font-size=\"14.00\">value = [0, 15, 1]</text>\n",
       "<text text-anchor=\"start\" x=\"993\" y=\"-87.3\" font-family=\"Helvetica,sans-Serif\" font-size=\"14.00\">class = neutral</text>\n",
       "</g>\n",
       "<!-- 122&#45;&gt;158 -->\n",
       "<g id=\"edge20\" class=\"edge\">\n",
       "<title>122&#45;&gt;158</title>\n",
       "<path fill=\"none\" stroke=\"black\" d=\"M1037.86,-190.91C1039.14,-180.2 1040.52,-168.62 1041.82,-157.78\"/>\n",
       "<polygon fill=\"black\" stroke=\"black\" points=\"1045.32,-158.01 1043.03,-147.67 1038.37,-157.18 1045.32,-158.01\"/>\n",
       "</g>\n",
       "<!-- 124 -->\n",
       "<g id=\"node19\" class=\"node\">\n",
       "<title>124</title>\n",
       "<path fill=\"#c0c0c0\" stroke=\"black\" d=\"M844,-36C844,-36 814,-36 814,-36 808,-36 802,-30 802,-24 802,-24 802,-12 802,-12 802,-6 808,0 814,0 814,0 844,0 844,0 850,0 856,-6 856,-12 856,-12 856,-24 856,-24 856,-30 850,-36 844,-36\"/>\n",
       "<text text-anchor=\"middle\" x=\"829\" y=\"-14.3\" font-family=\"Helvetica,sans-Serif\" font-size=\"14.00\">(...)</text>\n",
       "</g>\n",
       "<!-- 123&#45;&gt;124 -->\n",
       "<g id=\"edge18\" class=\"edge\">\n",
       "<title>123&#45;&gt;124</title>\n",
       "<path fill=\"none\" stroke=\"black\" d=\"M849.31,-71.76C845.96,-63.04 842.49,-54.04 839.39,-45.99\"/>\n",
       "<polygon fill=\"black\" stroke=\"black\" points=\"842.56,-44.48 835.7,-36.41 836.03,-46.99 842.56,-44.48\"/>\n",
       "</g>\n",
       "<!-- 141 -->\n",
       "<g id=\"node20\" class=\"node\">\n",
       "<title>141</title>\n",
       "<path fill=\"#c0c0c0\" stroke=\"black\" d=\"M916,-36C916,-36 886,-36 886,-36 880,-36 874,-30 874,-24 874,-24 874,-12 874,-12 874,-6 880,0 886,0 886,0 916,0 916,0 922,0 928,-6 928,-12 928,-12 928,-24 928,-24 928,-30 922,-36 916,-36\"/>\n",
       "<text text-anchor=\"middle\" x=\"901\" y=\"-14.3\" font-family=\"Helvetica,sans-Serif\" font-size=\"14.00\">(...)</text>\n",
       "</g>\n",
       "<!-- 123&#45;&gt;141 -->\n",
       "<g id=\"edge19\" class=\"edge\">\n",
       "<title>123&#45;&gt;141</title>\n",
       "<path fill=\"none\" stroke=\"black\" d=\"M880.69,-71.76C884.04,-63.04 887.51,-54.04 890.61,-45.99\"/>\n",
       "<polygon fill=\"black\" stroke=\"black\" points=\"893.97,-46.99 894.3,-36.41 887.44,-44.48 893.97,-46.99\"/>\n",
       "</g>\n",
       "<!-- 160 -->\n",
       "<g id=\"node23\" class=\"node\">\n",
       "<title>160</title>\n",
       "<path fill=\"#eca46f\" stroke=\"black\" d=\"M1264.5,-155C1264.5,-155 1147.5,-155 1147.5,-155 1141.5,-155 1135.5,-149 1135.5,-143 1135.5,-143 1135.5,-84 1135.5,-84 1135.5,-78 1141.5,-72 1147.5,-72 1147.5,-72 1264.5,-72 1264.5,-72 1270.5,-72 1276.5,-78 1276.5,-84 1276.5,-84 1276.5,-143 1276.5,-143 1276.5,-149 1270.5,-155 1264.5,-155\"/>\n",
       "<text text-anchor=\"start\" x=\"1174\" y=\"-139.8\" font-family=\"Helvetica,sans-Serif\" font-size=\"14.00\">for ≤ 0.5</text>\n",
       "<text text-anchor=\"start\" x=\"1162\" y=\"-124.8\" font-family=\"Helvetica,sans-Serif\" font-size=\"14.00\">gini = 0.392</text>\n",
       "<text text-anchor=\"start\" x=\"1156\" y=\"-109.8\" font-family=\"Helvetica,sans-Serif\" font-size=\"14.00\">samples = 46</text>\n",
       "<text text-anchor=\"start\" x=\"1143.5\" y=\"-94.8\" font-family=\"Helvetica,sans-Serif\" font-size=\"14.00\">value = [35, 6, 5]</text>\n",
       "<text text-anchor=\"start\" x=\"1150\" y=\"-79.8\" font-family=\"Helvetica,sans-Serif\" font-size=\"14.00\">class = positive</text>\n",
       "</g>\n",
       "<!-- 159&#45;&gt;160 -->\n",
       "<g id=\"edge22\" class=\"edge\">\n",
       "<title>159&#45;&gt;160</title>\n",
       "<path fill=\"none\" stroke=\"black\" d=\"M1214.49,-190.91C1213.56,-182.56 1212.57,-173.67 1211.61,-165.02\"/>\n",
       "<polygon fill=\"black\" stroke=\"black\" points=\"1215.09,-164.57 1210.5,-155.02 1208.13,-165.35 1215.09,-164.57\"/>\n",
       "</g>\n",
       "<!-- 165 -->\n",
       "<g id=\"node26\" class=\"node\">\n",
       "<title>165</title>\n",
       "<path fill=\"#d5bdf6\" stroke=\"black\" d=\"M1417.5,-147.5C1417.5,-147.5 1306.5,-147.5 1306.5,-147.5 1300.5,-147.5 1294.5,-141.5 1294.5,-135.5 1294.5,-135.5 1294.5,-91.5 1294.5,-91.5 1294.5,-85.5 1300.5,-79.5 1306.5,-79.5 1306.5,-79.5 1417.5,-79.5 1417.5,-79.5 1423.5,-79.5 1429.5,-85.5 1429.5,-91.5 1429.5,-91.5 1429.5,-135.5 1429.5,-135.5 1429.5,-141.5 1423.5,-147.5 1417.5,-147.5\"/>\n",
       "<text text-anchor=\"start\" x=\"1318\" y=\"-132.3\" font-family=\"Helvetica,sans-Serif\" font-size=\"14.00\">gini = 0.592</text>\n",
       "<text text-anchor=\"start\" x=\"1312\" y=\"-117.3\" font-family=\"Helvetica,sans-Serif\" font-size=\"14.00\">samples = 13</text>\n",
       "<text text-anchor=\"start\" x=\"1304\" y=\"-102.3\" font-family=\"Helvetica,sans-Serif\" font-size=\"14.00\">value = [4, 2, 7]</text>\n",
       "<text text-anchor=\"start\" x=\"1302.5\" y=\"-87.3\" font-family=\"Helvetica,sans-Serif\" font-size=\"14.00\">class = negative</text>\n",
       "</g>\n",
       "<!-- 159&#45;&gt;165 -->\n",
       "<g id=\"edge25\" class=\"edge\">\n",
       "<title>159&#45;&gt;165</title>\n",
       "<path fill=\"none\" stroke=\"black\" d=\"M1268.61,-190.91C1283.18,-178.99 1299.09,-165.98 1313.58,-154.12\"/>\n",
       "<polygon fill=\"black\" stroke=\"black\" points=\"1315.94,-156.71 1321.46,-147.67 1311.51,-151.29 1315.94,-156.71\"/>\n",
       "</g>\n",
       "<!-- 161 -->\n",
       "<g id=\"node24\" class=\"node\">\n",
       "<title>161</title>\n",
       "<path fill=\"#c0c0c0\" stroke=\"black\" d=\"M1185,-36C1185,-36 1155,-36 1155,-36 1149,-36 1143,-30 1143,-24 1143,-24 1143,-12 1143,-12 1143,-6 1149,0 1155,0 1155,0 1185,0 1185,0 1191,0 1197,-6 1197,-12 1197,-12 1197,-24 1197,-24 1197,-30 1191,-36 1185,-36\"/>\n",
       "<text text-anchor=\"middle\" x=\"1170\" y=\"-14.3\" font-family=\"Helvetica,sans-Serif\" font-size=\"14.00\">(...)</text>\n",
       "</g>\n",
       "<!-- 160&#45;&gt;161 -->\n",
       "<g id=\"edge23\" class=\"edge\">\n",
       "<title>160&#45;&gt;161</title>\n",
       "<path fill=\"none\" stroke=\"black\" d=\"M1190.31,-71.76C1186.96,-63.04 1183.49,-54.04 1180.39,-45.99\"/>\n",
       "<polygon fill=\"black\" stroke=\"black\" points=\"1183.56,-44.48 1176.7,-36.41 1177.03,-46.99 1183.56,-44.48\"/>\n",
       "</g>\n",
       "<!-- 162 -->\n",
       "<g id=\"node25\" class=\"node\">\n",
       "<title>162</title>\n",
       "<path fill=\"#c0c0c0\" stroke=\"black\" d=\"M1257,-36C1257,-36 1227,-36 1227,-36 1221,-36 1215,-30 1215,-24 1215,-24 1215,-12 1215,-12 1215,-6 1221,0 1227,0 1227,0 1257,0 1257,0 1263,0 1269,-6 1269,-12 1269,-12 1269,-24 1269,-24 1269,-30 1263,-36 1257,-36\"/>\n",
       "<text text-anchor=\"middle\" x=\"1242\" y=\"-14.3\" font-family=\"Helvetica,sans-Serif\" font-size=\"14.00\">(...)</text>\n",
       "</g>\n",
       "<!-- 160&#45;&gt;162 -->\n",
       "<g id=\"edge24\" class=\"edge\">\n",
       "<title>160&#45;&gt;162</title>\n",
       "<path fill=\"none\" stroke=\"black\" d=\"M1221.69,-71.76C1225.04,-63.04 1228.51,-54.04 1231.61,-45.99\"/>\n",
       "<polygon fill=\"black\" stroke=\"black\" points=\"1234.97,-46.99 1235.3,-36.41 1228.44,-44.48 1234.97,-46.99\"/>\n",
       "</g>\n",
       "<!-- 167 -->\n",
       "<g id=\"node28\" class=\"node\">\n",
       "<title>167</title>\n",
       "<path fill=\"#a16cec\" stroke=\"black\" d=\"M1676,-393C1676,-393 1532,-393 1532,-393 1526,-393 1520,-387 1520,-381 1520,-381 1520,-322 1520,-322 1520,-316 1526,-310 1532,-310 1532,-310 1676,-310 1676,-310 1682,-310 1688,-316 1688,-322 1688,-322 1688,-381 1688,-381 1688,-387 1682,-393 1676,-393\"/>\n",
       "<text text-anchor=\"start\" x=\"1563\" y=\"-377.8\" font-family=\"Helvetica,sans-Serif\" font-size=\"14.00\">there ≤ 0.5</text>\n",
       "<text text-anchor=\"start\" x=\"1560\" y=\"-362.8\" font-family=\"Helvetica,sans-Serif\" font-size=\"14.00\">gini = 0.374</text>\n",
       "<text text-anchor=\"start\" x=\"1549.5\" y=\"-347.8\" font-family=\"Helvetica,sans-Serif\" font-size=\"14.00\">samples = 457</text>\n",
       "<text text-anchor=\"start\" x=\"1528\" y=\"-332.8\" font-family=\"Helvetica,sans-Serif\" font-size=\"14.00\">value = [56, 47, 354]</text>\n",
       "<text text-anchor=\"start\" x=\"1544.5\" y=\"-317.8\" font-family=\"Helvetica,sans-Serif\" font-size=\"14.00\">class = negative</text>\n",
       "</g>\n",
       "<!-- 166&#45;&gt;167 -->\n",
       "<g id=\"edge27\" class=\"edge\">\n",
       "<title>166&#45;&gt;167</title>\n",
       "<path fill=\"none\" stroke=\"black\" d=\"M1604,-428.91C1604,-420.65 1604,-411.86 1604,-403.3\"/>\n",
       "<polygon fill=\"black\" stroke=\"black\" points=\"1607.5,-403.02 1604,-393.02 1600.5,-403.02 1607.5,-403.02\"/>\n",
       "</g>\n",
       "<!-- 196 -->\n",
       "<g id=\"node35\" class=\"node\">\n",
       "<title>196</title>\n",
       "<path fill=\"#fcf0e8\" stroke=\"black\" d=\"M1908.5,-393C1908.5,-393 1791.5,-393 1791.5,-393 1785.5,-393 1779.5,-387 1779.5,-381 1779.5,-381 1779.5,-322 1779.5,-322 1779.5,-316 1785.5,-310 1791.5,-310 1791.5,-310 1908.5,-310 1908.5,-310 1914.5,-310 1920.5,-316 1920.5,-322 1920.5,-322 1920.5,-381 1920.5,-381 1920.5,-387 1914.5,-393 1908.5,-393\"/>\n",
       "<text text-anchor=\"start\" x=\"1821\" y=\"-377.8\" font-family=\"Helvetica,sans-Serif\" font-size=\"14.00\">to ≤ 0.5</text>\n",
       "<text text-anchor=\"start\" x=\"1806\" y=\"-362.8\" font-family=\"Helvetica,sans-Serif\" font-size=\"14.00\">gini = 0.659</text>\n",
       "<text text-anchor=\"start\" x=\"1800\" y=\"-347.8\" font-family=\"Helvetica,sans-Serif\" font-size=\"14.00\">samples = 25</text>\n",
       "<text text-anchor=\"start\" x=\"1787.5\" y=\"-332.8\" font-family=\"Helvetica,sans-Serif\" font-size=\"14.00\">value = [10, 8, 7]</text>\n",
       "<text text-anchor=\"start\" x=\"1794\" y=\"-317.8\" font-family=\"Helvetica,sans-Serif\" font-size=\"14.00\">class = positive</text>\n",
       "</g>\n",
       "<!-- 166&#45;&gt;196 -->\n",
       "<g id=\"edge34\" class=\"edge\">\n",
       "<title>166&#45;&gt;196</title>\n",
       "<path fill=\"none\" stroke=\"black\" d=\"M1688.32,-429.4C1714.82,-416.79 1743.98,-402.92 1770.16,-390.47\"/>\n",
       "<polygon fill=\"black\" stroke=\"black\" points=\"1771.76,-393.59 1779.29,-386.13 1768.76,-387.26 1771.76,-393.59\"/>\n",
       "</g>\n",
       "<!-- 168 -->\n",
       "<g id=\"node29\" class=\"node\">\n",
       "<title>168</title>\n",
       "<path fill=\"#9f69eb\" stroke=\"black\" d=\"M1604,-274C1604,-274 1460,-274 1460,-274 1454,-274 1448,-268 1448,-262 1448,-262 1448,-203 1448,-203 1448,-197 1454,-191 1460,-191 1460,-191 1604,-191 1604,-191 1610,-191 1616,-197 1616,-203 1616,-203 1616,-262 1616,-262 1616,-268 1610,-274 1604,-274\"/>\n",
       "<text text-anchor=\"start\" x=\"1497\" y=\"-258.8\" font-family=\"Helvetica,sans-Serif\" font-size=\"14.00\">can ≤ 0.5</text>\n",
       "<text text-anchor=\"start\" x=\"1488\" y=\"-243.8\" font-family=\"Helvetica,sans-Serif\" font-size=\"14.00\">gini = 0.355</text>\n",
       "<text text-anchor=\"start\" x=\"1477.5\" y=\"-228.8\" font-family=\"Helvetica,sans-Serif\" font-size=\"14.00\">samples = 445</text>\n",
       "<text text-anchor=\"start\" x=\"1456\" y=\"-213.8\" font-family=\"Helvetica,sans-Serif\" font-size=\"14.00\">value = [54, 40, 351]</text>\n",
       "<text text-anchor=\"start\" x=\"1472.5\" y=\"-198.8\" font-family=\"Helvetica,sans-Serif\" font-size=\"14.00\">class = negative</text>\n",
       "</g>\n",
       "<!-- 167&#45;&gt;168 -->\n",
       "<g id=\"edge28\" class=\"edge\">\n",
       "<title>167&#45;&gt;168</title>\n",
       "<path fill=\"none\" stroke=\"black\" d=\"M1579.02,-309.91C1573.6,-301.1 1567.82,-291.7 1562.22,-282.61\"/>\n",
       "<polygon fill=\"black\" stroke=\"black\" points=\"1565.16,-280.7 1556.94,-274.02 1559.2,-284.37 1565.16,-280.7\"/>\n",
       "</g>\n",
       "<!-- 195 -->\n",
       "<g id=\"node34\" class=\"node\">\n",
       "<title>195</title>\n",
       "<path fill=\"#a7f3c7\" stroke=\"black\" d=\"M1754,-266.5C1754,-266.5 1646,-266.5 1646,-266.5 1640,-266.5 1634,-260.5 1634,-254.5 1634,-254.5 1634,-210.5 1634,-210.5 1634,-204.5 1640,-198.5 1646,-198.5 1646,-198.5 1754,-198.5 1754,-198.5 1760,-198.5 1766,-204.5 1766,-210.5 1766,-210.5 1766,-254.5 1766,-254.5 1766,-260.5 1760,-266.5 1754,-266.5\"/>\n",
       "<text text-anchor=\"start\" x=\"1656\" y=\"-251.3\" font-family=\"Helvetica,sans-Serif\" font-size=\"14.00\">gini = 0.569</text>\n",
       "<text text-anchor=\"start\" x=\"1650\" y=\"-236.3\" font-family=\"Helvetica,sans-Serif\" font-size=\"14.00\">samples = 12</text>\n",
       "<text text-anchor=\"start\" x=\"1642\" y=\"-221.3\" font-family=\"Helvetica,sans-Serif\" font-size=\"14.00\">value = [2, 7, 3]</text>\n",
       "<text text-anchor=\"start\" x=\"1646\" y=\"-206.3\" font-family=\"Helvetica,sans-Serif\" font-size=\"14.00\">class = neutral</text>\n",
       "</g>\n",
       "<!-- 167&#45;&gt;195 -->\n",
       "<g id=\"edge33\" class=\"edge\">\n",
       "<title>167&#45;&gt;195</title>\n",
       "<path fill=\"none\" stroke=\"black\" d=\"M1637.31,-309.91C1646.72,-298.43 1656.97,-285.94 1666.41,-274.44\"/>\n",
       "<polygon fill=\"black\" stroke=\"black\" points=\"1669.15,-276.62 1672.79,-266.67 1663.74,-272.18 1669.15,-276.62\"/>\n",
       "</g>\n",
       "<!-- 169 -->\n",
       "<g id=\"node30\" class=\"node\">\n",
       "<title>169</title>\n",
       "<path fill=\"#9c64eb\" stroke=\"black\" d=\"M1604,-155C1604,-155 1460,-155 1460,-155 1454,-155 1448,-149 1448,-143 1448,-143 1448,-84 1448,-84 1448,-78 1454,-72 1460,-72 1460,-72 1604,-72 1604,-72 1610,-72 1616,-78 1616,-84 1616,-84 1616,-143 1616,-143 1616,-149 1610,-155 1604,-155\"/>\n",
       "<text text-anchor=\"start\" x=\"1501\" y=\"-139.8\" font-family=\"Helvetica,sans-Serif\" font-size=\"14.00\">no ≤ 0.5</text>\n",
       "<text text-anchor=\"start\" x=\"1488\" y=\"-124.8\" font-family=\"Helvetica,sans-Serif\" font-size=\"14.00\">gini = 0.328</text>\n",
       "<text text-anchor=\"start\" x=\"1477.5\" y=\"-109.8\" font-family=\"Helvetica,sans-Serif\" font-size=\"14.00\">samples = 422</text>\n",
       "<text text-anchor=\"start\" x=\"1456\" y=\"-94.8\" font-family=\"Helvetica,sans-Serif\" font-size=\"14.00\">value = [48, 33, 341]</text>\n",
       "<text text-anchor=\"start\" x=\"1472.5\" y=\"-79.8\" font-family=\"Helvetica,sans-Serif\" font-size=\"14.00\">class = negative</text>\n",
       "</g>\n",
       "<!-- 168&#45;&gt;169 -->\n",
       "<g id=\"edge29\" class=\"edge\">\n",
       "<title>168&#45;&gt;169</title>\n",
       "<path fill=\"none\" stroke=\"black\" d=\"M1532,-190.91C1532,-182.65 1532,-173.86 1532,-165.3\"/>\n",
       "<polygon fill=\"black\" stroke=\"black\" points=\"1535.5,-165.02 1532,-155.02 1528.5,-165.02 1535.5,-165.02\"/>\n",
       "</g>\n",
       "<!-- 194 -->\n",
       "<g id=\"node33\" class=\"node\">\n",
       "<title>194</title>\n",
       "<path fill=\"#e7dafa\" stroke=\"black\" d=\"M1763.5,-147.5C1763.5,-147.5 1646.5,-147.5 1646.5,-147.5 1640.5,-147.5 1634.5,-141.5 1634.5,-135.5 1634.5,-135.5 1634.5,-91.5 1634.5,-91.5 1634.5,-85.5 1640.5,-79.5 1646.5,-79.5 1646.5,-79.5 1763.5,-79.5 1763.5,-79.5 1769.5,-79.5 1775.5,-85.5 1775.5,-91.5 1775.5,-91.5 1775.5,-135.5 1775.5,-135.5 1775.5,-141.5 1769.5,-147.5 1763.5,-147.5\"/>\n",
       "<text text-anchor=\"start\" x=\"1665.5\" y=\"-132.3\" font-family=\"Helvetica,sans-Serif\" font-size=\"14.00\">gini = 0.65</text>\n",
       "<text text-anchor=\"start\" x=\"1655\" y=\"-117.3\" font-family=\"Helvetica,sans-Serif\" font-size=\"14.00\">samples = 23</text>\n",
       "<text text-anchor=\"start\" x=\"1642.5\" y=\"-102.3\" font-family=\"Helvetica,sans-Serif\" font-size=\"14.00\">value = [6, 7, 10]</text>\n",
       "<text text-anchor=\"start\" x=\"1645.5\" y=\"-87.3\" font-family=\"Helvetica,sans-Serif\" font-size=\"14.00\">class = negative</text>\n",
       "</g>\n",
       "<!-- 168&#45;&gt;194 -->\n",
       "<g id=\"edge32\" class=\"edge\">\n",
       "<title>168&#45;&gt;194</title>\n",
       "<path fill=\"none\" stroke=\"black\" d=\"M1592.02,-190.91C1609.97,-178.77 1629.6,-165.49 1647.39,-153.46\"/>\n",
       "<polygon fill=\"black\" stroke=\"black\" points=\"1649.64,-156.17 1655.96,-147.67 1645.71,-150.37 1649.64,-156.17\"/>\n",
       "</g>\n",
       "<!-- 170 -->\n",
       "<g id=\"node31\" class=\"node\">\n",
       "<title>170</title>\n",
       "<path fill=\"#c0c0c0\" stroke=\"black\" d=\"M1511,-36C1511,-36 1481,-36 1481,-36 1475,-36 1469,-30 1469,-24 1469,-24 1469,-12 1469,-12 1469,-6 1475,0 1481,0 1481,0 1511,0 1511,0 1517,0 1523,-6 1523,-12 1523,-12 1523,-24 1523,-24 1523,-30 1517,-36 1511,-36\"/>\n",
       "<text text-anchor=\"middle\" x=\"1496\" y=\"-14.3\" font-family=\"Helvetica,sans-Serif\" font-size=\"14.00\">(...)</text>\n",
       "</g>\n",
       "<!-- 169&#45;&gt;170 -->\n",
       "<g id=\"edge30\" class=\"edge\">\n",
       "<title>169&#45;&gt;170</title>\n",
       "<path fill=\"none\" stroke=\"black\" d=\"M1516.31,-71.76C1512.96,-63.04 1509.49,-54.04 1506.39,-45.99\"/>\n",
       "<polygon fill=\"black\" stroke=\"black\" points=\"1509.56,-44.48 1502.7,-36.41 1503.03,-46.99 1509.56,-44.48\"/>\n",
       "</g>\n",
       "<!-- 193 -->\n",
       "<g id=\"node32\" class=\"node\">\n",
       "<title>193</title>\n",
       "<path fill=\"#c0c0c0\" stroke=\"black\" d=\"M1583,-36C1583,-36 1553,-36 1553,-36 1547,-36 1541,-30 1541,-24 1541,-24 1541,-12 1541,-12 1541,-6 1547,0 1553,0 1553,0 1583,0 1583,0 1589,0 1595,-6 1595,-12 1595,-12 1595,-24 1595,-24 1595,-30 1589,-36 1583,-36\"/>\n",
       "<text text-anchor=\"middle\" x=\"1568\" y=\"-14.3\" font-family=\"Helvetica,sans-Serif\" font-size=\"14.00\">(...)</text>\n",
       "</g>\n",
       "<!-- 169&#45;&gt;193 -->\n",
       "<g id=\"edge31\" class=\"edge\">\n",
       "<title>169&#45;&gt;193</title>\n",
       "<path fill=\"none\" stroke=\"black\" d=\"M1547.69,-71.76C1551.04,-63.04 1554.51,-54.04 1557.61,-45.99\"/>\n",
       "<polygon fill=\"black\" stroke=\"black\" points=\"1560.97,-46.99 1561.3,-36.41 1554.44,-44.48 1560.97,-46.99\"/>\n",
       "</g>\n",
       "<!-- 197 -->\n",
       "<g id=\"node36\" class=\"node\">\n",
       "<title>197</title>\n",
       "<path fill=\"#c4f7d9\" stroke=\"black\" d=\"M1904,-266.5C1904,-266.5 1796,-266.5 1796,-266.5 1790,-266.5 1784,-260.5 1784,-254.5 1784,-254.5 1784,-210.5 1784,-210.5 1784,-204.5 1790,-198.5 1796,-198.5 1796,-198.5 1904,-198.5 1904,-198.5 1910,-198.5 1916,-204.5 1916,-210.5 1916,-210.5 1916,-254.5 1916,-254.5 1916,-260.5 1910,-266.5 1904,-266.5\"/>\n",
       "<text text-anchor=\"start\" x=\"1806\" y=\"-251.3\" font-family=\"Helvetica,sans-Serif\" font-size=\"14.00\">gini = 0.622</text>\n",
       "<text text-anchor=\"start\" x=\"1800\" y=\"-236.3\" font-family=\"Helvetica,sans-Serif\" font-size=\"14.00\">samples = 14</text>\n",
       "<text text-anchor=\"start\" x=\"1792\" y=\"-221.3\" font-family=\"Helvetica,sans-Serif\" font-size=\"14.00\">value = [3, 7, 4]</text>\n",
       "<text text-anchor=\"start\" x=\"1796\" y=\"-206.3\" font-family=\"Helvetica,sans-Serif\" font-size=\"14.00\">class = neutral</text>\n",
       "</g>\n",
       "<!-- 196&#45;&gt;197 -->\n",
       "<g id=\"edge35\" class=\"edge\">\n",
       "<title>196&#45;&gt;197</title>\n",
       "<path fill=\"none\" stroke=\"black\" d=\"M1850,-309.91C1850,-299.2 1850,-287.62 1850,-276.78\"/>\n",
       "<polygon fill=\"black\" stroke=\"black\" points=\"1853.5,-276.67 1850,-266.67 1846.5,-276.67 1853.5,-276.67\"/>\n",
       "</g>\n",
       "<!-- 198 -->\n",
       "<g id=\"node37\" class=\"node\">\n",
       "<title>198</title>\n",
       "<path fill=\"#f2c09c\" stroke=\"black\" d=\"M2054,-266.5C2054,-266.5 1946,-266.5 1946,-266.5 1940,-266.5 1934,-260.5 1934,-254.5 1934,-254.5 1934,-210.5 1934,-210.5 1934,-204.5 1940,-198.5 1946,-198.5 1946,-198.5 2054,-198.5 2054,-198.5 2060,-198.5 2066,-204.5 2066,-210.5 2066,-210.5 2066,-254.5 2066,-254.5 2066,-260.5 2060,-266.5 2054,-266.5\"/>\n",
       "<text text-anchor=\"start\" x=\"1956\" y=\"-251.3\" font-family=\"Helvetica,sans-Serif\" font-size=\"14.00\">gini = 0.512</text>\n",
       "<text text-anchor=\"start\" x=\"1950\" y=\"-236.3\" font-family=\"Helvetica,sans-Serif\" font-size=\"14.00\">samples = 11</text>\n",
       "<text text-anchor=\"start\" x=\"1942\" y=\"-221.3\" font-family=\"Helvetica,sans-Serif\" font-size=\"14.00\">value = [7, 1, 3]</text>\n",
       "<text text-anchor=\"start\" x=\"1944\" y=\"-206.3\" font-family=\"Helvetica,sans-Serif\" font-size=\"14.00\">class = positive</text>\n",
       "</g>\n",
       "<!-- 196&#45;&gt;198 -->\n",
       "<g id=\"edge36\" class=\"edge\">\n",
       "<title>196&#45;&gt;198</title>\n",
       "<path fill=\"none\" stroke=\"black\" d=\"M1902.04,-309.91C1917.32,-297.99 1934.01,-284.98 1949.21,-273.12\"/>\n",
       "<polygon fill=\"black\" stroke=\"black\" points=\"1951.75,-275.58 1957.48,-266.67 1947.44,-270.06 1951.75,-275.58\"/>\n",
       "</g>\n",
       "</g>\n",
       "</svg>\n"
      ],
      "text/plain": [
       "<graphviz.files.Source at 0x7f5416b7fb50>"
      ]
     },
     "execution_count": 13,
     "metadata": {},
     "output_type": "execute_result"
    }
   ],
   "source": [
    "dt_data = export_graphviz(dt_classifier, \n",
    "                          out_file=None, \n",
    "                          feature_names=feature_names,  \n",
    "                          class_names=label_names,\n",
    "                          max_depth=4,\n",
    "                          filled=True, \n",
    "                          rounded=True,  \n",
    "                          special_characters=True)  \n",
    "graphviz.Source(dt_data)  "
   ]
  },
  {
   "cell_type": "code",
   "execution_count": 14,
   "metadata": {},
   "outputs": [
    {
     "data": {
      "text/plain": [
       "0.692964480874317"
      ]
     },
     "execution_count": 14,
     "metadata": {},
     "output_type": "execute_result"
    }
   ],
   "source": [
    "#predict the labels on the test set using the trained model\n",
    "predictions_dt = dt_classifier.predict(X_test) \n",
    "\n",
    "accuracy_score(predictions_dt, y_test)"
   ]
  },
  {
   "cell_type": "code",
   "execution_count": 15,
   "metadata": {},
   "outputs": [
    {
     "name": "stdout",
     "output_type": "stream",
     "text": [
      "0.692964480874317\n"
     ]
    }
   ],
   "source": [
    "# We can also use the built-in `model.score()` method instead this time, results are same as for `accuracy_score()`\n",
    "print(dt_classifier.score(X_test, y_test))"
   ]
  },
  {
   "cell_type": "markdown",
   "metadata": {},
   "source": [
    "### Challenge\n",
    "\n",
    "**Part 1**\n",
    "\n",
    "Train a logistic regression with cross-validation (`LogisticRegressionCV()`) classifier on the training set and evaluate its accuracy on the test set. To avoid a long delay, set `cv` to 3, `solver` to 'liblinear', and `penalty` to 'l1'. Examine the other model parameters. "
   ]
  },
  {
   "cell_type": "code",
   "execution_count": 16,
   "metadata": {},
   "outputs": [
    {
     "data": {
      "text/plain": [
       "0.8015710382513661"
      ]
     },
     "execution_count": 16,
     "metadata": {},
     "output_type": "execute_result"
    }
   ],
   "source": [
    "# solution\n",
    "# Initialize model\n",
    "logitcv = LogisticRegressionCV(Cs=5, \n",
    "                               penalty='l1', \n",
    "                               cv=3, \n",
    "                               solver='liblinear', \n",
    "                               refit=True)\n",
    "\n",
    "logitcv.fit(X_train, y_train) # Train on training set\n",
    "predictions_logitcv = logitcv.predict(X_test) # Make predictions\n",
    "accuracy_score(predictions_logitcv, y_test) # Evaluate accuracy"
   ]
  },
  {
   "cell_type": "markdown",
   "metadata": {},
   "source": [
    "**Part 2**\n",
    "\n",
    "Use the model you just built to predict the label for three unlabeled reviews. Predict both the label and the probability of being in each category. Do the predictions make sense? Do the probabilities provide any useful information beyond the predicted labels?\n",
    "\n",
    "_Hint:_ Remember to use `countvectorizer()` and convert to sparse format with `.toarray()` to vectorize the texts prior to prediction. Use `model.predict()` to predict the class and `model.predict_proba()` to predict class probabilities."
   ]
  },
  {
   "cell_type": "code",
   "execution_count": 17,
   "metadata": {},
   "outputs": [],
   "source": [
    "careless_review = \"I made my flight reservation with UnitedAirlines and the service is ridiculous and they just bluntly \\\n",
    "deny solving your problem. I booked my flight but they were having some technical issues and didn't appear \\\n",
    "in their system. United customer service just said they can not do anything and asked me to book a new ticket to fly. \\\n",
    "This is just insane and troubling and also really costly at the airport. Thus, I made my flight reservation \\\n",
    "with United Airlines for the next day through an online flight booking portal that offered much cheaper flights. \\\n",
    "You can contact them over the phone by calling a toll-free number +1-888-720-1433 and book flights that are light \\\n",
    "on your pocket.\"\n",
    "\n",
    "good_review = \"United was very accommodating for our vacation recently and even got us home a little quicker. \\\n",
    "We were travelling in a group of 12 coming home from a vacation and because of storms back east our connecting flight \\\n",
    "was delayed by hours. Knowing this was completely out of their control we started talking with one of the United \\\n",
    "employees and told them where we were headed. She said she could get us on a flight that actually leaves earlier \\\n",
    "than our original flight. It was such great service and resulted in all of us getting home hours later. The only \\\n",
    "issue was our bags, but United had them delivered to our homes that next morning.\"\n",
    "\n",
    "canceled_review = \"Canceled my trip twice, the first time I received no notification. The second time I got a notice \\\n",
    "that one of my trips may have been canceled or changed, the website didn’t say which it was. It instructed me to cancel \\\n",
    "it myself. Probably so they could avoid having to refund me. Now I all the money I spent on tickets sitting in a United \\\n",
    "account but I never want to fly with them in the future so that’s a nice chunk of about $2000 wasted. \\\n",
    "EDIT: After I cancelled my second trip I was able to select an option for refund, the refund was not only \\\n",
    "for the second trip but also my first trip that was cancelled earlier. I will upgrade the rating from 1 to 3 stars \\\n",
    "would have given higher with better customer service/website service/website information.\""
   ]
  },
  {
   "cell_type": "code",
   "execution_count": 18,
   "metadata": {},
   "outputs": [
    {
     "name": "stdout",
     "output_type": "stream",
     "text": [
      "Predicted classes:\n",
      "['negative' 'negative' 'negative']\n",
      "\n",
      "Predicted probabilities for each review\n",
      "(order: ['negative' 'neutral' 'positive']):\n",
      "[[9.99950504e-01 5.02529429e-07 4.89937438e-05]\n",
      " [9.81419829e-01 3.27325177e-08 1.85801382e-02]\n",
      " [9.99997965e-01 7.28830738e-07 1.30569601e-06]]\n"
     ]
    }
   ],
   "source": [
    "# solution\n",
    "# Transform these into DTMs with the same feature-columns as previously\n",
    "unknown_dtm = countvectorizer.transform([careless_review, good_review, canceled_review]).toarray()\n",
    "\n",
    "# Use model to predict the class for these three. Predict class\n",
    "print(\"Predicted classes:\")\n",
    "print(logitcv.predict(unknown_dtm))\n",
    "print()\n",
    "print(f\"Predicted probabilities for each review\\n(order: {logitcv.classes_}):\")\n",
    "print(logitcv.predict_proba(unknown_dtm)) # Predict probability of membership in each category"
   ]
  },
  {
   "cell_type": "markdown",
   "metadata": {},
   "source": [
    "## Cross-validation<a id='cv'></a>"
   ]
  },
  {
   "cell_type": "code",
   "execution_count": 19,
   "metadata": {},
   "outputs": [
    {
     "data": {
      "text/plain": [
       "array([0.6923668 , 0.69800205, 0.69748975])"
      ]
     },
     "execution_count": 19,
     "metadata": {},
     "output_type": "execute_result"
    }
   ],
   "source": [
    "scores = cross_val_score(dt_classifier, X_train, y_train, cv=3)\n",
    "scores   "
   ]
  },
  {
   "cell_type": "code",
   "execution_count": 20,
   "metadata": {},
   "outputs": [
    {
     "name": "stdout",
     "output_type": "stream",
     "text": [
      "Accuracy: 0.6960 (+/- 0.0051)\n"
     ]
    }
   ],
   "source": [
    "# Show average accuracy across folds along with sigma (std. squared)\n",
    "print(\"Accuracy: %0.4f (+/- %0.4f)\" % (scores.mean(), scores.std() * 2))"
   ]
  },
  {
   "cell_type": "markdown",
   "metadata": {},
   "source": [
    "### Challenge\n",
    "\n",
    "Why is the cross validation accuracy different than our classifier? Which estimate is more accurate?\n",
    "\n",
    "This assumes any unseen data has similar features as your training and test data. If the features are different, you can not assume you will get similar accuracy. When might the unseen data be different from the labeled data?"
   ]
  },
  {
   "cell_type": "markdown",
   "metadata": {},
   "source": [
    "## More model evaluation <a id=\"evaluate\"></a>"
   ]
  },
  {
   "cell_type": "code",
   "execution_count": 21,
   "metadata": {},
   "outputs": [
    {
     "data": {
      "text/plain": [
       "Text(0.5, 12.5, 'Prediction')"
      ]
     },
     "execution_count": 21,
     "metadata": {},
     "output_type": "execute_result"
    },
    {
     "data": {
      "image/png": "[encoded data removed]",
      "text/plain": [
       "<Figure size 432x288 with 1 Axes>"
      ]
     },
     "metadata": {
      "needs_background": "light"
     },
     "output_type": "display_data"
    }
   ],
   "source": [
    "model = dt_classifier # change this one line to visualize confusion matrix for other models\n",
    "y_predict = model.predict(X_test) \n",
    "labels = model.classes_\n",
    "conmat = confusion_matrix(y_test, y_predict)\n",
    "\n",
    "sns.heatmap(conmat, \n",
    "            annot=True, \n",
    "            fmt='d', \n",
    "            xticklabels=labels, \n",
    "            yticklabels=labels, \n",
    "            cmap=\"YlGnBu\", \n",
    "            cbar=False)\n",
    "plt.ylabel('Ground truth')\n",
    "plt.xlabel('Prediction')"
   ]
  },
  {
   "cell_type": "code",
   "execution_count": 22,
   "metadata": {
    "scrolled": true
   },
   "outputs": [
    {
     "name": "stdout",
     "output_type": "stream",
     "text": [
      "Classification report:\n",
      "              precision    recall  f1-score   support\n",
      "\n",
      "    negative       0.70      0.96      0.81      1824\n",
      "     neutral       0.54      0.11      0.18       620\n",
      "    positive       0.73      0.45      0.55       484\n",
      "\n",
      "    accuracy                           0.69      2928\n",
      "   macro avg       0.65      0.50      0.51      2928\n",
      "weighted avg       0.67      0.69      0.63      2928\n",
      "\n"
     ]
    }
   ],
   "source": [
    "dt_predicted = dt_classifier.predict(X_test)\n",
    "print(\"Classification report:\")\n",
    "print(classification_report(y_test, dt_predicted)) "
   ]
  },
  {
   "cell_type": "markdown",
   "metadata": {},
   "source": [
    "## Optimize parameters with grid search <a id=\"gridsearch\"></a>"
   ]
  },
  {
   "cell_type": "code",
   "execution_count": 23,
   "metadata": {},
   "outputs": [
    {
     "data": {
      "text/plain": [
       "{'min_samples_split': [5, 10], 'min_samples_leaf': [10, 20]}"
      ]
     },
     "execution_count": 23,
     "metadata": {},
     "output_type": "execute_result"
    }
   ],
   "source": [
    "# Grid searching is computationally expensive, so for time's sake we'll test a minimal range for each parameter\n",
    "# In real-world data analytics there would be a much larger range, making exponentially more permutations (and time cost)\n",
    "\n",
    "param_grid = {'min_samples_split': [5,10], # define dictionary with possible model parameters\n",
    "              'min_samples_leaf': [10,20]}\n",
    "\n",
    "param_grid"
   ]
  },
  {
   "cell_type": "code",
   "execution_count": 24,
   "metadata": {},
   "outputs": [
    {
     "data": {
      "text/plain": [
       "GridSearchCV(cv=3,\n",
       "             estimator=DecisionTreeClassifier(max_depth=10,\n",
       "                                              min_impurity_decrease=1e-07,\n",
       "                                              random_state=10),\n",
       "             param_grid={'min_samples_leaf': [10, 20],\n",
       "                         'min_samples_split': [5, 10]},\n",
       "             return_train_score=True)"
      ]
     },
     "execution_count": 24,
     "metadata": {},
     "output_type": "execute_result"
    }
   ],
   "source": [
    "# Warning: This can take a long time!\n",
    "model_dt = GridSearchCV(DecisionTreeClassifier(max_depth=10, \n",
    "                                               criterion='gini',  # or 'entropy' for information gain\n",
    "                                               splitter='best',  # or 'random' for random best split\n",
    "                                               min_impurity_decrease=1e-07, #early stopping \n",
    "                                               random_state = 10), #random seed\n",
    "                        param_grid, \n",
    "                        cv=3, \n",
    "                        return_train_score=True)\n",
    "\n",
    "model_dt.fit(X_train, y_train)"
   ]
  },
  {
   "cell_type": "code",
   "execution_count": 25,
   "metadata": {},
   "outputs": [
    {
     "name": "stdout",
     "output_type": "stream",
     "text": [
      "Best parameter values are: {'min_samples_leaf': 10, 'min_samples_split': 5}\n",
      "Best mean cross-validation train accuracy: 0.710\n",
      "Overall mean test accuracy: 0.693\n"
     ]
    }
   ],
   "source": [
    "# Get information on model parameters that perform best\n",
    "model = model_dt # Change this to visualize other models\n",
    "\n",
    "# Get index of best model parameters\n",
    "best_index = np.argmax(\n",
    "    model.cv_results_[\"mean_train_score\"]\n",
    "                      )\n",
    "\n",
    "print('Best parameter values are:', \n",
    "      model.cv_results_[\"params\"][best_index]\n",
    "     )\n",
    "print('Best mean cross-validation train accuracy: %.03f' % \n",
    "      model.cv_results_[\"mean_train_score\"][best_index]\n",
    "     )\n",
    "print('Overall mean test accuracy: %.03f' % \n",
    "      model.score(X_test, y_test)\n",
    "     )"
   ]
  },
  {
   "cell_type": "code",
   "execution_count": 26,
   "metadata": {},
   "outputs": [],
   "source": [
    "# Prepare for visualization: get combinations on tested model parameters\n",
    "n_grid_points = len(model_dt.cv_results_['params'])\n",
    "min_samples_leaf_vals = np.empty((n_grid_points,))\n",
    "min_samples_split_vals = np.empty((n_grid_points,))\n",
    "mean_train_scores = np.empty((n_grid_points,))\n",
    "mean_test_scores = np.empty((n_grid_points,))\n",
    "\n",
    "for i in range(n_grid_points):\n",
    "    min_samples_leaf_vals[i] = model.cv_results_['params'][i]['min_samples_leaf']\n",
    "    min_samples_split_vals[i] = model.cv_results_['params'][i]['min_samples_split']\n",
    "    mean_train_scores[i] = model.cv_results_['mean_train_score'][i]\n",
    "    mean_test_scores[i] = model.cv_results_['mean_test_score'][i]"
   ]
  },
  {
   "cell_type": "code",
   "execution_count": 27,
   "metadata": {},
   "outputs": [],
   "source": [
    "def gridsearch_viz(mean_scores, \n",
    "                   param1_vals, \n",
    "                   param2_vals, \n",
    "                   param1_name, \n",
    "                   param2_name, \n",
    "                   scorename = \"Mean Model Accuracy on Training Set\"):\n",
    "    \n",
    "    \"\"\"\n",
    "    Build 3-d visualization to show model parameter combinations and their resulting scores. \n",
    "    Takes in only two parameters with any number of candidate settings thereof.\n",
    "    \n",
    "    Args:\n",
    "        mean_scores: List of model scores, as long as list of model parameters being tested.\n",
    "        param1_vals: list of values for first parameter, as long as list of model parameters being tested.\n",
    "        param2_vals: list of values for second parameter, as long as list of model parameters being tested.\n",
    "        param1_name: str indicating name of first parameter being tested\n",
    "        param2_name: str indicating name of second parameter being tested\n",
    "        scorename: str indicating name of scores being displayed (train or test).\n",
    "        \n",
    "    Output:\n",
    "        3-d visualization of model params & performance\n",
    "    \"\"\"\n",
    "\n",
    "    fig = plt.figure(figsize=(20,10))\n",
    "    ax = fig.gca(projection='3d')\n",
    "\n",
    "    surf = ax.plot_trisurf(param1_vals, \n",
    "                           param2_vals, \n",
    "                           mean_scores, \n",
    "                           cmap=cm.coolwarm,\n",
    "                           linewidth=10, \n",
    "                           antialiased=False)\n",
    "\n",
    "    ax.set_title(scorename, fontsize=18)\n",
    "    ax.set_xlabel(param1_name, fontsize=18)\n",
    "    ax.set_ylabel(param2_name, fontsize=18)"
   ]
  },
  {
   "cell_type": "code",
   "execution_count": 28,
   "metadata": {},
   "outputs": [
    {
     "data": {
      "image/png": "[encoded data removed]",
      "text/plain": [
       "<Figure size 1440x720 with 1 Axes>"
      ]
     },
     "metadata": {
      "needs_background": "light"
     },
     "output_type": "display_data"
    }
   ],
   "source": [
    "# Visualize model performance on training set\n",
    "gridsearch_viz(mean_scores = mean_train_scores, \n",
    "               param1_vals = min_samples_leaf_vals, \n",
    "               param2_vals = min_samples_split_vals, \n",
    "               param1_name = \"min_samples_split\", \n",
    "               param2_name = \"min_samples_leaf\")"
   ]
  },
  {
   "cell_type": "markdown",
   "metadata": {},
   "source": [
    "## Train and optimize Random Forest model <a id=\"RF\"></a>"
   ]
  },
  {
   "cell_type": "code",
   "execution_count": 29,
   "metadata": {},
   "outputs": [],
   "source": [
    "rf_classifier = RandomForestClassifier(n_estimators=10,  # number of trees\n",
    "                       criterion='gini',  # or 'entropy' for information gain\n",
    "                       max_depth=10,  # how deep tree nodes can go\n",
    "                       min_samples_split=5,  # samples needed to split node\n",
    "                       min_samples_leaf=10,  # samples needed for a leaf\n",
    "                       min_weight_fraction_leaf=0.0,  # weight of samples needed for a node\n",
    "                       max_features='auto',  # number of features for best split\n",
    "                       max_leaf_nodes=None,  # max nodes\n",
    "                       min_impurity_decrease=1e-07,  # early stopping\n",
    "                       n_jobs=1,  # CPUs to use\n",
    "                       random_state = 10,  # random seed\n",
    "                       class_weight=\"balanced\")  # adjusts weights inverse of freq, also \"balanced_subsample\" or None\n",
    "\n",
    "rf_model = rf_classifier.fit(X_train, y_train) # fit model on training data"
   ]
  },
  {
   "cell_type": "code",
   "execution_count": 30,
   "metadata": {},
   "outputs": [
    {
     "name": "stdout",
     "output_type": "stream",
     "text": [
      "Accuracy of Random Forest model (with 3-fold CV) with test data defined above:\n",
      "0.5936 (+/- 0.0075)\n",
      "\n",
      "Classification report:\n",
      "              precision    recall  f1-score   support\n",
      "\n",
      "    negative       0.87      0.61      0.72      1824\n",
      "     neutral       0.39      0.62      0.48       620\n",
      "    positive       0.39      0.55      0.46       484\n",
      "\n",
      "    accuracy                           0.60      2928\n",
      "   macro avg       0.55      0.59      0.55      2928\n",
      "weighted avg       0.69      0.60      0.62      2928\n",
      "\n",
      "\n"
     ]
    }
   ],
   "source": [
    "print(\"Accuracy of Random Forest model (with 3-fold CV) with test data defined above:\")\n",
    "scores = cross_val_score(rf_model, X_test, y_test, cv=3)\n",
    "print(\"%0.4f (+/- %0.4f)\" % (scores.mean(), scores.std() * 2)) # Show average accuracy across folds\n",
    "print()\n",
    "\n",
    "predicted = rf_model.predict(X_test)\n",
    "print(\"Classification report:\")\n",
    "print(classification_report(y_test, predicted)) \n",
    "print()"
   ]
  },
  {
   "cell_type": "markdown",
   "metadata": {},
   "source": [
    "### Challenge: Grid Search on Random Forest\n",
    "\n",
    "Do another grid search to determine the best parameters for the Random Forest we just created. Use two possible levels for `min_samples_split` and `min_samples_leaf`, each between 5 and 20. "
   ]
  },
  {
   "cell_type": "code",
   "execution_count": 31,
   "metadata": {},
   "outputs": [
    {
     "data": {
      "text/plain": [
       "GridSearchCV(cv=3,\n",
       "             estimator=RandomForestClassifier(class_weight='balanced_subsample',\n",
       "                                              max_depth=10,\n",
       "                                              min_impurity_decrease=1e-07,\n",
       "                                              n_estimators=10,\n",
       "                                              random_state=10),\n",
       "             param_grid={'min_samples_leaf': [10, 20],\n",
       "                         'min_samples_split': [5, 10]},\n",
       "             return_train_score=True)"
      ]
     },
     "execution_count": 31,
     "metadata": {},
     "output_type": "execute_result"
    }
   ],
   "source": [
    "# solution\n",
    "param_grid = {'min_samples_split': [5,10],\n",
    "              'min_samples_leaf': [10,20]}\n",
    "\n",
    "rf_model = GridSearchCV(RandomForestClassifier(n_estimators=10, \n",
    "                                               max_depth=10,  # how deep tree nodes can go\n",
    "                                               min_impurity_decrease=1e-07,  # early stopping\n",
    "                                               random_state = 10,  # random seed\n",
    "                                               class_weight=\"balanced_subsample\"), # adjusts weights inverse of freq with subsampling\n",
    "                        param_grid, \n",
    "                        cv=3, \n",
    "                        return_train_score=True)\n",
    "\n",
    "rf_model.fit(X_train, y_train)"
   ]
  },
  {
   "cell_type": "code",
   "execution_count": 32,
   "metadata": {},
   "outputs": [
    {
     "name": "stdout",
     "output_type": "stream",
     "text": [
      "Best parameter values: {'min_samples_leaf': 10, 'min_samples_split': 5}\n",
      "Best mean cross-validated training accuracy: 0.6450221994535519\n",
      "Best model test accuracy: 0.6041666666666666\n"
     ]
    }
   ],
   "source": [
    "best_index = np.argmax(rf_model.cv_results_[\"mean_train_score\"])\n",
    "\n",
    "print(\"Best parameter values:\", rf_model.cv_results_[\"params\"][best_index])\n",
    "print(\"Best mean cross-validated training accuracy:\", rf_model.cv_results_[\"mean_train_score\"][best_index])\n",
    "print(\"Best model test accuracy:\", rf_model.score(X_test, y_test))"
   ]
  },
  {
   "cell_type": "markdown",
   "metadata": {},
   "source": [
    "### Extra challenge: Adjust text preprocessing\n",
    "\n",
    "Preprocessing methods matter for machine learning performance: Depending on the algorithm, less or more preprocessing may be better. Let's see how a simple Random Forest model does with minimal preprocessing--without removing usernames, hashtags, or URLs. Compare this model's performance with that of Random Forest trained on cleaned text."
   ]
  },
  {
   "cell_type": "code",
   "execution_count": 32,
   "metadata": {},
   "outputs": [
    {
     "data": {
      "text/plain": [
       "((11712, 5000), (2928, 5000))"
      ]
     },
     "execution_count": 32,
     "metadata": {},
     "output_type": "execute_result"
    }
   ],
   "source": [
    "# solution\n",
    "# Vectorize texts\n",
    "countvec_dirty = CountVectorizer(max_features=5000, binary=True)\n",
    "features_dirty = countvec_dirty.fit_transform(df['text']).toarray() # convert matrix to sparse format for easy modeling\n",
    "response_dirty = df['airline_sentiment'].values # corresponds to entries in `features` \n",
    "\n",
    "X_train_dirty, X_test_dirty, y_train_dirty, y_test_dirty = train_test_split(features_dirty, response_dirty, test_size=0.2)\n",
    "X_train_dirty.shape, X_test_dirty.shape #look at number of rows and columns in training and test data"
   ]
  },
  {
   "cell_type": "code",
   "execution_count": 33,
   "metadata": {},
   "outputs": [],
   "source": [
    "rf_dirty = RandomForestClassifier(n_estimators=10,  # number of trees\n",
    "                                  min_impurity_decrease=1e-07,  # early stopping\n",
    "                                  random_state = 10,  # random seed\n",
    "                                  class_weight=\"balanced\")  # adjusts weights inverse of freq\n",
    "\n",
    "rf_dirty = rf_dirty.fit(X_train_dirty, y_train_dirty)"
   ]
  },
  {
   "cell_type": "code",
   "execution_count": 34,
   "metadata": {},
   "outputs": [
    {
     "name": "stdout",
     "output_type": "stream",
     "text": [
      "Mean cross-validation train accuracy: 0.7352 (+/- 0.0104)\n",
      "Overall mean test accuracy: 0.735655737704918\n"
     ]
    }
   ],
   "source": [
    "scores = cross_val_score(rf_dirty, X_train_dirty, y_train_dirty, cv=3)\n",
    "print(\"Mean cross-validation train accuracy: %0.4f (+/- %0.4f)\" % (scores.mean(), scores.std() * 2)) # Show average accuracy across folds\n",
    "print(\"Overall mean test accuracy:\", rf_dirty.score(X_test_dirty, y_test_dirty))"
   ]
  },
  {
   "cell_type": "markdown",
   "metadata": {},
   "source": [
    "Random Forest with text preprocessing gave a mean accuracy of just over 0.7, so removing text preprocessing improves model accuracy by **3 or 4 percent**! "
   ]
  },
  {
   "cell_type": "markdown",
   "metadata": {},
   "source": [
    "### Extra extra challenge: Adaboost\n",
    "\n",
    "Adaboost is another ensemble method that relies on 'boosting'. Similar to 'bagging', 'boosting' samples many subsets of data to fit multiple classifiers, but resamples preferentially for misclassified data points. "
   ]
  },
  {
   "cell_type": "markdown",
   "metadata": {},
   "source": [
    "**Part 1**\n",
    "\n",
    "Using the scikit-learn [documentation](http://scikit-learn.org/stable/modules/ensemble.html#adaboost), build your own AdaBoost model to test on our review tweets! Start off with `n_estimators` at 100, and `learning_rate` at .5. Use 10 as the `random_state` value."
   ]
  },
  {
   "cell_type": "code",
   "execution_count": 35,
   "metadata": {},
   "outputs": [],
   "source": [
    "# solution\n",
    "adaboost_model = AdaBoostClassifier(n_estimators=100,  # number of trees\n",
    "                                         learning_rate=0.5,  # or 'entropy' for information gain\n",
    "                                         random_state = 10)  # random seed\n",
    "\n",
    "adaboost_model = adaboost_model.fit(X_train, y_train)"
   ]
  },
  {
   "cell_type": "code",
   "execution_count": 36,
   "metadata": {},
   "outputs": [
    {
     "name": "stdout",
     "output_type": "stream",
     "text": [
      "Score of Adaboost model with test data defined above:\n",
      "0.7482923497267759\n",
      "\n",
      "Classification report:\n",
      "              precision    recall  f1-score   support\n",
      "\n",
      "    negative       0.75      0.94      0.84      1881\n",
      "     neutral       0.68      0.27      0.39       591\n",
      "    positive       0.75      0.57      0.65       456\n",
      "\n",
      "    accuracy                           0.75      2928\n",
      "   macro avg       0.73      0.59      0.63      2928\n",
      "weighted avg       0.74      0.75      0.72      2928\n",
      "\n",
      "\n"
     ]
    }
   ],
   "source": [
    "print(\"Score of Adaboost model with test data defined above:\")\n",
    "print(adaboost_model.score(X_test, y_test))\n",
    "print()\n",
    "\n",
    "predicted = adaboost_model.predict(X_test)\n",
    "print(\"Classification report:\")\n",
    "print(classification_report(y_test, predicted)) \n",
    "print()"
   ]
  },
  {
   "cell_type": "markdown",
   "metadata": {},
   "source": [
    "**Part 2**\n",
    "\n",
    "Now use a grid search to determine what are the best values for the `n_estimators` and `learning_rate` parameters. For `n_estimators` try both 100 and 500, and for `learning_rate` try 0.1 and 1.0. "
   ]
  },
  {
   "cell_type": "code",
   "execution_count": 37,
   "metadata": {},
   "outputs": [
    {
     "name": "stdout",
     "output_type": "stream",
     "text": [
      "Best parameter values: {'learning_rate': 1.0, 'n_estimators': 500}\n",
      "Best mean cross-validated train accuracy: 0.8078466530054644\n",
      "Overall mean test accuracy: 0.7817622950819673\n"
     ]
    }
   ],
   "source": [
    "# solution\n",
    "param_grid = {'n_estimators': [100,500],\n",
    "              'learning_rate': [0.1,1.0]}\n",
    "\n",
    "adaboost_model = GridSearchCV(AdaBoostClassifier(n_estimators=10), \n",
    "                              param_grid, \n",
    "                              cv=3,\n",
    "                              return_train_score=True)\n",
    "adaboost_model.fit(X_train, y_train)\n",
    "\n",
    "# Get index on model parameters that perform best\n",
    "best_index = np.argmax(adaboost_model.cv_results_[\"mean_train_score\"]) # Get index of best model parameters\n",
    "\n",
    "# Display information on best model parameters\n",
    "print(\"Best parameter values:\", adaboost_model.cv_results_[\"params\"][best_index])\n",
    "print(\"Best mean cross-validated train accuracy:\", adaboost_model.cv_results_[\"mean_train_score\"][best_index])\n",
    "print(\"Overall mean test accuracy:\", adaboost_model.score(X_test, y_test))"
   ]
  },
  {
   "cell_type": "markdown",
   "metadata": {},
   "source": [
    "**Part 3**\n",
    "\n",
    "Build a 3-d visualization showing combinations of model parameters and their resulting performance on the training set. \n",
    "\n",
    "_Hint:_ Use the `gridsearch_viz()` function we defined earlier."
   ]
  },
  {
   "cell_type": "code",
   "execution_count": 38,
   "metadata": {},
   "outputs": [],
   "source": [
    "# solution\n",
    "model = adaboost_model # Change this to visualize other models\n",
    "\n",
    "# Prepare for visualization: get combinations on tested model parameters\n",
    "n_grid_points = len(model.cv_results_['params'])\n",
    "n_estimators_vals = np.empty((n_grid_points,))\n",
    "learning_rate_vals = np.empty((n_grid_points,))\n",
    "mean_train_scores = np.empty((n_grid_points,))\n",
    "mean_test_scores = np.empty((n_grid_points,))\n",
    "\n",
    "for i in range(n_grid_points):\n",
    "    n_estimators_vals[i] = model.cv_results_['params'][i]['n_estimators']\n",
    "    learning_rate_vals[i] = model.cv_results_['params'][i]['learning_rate']\n",
    "    mean_train_scores[i] = model.cv_results_['mean_train_score'][i]\n",
    "    mean_test_scores[i] = model.cv_results_['mean_test_score'][i]"
   ]
  },
  {
   "cell_type": "code",
   "execution_count": 39,
   "metadata": {},
   "outputs": [
    {
     "data": {
      "image/png": "[encoded data removed]",
      "text/plain": [
       "<Figure size 1440x720 with 1 Axes>"
      ]
     },
     "metadata": {},
     "output_type": "display_data"
    }
   ],
   "source": [
    "# Visualize model performance on training set\n",
    "gridsearch_viz(mean_scores = mean_train_scores, \n",
    "               param1_vals = n_estimators_vals, \n",
    "               param2_vals = learning_rate_vals, \n",
    "               param1_name = \"n_estimators\", \n",
    "               param2_name = \"learning_rate\", \n",
    "               scorename = \"Mean Train Scores\")"
   ]
  }
 ],
 "metadata": {
  "anaconda-cloud": {},
  "hide_input": false,
  "kernelspec": {
   "display_name": "Python 3",
   "language": "python",
   "name": "python3"
  },
  "language_info": {
   "codemirror_mode": {
    "name": "ipython",
    "version": 3
   },
   "file_extension": ".py",
   "mimetype": "text/x-python",
   "name": "python",
   "nbconvert_exporter": "python",
   "pygments_lexer": "ipython3",
   "version": "3.8.5"
  },
  "toc": {
   "base_numbering": 1,
   "nav_menu": {},
   "number_sections": false,
   "sideBar": true,
   "skip_h1_title": false,
   "title_cell": "Table of Contents",
   "title_sidebar": "Contents",
   "toc_cell": false,
   "toc_position": {},
   "toc_section_display": "block",
   "toc_window_display": true
  },
  "varInspector": {
   "cols": {
    "lenName": 16,
    "lenType": 16,
    "lenVar": 40
   },
   "kernels_config": {
    "python": {
     "delete_cmd_postfix": "",
     "delete_cmd_prefix": "del ",
     "library": "var_list.py",
     "varRefreshCmd": "print(var_dic_list())"
    },
    "r": {
     "delete_cmd_postfix": ") ",
     "delete_cmd_prefix": "rm(",
     "library": "var_list.r",
     "varRefreshCmd": "cat(var_dic_list()) "
    }
   },
   "types_to_exclude": [
    "module",
    "function",
    "builtin_function_or_method",
    "instance",
    "_Feature"
   ],
   "window_display": false
  }
 },
 "nbformat": 4,
 "nbformat_minor": 1
}
