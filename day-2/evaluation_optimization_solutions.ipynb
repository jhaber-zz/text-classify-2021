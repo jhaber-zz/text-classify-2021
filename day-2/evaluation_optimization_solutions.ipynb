{
 "cells": [
  {
   "cell_type": "markdown",
   "metadata": {},
   "source": [
    "# Model evaluation and optimization for text classification\n",
    "\n",
    "\n",
    "## Outline\n",
    "\n",
    "* [Metrics for model evaluation](#metrics)\n",
    "* [Load and inspect dataset](#dataset)\n",
    "    * [Import modules](#import)\n",
    "    * [Read and inspect data](#dataset)\n",
    "    * [Preprocess data](#preprocess)\n",
    "    * [Vectorization](#vectorize)\n",
    "    * [Divide data into training and test sets](#split)\n",
    "* [More classification with supervised machine learning](#supervised)\n",
    "    * [Train decision tree model](#model)\n",
    "    * [More model evaluation](#evaluate)\n",
    "    * [Cross-validation](#cv)\n",
    "    * [Optimize parameters with grid search](#gridsearch)\n",
    "    * [Train and optimize Random Forest model](#RF)"
   ]
  },
  {
   "cell_type": "markdown",
   "metadata": {},
   "source": [
    "# Data preparation<a id='preparation'></a>\n",
    "\n",
    "## Import modules<a id='import'></a>"
   ]
  },
  {
   "cell_type": "code",
   "execution_count": 1,
   "metadata": {},
   "outputs": [],
   "source": [
    "import os\n",
    "import re\n",
    "import numpy as np\n",
    "import pandas as pd\n",
    "import warnings\n",
    "import graphviz\n",
    "from sklearn.tree import export_graphviz\n",
    "import seaborn as sns\n",
    "from mpl_toolkits.mplot3d import Axes3D\n",
    "from matplotlib import cm\n",
    "import matplotlib.pyplot as plt\n",
    "\n",
    "#set options\n",
    "warnings.simplefilter(action='ignore', category=FutureWarning)\n",
    "sns.set()\n",
    "%matplotlib inline\n",
    "\n",
    "#scikit-learn is a huge library. We import what we need.\n",
    "from sklearn.model_selection import train_test_split, GridSearchCV, cross_val_score, train_test_split #sklearn utilities\n",
    "from sklearn.metrics import accuracy_score, confusion_matrix, classification_report #For model evaluation\n",
    "from sklearn.feature_extraction.text import CountVectorizer, TfidfVectorizer #Vectorizers\n",
    "from sklearn.linear_model import LogisticRegressionCV #Logit with cross-validation\n",
    "from sklearn.ensemble import RandomForestClassifier, AdaBoostClassifier #Random Forest and AdaBoost classifiers\n",
    "from sklearn.tree import DecisionTreeClassifier #Decision Tree classifier\n",
    "from sklearn.svm import LinearSVC #Linear Support Vector classifier"
   ]
  },
  {
   "cell_type": "markdown",
   "metadata": {},
   "source": [
    "## Read and inspect dataset<a id='dataset'></a>"
   ]
  },
  {
   "cell_type": "code",
   "execution_count": 2,
   "metadata": {},
   "outputs": [
    {
     "data": {
      "text/html": [
       "<div>\n",
       "<style scoped>\n",
       "    .dataframe tbody tr th:only-of-type {\n",
       "        vertical-align: middle;\n",
       "    }\n",
       "\n",
       "    .dataframe tbody tr th {\n",
       "        vertical-align: top;\n",
       "    }\n",
       "\n",
       "    .dataframe thead th {\n",
       "        text-align: right;\n",
       "    }\n",
       "</style>\n",
       "<table border=\"1\" class=\"dataframe\">\n",
       "  <thead>\n",
       "    <tr style=\"text-align: right;\">\n",
       "      <th></th>\n",
       "      <th>tweet_id</th>\n",
       "      <th>airline_sentiment</th>\n",
       "      <th>airline_sentiment_confidence</th>\n",
       "      <th>negativereason</th>\n",
       "      <th>negativereason_confidence</th>\n",
       "      <th>airline</th>\n",
       "      <th>airline_sentiment_gold</th>\n",
       "      <th>name</th>\n",
       "      <th>negativereason_gold</th>\n",
       "      <th>retweet_count</th>\n",
       "      <th>text</th>\n",
       "      <th>tweet_coord</th>\n",
       "      <th>tweet_created</th>\n",
       "      <th>tweet_location</th>\n",
       "      <th>user_timezone</th>\n",
       "    </tr>\n",
       "  </thead>\n",
       "  <tbody>\n",
       "    <tr>\n",
       "      <th>0</th>\n",
       "      <td>570306133677760513</td>\n",
       "      <td>neutral</td>\n",
       "      <td>1.0000</td>\n",
       "      <td>NaN</td>\n",
       "      <td>NaN</td>\n",
       "      <td>Virgin America</td>\n",
       "      <td>NaN</td>\n",
       "      <td>cairdin</td>\n",
       "      <td>NaN</td>\n",
       "      <td>0</td>\n",
       "      <td>@VirginAmerica What @dhepburn said.</td>\n",
       "      <td>NaN</td>\n",
       "      <td>2015-02-24 11:35:52 -0800</td>\n",
       "      <td>NaN</td>\n",
       "      <td>Eastern Time (US &amp; Canada)</td>\n",
       "    </tr>\n",
       "    <tr>\n",
       "      <th>1</th>\n",
       "      <td>570301130888122368</td>\n",
       "      <td>positive</td>\n",
       "      <td>0.3486</td>\n",
       "      <td>NaN</td>\n",
       "      <td>0.0</td>\n",
       "      <td>Virgin America</td>\n",
       "      <td>NaN</td>\n",
       "      <td>jnardino</td>\n",
       "      <td>NaN</td>\n",
       "      <td>0</td>\n",
       "      <td>@VirginAmerica plus you've added commercials t...</td>\n",
       "      <td>NaN</td>\n",
       "      <td>2015-02-24 11:15:59 -0800</td>\n",
       "      <td>NaN</td>\n",
       "      <td>Pacific Time (US &amp; Canada)</td>\n",
       "    </tr>\n",
       "    <tr>\n",
       "      <th>2</th>\n",
       "      <td>570301083672813571</td>\n",
       "      <td>neutral</td>\n",
       "      <td>0.6837</td>\n",
       "      <td>NaN</td>\n",
       "      <td>NaN</td>\n",
       "      <td>Virgin America</td>\n",
       "      <td>NaN</td>\n",
       "      <td>yvonnalynn</td>\n",
       "      <td>NaN</td>\n",
       "      <td>0</td>\n",
       "      <td>@VirginAmerica I didn't today... Must mean I n...</td>\n",
       "      <td>NaN</td>\n",
       "      <td>2015-02-24 11:15:48 -0800</td>\n",
       "      <td>Lets Play</td>\n",
       "      <td>Central Time (US &amp; Canada)</td>\n",
       "    </tr>\n",
       "  </tbody>\n",
       "</table>\n",
       "</div>"
      ],
      "text/plain": [
       "             tweet_id airline_sentiment  airline_sentiment_confidence  \\\n",
       "0  570306133677760513           neutral                        1.0000   \n",
       "1  570301130888122368          positive                        0.3486   \n",
       "2  570301083672813571           neutral                        0.6837   \n",
       "\n",
       "  negativereason  negativereason_confidence         airline  \\\n",
       "0            NaN                        NaN  Virgin America   \n",
       "1            NaN                        0.0  Virgin America   \n",
       "2            NaN                        NaN  Virgin America   \n",
       "\n",
       "  airline_sentiment_gold        name negativereason_gold  retweet_count  \\\n",
       "0                    NaN     cairdin                 NaN              0   \n",
       "1                    NaN    jnardino                 NaN              0   \n",
       "2                    NaN  yvonnalynn                 NaN              0   \n",
       "\n",
       "                                                text tweet_coord  \\\n",
       "0                @VirginAmerica What @dhepburn said.         NaN   \n",
       "1  @VirginAmerica plus you've added commercials t...         NaN   \n",
       "2  @VirginAmerica I didn't today... Must mean I n...         NaN   \n",
       "\n",
       "               tweet_created tweet_location               user_timezone  \n",
       "0  2015-02-24 11:35:52 -0800            NaN  Eastern Time (US & Canada)  \n",
       "1  2015-02-24 11:15:59 -0800            NaN  Pacific Time (US & Canada)  \n",
       "2  2015-02-24 11:15:48 -0800      Lets Play  Central Time (US & Canada)  "
      ]
     },
     "execution_count": 2,
     "metadata": {},
     "output_type": "execute_result"
    }
   ],
   "source": [
    "df = pd.read_csv('tweets.csv')\n",
    "df.head(3)"
   ]
  },
  {
   "cell_type": "markdown",
   "metadata": {},
   "source": [
    "### Challenge\n",
    "\n",
    "- How many tweets are in the dataset?\n",
    "- How many tweets are positive, neutral and negative?\n",
    "- What **proportion** of tweets are positive, neutral and negative?\n",
    "- Visualize these last two questions. \n",
    "- What are the three main reasons why people are tweeting negatively? \n",
    "\n",
    "_Hint:_ To visualize counts, you can use the `sns.countplot()` function. To visualize proportions, use the `.plot(kind='bar')` method."
   ]
  },
  {
   "cell_type": "code",
   "execution_count": 3,
   "metadata": {},
   "outputs": [
    {
     "name": "stdout",
     "output_type": "stream",
     "text": [
      "Length is 14640\n"
     ]
    },
    {
     "data": {
      "text/plain": [
       "negative    9178\n",
       "neutral     3099\n",
       "positive    2363\n",
       "Name: airline_sentiment, dtype: int64"
      ]
     },
     "execution_count": 3,
     "metadata": {},
     "output_type": "execute_result"
    }
   ],
   "source": [
    "# solutions\n",
    "print(\"Length is\", len(df))\n",
    "\n",
    "df['airline_sentiment'].value_counts()"
   ]
  },
  {
   "cell_type": "code",
   "execution_count": 4,
   "metadata": {},
   "outputs": [
    {
     "data": {
      "text/plain": [
       "negative    0.626913\n",
       "neutral     0.211680\n",
       "positive    0.161407\n",
       "Name: airline_sentiment, dtype: float64"
      ]
     },
     "execution_count": 4,
     "metadata": {},
     "output_type": "execute_result"
    }
   ],
   "source": [
    "df['airline_sentiment'].value_counts(normalize=True)"
   ]
  },
  {
   "cell_type": "code",
   "execution_count": 5,
   "metadata": {},
   "outputs": [
    {
     "data": {
      "text/plain": [
       "<matplotlib.axes._subplots.AxesSubplot at 0x7f211789a3d0>"
      ]
     },
     "execution_count": 5,
     "metadata": {},
     "output_type": "execute_result"
    },
    {
     "data": {
      "image/png": "[encoded data removed]",
      "text/plain": [
       "<Figure size 432x288 with 1 Axes>"
      ]
     },
     "metadata": {
      "needs_background": "light"
     },
     "output_type": "display_data"
    }
   ],
   "source": [
    "sns.countplot(df['airline_sentiment'], order=['positive', 'neutral', 'negative'])"
   ]
  },
  {
   "cell_type": "code",
   "execution_count": 6,
   "metadata": {},
   "outputs": [
    {
     "data": {
      "text/plain": [
       "<matplotlib.axes._subplots.AxesSubplot at 0x7f211672cc40>"
      ]
     },
     "execution_count": 6,
     "metadata": {},
     "output_type": "execute_result"
    },
    {
     "data": {
      "image/png": "[encoded data removed]",
      "text/plain": [
       "<Figure size 432x288 with 1 Axes>"
      ]
     },
     "metadata": {
      "needs_background": "light"
     },
     "output_type": "display_data"
    }
   ],
   "source": [
    "df['airline_sentiment'].value_counts(normalize=True, ascending=True).plot(kind='bar', rot=0)"
   ]
  },
  {
   "cell_type": "code",
   "execution_count": 7,
   "metadata": {},
   "outputs": [
    {
     "data": {
      "image/png": "[encoded data removed]",
      "text/plain": [
       "<Figure size 432x288 with 1 Axes>"
      ]
     },
     "metadata": {
      "needs_background": "light"
     },
     "output_type": "display_data"
    }
   ],
   "source": [
    "sns.countplot(df['negativereason'], order=df['negativereason'].value_counts().index)\n",
    "plt.xticks(rotation=90);"
   ]
  },
  {
   "cell_type": "markdown",
   "metadata": {},
   "source": [
    "## Preprocess data<a id='preprocess'></a>"
   ]
  },
  {
   "cell_type": "code",
   "execution_count": 8,
   "metadata": {},
   "outputs": [],
   "source": [
    "twitter_handle_pattern = r'@(\\w+)'\n",
    "hashtag_pattern = r'(?:^|\\s)[＃#]{1}(\\w+)'\n",
    "url_pattern = r'https?:\\/\\/.*.com'"
   ]
  },
  {
   "cell_type": "markdown",
   "metadata": {},
   "source": [
    "### Challenge\n",
    "\n",
    "1. Create a function called `clean_tweet()` that takes in a tweet text; replaces hashtags, users, and URLs; and returns the result. \n",
    "2. Test it out on the `my_tweets` list object just defined: the output should be the same as that of the string methods we just used!\n",
    "3. Apply the `clean_tweet()` function to the tweets dataframe above to create a new `clean_text` column.\n",
    "\n",
    "_Hint:_ Use the handy `re.sub()` method for pattern replacement and `df[col].apply()` for applying a function to a specific DataFrame column."
   ]
  },
  {
   "cell_type": "code",
   "execution_count": 9,
   "metadata": {},
   "outputs": [
    {
     "data": {
      "text/html": [
       "<div>\n",
       "<style scoped>\n",
       "    .dataframe tbody tr th:only-of-type {\n",
       "        vertical-align: middle;\n",
       "    }\n",
       "\n",
       "    .dataframe tbody tr th {\n",
       "        vertical-align: top;\n",
       "    }\n",
       "\n",
       "    .dataframe thead th {\n",
       "        text-align: right;\n",
       "    }\n",
       "</style>\n",
       "<table border=\"1\" class=\"dataframe\">\n",
       "  <thead>\n",
       "    <tr style=\"text-align: right;\">\n",
       "      <th></th>\n",
       "      <th>tweet_id</th>\n",
       "      <th>airline_sentiment</th>\n",
       "      <th>airline_sentiment_confidence</th>\n",
       "      <th>negativereason</th>\n",
       "      <th>negativereason_confidence</th>\n",
       "      <th>airline</th>\n",
       "      <th>airline_sentiment_gold</th>\n",
       "      <th>name</th>\n",
       "      <th>negativereason_gold</th>\n",
       "      <th>retweet_count</th>\n",
       "      <th>text</th>\n",
       "      <th>tweet_coord</th>\n",
       "      <th>tweet_created</th>\n",
       "      <th>tweet_location</th>\n",
       "      <th>user_timezone</th>\n",
       "      <th>clean_text</th>\n",
       "    </tr>\n",
       "  </thead>\n",
       "  <tbody>\n",
       "    <tr>\n",
       "      <th>0</th>\n",
       "      <td>570306133677760513</td>\n",
       "      <td>neutral</td>\n",
       "      <td>1.0000</td>\n",
       "      <td>NaN</td>\n",
       "      <td>NaN</td>\n",
       "      <td>Virgin America</td>\n",
       "      <td>NaN</td>\n",
       "      <td>cairdin</td>\n",
       "      <td>NaN</td>\n",
       "      <td>0</td>\n",
       "      <td>@VirginAmerica What @dhepburn said.</td>\n",
       "      <td>NaN</td>\n",
       "      <td>2015-02-24 11:35:52 -0800</td>\n",
       "      <td>NaN</td>\n",
       "      <td>Eastern Time (US &amp; Canada)</td>\n",
       "      <td>USER What USER said.</td>\n",
       "    </tr>\n",
       "    <tr>\n",
       "      <th>1</th>\n",
       "      <td>570301130888122368</td>\n",
       "      <td>positive</td>\n",
       "      <td>0.3486</td>\n",
       "      <td>NaN</td>\n",
       "      <td>0.0</td>\n",
       "      <td>Virgin America</td>\n",
       "      <td>NaN</td>\n",
       "      <td>jnardino</td>\n",
       "      <td>NaN</td>\n",
       "      <td>0</td>\n",
       "      <td>@VirginAmerica plus you've added commercials t...</td>\n",
       "      <td>NaN</td>\n",
       "      <td>2015-02-24 11:15:59 -0800</td>\n",
       "      <td>NaN</td>\n",
       "      <td>Pacific Time (US &amp; Canada)</td>\n",
       "      <td>USER plus you've added commercials to the expe...</td>\n",
       "    </tr>\n",
       "    <tr>\n",
       "      <th>2</th>\n",
       "      <td>570301083672813571</td>\n",
       "      <td>neutral</td>\n",
       "      <td>0.6837</td>\n",
       "      <td>NaN</td>\n",
       "      <td>NaN</td>\n",
       "      <td>Virgin America</td>\n",
       "      <td>NaN</td>\n",
       "      <td>yvonnalynn</td>\n",
       "      <td>NaN</td>\n",
       "      <td>0</td>\n",
       "      <td>@VirginAmerica I didn't today... Must mean I n...</td>\n",
       "      <td>NaN</td>\n",
       "      <td>2015-02-24 11:15:48 -0800</td>\n",
       "      <td>Lets Play</td>\n",
       "      <td>Central Time (US &amp; Canada)</td>\n",
       "      <td>USER I didn't today... Must mean I need to tak...</td>\n",
       "    </tr>\n",
       "  </tbody>\n",
       "</table>\n",
       "</div>"
      ],
      "text/plain": [
       "             tweet_id airline_sentiment  airline_sentiment_confidence  \\\n",
       "0  570306133677760513           neutral                        1.0000   \n",
       "1  570301130888122368          positive                        0.3486   \n",
       "2  570301083672813571           neutral                        0.6837   \n",
       "\n",
       "  negativereason  negativereason_confidence         airline  \\\n",
       "0            NaN                        NaN  Virgin America   \n",
       "1            NaN                        0.0  Virgin America   \n",
       "2            NaN                        NaN  Virgin America   \n",
       "\n",
       "  airline_sentiment_gold        name negativereason_gold  retweet_count  \\\n",
       "0                    NaN     cairdin                 NaN              0   \n",
       "1                    NaN    jnardino                 NaN              0   \n",
       "2                    NaN  yvonnalynn                 NaN              0   \n",
       "\n",
       "                                                text tweet_coord  \\\n",
       "0                @VirginAmerica What @dhepburn said.         NaN   \n",
       "1  @VirginAmerica plus you've added commercials t...         NaN   \n",
       "2  @VirginAmerica I didn't today... Must mean I n...         NaN   \n",
       "\n",
       "               tweet_created tweet_location               user_timezone  \\\n",
       "0  2015-02-24 11:35:52 -0800            NaN  Eastern Time (US & Canada)   \n",
       "1  2015-02-24 11:15:59 -0800            NaN  Pacific Time (US & Canada)   \n",
       "2  2015-02-24 11:15:48 -0800      Lets Play  Central Time (US & Canada)   \n",
       "\n",
       "                                          clean_text  \n",
       "0                               USER What USER said.  \n",
       "1  USER plus you've added commercials to the expe...  \n",
       "2  USER I didn't today... Must mean I need to tak...  "
      ]
     },
     "execution_count": 9,
     "metadata": {},
     "output_type": "execute_result"
    }
   ],
   "source": [
    "# solution\n",
    "def clean_tweet(tweet):\n",
    "    tweet = re.sub(hashtag_pattern, ' HASHTAG', tweet) \n",
    "    tweet = re.sub(twitter_handle_pattern, 'USER', tweet)\n",
    "    return re.sub(url_pattern, 'URL', tweet)\n",
    "\n",
    "# apply function to DF \n",
    "df['clean_text'] = (df['text'].apply(clean_tweet))\n",
    "df.head(3)"
   ]
  },
  {
   "cell_type": "markdown",
   "metadata": {},
   "source": [
    "## Vectorization<a id='vectorization'></a>"
   ]
  },
  {
   "cell_type": "code",
   "execution_count": 10,
   "metadata": {},
   "outputs": [],
   "source": [
    "countvectorizer = CountVectorizer(max_features=5000, binary=True)\n",
    "X = countvectorizer.fit_transform(df['clean_text'])\n",
    "features = X.toarray() # convert matrix to sparse format for easy modeling\n",
    "response = df['airline_sentiment'].values # corresponds to entries in `features` \n",
    "feature_names = countvectorizer.get_feature_names() # get features for later"
   ]
  },
  {
   "cell_type": "markdown",
   "metadata": {},
   "source": [
    "## Divide data into training and test sets<a id='split'></a>"
   ]
  },
  {
   "cell_type": "code",
   "execution_count": 11,
   "metadata": {},
   "outputs": [
    {
     "data": {
      "text/plain": [
       "((11712, 5000), (2928, 5000))"
      ]
     },
     "execution_count": 11,
     "metadata": {},
     "output_type": "execute_result"
    }
   ],
   "source": [
    "X_train, X_test, y_train, y_test = train_test_split(features, response, test_size=0.2)\n",
    "\n",
    "X_train.shape, X_test.shape #look at number of rows and columns in training and test data"
   ]
  },
  {
   "cell_type": "markdown",
   "metadata": {},
   "source": [
    "# More classification with supervised machine learning<a id='supervised'></a>"
   ]
  },
  {
   "cell_type": "markdown",
   "metadata": {},
   "source": [
    "## Train decision tree model<a id='model'></a>"
   ]
  },
  {
   "cell_type": "code",
   "execution_count": 12,
   "metadata": {},
   "outputs": [
    {
     "data": {
      "text/plain": [
       "DecisionTreeClassifier(min_impurity_decrease=1e-07, random_state=10)"
      ]
     },
     "execution_count": 12,
     "metadata": {},
     "output_type": "execute_result"
    }
   ],
   "source": [
    "dt_classifier = DecisionTreeClassifier(criterion='gini',  # or 'entropy' for information gain\n",
    "                                       splitter='best',  # or 'random' for random best split\n",
    "                                       max_depth=None,  # how deep tree nodes can go\n",
    "                                       min_samples_split=2,  # samples needed to split node\n",
    "                                       min_samples_leaf=1,  # samples needed for a leaf\n",
    "                                       min_weight_fraction_leaf=0.0,  # weight of samples needed for a node\n",
    "                                       max_features=None,  # number of features to look for when splitting\n",
    "                                       max_leaf_nodes=None,  # max nodes\n",
    "                                       min_impurity_decrease=1e-07, #early stopping\n",
    "                                       random_state = 10) #random seed\n",
    "\n",
    "dt_classifier.fit(X_train, y_train) # fit model on training set"
   ]
  },
  {
   "cell_type": "code",
   "execution_count": 13,
   "metadata": {},
   "outputs": [
    {
     "data": {
      "image/svg+xml": [
       "<?xml version=\"1.0\" encoding=\"UTF-8\" standalone=\"no\"?>\n",
       "<!DOCTYPE svg PUBLIC \"-//W3C//DTD SVG 1.1//EN\"\n",
       " \"http://www.w3.org/Graphics/SVG/1.1/DTD/svg11.dtd\">\n",
       "<!-- Generated by graphviz version 2.42.3 (20191010.1750)\n",
       " -->\n",
       "<!-- Title: Tree Pages: 1 -->\n",
       "<svg width=\"1454pt\" height=\"520pt\"\n",
       " viewBox=\"0.00 0.00 1453.50 520.00\" xmlns=\"http://www.w3.org/2000/svg\" xmlns:xlink=\"http://www.w3.org/1999/xlink\">\n",
       "<g id=\"graph0\" class=\"graph\" transform=\"scale(1 1) rotate(0) translate(4 516)\">\n",
       "<title>Tree</title>\n",
       "<polygon fill=\"white\" stroke=\"transparent\" points=\"-4,4 -4,-516 1449.5,-516 1449.5,4 -4,4\"/>\n",
       "<!-- 0 -->\n",
       "<g id=\"node1\" class=\"node\">\n",
       "<title>0</title>\n",
       "<path fill=\"#f1bd98\" stroke=\"black\" d=\"M880.5,-512C880.5,-512 691.5,-512 691.5,-512 685.5,-512 679.5,-506 679.5,-500 679.5,-500 679.5,-441 679.5,-441 679.5,-435 685.5,-429 691.5,-429 691.5,-429 880.5,-429 880.5,-429 886.5,-429 892.5,-435 892.5,-441 892.5,-441 892.5,-500 892.5,-500 892.5,-506 886.5,-512 880.5,-512\"/>\n",
       "<text text-anchor=\"start\" x=\"743.5\" y=\"-496.8\" font-family=\"Helvetica,sans-Serif\" font-size=\"14.00\">thank ≤ 0.5</text>\n",
       "<text text-anchor=\"start\" x=\"742\" y=\"-481.8\" font-family=\"Helvetica,sans-Serif\" font-size=\"14.00\">gini = 0.539</text>\n",
       "<text text-anchor=\"start\" x=\"722.5\" y=\"-466.8\" font-family=\"Helvetica,sans-Serif\" font-size=\"14.00\">samples = 11712</text>\n",
       "<text text-anchor=\"start\" x=\"687.5\" y=\"-451.8\" font-family=\"Helvetica,sans-Serif\" font-size=\"14.00\">value = [7301, 2487, 1924]</text>\n",
       "<text text-anchor=\"start\" x=\"726.5\" y=\"-436.8\" font-family=\"Helvetica,sans-Serif\" font-size=\"14.00\">class = negative</text>\n",
       "</g>\n",
       "<!-- 1 -->\n",
       "<g id=\"node2\" class=\"node\">\n",
       "<title>1</title>\n",
       "<path fill=\"#f1ba93\" stroke=\"black\" d=\"M701.5,-393C701.5,-393 512.5,-393 512.5,-393 506.5,-393 500.5,-387 500.5,-381 500.5,-381 500.5,-322 500.5,-322 500.5,-316 506.5,-310 512.5,-310 512.5,-310 701.5,-310 701.5,-310 707.5,-310 713.5,-316 713.5,-322 713.5,-322 713.5,-381 713.5,-381 713.5,-387 707.5,-393 701.5,-393\"/>\n",
       "<text text-anchor=\"start\" x=\"561\" y=\"-377.8\" font-family=\"Helvetica,sans-Serif\" font-size=\"14.00\">thanks ≤ 0.5</text>\n",
       "<text text-anchor=\"start\" x=\"563\" y=\"-362.8\" font-family=\"Helvetica,sans-Serif\" font-size=\"14.00\">gini = 0.518</text>\n",
       "<text text-anchor=\"start\" x=\"543.5\" y=\"-347.8\" font-family=\"Helvetica,sans-Serif\" font-size=\"14.00\">samples = 11220</text>\n",
       "<text text-anchor=\"start\" x=\"508.5\" y=\"-332.8\" font-family=\"Helvetica,sans-Serif\" font-size=\"14.00\">value = [7234, 2428, 1558]</text>\n",
       "<text text-anchor=\"start\" x=\"547.5\" y=\"-317.8\" font-family=\"Helvetica,sans-Serif\" font-size=\"14.00\">class = negative</text>\n",
       "</g>\n",
       "<!-- 0&#45;&gt;1 -->\n",
       "<g id=\"edge1\" class=\"edge\">\n",
       "<title>0&#45;&gt;1</title>\n",
       "<path fill=\"none\" stroke=\"black\" d=\"M723.9,-428.91C708.9,-419.11 692.77,-408.56 677.43,-398.53\"/>\n",
       "<polygon fill=\"black\" stroke=\"black\" points=\"679.28,-395.56 668.99,-393.02 675.45,-401.42 679.28,-395.56\"/>\n",
       "<text text-anchor=\"middle\" x=\"674.12\" y=\"-413.79\" font-family=\"Helvetica,sans-Serif\" font-size=\"14.00\">True</text>\n",
       "</g>\n",
       "<!-- 5116 -->\n",
       "<g id=\"node17\" class=\"node\">\n",
       "<title>5116</title>\n",
       "<path fill=\"#a674ed\" stroke=\"black\" d=\"M1041,-393C1041,-393 897,-393 897,-393 891,-393 885,-387 885,-381 885,-381 885,-322 885,-322 885,-316 891,-310 897,-310 897,-310 1041,-310 1041,-310 1047,-310 1053,-316 1053,-322 1053,-322 1053,-381 1053,-381 1053,-387 1047,-393 1041,-393\"/>\n",
       "<text text-anchor=\"start\" x=\"934\" y=\"-377.8\" font-family=\"Helvetica,sans-Serif\" font-size=\"14.00\">can ≤ 0.5</text>\n",
       "<text text-anchor=\"start\" x=\"925\" y=\"-362.8\" font-family=\"Helvetica,sans-Serif\" font-size=\"14.00\">gini = 0.414</text>\n",
       "<text text-anchor=\"start\" x=\"914.5\" y=\"-347.8\" font-family=\"Helvetica,sans-Serif\" font-size=\"14.00\">samples = 492</text>\n",
       "<text text-anchor=\"start\" x=\"893\" y=\"-332.8\" font-family=\"Helvetica,sans-Serif\" font-size=\"14.00\">value = [67, 59, 366]</text>\n",
       "<text text-anchor=\"start\" x=\"909.5\" y=\"-317.8\" font-family=\"Helvetica,sans-Serif\" font-size=\"14.00\">class = negative</text>\n",
       "</g>\n",
       "<!-- 0&#45;&gt;5116 -->\n",
       "<g id=\"edge16\" class=\"edge\">\n",
       "<title>0&#45;&gt;5116</title>\n",
       "<path fill=\"none\" stroke=\"black\" d=\"M849.49,-428.91C864.82,-419.11 881.31,-408.56 897,-398.53\"/>\n",
       "<polygon fill=\"black\" stroke=\"black\" points=\"899.08,-401.36 905.62,-393.02 895.31,-395.46 899.08,-401.36\"/>\n",
       "<text text-anchor=\"middle\" x=\"900.25\" y=\"-413.74\" font-family=\"Helvetica,sans-Serif\" font-size=\"14.00\">False</text>\n",
       "</g>\n",
       "<!-- 2 -->\n",
       "<g id=\"node3\" class=\"node\">\n",
       "<title>2</title>\n",
       "<path fill=\"#f0b68c\" stroke=\"black\" d=\"M409.5,-274C409.5,-274 220.5,-274 220.5,-274 214.5,-274 208.5,-268 208.5,-262 208.5,-262 208.5,-203 208.5,-203 208.5,-197 214.5,-191 220.5,-191 220.5,-191 409.5,-191 409.5,-191 415.5,-191 421.5,-197 421.5,-203 421.5,-203 421.5,-262 421.5,-262 421.5,-268 415.5,-274 409.5,-274\"/>\n",
       "<text text-anchor=\"start\" x=\"284.5\" y=\"-258.8\" font-family=\"Helvetica,sans-Serif\" font-size=\"14.00\">co ≤ 0.5</text>\n",
       "<text text-anchor=\"start\" x=\"271\" y=\"-243.8\" font-family=\"Helvetica,sans-Serif\" font-size=\"14.00\">gini = 0.485</text>\n",
       "<text text-anchor=\"start\" x=\"251.5\" y=\"-228.8\" font-family=\"Helvetica,sans-Serif\" font-size=\"14.00\">samples = 10360</text>\n",
       "<text text-anchor=\"start\" x=\"216.5\" y=\"-213.8\" font-family=\"Helvetica,sans-Serif\" font-size=\"14.00\">value = [6984, 2303, 1073]</text>\n",
       "<text text-anchor=\"start\" x=\"255.5\" y=\"-198.8\" font-family=\"Helvetica,sans-Serif\" font-size=\"14.00\">class = negative</text>\n",
       "</g>\n",
       "<!-- 1&#45;&gt;2 -->\n",
       "<g id=\"edge2\" class=\"edge\">\n",
       "<title>1&#45;&gt;2</title>\n",
       "<path fill=\"none\" stroke=\"black\" d=\"M505.69,-309.91C479.87,-299.56 451.99,-288.39 425.72,-277.87\"/>\n",
       "<polygon fill=\"black\" stroke=\"black\" points=\"426.71,-274.49 416.13,-274.02 424.11,-280.99 426.71,-274.49\"/>\n",
       "</g>\n",
       "<!-- 4619 -->\n",
       "<g id=\"node10\" class=\"node\">\n",
       "<title>4619</title>\n",
       "<path fill=\"#ceb3f5\" stroke=\"black\" d=\"M688,-274C688,-274 526,-274 526,-274 520,-274 514,-268 514,-262 514,-262 514,-203 514,-203 514,-197 520,-191 526,-191 526,-191 688,-191 688,-191 694,-191 700,-197 700,-203 700,-203 700,-262 700,-262 700,-268 694,-274 688,-274\"/>\n",
       "<text text-anchor=\"start\" x=\"571.5\" y=\"-258.8\" font-family=\"Helvetica,sans-Serif\" font-size=\"14.00\">and ≤ 0.5</text>\n",
       "<text text-anchor=\"start\" x=\"563\" y=\"-243.8\" font-family=\"Helvetica,sans-Serif\" font-size=\"14.00\">gini = 0.576</text>\n",
       "<text text-anchor=\"start\" x=\"552.5\" y=\"-228.8\" font-family=\"Helvetica,sans-Serif\" font-size=\"14.00\">samples = 860</text>\n",
       "<text text-anchor=\"start\" x=\"522\" y=\"-213.8\" font-family=\"Helvetica,sans-Serif\" font-size=\"14.00\">value = [250, 125, 485]</text>\n",
       "<text text-anchor=\"start\" x=\"547.5\" y=\"-198.8\" font-family=\"Helvetica,sans-Serif\" font-size=\"14.00\">class = negative</text>\n",
       "</g>\n",
       "<!-- 1&#45;&gt;4619 -->\n",
       "<g id=\"edge9\" class=\"edge\">\n",
       "<title>1&#45;&gt;4619</title>\n",
       "<path fill=\"none\" stroke=\"black\" d=\"M607,-309.91C607,-301.65 607,-292.86 607,-284.3\"/>\n",
       "<polygon fill=\"black\" stroke=\"black\" points=\"610.5,-284.02 607,-274.02 603.5,-284.02 610.5,-284.02\"/>\n",
       "</g>\n",
       "<!-- 3 -->\n",
       "<g id=\"node4\" class=\"node\">\n",
       "<title>3</title>\n",
       "<path fill=\"#efb083\" stroke=\"black\" d=\"M192,-155C192,-155 12,-155 12,-155 6,-155 0,-149 0,-143 0,-143 0,-84 0,-84 0,-78 6,-72 12,-72 12,-72 192,-72 192,-72 198,-72 204,-78 204,-84 204,-84 204,-143 204,-143 204,-149 198,-155 192,-155\"/>\n",
       "<text text-anchor=\"start\" x=\"61\" y=\"-139.8\" font-family=\"Helvetica,sans-Serif\" font-size=\"14.00\">great ≤ 0.5</text>\n",
       "<text text-anchor=\"start\" x=\"58\" y=\"-124.8\" font-family=\"Helvetica,sans-Serif\" font-size=\"14.00\">gini = 0.458</text>\n",
       "<text text-anchor=\"start\" x=\"43\" y=\"-109.8\" font-family=\"Helvetica,sans-Serif\" font-size=\"14.00\">samples = 9449</text>\n",
       "<text text-anchor=\"start\" x=\"8\" y=\"-94.8\" font-family=\"Helvetica,sans-Serif\" font-size=\"14.00\">value = [6631, 1897, 921]</text>\n",
       "<text text-anchor=\"start\" x=\"42.5\" y=\"-79.8\" font-family=\"Helvetica,sans-Serif\" font-size=\"14.00\">class = negative</text>\n",
       "</g>\n",
       "<!-- 2&#45;&gt;3 -->\n",
       "<g id=\"edge3\" class=\"edge\">\n",
       "<title>2&#45;&gt;3</title>\n",
       "<path fill=\"none\" stroke=\"black\" d=\"M241.1,-190.91C222.84,-180.88 203.17,-170.07 184.54,-159.84\"/>\n",
       "<polygon fill=\"black\" stroke=\"black\" points=\"186.22,-156.77 175.77,-155.02 182.85,-162.9 186.22,-156.77\"/>\n",
       "</g>\n",
       "<!-- 3988 -->\n",
       "<g id=\"node7\" class=\"node\">\n",
       "<title>3988</title>\n",
       "<path fill=\"#ecfdf3\" stroke=\"black\" d=\"M396,-155C396,-155 234,-155 234,-155 228,-155 222,-149 222,-143 222,-143 222,-84 222,-84 222,-78 228,-72 234,-72 234,-72 396,-72 396,-72 402,-72 408,-78 408,-84 408,-84 408,-143 408,-143 408,-149 402,-155 396,-155\"/>\n",
       "<text text-anchor=\"start\" x=\"277.5\" y=\"-139.8\" font-family=\"Helvetica,sans-Serif\" font-size=\"14.00\">hold ≤ 0.5</text>\n",
       "<text text-anchor=\"start\" x=\"271\" y=\"-124.8\" font-family=\"Helvetica,sans-Serif\" font-size=\"14.00\">gini = 0.623</text>\n",
       "<text text-anchor=\"start\" x=\"260.5\" y=\"-109.8\" font-family=\"Helvetica,sans-Serif\" font-size=\"14.00\">samples = 911</text>\n",
       "<text text-anchor=\"start\" x=\"230\" y=\"-94.8\" font-family=\"Helvetica,sans-Serif\" font-size=\"14.00\">value = [353, 406, 152]</text>\n",
       "<text text-anchor=\"start\" x=\"255.5\" y=\"-79.8\" font-family=\"Helvetica,sans-Serif\" font-size=\"14.00\">class = negative</text>\n",
       "</g>\n",
       "<!-- 2&#45;&gt;3988 -->\n",
       "<g id=\"edge6\" class=\"edge\">\n",
       "<title>2&#45;&gt;3988</title>\n",
       "<path fill=\"none\" stroke=\"black\" d=\"M315,-190.91C315,-182.65 315,-173.86 315,-165.3\"/>\n",
       "<polygon fill=\"black\" stroke=\"black\" points=\"318.5,-165.02 315,-155.02 311.5,-165.02 318.5,-165.02\"/>\n",
       "</g>\n",
       "<!-- 4 -->\n",
       "<g id=\"node5\" class=\"node\">\n",
       "<title>4</title>\n",
       "<path fill=\"#c0c0c0\" stroke=\"black\" d=\"M81,-36C81,-36 51,-36 51,-36 45,-36 39,-30 39,-24 39,-24 39,-12 39,-12 39,-6 45,0 51,0 51,0 81,0 81,0 87,0 93,-6 93,-12 93,-12 93,-24 93,-24 93,-30 87,-36 81,-36\"/>\n",
       "<text text-anchor=\"middle\" x=\"66\" y=\"-14.3\" font-family=\"Helvetica,sans-Serif\" font-size=\"14.00\">(...)</text>\n",
       "</g>\n",
       "<!-- 3&#45;&gt;4 -->\n",
       "<g id=\"edge4\" class=\"edge\">\n",
       "<title>3&#45;&gt;4</title>\n",
       "<path fill=\"none\" stroke=\"black\" d=\"M86.31,-71.76C82.96,-63.04 79.49,-54.04 76.39,-45.99\"/>\n",
       "<polygon fill=\"black\" stroke=\"black\" points=\"79.56,-44.48 72.7,-36.41 73.03,-46.99 79.56,-44.48\"/>\n",
       "</g>\n",
       "<!-- 3913 -->\n",
       "<g id=\"node6\" class=\"node\">\n",
       "<title>3913</title>\n",
       "<path fill=\"#c0c0c0\" stroke=\"black\" d=\"M153,-36C153,-36 123,-36 123,-36 117,-36 111,-30 111,-24 111,-24 111,-12 111,-12 111,-6 117,0 123,0 123,0 153,0 153,0 159,0 165,-6 165,-12 165,-12 165,-24 165,-24 165,-30 159,-36 153,-36\"/>\n",
       "<text text-anchor=\"middle\" x=\"138\" y=\"-14.3\" font-family=\"Helvetica,sans-Serif\" font-size=\"14.00\">(...)</text>\n",
       "</g>\n",
       "<!-- 3&#45;&gt;3913 -->\n",
       "<g id=\"edge5\" class=\"edge\">\n",
       "<title>3&#45;&gt;3913</title>\n",
       "<path fill=\"none\" stroke=\"black\" d=\"M117.69,-71.76C121.04,-63.04 124.51,-54.04 127.61,-45.99\"/>\n",
       "<polygon fill=\"black\" stroke=\"black\" points=\"130.97,-46.99 131.3,-36.41 124.44,-44.48 130.97,-46.99\"/>\n",
       "</g>\n",
       "<!-- 3989 -->\n",
       "<g id=\"node8\" class=\"node\">\n",
       "<title>3989</title>\n",
       "<path fill=\"#c0c0c0\" stroke=\"black\" d=\"M309,-36C309,-36 279,-36 279,-36 273,-36 267,-30 267,-24 267,-24 267,-12 267,-12 267,-6 273,0 279,0 279,0 309,0 309,0 315,0 321,-6 321,-12 321,-12 321,-24 321,-24 321,-30 315,-36 309,-36\"/>\n",
       "<text text-anchor=\"middle\" x=\"294\" y=\"-14.3\" font-family=\"Helvetica,sans-Serif\" font-size=\"14.00\">(...)</text>\n",
       "</g>\n",
       "<!-- 3988&#45;&gt;3989 -->\n",
       "<g id=\"edge7\" class=\"edge\">\n",
       "<title>3988&#45;&gt;3989</title>\n",
       "<path fill=\"none\" stroke=\"black\" d=\"M305.85,-71.76C303.91,-63.14 301.91,-54.24 300.12,-46.26\"/>\n",
       "<polygon fill=\"black\" stroke=\"black\" points=\"303.52,-45.4 297.91,-36.41 296.69,-46.93 303.52,-45.4\"/>\n",
       "</g>\n",
       "<!-- 4616 -->\n",
       "<g id=\"node9\" class=\"node\">\n",
       "<title>4616</title>\n",
       "<path fill=\"#c0c0c0\" stroke=\"black\" d=\"M381,-36C381,-36 351,-36 351,-36 345,-36 339,-30 339,-24 339,-24 339,-12 339,-12 339,-6 345,0 351,0 351,0 381,0 381,0 387,0 393,-6 393,-12 393,-12 393,-24 393,-24 393,-30 387,-36 381,-36\"/>\n",
       "<text text-anchor=\"middle\" x=\"366\" y=\"-14.3\" font-family=\"Helvetica,sans-Serif\" font-size=\"14.00\">(...)</text>\n",
       "</g>\n",
       "<!-- 3988&#45;&gt;4616 -->\n",
       "<g id=\"edge8\" class=\"edge\">\n",
       "<title>3988&#45;&gt;4616</title>\n",
       "<path fill=\"none\" stroke=\"black\" d=\"M337.22,-71.76C342.14,-62.75 347.22,-53.44 351.71,-45.19\"/>\n",
       "<polygon fill=\"black\" stroke=\"black\" points=\"354.79,-46.86 356.51,-36.41 348.65,-43.51 354.79,-46.86\"/>\n",
       "</g>\n",
       "<!-- 4620 -->\n",
       "<g id=\"node11\" class=\"node\">\n",
       "<title>4620</title>\n",
       "<path fill=\"#c19ef2\" stroke=\"black\" d=\"M600,-155C600,-155 438,-155 438,-155 432,-155 426,-149 426,-143 426,-143 426,-84 426,-84 426,-78 432,-72 438,-72 438,-72 600,-72 600,-72 606,-72 612,-78 612,-84 612,-84 612,-143 612,-143 612,-149 606,-155 600,-155\"/>\n",
       "<text text-anchor=\"start\" x=\"485.5\" y=\"-139.8\" font-family=\"Helvetica,sans-Serif\" font-size=\"14.00\">but ≤ 0.5</text>\n",
       "<text text-anchor=\"start\" x=\"479.5\" y=\"-124.8\" font-family=\"Helvetica,sans-Serif\" font-size=\"14.00\">gini = 0.55</text>\n",
       "<text text-anchor=\"start\" x=\"464.5\" y=\"-109.8\" font-family=\"Helvetica,sans-Serif\" font-size=\"14.00\">samples = 691</text>\n",
       "<text text-anchor=\"start\" x=\"434\" y=\"-94.8\" font-family=\"Helvetica,sans-Serif\" font-size=\"14.00\">value = [161, 109, 421]</text>\n",
       "<text text-anchor=\"start\" x=\"459.5\" y=\"-79.8\" font-family=\"Helvetica,sans-Serif\" font-size=\"14.00\">class = negative</text>\n",
       "</g>\n",
       "<!-- 4619&#45;&gt;4620 -->\n",
       "<g id=\"edge10\" class=\"edge\">\n",
       "<title>4619&#45;&gt;4620</title>\n",
       "<path fill=\"none\" stroke=\"black\" d=\"M576.47,-190.91C569.71,-181.92 562.48,-172.32 555.52,-163.05\"/>\n",
       "<polygon fill=\"black\" stroke=\"black\" points=\"558.29,-160.91 549.48,-155.02 552.69,-165.12 558.29,-160.91\"/>\n",
       "</g>\n",
       "<!-- 5035 -->\n",
       "<g id=\"node14\" class=\"node\">\n",
       "<title>5035</title>\n",
       "<path fill=\"#f9e1d0\" stroke=\"black\" d=\"M776.5,-155C776.5,-155 641.5,-155 641.5,-155 635.5,-155 629.5,-149 629.5,-143 629.5,-143 629.5,-84 629.5,-84 629.5,-78 635.5,-72 641.5,-72 641.5,-72 776.5,-72 776.5,-72 782.5,-72 788.5,-78 788.5,-84 788.5,-84 788.5,-143 788.5,-143 788.5,-149 782.5,-155 776.5,-155\"/>\n",
       "<text text-anchor=\"start\" x=\"675.5\" y=\"-139.8\" font-family=\"Helvetica,sans-Serif\" font-size=\"14.00\">not ≤ 0.5</text>\n",
       "<text text-anchor=\"start\" x=\"669.5\" y=\"-124.8\" font-family=\"Helvetica,sans-Serif\" font-size=\"14.00\">gini = 0.57</text>\n",
       "<text text-anchor=\"start\" x=\"654.5\" y=\"-109.8\" font-family=\"Helvetica,sans-Serif\" font-size=\"14.00\">samples = 169</text>\n",
       "<text text-anchor=\"start\" x=\"637.5\" y=\"-94.8\" font-family=\"Helvetica,sans-Serif\" font-size=\"14.00\">value = [89, 16, 64]</text>\n",
       "<text text-anchor=\"start\" x=\"649.5\" y=\"-79.8\" font-family=\"Helvetica,sans-Serif\" font-size=\"14.00\">class = negative</text>\n",
       "</g>\n",
       "<!-- 4619&#45;&gt;5035 -->\n",
       "<g id=\"edge13\" class=\"edge\">\n",
       "<title>4619&#45;&gt;5035</title>\n",
       "<path fill=\"none\" stroke=\"black\" d=\"M642.39,-190.91C650.3,-181.83 658.77,-172.12 666.92,-162.77\"/>\n",
       "<polygon fill=\"black\" stroke=\"black\" points=\"669.74,-164.86 673.67,-155.02 664.46,-160.26 669.74,-164.86\"/>\n",
       "</g>\n",
       "<!-- 4621 -->\n",
       "<g id=\"node12\" class=\"node\">\n",
       "<title>4621</title>\n",
       "<path fill=\"#c0c0c0\" stroke=\"black\" d=\"M483,-36C483,-36 453,-36 453,-36 447,-36 441,-30 441,-24 441,-24 441,-12 441,-12 441,-6 447,0 453,0 453,0 483,0 483,0 489,0 495,-6 495,-12 495,-12 495,-24 495,-24 495,-30 489,-36 483,-36\"/>\n",
       "<text text-anchor=\"middle\" x=\"468\" y=\"-14.3\" font-family=\"Helvetica,sans-Serif\" font-size=\"14.00\">(...)</text>\n",
       "</g>\n",
       "<!-- 4620&#45;&gt;4621 -->\n",
       "<g id=\"edge11\" class=\"edge\">\n",
       "<title>4620&#45;&gt;4621</title>\n",
       "<path fill=\"none\" stroke=\"black\" d=\"M496.78,-71.76C491.86,-62.75 486.78,-53.44 482.29,-45.19\"/>\n",
       "<polygon fill=\"black\" stroke=\"black\" points=\"485.35,-43.51 477.49,-36.41 479.21,-46.86 485.35,-43.51\"/>\n",
       "</g>\n",
       "<!-- 5002 -->\n",
       "<g id=\"node13\" class=\"node\">\n",
       "<title>5002</title>\n",
       "<path fill=\"#c0c0c0\" stroke=\"black\" d=\"M555,-36C555,-36 525,-36 525,-36 519,-36 513,-30 513,-24 513,-24 513,-12 513,-12 513,-6 519,0 525,0 525,0 555,0 555,0 561,0 567,-6 567,-12 567,-12 567,-24 567,-24 567,-30 561,-36 555,-36\"/>\n",
       "<text text-anchor=\"middle\" x=\"540\" y=\"-14.3\" font-family=\"Helvetica,sans-Serif\" font-size=\"14.00\">(...)</text>\n",
       "</g>\n",
       "<!-- 4620&#45;&gt;5002 -->\n",
       "<g id=\"edge12\" class=\"edge\">\n",
       "<title>4620&#45;&gt;5002</title>\n",
       "<path fill=\"none\" stroke=\"black\" d=\"M528.15,-71.76C530.09,-63.14 532.09,-54.24 533.88,-46.26\"/>\n",
       "<polygon fill=\"black\" stroke=\"black\" points=\"537.31,-46.93 536.09,-36.41 530.48,-45.4 537.31,-46.93\"/>\n",
       "</g>\n",
       "<!-- 5036 -->\n",
       "<g id=\"node15\" class=\"node\">\n",
       "<title>5036</title>\n",
       "<path fill=\"#c0c0c0\" stroke=\"black\" d=\"M670,-36C670,-36 640,-36 640,-36 634,-36 628,-30 628,-24 628,-24 628,-12 628,-12 628,-6 634,0 640,0 640,0 670,0 670,0 676,0 682,-6 682,-12 682,-12 682,-24 682,-24 682,-30 676,-36 670,-36\"/>\n",
       "<text text-anchor=\"middle\" x=\"655\" y=\"-14.3\" font-family=\"Helvetica,sans-Serif\" font-size=\"14.00\">(...)</text>\n",
       "</g>\n",
       "<!-- 5035&#45;&gt;5036 -->\n",
       "<g id=\"edge14\" class=\"edge\">\n",
       "<title>5035&#45;&gt;5036</title>\n",
       "<path fill=\"none\" stroke=\"black\" d=\"M685.47,-71.76C680.27,-62.75 674.89,-53.44 670.13,-45.19\"/>\n",
       "<polygon fill=\"black\" stroke=\"black\" points=\"673.08,-43.31 665.05,-36.41 667.02,-46.82 673.08,-43.31\"/>\n",
       "</g>\n",
       "<!-- 5111 -->\n",
       "<g id=\"node16\" class=\"node\">\n",
       "<title>5111</title>\n",
       "<path fill=\"#c0c0c0\" stroke=\"black\" d=\"M742,-36C742,-36 712,-36 712,-36 706,-36 700,-30 700,-24 700,-24 700,-12 700,-12 700,-6 706,0 712,0 712,0 742,0 742,0 748,0 754,-6 754,-12 754,-12 754,-24 754,-24 754,-30 748,-36 742,-36\"/>\n",
       "<text text-anchor=\"middle\" x=\"727\" y=\"-14.3\" font-family=\"Helvetica,sans-Serif\" font-size=\"14.00\">(...)</text>\n",
       "</g>\n",
       "<!-- 5035&#45;&gt;5111 -->\n",
       "<g id=\"edge15\" class=\"edge\">\n",
       "<title>5035&#45;&gt;5111</title>\n",
       "<path fill=\"none\" stroke=\"black\" d=\"M716.84,-71.76C718.5,-63.14 720.22,-54.24 721.75,-46.26\"/>\n",
       "<polygon fill=\"black\" stroke=\"black\" points=\"725.2,-46.89 723.65,-36.41 718.32,-45.56 725.2,-46.89\"/>\n",
       "</g>\n",
       "<!-- 5117 -->\n",
       "<g id=\"node18\" class=\"node\">\n",
       "<title>5117</title>\n",
       "<path fill=\"#a36eec\" stroke=\"black\" d=\"M1041,-274C1041,-274 897,-274 897,-274 891,-274 885,-268 885,-262 885,-262 885,-203 885,-203 885,-197 891,-191 897,-191 897,-191 1041,-191 1041,-191 1047,-191 1053,-197 1053,-203 1053,-203 1053,-262 1053,-262 1053,-268 1047,-274 1041,-274\"/>\n",
       "<text text-anchor=\"start\" x=\"935.5\" y=\"-258.8\" font-family=\"Helvetica,sans-Serif\" font-size=\"14.00\">but ≤ 0.5</text>\n",
       "<text text-anchor=\"start\" x=\"925\" y=\"-243.8\" font-family=\"Helvetica,sans-Serif\" font-size=\"14.00\">gini = 0.383</text>\n",
       "<text text-anchor=\"start\" x=\"914.5\" y=\"-228.8\" font-family=\"Helvetica,sans-Serif\" font-size=\"14.00\">samples = 465</text>\n",
       "<text text-anchor=\"start\" x=\"893\" y=\"-213.8\" font-family=\"Helvetica,sans-Serif\" font-size=\"14.00\">value = [61, 47, 357]</text>\n",
       "<text text-anchor=\"start\" x=\"909.5\" y=\"-198.8\" font-family=\"Helvetica,sans-Serif\" font-size=\"14.00\">class = negative</text>\n",
       "</g>\n",
       "<!-- 5116&#45;&gt;5117 -->\n",
       "<g id=\"edge17\" class=\"edge\">\n",
       "<title>5116&#45;&gt;5117</title>\n",
       "<path fill=\"none\" stroke=\"black\" d=\"M969,-309.91C969,-301.65 969,-292.86 969,-284.3\"/>\n",
       "<polygon fill=\"black\" stroke=\"black\" points=\"972.5,-284.02 969,-274.02 965.5,-284.02 972.5,-284.02\"/>\n",
       "</g>\n",
       "<!-- 5370 -->\n",
       "<g id=\"node25\" class=\"node\">\n",
       "<title>5370</title>\n",
       "<path fill=\"#defbea\" stroke=\"black\" d=\"M1280.5,-274C1280.5,-274 1163.5,-274 1163.5,-274 1157.5,-274 1151.5,-268 1151.5,-262 1151.5,-262 1151.5,-203 1151.5,-203 1151.5,-197 1157.5,-191 1163.5,-191 1163.5,-191 1280.5,-191 1280.5,-191 1286.5,-191 1292.5,-197 1292.5,-203 1292.5,-203 1292.5,-262 1292.5,-262 1292.5,-268 1286.5,-274 1280.5,-274\"/>\n",
       "<text text-anchor=\"start\" x=\"1182\" y=\"-258.8\" font-family=\"Helvetica,sans-Serif\" font-size=\"14.00\">been ≤ 0.5</text>\n",
       "<text text-anchor=\"start\" x=\"1178\" y=\"-243.8\" font-family=\"Helvetica,sans-Serif\" font-size=\"14.00\">gini = 0.642</text>\n",
       "<text text-anchor=\"start\" x=\"1172\" y=\"-228.8\" font-family=\"Helvetica,sans-Serif\" font-size=\"14.00\">samples = 27</text>\n",
       "<text text-anchor=\"start\" x=\"1159.5\" y=\"-213.8\" font-family=\"Helvetica,sans-Serif\" font-size=\"14.00\">value = [6, 12, 9]</text>\n",
       "<text text-anchor=\"start\" x=\"1162.5\" y=\"-198.8\" font-family=\"Helvetica,sans-Serif\" font-size=\"14.00\">class = negative</text>\n",
       "</g>\n",
       "<!-- 5116&#45;&gt;5370 -->\n",
       "<g id=\"edge24\" class=\"edge\">\n",
       "<title>5116&#45;&gt;5370</title>\n",
       "<path fill=\"none\" stroke=\"black\" d=\"M1053.25,-311.54C1081.79,-298.34 1113.57,-283.64 1141.79,-270.59\"/>\n",
       "<polygon fill=\"black\" stroke=\"black\" points=\"1143.61,-273.61 1151.21,-266.24 1140.67,-267.26 1143.61,-273.61\"/>\n",
       "</g>\n",
       "<!-- 5118 -->\n",
       "<g id=\"node19\" class=\"node\">\n",
       "<title>5118</title>\n",
       "<path fill=\"#9f68eb\" stroke=\"black\" d=\"M962,-155C962,-155 818,-155 818,-155 812,-155 806,-149 806,-143 806,-143 806,-84 806,-84 806,-78 812,-72 818,-72 818,-72 962,-72 962,-72 968,-72 974,-78 974,-84 974,-84 974,-143 974,-143 974,-149 968,-155 962,-155\"/>\n",
       "<text text-anchor=\"start\" x=\"848\" y=\"-139.8\" font-family=\"Helvetica,sans-Serif\" font-size=\"14.00\">worst ≤ 0.5</text>\n",
       "<text text-anchor=\"start\" x=\"846\" y=\"-124.8\" font-family=\"Helvetica,sans-Serif\" font-size=\"14.00\">gini = 0.351</text>\n",
       "<text text-anchor=\"start\" x=\"835.5\" y=\"-109.8\" font-family=\"Helvetica,sans-Serif\" font-size=\"14.00\">samples = 442</text>\n",
       "<text text-anchor=\"start\" x=\"814\" y=\"-94.8\" font-family=\"Helvetica,sans-Serif\" font-size=\"14.00\">value = [51, 41, 350]</text>\n",
       "<text text-anchor=\"start\" x=\"830.5\" y=\"-79.8\" font-family=\"Helvetica,sans-Serif\" font-size=\"14.00\">class = negative</text>\n",
       "</g>\n",
       "<!-- 5117&#45;&gt;5118 -->\n",
       "<g id=\"edge18\" class=\"edge\">\n",
       "<title>5117&#45;&gt;5118</title>\n",
       "<path fill=\"none\" stroke=\"black\" d=\"M941.59,-190.91C935.59,-182.01 929.17,-172.51 922.97,-163.33\"/>\n",
       "<polygon fill=\"black\" stroke=\"black\" points=\"925.86,-161.35 917.36,-155.02 920.06,-165.27 925.86,-161.35\"/>\n",
       "</g>\n",
       "<!-- 5351 -->\n",
       "<g id=\"node22\" class=\"node\">\n",
       "<title>5351</title>\n",
       "<path fill=\"#fae7da\" stroke=\"black\" d=\"M1121.5,-155C1121.5,-155 1004.5,-155 1004.5,-155 998.5,-155 992.5,-149 992.5,-143 992.5,-143 992.5,-84 992.5,-84 992.5,-78 998.5,-72 1004.5,-72 1004.5,-72 1121.5,-72 1121.5,-72 1127.5,-72 1133.5,-78 1133.5,-84 1133.5,-84 1133.5,-143 1133.5,-143 1133.5,-149 1127.5,-155 1121.5,-155\"/>\n",
       "<text text-anchor=\"start\" x=\"1028\" y=\"-139.8\" font-family=\"Helvetica,sans-Serif\" font-size=\"14.00\">just ≤ 0.5</text>\n",
       "<text text-anchor=\"start\" x=\"1023.5\" y=\"-124.8\" font-family=\"Helvetica,sans-Serif\" font-size=\"14.00\">gini = 0.65</text>\n",
       "<text text-anchor=\"start\" x=\"1013\" y=\"-109.8\" font-family=\"Helvetica,sans-Serif\" font-size=\"14.00\">samples = 23</text>\n",
       "<text text-anchor=\"start\" x=\"1000.5\" y=\"-94.8\" font-family=\"Helvetica,sans-Serif\" font-size=\"14.00\">value = [10, 6, 7]</text>\n",
       "<text text-anchor=\"start\" x=\"1003.5\" y=\"-79.8\" font-family=\"Helvetica,sans-Serif\" font-size=\"14.00\">class = negative</text>\n",
       "</g>\n",
       "<!-- 5117&#45;&gt;5351 -->\n",
       "<g id=\"edge21\" class=\"edge\">\n",
       "<title>5117&#45;&gt;5351</title>\n",
       "<path fill=\"none\" stroke=\"black\" d=\"M1001.61,-190.91C1008.83,-181.92 1016.55,-172.32 1023.99,-163.05\"/>\n",
       "<polygon fill=\"black\" stroke=\"black\" points=\"1026.91,-165.01 1030.44,-155.02 1021.45,-160.62 1026.91,-165.01\"/>\n",
       "</g>\n",
       "<!-- 5119 -->\n",
       "<g id=\"node20\" class=\"node\">\n",
       "<title>5119</title>\n",
       "<path fill=\"#c0c0c0\" stroke=\"black\" d=\"M847,-36C847,-36 817,-36 817,-36 811,-36 805,-30 805,-24 805,-24 805,-12 805,-12 805,-6 811,0 817,0 817,0 847,0 847,0 853,0 859,-6 859,-12 859,-12 859,-24 859,-24 859,-30 853,-36 847,-36\"/>\n",
       "<text text-anchor=\"middle\" x=\"832\" y=\"-14.3\" font-family=\"Helvetica,sans-Serif\" font-size=\"14.00\">(...)</text>\n",
       "</g>\n",
       "<!-- 5118&#45;&gt;5119 -->\n",
       "<g id=\"edge19\" class=\"edge\">\n",
       "<title>5118&#45;&gt;5119</title>\n",
       "<path fill=\"none\" stroke=\"black\" d=\"M864.73,-71.76C859.08,-62.65 853.24,-53.24 848.08,-44.92\"/>\n",
       "<polygon fill=\"black\" stroke=\"black\" points=\"851.04,-43.06 842.8,-36.41 845.09,-46.75 851.04,-43.06\"/>\n",
       "</g>\n",
       "<!-- 5350 -->\n",
       "<g id=\"node21\" class=\"node\">\n",
       "<title>5350</title>\n",
       "<path fill=\"#c0c0c0\" stroke=\"black\" d=\"M919,-36C919,-36 889,-36 889,-36 883,-36 877,-30 877,-24 877,-24 877,-12 877,-12 877,-6 883,0 889,0 889,0 919,0 919,0 925,0 931,-6 931,-12 931,-12 931,-24 931,-24 931,-30 925,-36 919,-36\"/>\n",
       "<text text-anchor=\"middle\" x=\"904\" y=\"-14.3\" font-family=\"Helvetica,sans-Serif\" font-size=\"14.00\">(...)</text>\n",
       "</g>\n",
       "<!-- 5118&#45;&gt;5350 -->\n",
       "<g id=\"edge20\" class=\"edge\">\n",
       "<title>5118&#45;&gt;5350</title>\n",
       "<path fill=\"none\" stroke=\"black\" d=\"M896.1,-71.76C897.38,-63.24 898.69,-54.44 899.88,-46.53\"/>\n",
       "<polygon fill=\"black\" stroke=\"black\" points=\"903.37,-46.81 901.39,-36.41 896.45,-45.78 903.37,-46.81\"/>\n",
       "</g>\n",
       "<!-- 5352 -->\n",
       "<g id=\"node23\" class=\"node\">\n",
       "<title>5352</title>\n",
       "<path fill=\"#c0c0c0\" stroke=\"black\" d=\"M1031,-36C1031,-36 1001,-36 1001,-36 995,-36 989,-30 989,-24 989,-24 989,-12 989,-12 989,-6 995,0 1001,0 1001,0 1031,0 1031,0 1037,0 1043,-6 1043,-12 1043,-12 1043,-24 1043,-24 1043,-30 1037,-36 1031,-36\"/>\n",
       "<text text-anchor=\"middle\" x=\"1016\" y=\"-14.3\" font-family=\"Helvetica,sans-Serif\" font-size=\"14.00\">(...)</text>\n",
       "</g>\n",
       "<!-- 5351&#45;&gt;5352 -->\n",
       "<g id=\"edge22\" class=\"edge\">\n",
       "<title>5351&#45;&gt;5352</title>\n",
       "<path fill=\"none\" stroke=\"black\" d=\"M1042.52,-71.76C1038.04,-62.85 1033.41,-53.64 1029.3,-45.46\"/>\n",
       "<polygon fill=\"black\" stroke=\"black\" points=\"1032.37,-43.77 1024.75,-36.41 1026.11,-46.91 1032.37,-43.77\"/>\n",
       "</g>\n",
       "<!-- 5369 -->\n",
       "<g id=\"node24\" class=\"node\">\n",
       "<title>5369</title>\n",
       "<path fill=\"#c0c0c0\" stroke=\"black\" d=\"M1103,-36C1103,-36 1073,-36 1073,-36 1067,-36 1061,-30 1061,-24 1061,-24 1061,-12 1061,-12 1061,-6 1067,0 1073,0 1073,0 1103,0 1103,0 1109,0 1115,-6 1115,-12 1115,-12 1115,-24 1115,-24 1115,-30 1109,-36 1103,-36\"/>\n",
       "<text text-anchor=\"middle\" x=\"1088\" y=\"-14.3\" font-family=\"Helvetica,sans-Serif\" font-size=\"14.00\">(...)</text>\n",
       "</g>\n",
       "<!-- 5351&#45;&gt;5369 -->\n",
       "<g id=\"edge23\" class=\"edge\">\n",
       "<title>5351&#45;&gt;5369</title>\n",
       "<path fill=\"none\" stroke=\"black\" d=\"M1073.89,-71.76C1076.2,-63.14 1078.58,-54.24 1080.71,-46.26\"/>\n",
       "<polygon fill=\"black\" stroke=\"black\" points=\"1084.14,-46.97 1083.35,-36.41 1077.38,-45.16 1084.14,-46.97\"/>\n",
       "</g>\n",
       "<!-- 5371 -->\n",
       "<g id=\"node26\" class=\"node\">\n",
       "<title>5371</title>\n",
       "<path fill=\"#d7fae6\" stroke=\"black\" d=\"M1280.5,-155C1280.5,-155 1163.5,-155 1163.5,-155 1157.5,-155 1151.5,-149 1151.5,-143 1151.5,-143 1151.5,-84 1151.5,-84 1151.5,-78 1157.5,-72 1163.5,-72 1163.5,-72 1280.5,-72 1280.5,-72 1286.5,-72 1292.5,-78 1292.5,-84 1292.5,-84 1292.5,-143 1292.5,-143 1292.5,-149 1286.5,-155 1280.5,-155\"/>\n",
       "<text text-anchor=\"start\" x=\"1194.5\" y=\"-139.8\" font-family=\"Helvetica,sans-Serif\" font-size=\"14.00\">is ≤ 0.5</text>\n",
       "<text text-anchor=\"start\" x=\"1178\" y=\"-124.8\" font-family=\"Helvetica,sans-Serif\" font-size=\"14.00\">gini = 0.594</text>\n",
       "<text text-anchor=\"start\" x=\"1172\" y=\"-109.8\" font-family=\"Helvetica,sans-Serif\" font-size=\"14.00\">samples = 24</text>\n",
       "<text text-anchor=\"start\" x=\"1159.5\" y=\"-94.8\" font-family=\"Helvetica,sans-Serif\" font-size=\"14.00\">value = [3, 12, 9]</text>\n",
       "<text text-anchor=\"start\" x=\"1162.5\" y=\"-79.8\" font-family=\"Helvetica,sans-Serif\" font-size=\"14.00\">class = negative</text>\n",
       "</g>\n",
       "<!-- 5370&#45;&gt;5371 -->\n",
       "<g id=\"edge25\" class=\"edge\">\n",
       "<title>5370&#45;&gt;5371</title>\n",
       "<path fill=\"none\" stroke=\"black\" d=\"M1222,-190.91C1222,-182.65 1222,-173.86 1222,-165.3\"/>\n",
       "<polygon fill=\"black\" stroke=\"black\" points=\"1225.5,-165.02 1222,-155.02 1218.5,-165.02 1225.5,-165.02\"/>\n",
       "</g>\n",
       "<!-- 5390 -->\n",
       "<g id=\"node29\" class=\"node\">\n",
       "<title>5390</title>\n",
       "<path fill=\"#e58139\" stroke=\"black\" d=\"M1433.5,-147.5C1433.5,-147.5 1322.5,-147.5 1322.5,-147.5 1316.5,-147.5 1310.5,-141.5 1310.5,-135.5 1310.5,-135.5 1310.5,-91.5 1310.5,-91.5 1310.5,-85.5 1316.5,-79.5 1322.5,-79.5 1322.5,-79.5 1433.5,-79.5 1433.5,-79.5 1439.5,-79.5 1445.5,-85.5 1445.5,-91.5 1445.5,-91.5 1445.5,-135.5 1445.5,-135.5 1445.5,-141.5 1439.5,-147.5 1433.5,-147.5\"/>\n",
       "<text text-anchor=\"start\" x=\"1343\" y=\"-132.3\" font-family=\"Helvetica,sans-Serif\" font-size=\"14.00\">gini = 0.0</text>\n",
       "<text text-anchor=\"start\" x=\"1332.5\" y=\"-117.3\" font-family=\"Helvetica,sans-Serif\" font-size=\"14.00\">samples = 3</text>\n",
       "<text text-anchor=\"start\" x=\"1320\" y=\"-102.3\" font-family=\"Helvetica,sans-Serif\" font-size=\"14.00\">value = [3, 0, 0]</text>\n",
       "<text text-anchor=\"start\" x=\"1318.5\" y=\"-87.3\" font-family=\"Helvetica,sans-Serif\" font-size=\"14.00\">class = negative</text>\n",
       "</g>\n",
       "<!-- 5370&#45;&gt;5390 -->\n",
       "<g id=\"edge28\" class=\"edge\">\n",
       "<title>5370&#45;&gt;5390</title>\n",
       "<path fill=\"none\" stroke=\"black\" d=\"M1276.12,-190.91C1292.16,-178.88 1309.69,-165.73 1325.61,-153.79\"/>\n",
       "<polygon fill=\"black\" stroke=\"black\" points=\"1327.88,-156.47 1333.78,-147.67 1323.68,-150.87 1327.88,-156.47\"/>\n",
       "</g>\n",
       "<!-- 5372 -->\n",
       "<g id=\"node27\" class=\"node\">\n",
       "<title>5372</title>\n",
       "<path fill=\"#c0c0c0\" stroke=\"black\" d=\"M1201,-36C1201,-36 1171,-36 1171,-36 1165,-36 1159,-30 1159,-24 1159,-24 1159,-12 1159,-12 1159,-6 1165,0 1171,0 1171,0 1201,0 1201,0 1207,0 1213,-6 1213,-12 1213,-12 1213,-24 1213,-24 1213,-30 1207,-36 1201,-36\"/>\n",
       "<text text-anchor=\"middle\" x=\"1186\" y=\"-14.3\" font-family=\"Helvetica,sans-Serif\" font-size=\"14.00\">(...)</text>\n",
       "</g>\n",
       "<!-- 5371&#45;&gt;5372 -->\n",
       "<g id=\"edge26\" class=\"edge\">\n",
       "<title>5371&#45;&gt;5372</title>\n",
       "<path fill=\"none\" stroke=\"black\" d=\"M1206.31,-71.76C1202.96,-63.04 1199.49,-54.04 1196.39,-45.99\"/>\n",
       "<polygon fill=\"black\" stroke=\"black\" points=\"1199.56,-44.48 1192.7,-36.41 1193.03,-46.99 1199.56,-44.48\"/>\n",
       "</g>\n",
       "<!-- 5387 -->\n",
       "<g id=\"node28\" class=\"node\">\n",
       "<title>5387</title>\n",
       "<path fill=\"#c0c0c0\" stroke=\"black\" d=\"M1273,-36C1273,-36 1243,-36 1243,-36 1237,-36 1231,-30 1231,-24 1231,-24 1231,-12 1231,-12 1231,-6 1237,0 1243,0 1243,0 1273,0 1273,0 1279,0 1285,-6 1285,-12 1285,-12 1285,-24 1285,-24 1285,-30 1279,-36 1273,-36\"/>\n",
       "<text text-anchor=\"middle\" x=\"1258\" y=\"-14.3\" font-family=\"Helvetica,sans-Serif\" font-size=\"14.00\">(...)</text>\n",
       "</g>\n",
       "<!-- 5371&#45;&gt;5387 -->\n",
       "<g id=\"edge27\" class=\"edge\">\n",
       "<title>5371&#45;&gt;5387</title>\n",
       "<path fill=\"none\" stroke=\"black\" d=\"M1237.69,-71.76C1241.04,-63.04 1244.51,-54.04 1247.61,-45.99\"/>\n",
       "<polygon fill=\"black\" stroke=\"black\" points=\"1250.97,-46.99 1251.3,-36.41 1244.44,-44.48 1250.97,-46.99\"/>\n",
       "</g>\n",
       "</g>\n",
       "</svg>\n"
      ],
      "text/plain": [
       "<graphviz.files.Source at 0x7f2116697550>"
      ]
     },
     "execution_count": 13,
     "metadata": {},
     "output_type": "execute_result"
    }
   ],
   "source": [
    "dt_data = export_graphviz(dt_classifier, \n",
    "                          out_file=None, \n",
    "                          feature_names=feature_names,  \n",
    "                          class_names=y_train,\n",
    "                          max_depth=3,\n",
    "                          filled=True, \n",
    "                          rounded=True,  \n",
    "                          special_characters=True)  \n",
    "graphviz.Source(dt_data)  "
   ]
  },
  {
   "cell_type": "code",
   "execution_count": 14,
   "metadata": {},
   "outputs": [
    {
     "data": {
      "text/plain": [
       "0.6953551912568307"
      ]
     },
     "execution_count": 14,
     "metadata": {},
     "output_type": "execute_result"
    }
   ],
   "source": [
    "#predict the labels on the test set using the trained model\n",
    "predictions_dt = dt_classifier.predict(X_test) \n",
    "\n",
    "accuracy_score(predictions_dt, y_test)"
   ]
  },
  {
   "cell_type": "code",
   "execution_count": 15,
   "metadata": {},
   "outputs": [
    {
     "name": "stdout",
     "output_type": "stream",
     "text": [
      "0.6953551912568307\n"
     ]
    }
   ],
   "source": [
    "# We can also use the built-in `model.score()` method instead this time, results are same as for `accuracy_score()`\n",
    "print(dt_classifier.score(X_test, y_test))"
   ]
  },
  {
   "cell_type": "markdown",
   "metadata": {},
   "source": [
    "### Challenge\n",
    "\n",
    "**Part 1**\n",
    "\n",
    "Train a logistic regression with cross-validation (`LogisticRegressionCV()`) classifier on the training set and evaluate its accuracy on the test set. To avoid a long delay, set `cv` to 3, `solver` to 'liblinear', and `penalty` to 'l1'. Examine the other model parameters. "
   ]
  },
  {
   "cell_type": "code",
   "execution_count": 16,
   "metadata": {},
   "outputs": [
    {
     "data": {
      "text/plain": [
       "0.787568306010929"
      ]
     },
     "execution_count": 16,
     "metadata": {},
     "output_type": "execute_result"
    }
   ],
   "source": [
    "# solution\n",
    "# Initialize model\n",
    "logitcv = LogisticRegressionCV(Cs=5, \n",
    "                               penalty='l1', \n",
    "                               cv=3, \n",
    "                               solver='liblinear', \n",
    "                               refit=True)\n",
    "\n",
    "logitcv.fit(X_train, y_train) # Train on training set\n",
    "predictions_logitcv = logitcv.predict(X_test) # Make predictions\n",
    "accuracy_score(predictions_logitcv, y_test) # Evaluate accuracy"
   ]
  },
  {
   "cell_type": "markdown",
   "metadata": {},
   "source": [
    "**Part 2**\n",
    "\n",
    "Use the model you just built to predict the label for three unlabeled reviews. Predict both the label and the probability of being in each category. Do the predictions make sense? Do the probabilities provide any useful information beyond the predicted labels?\n",
    "\n",
    "_Hint:_ Remember to use `countvectorizer()` and convert to sparse format with `.toarray()` to vectorize the texts prior to prediction. Use `model.predict()` to predict the class and `model.predict_proba()` to predict class probabilities."
   ]
  },
  {
   "cell_type": "code",
   "execution_count": 17,
   "metadata": {},
   "outputs": [],
   "source": [
    "careless_review = \"I made my flight reservation with UnitedAirlines and the service is ridiculous and they just bluntly \\\n",
    "deny solving your problem. I booked my flight but they were having some technical issues and didn't appear \\\n",
    "in their system. United customer service just said they can not do anything and asked me to book a new ticket to fly. \\\n",
    "This is just insane and troubling and also really costly at the airport. Thus, I made my flight reservation \\\n",
    "with United Airlines for the next day through an online flight booking portal that offered much cheaper flights. \\\n",
    "You can contact them over the phone by calling a toll-free number +1-888-720-1433 and book flights that are light \\\n",
    "on your pocket.\"\n",
    "\n",
    "good_review = \"United was very accommodating for our vacation recently and even got us home a little quicker. \\\n",
    "We were travelling in a group of 12 coming home from a vacation and because of storms back east our connecting flight \\\n",
    "was delayed by hours. Knowing this was completely out of their control we started talking with one of the United \\\n",
    "employees and told them where we were headed. She said she could get us on a flight that actually leaves earlier \\\n",
    "than our original flight. It was such great service and resulted in all of us getting home hours later. The only \\\n",
    "issue was our bags, but United had them delivered to our homes that next morning.\"\n",
    "\n",
    "canceled_review = \"Canceled my trip twice, the first time I received no notification. The second time I got a notice \\\n",
    "that one of my trips may have been canceled or changed, the website didn’t say which it was. It instructed me to cancel \\\n",
    "it myself. Probably so they could avoid having to refund me. Now I all the money I spent on tickets sitting in a United \\\n",
    "account but I never want to fly with them in the future so that’s a nice chunk of about $2000 wasted. \\\n",
    "EDIT: After I cancelled my second trip I was able to select an option for refund, the refund was not only \\\n",
    "for the second trip but also my first trip that was cancelled earlier. I will upgrade the rating from 1 to 3 stars \\\n",
    "would have given higher with better customer service/website service/website information.\""
   ]
  },
  {
   "cell_type": "code",
   "execution_count": 18,
   "metadata": {},
   "outputs": [
    {
     "name": "stdout",
     "output_type": "stream",
     "text": [
      "Predicted classes:\n",
      "['negative' 'negative' 'negative']\n",
      "\n",
      "Predicted probabilities for each review\n",
      "(order: ['negative' 'neutral' 'positive']):\n",
      "[[9.99950920e-01 1.91445398e-07 4.88888149e-05]\n",
      " [9.89676333e-01 4.84768860e-08 1.03236183e-02]\n",
      " [9.99999226e-01 4.85944713e-07 2.87678353e-07]]\n"
     ]
    }
   ],
   "source": [
    "# solution\n",
    "# Transform these into DTMs with the same feature-columns as previously\n",
    "unknown_dtm = countvectorizer.transform([careless_review, good_review, canceled_review]).toarray()\n",
    "\n",
    "# Use model to predict the class for these three. Predict class\n",
    "print(\"Predicted classes:\")\n",
    "print(logitcv.predict(unknown_dtm))\n",
    "print()\n",
    "print(f\"Predicted probabilities for each review\\n(order: {logitcv.classes_}):\")\n",
    "print(logitcv.predict_proba(unknown_dtm)) # Predict probability of membership in each category"
   ]
  },
  {
   "cell_type": "markdown",
   "metadata": {},
   "source": [
    "## Cross-validation<a id='cv'></a>"
   ]
  },
  {
   "cell_type": "code",
   "execution_count": 19,
   "metadata": {},
   "outputs": [
    {
     "data": {
      "text/plain": [
       "array([0.68501921, 0.69654289, 0.69470538, 0.67250213, 0.67805295])"
      ]
     },
     "execution_count": 19,
     "metadata": {},
     "output_type": "execute_result"
    }
   ],
   "source": [
    "scores = cross_val_score(dt_classifier, X_train, y_train, cv=5)\n",
    "scores   "
   ]
  },
  {
   "cell_type": "code",
   "execution_count": 20,
   "metadata": {},
   "outputs": [
    {
     "name": "stdout",
     "output_type": "stream",
     "text": [
      "Accuracy: 0.6854 (+/- 0.0186)\n"
     ]
    }
   ],
   "source": [
    "# Show average accuracy across folds along with sigma (std. squared)\n",
    "print(\"Accuracy: %0.4f (+/- %0.4f)\" % (scores.mean(), scores.std() * 2))"
   ]
  },
  {
   "cell_type": "markdown",
   "metadata": {},
   "source": [
    "### Challenge\n",
    "\n",
    "Why is the cross validation accuracy different than our classifier? Which estimate is more accurate?\n",
    "\n",
    "This assumes any unseen data has similar features as your training and test data. If the features are different, you can not assume you will get similar accuracy. When might the unseen data be different from the labeled data?"
   ]
  },
  {
   "cell_type": "markdown",
   "metadata": {},
   "source": [
    "## More model evaluation <a id=\"evaluate\"></a>"
   ]
  },
  {
   "cell_type": "code",
   "execution_count": 21,
   "metadata": {},
   "outputs": [
    {
     "data": {
      "text/plain": [
       "Text(0.5, 12.5, 'Prediction')"
      ]
     },
     "execution_count": 21,
     "metadata": {},
     "output_type": "execute_result"
    },
    {
     "data": {
      "image/png": "[encoded data removed]",
      "text/plain": [
       "<Figure size 432x288 with 1 Axes>"
      ]
     },
     "metadata": {
      "needs_background": "light"
     },
     "output_type": "display_data"
    }
   ],
   "source": [
    "model = dt_classifier # change this one line to visualize confusion matrix for other models\n",
    "y_predict = model.predict(X_test) \n",
    "labels = model.classes_\n",
    "conmat = confusion_matrix(y_test, y_predict)\n",
    "\n",
    "sns.heatmap(conmat, \n",
    "            annot=True, \n",
    "            fmt='d', \n",
    "            xticklabels=labels, \n",
    "            yticklabels=labels, \n",
    "            cmap=\"YlGnBu\", \n",
    "            cbar=False)\n",
    "plt.ylabel('Ground truth')\n",
    "plt.xlabel('Prediction')"
   ]
  },
  {
   "cell_type": "code",
   "execution_count": 22,
   "metadata": {
    "scrolled": true
   },
   "outputs": [
    {
     "name": "stdout",
     "output_type": "stream",
     "text": [
      "Classification report:\n",
      "              precision    recall  f1-score   support\n",
      "\n",
      "    negative       0.79      0.81      0.80      1877\n",
      "     neutral       0.48      0.46      0.47       612\n",
      "    positive       0.57      0.53      0.55       439\n",
      "\n",
      "    accuracy                           0.70      2928\n",
      "   macro avg       0.61      0.60      0.61      2928\n",
      "weighted avg       0.69      0.70      0.69      2928\n",
      "\n"
     ]
    }
   ],
   "source": [
    "dt_predicted = dt_classifier.predict(X_test)\n",
    "print(\"Classification report:\")\n",
    "print(classification_report(y_test, dt_predicted)) "
   ]
  },
  {
   "cell_type": "markdown",
   "metadata": {},
   "source": [
    "## Optimize parameters with grid search <a id=\"gridsearch\"></a>"
   ]
  },
  {
   "cell_type": "code",
   "execution_count": 22,
   "metadata": {},
   "outputs": [
    {
     "data": {
      "text/plain": [
       "{'min_samples_split': [2, 10], 'min_samples_leaf': [2, 10]}"
      ]
     },
     "execution_count": 22,
     "metadata": {},
     "output_type": "execute_result"
    }
   ],
   "source": [
    "# Grid searching is computationally expensive, so for time's sake we'll test a minimal range for each parameter\n",
    "# In real-world data analytics there would be a much larger range, making exponentially more permutations (and time cost)\n",
    "\n",
    "param_grid = {'min_samples_split': [2,10], # define dictionary with possible model parameters\n",
    "              'min_samples_leaf': [2,10]}\n",
    "\n",
    "param_grid"
   ]
  },
  {
   "cell_type": "code",
   "execution_count": 23,
   "metadata": {},
   "outputs": [
    {
     "data": {
      "text/plain": [
       "GridSearchCV(cv=3,\n",
       "             estimator=DecisionTreeClassifier(min_impurity_decrease=1e-07,\n",
       "                                              random_state=10),\n",
       "             param_grid={'min_samples_leaf': [2, 10],\n",
       "                         'min_samples_split': [2, 10]},\n",
       "             return_train_score=True)"
      ]
     },
     "execution_count": 23,
     "metadata": {},
     "output_type": "execute_result"
    }
   ],
   "source": [
    "# Warning: This can take a long time!\n",
    "model_dt = GridSearchCV(dt_classifier, \n",
    "                        param_grid, \n",
    "                        cv=3, \n",
    "                        return_train_score=True)\n",
    "\n",
    "model_dt.fit(X_train, y_train)"
   ]
  },
  {
   "cell_type": "code",
   "execution_count": 24,
   "metadata": {},
   "outputs": [
    {
     "name": "stdout",
     "output_type": "stream",
     "text": [
      "Best parameter values are: {'min_samples_leaf': 2, 'min_samples_split': 2}\n",
      "Best mean cross-validation train accuracy: 0.893\n",
      "Overall mean test accuracy: 0.734\n"
     ]
    }
   ],
   "source": [
    "# Get information on model parameters that perform best\n",
    "model = model_dt # Change this to visualize other models\n",
    "\n",
    "# Get index of best model parameters\n",
    "best_index = np.argmax(\n",
    "    model.cv_results_[\"mean_train_score\"]\n",
    "                      )\n",
    "\n",
    "print('Best parameter values are:', \n",
    "      model.cv_results_[\"params\"][best_index]\n",
    "     )\n",
    "print('Best mean cross-validation train accuracy: %.03f' % \n",
    "      model.cv_results_[\"mean_train_score\"][best_index]\n",
    "     )\n",
    "print('Overall mean test accuracy: %.03f' % \n",
    "      model.score(X_test, y_test)\n",
    "     )"
   ]
  },
  {
   "cell_type": "code",
   "execution_count": 25,
   "metadata": {},
   "outputs": [],
   "source": [
    "# Prepare for visualization: get combinations on tested model parameters\n",
    "n_grid_points = len(model_dt.cv_results_['params'])\n",
    "min_samples_leaf_vals = np.empty((n_grid_points,))\n",
    "min_samples_split_vals = np.empty((n_grid_points,))\n",
    "mean_train_scores = np.empty((n_grid_points,))\n",
    "mean_test_scores = np.empty((n_grid_points,))\n",
    "\n",
    "for i in range(n_grid_points):\n",
    "    min_samples_leaf_vals[i] = model.cv_results_['params'][i]['min_samples_leaf']\n",
    "    min_samples_split_vals[i] = model.cv_results_['params'][i]['min_samples_split']\n",
    "    mean_train_scores[i] = model.cv_results_['mean_train_score'][i]\n",
    "    mean_test_scores[i] = model.cv_results_['mean_test_score'][i]"
   ]
  },
  {
   "cell_type": "code",
   "execution_count": 26,
   "metadata": {},
   "outputs": [],
   "source": [
    "def gridsearch_viz(mean_scores, \n",
    "                   param1_vals, \n",
    "                   param2_vals, \n",
    "                   param1_name, \n",
    "                   param2_name, \n",
    "                   scorename = \"Mean Model Accuracy on Training Set\"):\n",
    "    \n",
    "    \"\"\"\n",
    "    Build 3-d visualization to show model parameter combinations and their resulting scores. \n",
    "    Takes in only two parameters with any number of candidate settings thereof.\n",
    "    \n",
    "    Args:\n",
    "        mean_scores: List of model scores, as long as list of model parameters being tested.\n",
    "        param1_vals: list of values for first parameter, as long as list of model parameters being tested.\n",
    "        param2_vals: list of values for second parameter, as long as list of model parameters being tested.\n",
    "        param1_name: str indicating name of first parameter being tested\n",
    "        param2_name: str indicating name of second parameter being tested\n",
    "        scorename: str indicating name of scores being displayed (train or test).\n",
    "        \n",
    "    Output:\n",
    "        3-d visualization of model params & performance\n",
    "    \"\"\"\n",
    "\n",
    "    fig = plt.figure(figsize=(20,10))\n",
    "    ax = fig.gca(projection='3d')\n",
    "\n",
    "    surf = ax.plot_trisurf(param1_vals, \n",
    "                           param2_vals, \n",
    "                           mean_scores, \n",
    "                           cmap=cm.coolwarm,\n",
    "                           linewidth=10, \n",
    "                           antialiased=False)\n",
    "\n",
    "    ax.set_title(scorename, fontsize=18)\n",
    "    ax.set_xlabel(param1_name, fontsize=18)\n",
    "    ax.set_ylabel(param2_name, fontsize=18)"
   ]
  },
  {
   "cell_type": "code",
   "execution_count": 27,
   "metadata": {},
   "outputs": [
    {
     "data": {
      "image/png": "[encoded data removed]",
      "text/plain": [
       "<Figure size 1440x720 with 1 Axes>"
      ]
     },
     "metadata": {},
     "output_type": "display_data"
    }
   ],
   "source": [
    "# Visualize model performance on training set\n",
    "gridsearch_viz(mean_scores = mean_train_scores, \n",
    "               param1_vals = min_samples_leaf_vals, \n",
    "               param2_vals = min_samples_split_vals, \n",
    "               param1_name = \"min_samples_split\", \n",
    "               param2_name = \"min_samples_leaf\")"
   ]
  },
  {
   "cell_type": "markdown",
   "metadata": {},
   "source": [
    "## Train and optimize Random Forest model <a id=\"RF\"></a>"
   ]
  },
  {
   "cell_type": "code",
   "execution_count": 28,
   "metadata": {},
   "outputs": [],
   "source": [
    "rf_classifier = RandomForestClassifier(n_estimators=10,  # number of trees\n",
    "                       criterion='gini',  # or 'entropy' for information gain\n",
    "                       max_depth=None,  # how deep tree nodes can go\n",
    "                       min_samples_split=2,  # samples needed to split node\n",
    "                       min_samples_leaf=1,  # samples needed for a leaf\n",
    "                       min_weight_fraction_leaf=0.0,  # weight of samples needed for a node\n",
    "                       max_features='auto',  # number of features for best split\n",
    "                       max_leaf_nodes=None,  # max nodes\n",
    "                       min_impurity_decrease=1e-07,  # early stopping\n",
    "                       n_jobs=1,  # CPUs to use\n",
    "                       random_state = 10,  # random seed\n",
    "                       class_weight=\"balanced\")  # adjusts weights inverse of freq, also \"balanced_subsample\" or None\n",
    "\n",
    "rf_model = rf_classifier.fit(X_train, y_train) # fit model on training data"
   ]
  },
  {
   "cell_type": "code",
   "execution_count": 29,
   "metadata": {},
   "outputs": [
    {
     "name": "stdout",
     "output_type": "stream",
     "text": [
      "Accuracy of Random Forest model (with 3-fold CV) with test data defined above:\n",
      "0.7162 (+/- 0.0398)\n",
      "\n",
      "Classification report:\n",
      "              precision    recall  f1-score   support\n",
      "\n",
      "    negative       0.78      0.92      0.84      1881\n",
      "     neutral       0.61      0.41      0.49       591\n",
      "    positive       0.76      0.49      0.59       456\n",
      "\n",
      "    accuracy                           0.75      2928\n",
      "   macro avg       0.72      0.61      0.64      2928\n",
      "weighted avg       0.74      0.75      0.73      2928\n",
      "\n",
      "\n"
     ]
    }
   ],
   "source": [
    "print(\"Accuracy of Random Forest model (with 3-fold CV) with test data defined above:\")\n",
    "scores = cross_val_score(rf_model, X_test, y_test, cv=3)\n",
    "print(\"%0.4f (+/- %0.4f)\" % (scores.mean(), scores.std() * 2)) # Show average accuracy across folds\n",
    "print()\n",
    "\n",
    "predicted = rf_model.predict(X_test)\n",
    "print(\"Classification report:\")\n",
    "print(classification_report(y_test, predicted)) \n",
    "print()"
   ]
  },
  {
   "cell_type": "markdown",
   "metadata": {},
   "source": [
    "### Challenge: Grid Search on Random Forest\n",
    "\n",
    "Do another grid search to determine the best parameters for the Random Forest we just created. Use two possible levels for `min_samples_split` and `min_samples_leaf`, each between 1 and 10. "
   ]
  },
  {
   "cell_type": "code",
   "execution_count": 30,
   "metadata": {},
   "outputs": [
    {
     "data": {
      "text/plain": [
       "GridSearchCV(cv=3,\n",
       "             estimator=RandomForestClassifier(class_weight='balanced_subsample',\n",
       "                                              min_impurity_decrease=1e-07,\n",
       "                                              n_estimators=10,\n",
       "                                              random_state=10),\n",
       "             param_grid={'min_samples_leaf': [2, 10],\n",
       "                         'min_samples_split': [2, 10]},\n",
       "             return_train_score=True)"
      ]
     },
     "execution_count": 30,
     "metadata": {},
     "output_type": "execute_result"
    }
   ],
   "source": [
    "# solution\n",
    "param_grid = {'min_samples_split': [2,10],\n",
    "              'min_samples_leaf': [2,10]}\n",
    "\n",
    "rf_model = GridSearchCV(RandomForestClassifier(n_estimators=10, \n",
    "                                               min_impurity_decrease=1e-07,  # early stopping\n",
    "                                               random_state = 10,  # random seed\n",
    "                                               class_weight=\"balanced_subsample\"), # adjusts weights inverse of freq with subsampling\n",
    "                        param_grid, \n",
    "                        cv=3, \n",
    "                        return_train_score=True)\n",
    "\n",
    "rf_model.fit(X_train, y_train)"
   ]
  },
  {
   "cell_type": "code",
   "execution_count": 31,
   "metadata": {},
   "outputs": [
    {
     "name": "stdout",
     "output_type": "stream",
     "text": [
      "Best parameter values: {'min_samples_leaf': 2, 'min_samples_split': 2}\n",
      "Best mean cross-validated training accuracy: 0.8347848360655737\n",
      "Overall mean test accuracy: 0.7377049180327869\n"
     ]
    }
   ],
   "source": [
    "best_index = np.argmax(rf_model.cv_results_[\"mean_train_score\"])\n",
    "\n",
    "print(\"Best parameter values:\", rf_model.cv_results_[\"params\"][best_index])\n",
    "print(\"Best mean cross-validated training accuracy:\", rf_model.cv_results_[\"mean_train_score\"][best_index])\n",
    "print(\"Overall mean test accuracy:\", rf_model.score(X_test, y_test))"
   ]
  },
  {
   "cell_type": "markdown",
   "metadata": {},
   "source": [
    "### Extra challenge: Adjust text preprocessing\n",
    "\n",
    "Preprocessing methods matter for machine learning performance: Depending on the algorithm, less or more preprocessing may be better. Let's see how a simple Random Forest model does with minimal preprocessing--without removing usernames, hashtags, or URLs. Compare this model's performance with that of Random Forest trained on cleaned text."
   ]
  },
  {
   "cell_type": "code",
   "execution_count": 32,
   "metadata": {},
   "outputs": [
    {
     "data": {
      "text/plain": [
       "((11712, 5000), (2928, 5000))"
      ]
     },
     "execution_count": 32,
     "metadata": {},
     "output_type": "execute_result"
    }
   ],
   "source": [
    "# solution\n",
    "# Vectorize texts\n",
    "countvec_dirty = CountVectorizer(max_features=5000, binary=True)\n",
    "features_dirty = countvec_dirty.fit_transform(df['text']).toarray() # convert matrix to sparse format for easy modeling\n",
    "response_dirty = df['airline_sentiment'].values # corresponds to entries in `features` \n",
    "\n",
    "X_train_dirty, X_test_dirty, y_train_dirty, y_test_dirty = train_test_split(features_dirty, response_dirty, test_size=0.2)\n",
    "X_train_dirty.shape, X_test_dirty.shape #look at number of rows and columns in training and test data"
   ]
  },
  {
   "cell_type": "code",
   "execution_count": 33,
   "metadata": {},
   "outputs": [],
   "source": [
    "rf_dirty = RandomForestClassifier(n_estimators=10,  # number of trees\n",
    "                                  min_impurity_decrease=1e-07,  # early stopping\n",
    "                                  random_state = 10,  # random seed\n",
    "                                  class_weight=\"balanced\")  # adjusts weights inverse of freq\n",
    "\n",
    "rf_dirty = rf_dirty.fit(X_train_dirty, y_train_dirty)"
   ]
  },
  {
   "cell_type": "code",
   "execution_count": 34,
   "metadata": {},
   "outputs": [
    {
     "name": "stdout",
     "output_type": "stream",
     "text": [
      "Mean cross-validation train accuracy: 0.7352 (+/- 0.0104)\n",
      "Overall mean test accuracy: 0.735655737704918\n"
     ]
    }
   ],
   "source": [
    "scores = cross_val_score(rf_dirty, X_train_dirty, y_train_dirty, cv=5)\n",
    "print(\"Mean cross-validation train accuracy: %0.4f (+/- %0.4f)\" % (scores.mean(), scores.std() * 2)) # Show average accuracy across folds\n",
    "print(\"Overall mean test accuracy:\", rf_dirty.score(X_test_dirty, y_test_dirty))"
   ]
  },
  {
   "cell_type": "markdown",
   "metadata": {},
   "source": [
    "Random Forest with text preprocessing gave a mean accuracy of just over 0.7, so removing text preprocessing improves model accuracy by **3 or 4 percent**! "
   ]
  },
  {
   "cell_type": "markdown",
   "metadata": {},
   "source": [
    "### Extra extra challenge: Adaboost\n",
    "\n",
    "Adaboost is another ensemble method that relies on 'boosting'. Similar to 'bagging', 'boosting' samples many subsets of data to fit multiple classifiers, but resamples preferentially for misclassified data points. "
   ]
  },
  {
   "cell_type": "markdown",
   "metadata": {},
   "source": [
    "**Part 1**\n",
    "\n",
    "Using the scikit-learn [documentation](http://scikit-learn.org/stable/modules/ensemble.html#adaboost), build your own AdaBoost model to test on our review tweets! Start off with `n_estimators` at 100, and `learning_rate` at .5. Use 10 as the `random_state` value."
   ]
  },
  {
   "cell_type": "code",
   "execution_count": 35,
   "metadata": {},
   "outputs": [],
   "source": [
    "# solution\n",
    "adaboost_model = AdaBoostClassifier(n_estimators=100,  # number of trees\n",
    "                                         learning_rate=0.5,  # or 'entropy' for information gain\n",
    "                                         random_state = 10)  # random seed\n",
    "\n",
    "adaboost_model = adaboost_model.fit(X_train, y_train)"
   ]
  },
  {
   "cell_type": "code",
   "execution_count": 36,
   "metadata": {},
   "outputs": [
    {
     "name": "stdout",
     "output_type": "stream",
     "text": [
      "Score of Adaboost model with test data defined above:\n",
      "0.7482923497267759\n",
      "\n",
      "Classification report:\n",
      "              precision    recall  f1-score   support\n",
      "\n",
      "    negative       0.75      0.94      0.84      1881\n",
      "     neutral       0.68      0.27      0.39       591\n",
      "    positive       0.75      0.57      0.65       456\n",
      "\n",
      "    accuracy                           0.75      2928\n",
      "   macro avg       0.73      0.59      0.63      2928\n",
      "weighted avg       0.74      0.75      0.72      2928\n",
      "\n",
      "\n"
     ]
    }
   ],
   "source": [
    "print(\"Score of Adaboost model with test data defined above:\")\n",
    "print(adaboost_model.score(X_test, y_test))\n",
    "print()\n",
    "\n",
    "predicted = adaboost_model.predict(X_test)\n",
    "print(\"Classification report:\")\n",
    "print(classification_report(y_test, predicted)) \n",
    "print()"
   ]
  },
  {
   "cell_type": "markdown",
   "metadata": {},
   "source": [
    "**Part 2**\n",
    "\n",
    "Now use a grid search to determine what are the best values for the `n_estimators` and `learning_rate` parameters. For `n_estimators` try both 100 and 500, and for `learning_rate` try 0.1 and 1.0. "
   ]
  },
  {
   "cell_type": "code",
   "execution_count": 37,
   "metadata": {},
   "outputs": [
    {
     "name": "stdout",
     "output_type": "stream",
     "text": [
      "Best parameter values: {'learning_rate': 1.0, 'n_estimators': 500}\n",
      "Best mean cross-validated train accuracy: 0.8078466530054644\n",
      "Overall mean test accuracy: 0.7817622950819673\n"
     ]
    }
   ],
   "source": [
    "# solution\n",
    "param_grid = {'n_estimators': [100,500],\n",
    "              'learning_rate': [0.1,1.0]}\n",
    "\n",
    "adaboost_model = GridSearchCV(AdaBoostClassifier(n_estimators=10), \n",
    "                              param_grid, \n",
    "                              cv=3,\n",
    "                              return_train_score=True)\n",
    "adaboost_model.fit(X_train, y_train)\n",
    "\n",
    "# Get index on model parameters that perform best\n",
    "best_index = np.argmax(adaboost_model.cv_results_[\"mean_train_score\"]) # Get index of best model parameters\n",
    "\n",
    "# Display information on best model parameters\n",
    "print(\"Best parameter values:\", adaboost_model.cv_results_[\"params\"][best_index])\n",
    "print(\"Best mean cross-validated train accuracy:\", adaboost_model.cv_results_[\"mean_train_score\"][best_index])\n",
    "print(\"Overall mean test accuracy:\", adaboost_model.score(X_test, y_test))"
   ]
  },
  {
   "cell_type": "markdown",
   "metadata": {},
   "source": [
    "**Part 3**\n",
    "\n",
    "Build a 3-d visualization showing combinations of model parameters and their resulting performance on the training set. \n",
    "\n",
    "_Hint:_ Use the `gridsearch_viz()` function we defined earlier."
   ]
  },
  {
   "cell_type": "code",
   "execution_count": 38,
   "metadata": {},
   "outputs": [],
   "source": [
    "# solution\n",
    "model = adaboost_model # Change this to visualize other models\n",
    "\n",
    "# Prepare for visualization: get combinations on tested model parameters\n",
    "n_grid_points = len(model.cv_results_['params'])\n",
    "n_estimators_vals = np.empty((n_grid_points,))\n",
    "learning_rate_vals = np.empty((n_grid_points,))\n",
    "mean_train_scores = np.empty((n_grid_points,))\n",
    "mean_test_scores = np.empty((n_grid_points,))\n",
    "\n",
    "for i in range(n_grid_points):\n",
    "    n_estimators_vals[i] = model.cv_results_['params'][i]['n_estimators']\n",
    "    learning_rate_vals[i] = model.cv_results_['params'][i]['learning_rate']\n",
    "    mean_train_scores[i] = model.cv_results_['mean_train_score'][i]\n",
    "    mean_test_scores[i] = model.cv_results_['mean_test_score'][i]"
   ]
  },
  {
   "cell_type": "code",
   "execution_count": 39,
   "metadata": {},
   "outputs": [
    {
     "data": {
      "image/png": "[encoded data removed]",
      "text/plain": [
       "<Figure size 1440x720 with 1 Axes>"
      ]
     },
     "metadata": {},
     "output_type": "display_data"
    }
   ],
   "source": [
    "# Visualize model performance on training set\n",
    "gridsearch_viz(mean_scores = mean_train_scores, \n",
    "               param1_vals = n_estimators_vals, \n",
    "               param2_vals = learning_rate_vals, \n",
    "               param1_name = \"n_estimators\", \n",
    "               param2_name = \"learning_rate\", \n",
    "               scorename = \"Mean Train Scores\")"
   ]
  }
 ],
 "metadata": {
  "anaconda-cloud": {},
  "hide_input": false,
  "kernelspec": {
   "display_name": "Python 3",
   "language": "python",
   "name": "python3"
  },
  "language_info": {
   "codemirror_mode": {
    "name": "ipython",
    "version": 3
   },
   "file_extension": ".py",
   "mimetype": "text/x-python",
   "name": "python",
   "nbconvert_exporter": "python",
   "pygments_lexer": "ipython3",
   "version": "3.8.5"
  },
  "toc": {
   "base_numbering": 1,
   "nav_menu": {},
   "number_sections": false,
   "sideBar": true,
   "skip_h1_title": false,
   "title_cell": "Table of Contents",
   "title_sidebar": "Contents",
   "toc_cell": false,
   "toc_position": {},
   "toc_section_display": "block",
   "toc_window_display": true
  },
  "varInspector": {
   "cols": {
    "lenName": 16,
    "lenType": 16,
    "lenVar": 40
   },
   "kernels_config": {
    "python": {
     "delete_cmd_postfix": "",
     "delete_cmd_prefix": "del ",
     "library": "var_list.py",
     "varRefreshCmd": "print(var_dic_list())"
    },
    "r": {
     "delete_cmd_postfix": ") ",
     "delete_cmd_prefix": "rm(",
     "library": "var_list.r",
     "varRefreshCmd": "cat(var_dic_list()) "
    }
   },
   "types_to_exclude": [
    "module",
    "function",
    "builtin_function_or_method",
    "instance",
    "_Feature"
   ],
   "window_display": false
  }
 },
 "nbformat": 4,
 "nbformat_minor": 1
}
